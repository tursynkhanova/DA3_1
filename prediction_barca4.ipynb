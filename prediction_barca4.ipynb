{
 "cells": [
  {
   "cell_type": "code",
   "execution_count": 1,
   "id": "d963ec7b",
   "metadata": {},
   "outputs": [],
   "source": [
    "import os\n",
    "import sys\n",
    "import warnings\n",
    "\n",
    "import numpy as np\n",
    "import pandas as pd\n",
    "import regex as re\n",
    "import statsmodels.api as sm\n",
    "import statsmodels.formula.api as smf\n",
    "from mizani.formatters import percent_format\n",
    "from plotnine import *\n",
    "from statsmodels.tools.eval_measures import rmse\n",
    "from sklearn.linear_model import LinearRegression\n",
    "warnings.filterwarnings(\"ignore\")\n",
    "\n",
    "import seaborn as sns\n",
    "import matplotlib as mpl\n",
    "import matplotlib.pyplot as plt\n",
    "import matplotlib.ticker as mtick\n",
    "sns.set_style(\"whitegrid\")\n",
    "from sklearn.ensemble import GradientBoostingRegressor\n",
    "from plotnine import ggplot, aes, geom_bar, theme_minimal, labs"
   ]
  },
  {
   "cell_type": "code",
   "execution_count": 2,
   "id": "1b522153",
   "metadata": {},
   "outputs": [],
   "source": [
    "data = pd.read_csv('cleaned_data_barca4.csv')"
   ]
  },
  {
   "cell_type": "code",
   "execution_count": 3,
   "id": "66c6ee6a",
   "metadata": {},
   "outputs": [
    {
     "data": {
      "text/plain": [
       "(15063, 65)"
      ]
     },
     "execution_count": 3,
     "metadata": {},
     "output_type": "execute_result"
    }
   ],
   "source": [
    "data.shape"
   ]
  },
  {
   "cell_type": "code",
   "execution_count": 4,
   "id": "45c1d708",
   "metadata": {},
   "outputs": [
    {
     "data": {
      "text/html": [
       "<div>\n",
       "<style scoped>\n",
       "    .dataframe tbody tr th:only-of-type {\n",
       "        vertical-align: middle;\n",
       "    }\n",
       "\n",
       "    .dataframe tbody tr th {\n",
       "        vertical-align: top;\n",
       "    }\n",
       "\n",
       "    .dataframe thead th {\n",
       "        text-align: right;\n",
       "    }\n",
       "</style>\n",
       "<table border=\"1\" class=\"dataframe\">\n",
       "  <thead>\n",
       "    <tr style=\"text-align: right;\">\n",
       "      <th></th>\n",
       "      <th>id</th>\n",
       "      <th>host_acceptance_rate</th>\n",
       "      <th>latitude</th>\n",
       "      <th>longitude</th>\n",
       "      <th>bedrooms</th>\n",
       "      <th>price</th>\n",
       "      <th>maximum_nights</th>\n",
       "      <th>availability_30</th>\n",
       "      <th>availability_60</th>\n",
       "      <th>availability_90</th>\n",
       "      <th>...</th>\n",
       "      <th>f_bathroom</th>\n",
       "      <th>ln_number_of_reviews</th>\n",
       "      <th>f_number_of_reviews</th>\n",
       "      <th>ln_days_since</th>\n",
       "      <th>ln_days_since2</th>\n",
       "      <th>ln_days_since3</th>\n",
       "      <th>n_days_since2</th>\n",
       "      <th>n_days_since3</th>\n",
       "      <th>ln_review_scores_rating</th>\n",
       "      <th>f_minimum_nights</th>\n",
       "    </tr>\n",
       "  </thead>\n",
       "  <tbody>\n",
       "    <tr>\n",
       "      <th>count</th>\n",
       "      <td>1.506300e+04</td>\n",
       "      <td>15063.000000</td>\n",
       "      <td>15063.000000</td>\n",
       "      <td>15063.000000</td>\n",
       "      <td>15063.000000</td>\n",
       "      <td>15063.000000</td>\n",
       "      <td>15063.00000</td>\n",
       "      <td>15063.000000</td>\n",
       "      <td>15063.000000</td>\n",
       "      <td>15063.000000</td>\n",
       "      <td>...</td>\n",
       "      <td>15061.000000</td>\n",
       "      <td>15063.000000</td>\n",
       "      <td>15062.000000</td>\n",
       "      <td>15063.000000</td>\n",
       "      <td>15063.000000</td>\n",
       "      <td>15063.000000</td>\n",
       "      <td>1.506300e+04</td>\n",
       "      <td>1.506300e+04</td>\n",
       "      <td>15063.000000</td>\n",
       "      <td>15062.000000</td>\n",
       "    </tr>\n",
       "    <tr>\n",
       "      <th>mean</th>\n",
       "      <td>4.734309e+17</td>\n",
       "      <td>86.516896</td>\n",
       "      <td>41.392148</td>\n",
       "      <td>2.167091</td>\n",
       "      <td>1.776472</td>\n",
       "      <td>178.680542</td>\n",
       "      <td>532.61588</td>\n",
       "      <td>8.925911</td>\n",
       "      <td>23.514771</td>\n",
       "      <td>42.090287</td>\n",
       "      <td>...</td>\n",
       "      <td>1.280659</td>\n",
       "      <td>2.470932</td>\n",
       "      <td>1.064998</td>\n",
       "      <td>6.586361</td>\n",
       "      <td>44.966369</td>\n",
       "      <td>314.689035</td>\n",
       "      <td>2.724652e+06</td>\n",
       "      <td>7.821143e+09</td>\n",
       "      <td>1.522713</td>\n",
       "      <td>2.322202</td>\n",
       "    </tr>\n",
       "    <tr>\n",
       "      <th>std</th>\n",
       "      <td>4.808650e+17</td>\n",
       "      <td>22.912730</td>\n",
       "      <td>0.014000</td>\n",
       "      <td>0.017552</td>\n",
       "      <td>1.100886</td>\n",
       "      <td>152.205068</td>\n",
       "      <td>408.04424</td>\n",
       "      <td>9.218721</td>\n",
       "      <td>19.115914</td>\n",
       "      <td>28.154650</td>\n",
       "      <td>...</td>\n",
       "      <td>0.489644</td>\n",
       "      <td>1.916528</td>\n",
       "      <td>0.703004</td>\n",
       "      <td>1.259492</td>\n",
       "      <td>14.899170</td>\n",
       "      <td>141.632345</td>\n",
       "      <td>4.254139e+06</td>\n",
       "      <td>1.628271e+10</td>\n",
       "      <td>0.130633</td>\n",
       "      <td>0.890505</td>\n",
       "    </tr>\n",
       "    <tr>\n",
       "      <th>min</th>\n",
       "      <td>1.867400e+04</td>\n",
       "      <td>0.000000</td>\n",
       "      <td>41.350673</td>\n",
       "      <td>2.091740</td>\n",
       "      <td>0.000000</td>\n",
       "      <td>10.000000</td>\n",
       "      <td>1.00000</td>\n",
       "      <td>0.000000</td>\n",
       "      <td>0.000000</td>\n",
       "      <td>0.000000</td>\n",
       "      <td>...</td>\n",
       "      <td>0.000000</td>\n",
       "      <td>0.000000</td>\n",
       "      <td>0.000000</td>\n",
       "      <td>0.000000</td>\n",
       "      <td>0.000000</td>\n",
       "      <td>0.000000</td>\n",
       "      <td>1.000000e+00</td>\n",
       "      <td>1.000000e+00</td>\n",
       "      <td>0.000000</td>\n",
       "      <td>1.000000</td>\n",
       "    </tr>\n",
       "    <tr>\n",
       "      <th>25%</th>\n",
       "      <td>2.904738e+07</td>\n",
       "      <td>85.000000</td>\n",
       "      <td>41.381090</td>\n",
       "      <td>2.156620</td>\n",
       "      <td>1.000000</td>\n",
       "      <td>70.000000</td>\n",
       "      <td>330.00000</td>\n",
       "      <td>1.000000</td>\n",
       "      <td>7.000000</td>\n",
       "      <td>16.000000</td>\n",
       "      <td>...</td>\n",
       "      <td>1.000000</td>\n",
       "      <td>0.693147</td>\n",
       "      <td>1.000000</td>\n",
       "      <td>6.063785</td>\n",
       "      <td>36.769491</td>\n",
       "      <td>222.962296</td>\n",
       "      <td>1.849000e+05</td>\n",
       "      <td>7.950700e+07</td>\n",
       "      <td>1.508512</td>\n",
       "      <td>1.000000</td>\n",
       "    </tr>\n",
       "    <tr>\n",
       "      <th>50%</th>\n",
       "      <td>5.660840e+17</td>\n",
       "      <td>98.000000</td>\n",
       "      <td>41.389950</td>\n",
       "      <td>2.168053</td>\n",
       "      <td>1.000000</td>\n",
       "      <td>134.000000</td>\n",
       "      <td>365.00000</td>\n",
       "      <td>6.000000</td>\n",
       "      <td>19.000000</td>\n",
       "      <td>42.000000</td>\n",
       "      <td>...</td>\n",
       "      <td>1.000000</td>\n",
       "      <td>2.397895</td>\n",
       "      <td>1.000000</td>\n",
       "      <td>6.762730</td>\n",
       "      <td>45.734510</td>\n",
       "      <td>309.290123</td>\n",
       "      <td>7.482250e+05</td>\n",
       "      <td>6.472146e+08</td>\n",
       "      <td>1.547563</td>\n",
       "      <td>3.000000</td>\n",
       "    </tr>\n",
       "    <tr>\n",
       "      <th>75%</th>\n",
       "      <td>9.500813e+17</td>\n",
       "      <td>100.000000</td>\n",
       "      <td>41.401590</td>\n",
       "      <td>2.177678</td>\n",
       "      <td>2.000000</td>\n",
       "      <td>244.000000</td>\n",
       "      <td>1125.00000</td>\n",
       "      <td>14.000000</td>\n",
       "      <td>40.000000</td>\n",
       "      <td>67.000000</td>\n",
       "      <td>...</td>\n",
       "      <td>2.000000</td>\n",
       "      <td>4.143135</td>\n",
       "      <td>2.000000</td>\n",
       "      <td>7.509883</td>\n",
       "      <td>56.398344</td>\n",
       "      <td>423.544965</td>\n",
       "      <td>3.334276e+06</td>\n",
       "      <td>6.088388e+09</td>\n",
       "      <td>1.574846</td>\n",
       "      <td>3.000000</td>\n",
       "    </tr>\n",
       "    <tr>\n",
       "      <th>max</th>\n",
       "      <td>1.178911e+18</td>\n",
       "      <td>100.000000</td>\n",
       "      <td>41.458092</td>\n",
       "      <td>2.227710</td>\n",
       "      <td>18.000000</td>\n",
       "      <td>1060.000000</td>\n",
       "      <td>3000.00000</td>\n",
       "      <td>30.000000</td>\n",
       "      <td>60.000000</td>\n",
       "      <td>90.000000</td>\n",
       "      <td>...</td>\n",
       "      <td>2.000000</td>\n",
       "      <td>7.660114</td>\n",
       "      <td>2.000000</td>\n",
       "      <td>8.534837</td>\n",
       "      <td>72.843436</td>\n",
       "      <td>621.706828</td>\n",
       "      <td>2.589792e+07</td>\n",
       "      <td>1.317945e+11</td>\n",
       "      <td>1.609438</td>\n",
       "      <td>3.000000</td>\n",
       "    </tr>\n",
       "  </tbody>\n",
       "</table>\n",
       "<p>8 rows × 52 columns</p>\n",
       "</div>"
      ],
      "text/plain": [
       "                 id  host_acceptance_rate      latitude     longitude  \\\n",
       "count  1.506300e+04          15063.000000  15063.000000  15063.000000   \n",
       "mean   4.734309e+17             86.516896     41.392148      2.167091   \n",
       "std    4.808650e+17             22.912730      0.014000      0.017552   \n",
       "min    1.867400e+04              0.000000     41.350673      2.091740   \n",
       "25%    2.904738e+07             85.000000     41.381090      2.156620   \n",
       "50%    5.660840e+17             98.000000     41.389950      2.168053   \n",
       "75%    9.500813e+17            100.000000     41.401590      2.177678   \n",
       "max    1.178911e+18            100.000000     41.458092      2.227710   \n",
       "\n",
       "           bedrooms         price  maximum_nights  availability_30  \\\n",
       "count  15063.000000  15063.000000     15063.00000     15063.000000   \n",
       "mean       1.776472    178.680542       532.61588         8.925911   \n",
       "std        1.100886    152.205068       408.04424         9.218721   \n",
       "min        0.000000     10.000000         1.00000         0.000000   \n",
       "25%        1.000000     70.000000       330.00000         1.000000   \n",
       "50%        1.000000    134.000000       365.00000         6.000000   \n",
       "75%        2.000000    244.000000      1125.00000        14.000000   \n",
       "max       18.000000   1060.000000      3000.00000        30.000000   \n",
       "\n",
       "       availability_60  availability_90  ...    f_bathroom  \\\n",
       "count     15063.000000     15063.000000  ...  15061.000000   \n",
       "mean         23.514771        42.090287  ...      1.280659   \n",
       "std          19.115914        28.154650  ...      0.489644   \n",
       "min           0.000000         0.000000  ...      0.000000   \n",
       "25%           7.000000        16.000000  ...      1.000000   \n",
       "50%          19.000000        42.000000  ...      1.000000   \n",
       "75%          40.000000        67.000000  ...      2.000000   \n",
       "max          60.000000        90.000000  ...      2.000000   \n",
       "\n",
       "       ln_number_of_reviews  f_number_of_reviews  ln_days_since  \\\n",
       "count          15063.000000         15062.000000   15063.000000   \n",
       "mean               2.470932             1.064998       6.586361   \n",
       "std                1.916528             0.703004       1.259492   \n",
       "min                0.000000             0.000000       0.000000   \n",
       "25%                0.693147             1.000000       6.063785   \n",
       "50%                2.397895             1.000000       6.762730   \n",
       "75%                4.143135             2.000000       7.509883   \n",
       "max                7.660114             2.000000       8.534837   \n",
       "\n",
       "       ln_days_since2  ln_days_since3  n_days_since2  n_days_since3  \\\n",
       "count    15063.000000    15063.000000   1.506300e+04   1.506300e+04   \n",
       "mean        44.966369      314.689035   2.724652e+06   7.821143e+09   \n",
       "std         14.899170      141.632345   4.254139e+06   1.628271e+10   \n",
       "min          0.000000        0.000000   1.000000e+00   1.000000e+00   \n",
       "25%         36.769491      222.962296   1.849000e+05   7.950700e+07   \n",
       "50%         45.734510      309.290123   7.482250e+05   6.472146e+08   \n",
       "75%         56.398344      423.544965   3.334276e+06   6.088388e+09   \n",
       "max         72.843436      621.706828   2.589792e+07   1.317945e+11   \n",
       "\n",
       "       ln_review_scores_rating  f_minimum_nights  \n",
       "count             15063.000000      15062.000000  \n",
       "mean                  1.522713          2.322202  \n",
       "std                   0.130633          0.890505  \n",
       "min                   0.000000          1.000000  \n",
       "25%                   1.508512          1.000000  \n",
       "50%                   1.547563          3.000000  \n",
       "75%                   1.574846          3.000000  \n",
       "max                   1.609438          3.000000  \n",
       "\n",
       "[8 rows x 52 columns]"
      ]
     },
     "execution_count": 4,
     "metadata": {},
     "output_type": "execute_result"
    }
   ],
   "source": [
    "data.describe()"
   ]
  },
  {
   "cell_type": "code",
   "execution_count": 5,
   "id": "c798175d",
   "metadata": {},
   "outputs": [
    {
     "data": {
      "text/plain": [
       "ln_beds                1753\n",
       "f_bathroom                2\n",
       "f_number_of_reviews       1\n",
       "f_minimum_nights          1\n",
       "dtype: int64"
      ]
     },
     "execution_count": 5,
     "metadata": {},
     "output_type": "execute_result"
    }
   ],
   "source": [
    "data.isnull().sum().loc[lambda x: x > 0]"
   ]
  },
  {
   "cell_type": "code",
   "execution_count": 6,
   "id": "c661dc9e",
   "metadata": {},
   "outputs": [],
   "source": [
    "data['f_bathroom']=data['f_bathroom'].fillna(1)\n",
    "data['f_minimum_nights']=data['f_minimum_nights'].fillna(1)\n",
    "data['f_number_of_reviews']=data['f_number_of_reviews'].fillna(1)\n",
    "data['ln_beds']=data['ln_beds'].fillna(0)"
   ]
  },
  {
   "cell_type": "code",
   "execution_count": 7,
   "id": "d86d5d77",
   "metadata": {},
   "outputs": [
    {
     "data": {
      "text/plain": [
       "flag_days_since\n",
       "0    11799\n",
       "1     3264\n",
       "Name: count, dtype: int64"
      ]
     },
     "execution_count": 7,
     "metadata": {},
     "output_type": "execute_result"
    }
   ],
   "source": [
    "data.flag_days_since.value_counts()"
   ]
  },
  {
   "cell_type": "code",
   "execution_count": 8,
   "id": "96b47281",
   "metadata": {},
   "outputs": [
    {
     "data": {
      "text/plain": [
       "Series([], dtype: int64)"
      ]
     },
     "execution_count": 8,
     "metadata": {},
     "output_type": "execute_result"
    }
   ],
   "source": [
    "data.isnull().sum().loc[lambda x: x > 0]"
   ]
  },
  {
   "cell_type": "markdown",
   "id": "358a1a78",
   "metadata": {},
   "source": [
    "## Create new variables measuring the time since: squared, cubic, logs"
   ]
  },
  {
   "cell_type": "code",
   "execution_count": 9,
   "id": "b7a1d303",
   "metadata": {},
   "outputs": [],
   "source": [
    "data = data.assign(\n",
    "    ln_days_since=lambda x: np.log(x[\"n_days_since\"] + 1),\n",
    "    ln_days_since2=lambda x: np.log(x[\"n_days_since\"] + 1) ** 2,\n",
    "    ln_days_since3=lambda x: np.log(x[\"n_days_since\"] + 1) ** 3,\n",
    "    n_days_since2=lambda x: x[\"n_days_since\"] ** 2,\n",
    "    n_days_since3=lambda x: x[\"n_days_since\"] ** 3,\n",
    "    ln_review_scores_rating=lambda x: np.log(x[\"n_review_scores_rating\"]),\n",
    ").assign(\n",
    "    ln_days_since=lambda x: np.where(\n",
    "        x[\"ln_days_since\"].isnull(), 0, x[\"ln_days_since\"]\n",
    "    ),\n",
    "    ln_days_since2=lambda x: np.where(\n",
    "        x[\"ln_days_since2\"].isnull(), 0, x[\"ln_days_since2\"]\n",
    "    ),\n",
    "    ln_days_since3=lambda x: np.where(\n",
    "        x[\"ln_days_since3\"].isnull(), 0, x[\"ln_days_since3\"]\n",
    "    ),\n",
    ")"
   ]
  },
  {
   "cell_type": "code",
   "execution_count": 10,
   "id": "3ee23d5b",
   "metadata": {},
   "outputs": [
    {
     "data": {
      "text/plain": [
       "Series([], dtype: int64)"
      ]
     },
     "execution_count": 10,
     "metadata": {},
     "output_type": "execute_result"
    }
   ],
   "source": [
    "data.isnull().sum().loc[lambda x: x > 0]"
   ]
  },
  {
   "cell_type": "code",
   "execution_count": 11,
   "id": "323d8d60",
   "metadata": {},
   "outputs": [
    {
     "data": {
      "text/plain": [
       "count    15063.000000\n",
       "mean         3.527850\n",
       "std          2.091393\n",
       "min          1.000000\n",
       "25%          2.000000\n",
       "50%          3.000000\n",
       "75%          5.000000\n",
       "max         16.000000\n",
       "Name: n_accommodates, dtype: float64"
      ]
     },
     "execution_count": 11,
     "metadata": {},
     "output_type": "execute_result"
    }
   ],
   "source": [
    "data['n_accommodates'].describe()"
   ]
  },
  {
   "cell_type": "code",
   "execution_count": 12,
   "id": "bcd65a00",
   "metadata": {},
   "outputs": [],
   "source": [
    "data = data.loc[data.n_accommodates < 8]"
   ]
  },
  {
   "cell_type": "code",
   "execution_count": 13,
   "id": "20ebbd8a",
   "metadata": {},
   "outputs": [
    {
     "data": {
      "text/html": [
       "<div>\n",
       "<style scoped>\n",
       "    .dataframe tbody tr th:only-of-type {\n",
       "        vertical-align: middle;\n",
       "    }\n",
       "\n",
       "    .dataframe tbody tr th {\n",
       "        vertical-align: top;\n",
       "    }\n",
       "\n",
       "    .dataframe thead th {\n",
       "        text-align: right;\n",
       "    }\n",
       "</style>\n",
       "<table border=\"1\" class=\"dataframe\">\n",
       "  <thead>\n",
       "    <tr style=\"text-align: right;\">\n",
       "      <th></th>\n",
       "      <th>mean_price</th>\n",
       "    </tr>\n",
       "    <tr>\n",
       "      <th>room_type</th>\n",
       "      <th></th>\n",
       "    </tr>\n",
       "  </thead>\n",
       "  <tbody>\n",
       "    <tr>\n",
       "      <th>Entire home/apt</th>\n",
       "      <td>201.273963</td>\n",
       "    </tr>\n",
       "    <tr>\n",
       "      <th>Hotel room</th>\n",
       "      <td>273.774194</td>\n",
       "    </tr>\n",
       "    <tr>\n",
       "      <th>Private room</th>\n",
       "      <td>90.387492</td>\n",
       "    </tr>\n",
       "    <tr>\n",
       "      <th>Shared room</th>\n",
       "      <td>81.609091</td>\n",
       "    </tr>\n",
       "  </tbody>\n",
       "</table>\n",
       "</div>"
      ],
      "text/plain": [
       "                 mean_price\n",
       "room_type                  \n",
       "Entire home/apt  201.273963\n",
       "Hotel room       273.774194\n",
       "Private room      90.387492\n",
       "Shared room       81.609091"
      ]
     },
     "execution_count": 13,
     "metadata": {},
     "output_type": "execute_result"
    }
   ],
   "source": [
    "data.groupby([\"room_type\"]).agg(mean_price=(\"price\", np.mean))\n"
   ]
  },
  {
   "cell_type": "code",
   "execution_count": 14,
   "id": "524cee05",
   "metadata": {},
   "outputs": [
    {
     "data": {
      "text/plain": [
       "count    14319.000000\n",
       "mean       164.635729\n",
       "std        133.469869\n",
       "min         10.000000\n",
       "25%         68.000000\n",
       "50%        126.000000\n",
       "75%        228.000000\n",
       "max       1000.000000\n",
       "Name: price, dtype: float64"
      ]
     },
     "execution_count": 14,
     "metadata": {},
     "output_type": "execute_result"
    }
   ],
   "source": [
    "data.price.describe()"
   ]
  },
  {
   "cell_type": "code",
   "execution_count": 15,
   "id": "fff17bbf",
   "metadata": {},
   "outputs": [
    {
     "data": {
      "image/png": "[encoded data removed]"
     },
     "metadata": {
      "image/png": {
       "height": 480,
       "width": 640
      }
     },
     "output_type": "display_data"
    },
    {
     "name": "stdout",
     "output_type": "stream",
     "text": [
      "\n"
     ]
    }
   ],
   "source": [
    "# Define the colors (replace with actual color values)\n",
    "color = [\"#E41A1C\", \"#377EB8\", \"#4DAF4A\"]\n",
    "\n",
    "# Define the plot\n",
    "plot = (\n",
    "    ggplot(data, aes(x=\"room_type\", y=\"price\"))\n",
    "    + stat_boxplot(\n",
    "        aes(group=\"room_type\"),\n",
    "        geom=\"errorbar\",\n",
    "        width=0.3,\n",
    "        color=color[1],  # Adjusted to a valid color format\n",
    "        size=0.5,\n",
    "        na_rm=True,\n",
    "    )\n",
    "    + geom_boxplot(\n",
    "        aes(group=\"room_type\"),\n",
    "        color=color[1],  # Boxplot border color\n",
    "        fill=color[1],  # Boxplot fill color\n",
    "        size=0.5,\n",
    "        width=0.6,\n",
    "        alpha=0.3,\n",
    "        na_rm=True,\n",
    "        outlier_color=color[0],  # Specify a valid color instead of an empty string\n",
    "    )\n",
    "    + scale_y_continuous(expand=(0.01, 0.01), limits=(0, 300), breaks=np.arange(0, 301, 100))\n",
    "    + labs(x=\"Room type\", y=\"Price (US dollars)\")\n",
    "    + theme_bw()\n",
    ")\n",
    "\n",
    "# Display the plot\n",
    "print(plot)\n"
   ]
  },
  {
   "cell_type": "code",
   "execution_count": 16,
   "id": "40a50641",
   "metadata": {},
   "outputs": [
    {
     "data": {
      "image/png": "[encoded data removed]",
      "text/plain": [
       "<Figure size 1000x600 with 1 Axes>"
      ]
     },
     "metadata": {},
     "output_type": "display_data"
    }
   ],
   "source": [
    "# relative frequencies with matplotlib\n",
    "\n",
    "from matplotlib.ticker import PercentFormatter\n",
    "fig = plt.figure(figsize = (10,6))\n",
    "ax = fig.add_subplot(111)\n",
    "ax.hist(data.price, bins = 16, density = True, rwidth = 0.9, color = 'steelblue')\n",
    "ax.set_xlabel('price in USD')\n",
    "# ax.grid()\n",
    "ax.yaxis.set_major_formatter(PercentFormatter(xmax=0.1, decimals = 0))\n",
    "ax.set_title('Relative frequency of apartment prices')\n",
    "plt.show()"
   ]
  },
  {
   "cell_type": "code",
   "execution_count": 17,
   "id": "043e1049",
   "metadata": {},
   "outputs": [
    {
     "data": {
      "image/png": "[encoded data removed]",
      "text/plain": [
       "<Figure size 1000x600 with 1 Axes>"
      ]
     },
     "metadata": {},
     "output_type": "display_data"
    }
   ],
   "source": [
    "# relative frequencies with matplotlib\n",
    "from matplotlib.ticker import PercentFormatter\n",
    "fig = plt.figure(figsize = (10,6))\n",
    "ax = fig.add_subplot(111)\n",
    "ax.hist(data.ln_price, bins = 16, density = True, rwidth = 0.9, color = 'steelblue')\n",
    "# ax.set_xticks(range(0, df.price.max(), 2000))\n",
    "ax.set_xlabel('ln price in USD')\n",
    "ax.yaxis.set_major_formatter(PercentFormatter(xmax=10, decimals = 0))\n",
    "ax.set_title('Relative frequency of logged apartment prices')\n",
    "plt.show()"
   ]
  },
  {
   "cell_type": "code",
   "execution_count": 18,
   "id": "b957cb8c",
   "metadata": {},
   "outputs": [],
   "source": [
    "data[\"room_type\"] = pd.Categorical(\n",
    "    data[\"room_type\"], categories=sorted(set(data[\"room_type\"]), reverse=False)\n",
    ")"
   ]
  },
  {
   "cell_type": "code",
   "execution_count": 19,
   "id": "878bf10e",
   "metadata": {},
   "outputs": [
    {
     "data": {
      "image/png": "[encoded data removed]",
      "text/plain": [
       "<Figure size 640x480 with 1 Axes>"
      ]
     },
     "metadata": {},
     "output_type": "display_data"
    }
   ],
   "source": [
    "sns.boxplot(data = data, x = 'room_type', y = 'price', orient = 'v', order = ['Entire home/apt', 'Hotel room', 'Private room', 'Shared room'])\n",
    "plt.show()"
   ]
  },
  {
   "cell_type": "code",
   "execution_count": 20,
   "id": "cee7b0f3",
   "metadata": {},
   "outputs": [
    {
     "data": {
      "text/plain": [
       "room_type\n",
       "Entire home/apt    9494\n",
       "Private room       4653\n",
       "Shared room         110\n",
       "Hotel room           62\n",
       "Name: count, dtype: int64"
      ]
     },
     "execution_count": 20,
     "metadata": {},
     "output_type": "execute_result"
    }
   ],
   "source": [
    "data.room_type.value_counts()"
   ]
  },
  {
   "cell_type": "code",
   "execution_count": 21,
   "id": "4f87f39e",
   "metadata": {},
   "outputs": [
    {
     "data": {
      "image/png": "[encoded data removed]",
      "text/plain": [
       "<Figure size 640x480 with 1 Axes>"
      ]
     },
     "metadata": {},
     "output_type": "display_data"
    }
   ],
   "source": [
    "sns.boxplot(data = data, x = 'n_accommodates', y = 'price', orient = 'v')\n",
    "plt.show()"
   ]
  },
  {
   "cell_type": "code",
   "execution_count": 22,
   "id": "74c0a6ea",
   "metadata": {},
   "outputs": [
    {
     "data": {
      "text/plain": [
       "n_accommodates\n",
       "1.0    2050\n",
       "2.0    4312\n",
       "3.0    1407\n",
       "4.0    3401\n",
       "5.0    1347\n",
       "6.0    1509\n",
       "7.0     293\n",
       "Name: count, dtype: int64"
      ]
     },
     "execution_count": 22,
     "metadata": {},
     "output_type": "execute_result"
    }
   ],
   "source": [
    "data.n_accommodates.value_counts().sort_index()"
   ]
  },
  {
   "cell_type": "markdown",
   "id": "a8fd3517",
   "metadata": {},
   "source": [
    "# Part 2. Setting up models"
   ]
  },
  {
   "cell_type": "code",
   "execution_count": 23,
   "id": "2c2ab19c",
   "metadata": {},
   "outputs": [],
   "source": [
    "basic_lev = ( \"n_accommodates\",\n",
    "    \"n_beds\",\n",
    "    \"room_type\",\n",
    "    \"n_days_since\",\n",
    "    \"flag_days_since\",\n",
    "    \"f_bathroom\",\n",
    "     \"distance\")\n",
    "\n",
    "host = (\"host_acceptance_rate\",\n",
    "    \"host_is_superhost\",\n",
    "    \"host_has_profile_pic\",\n",
    "    \"host_identity_verified\")\n",
    "\n",
    "amenities = (\n",
    "    \"Laundry\",\n",
    "    \"Essentials\",\n",
    "    \"Heating_Cooling\",\n",
    "    \"Kitchen\",\n",
    "    \"Outdoor\",\n",
    "    \"Workspace\",\n",
    "    \"Entertainment\",\n",
    "    \"Luxury\",\n",
    "    \"Internet\",\n",
    "    \"Parking\",\n",
    "    \"Family\"\n",
    ")\n",
    "\n",
    "nights = ( \"n_minimum_nights\", \"maximum_nights\") \n",
    "reviews = (\"f_number_of_reviews\", \"n_review_scores_rating\", \"flag_review_scores_rating\")\n",
    "poly_lev = (\"n_accommodates2\", \"n_days_since2\", \"n_days_since3\")\n"
   ]
  },
  {
   "cell_type": "code",
   "execution_count": 24,
   "id": "dce66af7",
   "metadata": {},
   "outputs": [],
   "source": [
    "def haversine(lat1, lon1, lat2, lon2):\n",
    "    R = 6371  # Radius of Earth in kilometers\n",
    "    lat1, lon1, lat2, lon2 = map(np.radians, [lat1, lon1, lat2, lon2])  # Convert degrees to radians\n",
    "    dlat = lat2 - lat1\n",
    "    dlon = lon2 - lon1\n",
    "    a = np.sin(dlat / 2)**2 + np.cos(lat1) * np.cos(lat2) * np.sin(dlon / 2)**2\n",
    "    c = 2 * np.arctan2(np.sqrt(a), np.sqrt(1 - a))\n",
    "    distance = R * c  # Distance in kilometers\n",
    "    return distance\n",
    "\n",
    "city_center_lat = 41.3874 # Barcelona coordinates\n",
    "city_center_lon = 2.1686"
   ]
  },
  {
   "cell_type": "code",
   "execution_count": 25,
   "id": "2c32983d",
   "metadata": {},
   "outputs": [],
   "source": [
    "data['distance'] = data.apply(\n",
    "    lambda row: haversine(row['latitude'], row['longitude'], city_center_lat, city_center_lon),\n",
    "    axis=1\n",
    ")"
   ]
  },
  {
   "cell_type": "code",
   "execution_count": 26,
   "id": "90600a73",
   "metadata": {},
   "outputs": [],
   "source": [
    "data['in_center'] = (data['distance'] <= 2).astype(int)"
   ]
  },
  {
   "cell_type": "markdown",
   "id": "296b669d",
   "metadata": {},
   "source": [
    "## Interactions"
   ]
  },
  {
   "cell_type": "code",
   "execution_count": 27,
   "id": "127b7fa8",
   "metadata": {},
   "outputs": [],
   "source": [
    "def price_diff_by_variables(df, factor_var, dummy_var, factor_lab, dummy_lab):\n",
    "    # Calculate statistics same way as before\n",
    "    stats = df.groupby([factor_var, dummy_var]).agg(\n",
    "        Mean=(\"price\", np.mean), \n",
    "        sd=(\"price\", np.std), \n",
    "        size=(\"price\", \"size\")\n",
    "    )\n",
    "    stats[\"se\"] = stats[\"sd\"] / stats[\"size\"] ** (1/2)\n",
    "    stats[\"Mean_l\"] = stats[\"Mean\"] - (1.96 * stats[\"se\"])\n",
    "    stats[\"Mean_u\"] = stats[\"Mean\"] + (1.96 * stats[\"se\"])\n",
    "    stats = stats.drop([\"sd\", \"size\"], axis=1).reset_index()\n",
    "\n",
    "    # Create the plot using seaborn\n",
    "    # plt.figure(figsize=(10, 6))\n",
    "    plt.figure()\n",
    "    \n",
    "    # Create bar plot\n",
    "    ax = sns.barplot(\n",
    "        data=stats,\n",
    "        x=stats.columns[0],\n",
    "        y='Mean',\n",
    "        hue=stats.columns[1],\n",
    "        palette=['indianred', 'steelblue'],\n",
    "        ci=None\n",
    "    )\n",
    "\n",
    "    # Add error bars\n",
    "    for i, group in enumerate(stats[stats.columns[1]].unique()):\n",
    "        group_data = stats[stats[stats.columns[1]] == group]\n",
    "        x = np.arange(len(group_data))\n",
    "        \n",
    "        # Adjust x positions for dodge effect\n",
    "        if i == 1:\n",
    "            x = x + 0.2\n",
    "        else:\n",
    "            x = x - 0.2\n",
    "            \n",
    "        plt.errorbar(\n",
    "            x=x, \n",
    "            y=group_data['Mean'],\n",
    "            yerr=[(group_data['Mean'] - group_data['Mean_l']), \n",
    "                  (group_data['Mean_u'] - group_data['Mean'])],\n",
    "            fmt='none',\n",
    "            color='black',\n",
    "            capsize=3\n",
    "        )\n",
    "\n",
    "    # Customize the plot\n",
    "    plt.xlabel(factor_lab)\n",
    "    plt.ylabel('Mean Price')\n",
    "    \n",
    "    # Customize legend\n",
    "    plt.legend(\n",
    "        title=dummy_lab,\n",
    "        bbox_to_anchor=(0.5, 1.15),\n",
    "        loc='center',\n",
    "        ncol=2,\n",
    "        fontsize=10,\n",
    "        title_fontsize=10\n",
    "    )\n",
    "    \n",
    "    # Remove grid\n",
    "    ax.grid(False)\n",
    "    plt.show()\n",
    "    \n",
    "    return plt"
   ]
  },
  {
   "cell_type": "code",
   "execution_count": 28,
   "id": "08e6ca8a",
   "metadata": {},
   "outputs": [
    {
     "data": {
      "image/png": "[encoded data removed]",
      "text/plain": [
       "<Figure size 640x480 with 1 Axes>"
      ]
     },
     "metadata": {},
     "output_type": "display_data"
    },
    {
     "data": {
      "text/plain": [
       "<module 'matplotlib.pyplot' from 'C:\\\\Users\\\\Acer\\\\anaconda3\\\\lib\\\\site-packages\\\\matplotlib\\\\pyplot.py'>"
      ]
     },
     "execution_count": 28,
     "metadata": {},
     "output_type": "execute_result"
    }
   ],
   "source": [
    "price_diff_by_variables(data, \"room_type\", 'instant_bookable', \"Room type\", 'instant_bookable')"
   ]
  },
  {
   "cell_type": "code",
   "execution_count": 29,
   "id": "c042e3aa",
   "metadata": {},
   "outputs": [
    {
     "data": {
      "image/png": "[encoded data removed]",
      "text/plain": [
       "<Figure size 640x480 with 1 Axes>"
      ]
     },
     "metadata": {},
     "output_type": "display_data"
    },
    {
     "data": {
      "text/plain": [
       "<module 'matplotlib.pyplot' from 'C:\\\\Users\\\\Acer\\\\anaconda3\\\\lib\\\\site-packages\\\\matplotlib\\\\pyplot.py'>"
      ]
     },
     "execution_count": 29,
     "metadata": {},
     "output_type": "execute_result"
    }
   ],
   "source": [
    "price_diff_by_variables(data, \"room_type\", 'in_center', \"Room type\", 'In center')"
   ]
  },
  {
   "cell_type": "code",
   "execution_count": 30,
   "id": "3ffdb92d",
   "metadata": {},
   "outputs": [
    {
     "data": {
      "image/png": "[encoded data removed]",
      "text/plain": [
       "<Figure size 640x480 with 1 Axes>"
      ]
     },
     "metadata": {},
     "output_type": "display_data"
    }
   ],
   "source": [
    "price_diff_by_variables(data, \"in_center\", \"Kitchen\", \"In Center\", \"kitchen\");"
   ]
  },
  {
   "cell_type": "code",
   "execution_count": 31,
   "id": "96f5b66f",
   "metadata": {},
   "outputs": [
    {
     "data": {
      "image/png": "[encoded data removed]",
      "text/plain": [
       "<Figure size 640x480 with 1 Axes>"
      ]
     },
     "metadata": {},
     "output_type": "display_data"
    },
    {
     "data": {
      "text/plain": [
       "<module 'matplotlib.pyplot' from 'C:\\\\Users\\\\Acer\\\\anaconda3\\\\lib\\\\site-packages\\\\matplotlib\\\\pyplot.py'>"
      ]
     },
     "execution_count": 31,
     "metadata": {},
     "output_type": "execute_result"
    }
   ],
   "source": [
    "price_diff_by_variables(data,\"room_type\",\"Family\",\"Room type\", \"Family kid friendly\")"
   ]
  },
  {
   "cell_type": "code",
   "execution_count": 32,
   "id": "8eae59fb",
   "metadata": {},
   "outputs": [
    {
     "data": {
      "image/png": "[encoded data removed]",
      "text/plain": [
       "<Figure size 640x480 with 1 Axes>"
      ]
     },
     "metadata": {},
     "output_type": "display_data"
    }
   ],
   "source": [
    "price_diff_by_variables(data, \"room_type\", \"Heating_Cooling\", \"room type\", \"air conditioning/ heating\");"
   ]
  },
  {
   "cell_type": "code",
   "execution_count": 33,
   "id": "b0faa4ea",
   "metadata": {},
   "outputs": [],
   "source": [
    "X1 = (\"room_type*instant_bookable\", \"room_type*Family\")\n",
    "X2 = (\"room_type*in_center\", \"in_center*Kitchen\", \"room_type*Heating_Cooling\")\n"
   ]
  },
  {
   "cell_type": "markdown",
   "id": "a9d6b684",
   "metadata": {},
   "source": [
    "basic_lev,\n",
    "basic_add, \n",
    "reviews ,\n",
    "host ,\n",
    "nights ,\n",
    "amenities ,\n",
    "poly_lev "
   ]
  },
  {
   "cell_type": "code",
   "execution_count": 34,
   "id": "7b20d53f",
   "metadata": {},
   "outputs": [],
   "source": [
    "modellev1=\"~ n_accommodates\"\n",
    "modellev2=\"~\"+\"+\".join(basic_lev)\n",
    "modellev3=\"~\"+\"+\".join(basic_lev)+\"+\"+\"+\".join(reviews)\n",
    "modellev4=\"~\"+\"+\".join(basic_lev)+\"+\"+\"+\".join(reviews)+\"+\"+\"+\".join(host)\n",
    "modellev5=\"~\"+\"+\".join(basic_lev)+\"+\"+\"+\".join(reviews)+\"+\"+\"+\".join(host)+\"+\"+\"+\".join(nights)\n",
    "modellev6=\"~\"+\"+\".join(basic_lev)+\"+\"+\"+\".join(reviews)+\"+\"+\"+\".join(host)+\"+\"+\"+\".join(nights)+\"+\"+\"+\".join(amenities)\n",
    "modellev7=\"~\"+\"+\".join(basic_lev)+\"+\"+\"+\".join(reviews)+\"+\"+\"+\".join(host)+\"+\"+\"+\".join(nights)+\"+\"+\"+\".join(amenities)+\"+\"+\"+\".join(poly_lev)\n",
    "modellev8=\"~\"+\"+\".join(basic_lev)+\"+\"+\"+\".join(reviews)+\"+\"+\"+\".join(host)+\"+\"+\"+\".join(nights)+\"+\"+\"+\".join(amenities)+\"+\"+\"+\".join(X1)+\"+\"+\"+\".join(X2)\n",
    "\n"
   ]
  },
  {
   "cell_type": "code",
   "execution_count": 35,
   "id": "a2e0e643",
   "metadata": {},
   "outputs": [
    {
     "data": {
      "text/plain": [
       "'~n_accommodates+n_beds+room_type+n_days_since+flag_days_since+f_bathroom+distance+f_number_of_reviews+n_review_scores_rating+flag_review_scores_rating+host_acceptance_rate+host_is_superhost+host_has_profile_pic+host_identity_verified+n_minimum_nights+maximum_nights+Laundry+Essentials+Heating_Cooling+Kitchen+Outdoor+Workspace+Entertainment+Luxury+Internet+Parking+Family+room_type*instant_bookable+room_type*Family+room_type*in_center+in_center*Kitchen+room_type*Heating_Cooling'"
      ]
     },
     "execution_count": 35,
     "metadata": {},
     "output_type": "execute_result"
    }
   ],
   "source": [
    "modellev8"
   ]
  },
  {
   "cell_type": "markdown",
   "id": "042ac253",
   "metadata": {},
   "source": [
    "# Regression with CV"
   ]
  },
  {
   "cell_type": "code",
   "execution_count": 36,
   "id": "c9adbc59",
   "metadata": {},
   "outputs": [],
   "source": [
    "smp_size = round(0.2 * data.shape[0])-1"
   ]
  },
  {
   "cell_type": "code",
   "execution_count": 37,
   "id": "38eaad7a",
   "metadata": {},
   "outputs": [
    {
     "data": {
      "text/plain": [
       "2863"
      ]
     },
     "execution_count": 37,
     "metadata": {},
     "output_type": "execute_result"
    }
   ],
   "source": [
    "smp_size"
   ]
  },
  {
   "cell_type": "code",
   "execution_count": 38,
   "id": "7c0f7e33",
   "metadata": {},
   "outputs": [],
   "source": [
    "# Set the seed to make results reproducable\n",
    "np.random.seed(20020302)"
   ]
  },
  {
   "cell_type": "code",
   "execution_count": 39,
   "id": "23e4e4bb",
   "metadata": {},
   "outputs": [],
   "source": [
    "from sklearn.model_selection import train_test_split"
   ]
  },
  {
   "cell_type": "code",
   "execution_count": 40,
   "id": "aafb74f2",
   "metadata": {},
   "outputs": [
    {
     "data": {
      "text/plain": [
       "(11456, 67)"
      ]
     },
     "execution_count": 40,
     "metadata": {},
     "output_type": "execute_result"
    }
   ],
   "source": [
    "data_work, data_holdout = train_test_split(data, test_size = smp_size)\n",
    "data_work.shape"
   ]
  },
  {
   "cell_type": "code",
   "execution_count": 41,
   "id": "f9c66729",
   "metadata": {},
   "outputs": [
    {
     "data": {
      "text/plain": [
       "(2863, 67)"
      ]
     },
     "execution_count": 41,
     "metadata": {},
     "output_type": "execute_result"
    }
   ],
   "source": [
    "data_holdout.shape"
   ]
  },
  {
   "cell_type": "code",
   "execution_count": 42,
   "id": "56c95b3b",
   "metadata": {},
   "outputs": [],
   "source": [
    "n_folds = 5"
   ]
  },
  {
   "cell_type": "code",
   "execution_count": 43,
   "id": "3f3b6d4f",
   "metadata": {},
   "outputs": [],
   "source": [
    "from sklearn.model_selection import KFold\n",
    "from statsmodels.tools.eval_measures import mse,rmse\n",
    "\n",
    "k = KFold(n_splits=n_folds, shuffle=False, random_state=None)"
   ]
  },
  {
   "cell_type": "code",
   "execution_count": 44,
   "id": "11939c1a",
   "metadata": {},
   "outputs": [],
   "source": [
    "def cv_reg(formula, df, kfold, testdf, robustse=None):\n",
    "    regression_list = []\n",
    "    predicts_on_test = []\n",
    "    rsquared = []\n",
    "    rmse_list = []\n",
    "    rmse_list_test = []\n",
    "\n",
    "    # Calculating OLS for each fold\n",
    "\n",
    "    for train_index, test_index in k.split(df):\n",
    "        df_train, df_test = df.iloc[train_index, :], df.iloc[test_index, :]\n",
    "        if robustse is None:\n",
    "            model = smf.ols(formula, data = df_train).fit()\n",
    "        else:\n",
    "            model = smf.ols(formula, data = df_train).fit(cov_type=robustse)\n",
    "        regression_list += [model]\n",
    "        predicts_on_test += [model.predict(df_test)]\n",
    "        rsquared += [model.rsquared]\n",
    "\n",
    "        rmse_tr = pd.concat(\n",
    "            [df_train[\"price\"], model.predict(df_train)],\n",
    "            axis=1,\n",
    "            keys=[\"price\", \"predicted\"],\n",
    "        )\n",
    "        rmse_tr = rmse_tr[~rmse_tr.isna().any(axis=1)]\n",
    "\n",
    "        rmse_te = pd.concat(\n",
    "            [df_test[\"price\"], model.predict(df_test)],\n",
    "            axis=1,\n",
    "            keys=[\"price\", \"predicted\"],\n",
    "        )\n",
    "        rmse_te = rmse_te[~rmse_te.isna().any(axis=1)]\n",
    "\n",
    "        rmse_list += [rmse(rmse_tr[\"price\"], rmse_tr[\"predicted\"], axis=0)]\n",
    "        rmse_list_test += [rmse(rmse_te[\"price\"], rmse_te[\"predicted\"], axis=0)]\n",
    "    nvars = model.df_model\n",
    "\n",
    "    return {\n",
    "        \"regressions\": regression_list,\n",
    "        \"test_predict\": predicts_on_test,\n",
    "        \"r2\": rsquared,\n",
    "        \"rmse\": rmse_list,\n",
    "        \"rmse_test\": rmse_list_test,\n",
    "        \"nvars\": nvars,\n",
    "    }\n",
    "\n",
    "\n",
    "def summarize_cv(cvlist, stat=\"rmse\"):\n",
    "    result = pd.DataFrame(\n",
    "        {\"Model\" + str(x + 1): cvlist[x][stat] for x in range(len(cvlist))}\n",
    "    )\n",
    "    result[\"Resample\"] = [\"Fold\" + str(x + 1) for x in range(len(cvlist[0][\"rmse\"]))]\n",
    "    result = result.set_index(\"Resample\")\n",
    "    result = pd.concat([result, pd.DataFrame(result.mean(), columns=[\"Average\"]).T])\n",
    "    return result"
   ]
  },
  {
   "cell_type": "code",
   "execution_count": 45,
   "id": "138c2897",
   "metadata": {},
   "outputs": [
    {
     "name": "stdout",
     "output_type": "stream",
     "text": [
      "['maximum_nights', 'n_minimum_nights', 'f_minimum_nights']\n"
     ]
    }
   ],
   "source": [
    "f_columns = data.filter(like=\"nights\", axis=1).columns.tolist()\n",
    "print(f_columns)\n"
   ]
  },
  {
   "cell_type": "code",
   "execution_count": 46,
   "id": "1ed87114",
   "metadata": {},
   "outputs": [],
   "source": [
    "cv_list = []\n",
    "for i in [\n",
    "    modellev1,\n",
    "    modellev2,\n",
    "    modellev3,\n",
    "    modellev4,\n",
    "    modellev5,\n",
    "    modellev6,\n",
    "    modellev7,\n",
    "    modellev8,\n",
    "]:\n",
    "    cv_list += [cv_reg(\"price\" + i, data, k, \"HC0\")]"
   ]
  },
  {
   "cell_type": "code",
   "execution_count": 47,
   "id": "1c4b6d68",
   "metadata": {},
   "outputs": [
    {
     "data": {
      "text/html": [
       "<div>\n",
       "<style scoped>\n",
       "    .dataframe tbody tr th:only-of-type {\n",
       "        vertical-align: middle;\n",
       "    }\n",
       "\n",
       "    .dataframe tbody tr th {\n",
       "        vertical-align: top;\n",
       "    }\n",
       "\n",
       "    .dataframe thead th {\n",
       "        text-align: right;\n",
       "    }\n",
       "</style>\n",
       "<table border=\"1\" class=\"dataframe\">\n",
       "  <thead>\n",
       "    <tr style=\"text-align: right;\">\n",
       "      <th></th>\n",
       "      <th>Model1</th>\n",
       "      <th>Model2</th>\n",
       "      <th>Model3</th>\n",
       "      <th>Model4</th>\n",
       "      <th>Model5</th>\n",
       "      <th>Model6</th>\n",
       "      <th>Model7</th>\n",
       "      <th>Model8</th>\n",
       "    </tr>\n",
       "  </thead>\n",
       "  <tbody>\n",
       "    <tr>\n",
       "      <th>Fold1</th>\n",
       "      <td>115.239</td>\n",
       "      <td>112.561</td>\n",
       "      <td>111.532</td>\n",
       "      <td>111.156</td>\n",
       "      <td>105.507</td>\n",
       "      <td>102.536</td>\n",
       "      <td>102.485</td>\n",
       "      <td>101.909</td>\n",
       "    </tr>\n",
       "    <tr>\n",
       "      <th>Fold2</th>\n",
       "      <td>110.817</td>\n",
       "      <td>108.389</td>\n",
       "      <td>107.251</td>\n",
       "      <td>106.767</td>\n",
       "      <td>102.685</td>\n",
       "      <td>99.679</td>\n",
       "      <td>99.570</td>\n",
       "      <td>98.791</td>\n",
       "    </tr>\n",
       "    <tr>\n",
       "      <th>Fold3</th>\n",
       "      <td>113.426</td>\n",
       "      <td>110.469</td>\n",
       "      <td>109.368</td>\n",
       "      <td>109.076</td>\n",
       "      <td>104.461</td>\n",
       "      <td>101.962</td>\n",
       "      <td>101.815</td>\n",
       "      <td>101.105</td>\n",
       "    </tr>\n",
       "    <tr>\n",
       "      <th>Fold4</th>\n",
       "      <td>116.769</td>\n",
       "      <td>114.229</td>\n",
       "      <td>112.574</td>\n",
       "      <td>112.190</td>\n",
       "      <td>107.687</td>\n",
       "      <td>104.148</td>\n",
       "      <td>104.091</td>\n",
       "      <td>103.145</td>\n",
       "    </tr>\n",
       "    <tr>\n",
       "      <th>Fold5</th>\n",
       "      <td>108.457</td>\n",
       "      <td>104.879</td>\n",
       "      <td>103.180</td>\n",
       "      <td>102.693</td>\n",
       "      <td>98.355</td>\n",
       "      <td>95.143</td>\n",
       "      <td>94.959</td>\n",
       "      <td>93.542</td>\n",
       "    </tr>\n",
       "    <tr>\n",
       "      <th>Average</th>\n",
       "      <td>112.941</td>\n",
       "      <td>110.105</td>\n",
       "      <td>108.781</td>\n",
       "      <td>108.376</td>\n",
       "      <td>103.739</td>\n",
       "      <td>100.694</td>\n",
       "      <td>100.584</td>\n",
       "      <td>99.698</td>\n",
       "    </tr>\n",
       "  </tbody>\n",
       "</table>\n",
       "</div>"
      ],
      "text/plain": [
       "          Model1   Model2   Model3   Model4   Model5   Model6   Model7  \\\n",
       "Fold1    115.239  112.561  111.532  111.156  105.507  102.536  102.485   \n",
       "Fold2    110.817  108.389  107.251  106.767  102.685   99.679   99.570   \n",
       "Fold3    113.426  110.469  109.368  109.076  104.461  101.962  101.815   \n",
       "Fold4    116.769  114.229  112.574  112.190  107.687  104.148  104.091   \n",
       "Fold5    108.457  104.879  103.180  102.693   98.355   95.143   94.959   \n",
       "Average  112.941  110.105  108.781  108.376  103.739  100.694  100.584   \n",
       "\n",
       "          Model8  \n",
       "Fold1    101.909  \n",
       "Fold2     98.791  \n",
       "Fold3    101.105  \n",
       "Fold4    103.145  \n",
       "Fold5     93.542  \n",
       "Average   99.698  "
      ]
     },
     "execution_count": 47,
     "metadata": {},
     "output_type": "execute_result"
    }
   ],
   "source": [
    "summarize_cv(cv_list).map('{:,.3f}'.format)"
   ]
  },
  {
   "cell_type": "code",
   "execution_count": 48,
   "id": "44a8e158",
   "metadata": {},
   "outputs": [],
   "source": [
    "# RMSE training vs test graph\n",
    "\n",
    "rmse_levels = {\"nvars\": [], \"var\": [], \"value\": []}\n",
    "for i in range(0, 8):\n",
    "    rmse_levels[\"nvars\"].append(int(cv_list[i][\"nvars\"]))\n",
    "    rmse_levels[\"var\"].append(\"RMSE Training\")\n",
    "    rmse_levels[\"value\"].append(pd.Series(cv_list[i][\"rmse\"]).mean())\n",
    "for i in range(0, 8):\n",
    "    rmse_levels[\"nvars\"].append(int(cv_list[i][\"nvars\"]))\n",
    "    rmse_levels[\"var\"].append(\"RMSE Test\")\n",
    "    rmse_levels[\"value\"].append(pd.Series(cv_list[i][\"rmse_test\"]).mean())\n",
    "data_rmse_levels = pd.DataFrame.from_dict(rmse_levels)\n",
    "data_rmse_levels[\"nvars2\"] = data_rmse_levels[\"nvars\"] + 1"
   ]
  },
  {
   "cell_type": "code",
   "execution_count": 49,
   "id": "39f1f26f",
   "metadata": {},
   "outputs": [
    {
     "data": {
      "text/html": [
       "<div>\n",
       "<style scoped>\n",
       "    .dataframe tbody tr th:only-of-type {\n",
       "        vertical-align: middle;\n",
       "    }\n",
       "\n",
       "    .dataframe tbody tr th {\n",
       "        vertical-align: top;\n",
       "    }\n",
       "\n",
       "    .dataframe thead th {\n",
       "        text-align: right;\n",
       "    }\n",
       "</style>\n",
       "<table border=\"1\" class=\"dataframe\">\n",
       "  <thead>\n",
       "    <tr style=\"text-align: right;\">\n",
       "      <th></th>\n",
       "      <th>nvars</th>\n",
       "      <th>var</th>\n",
       "      <th>value</th>\n",
       "      <th>nvars2</th>\n",
       "    </tr>\n",
       "  </thead>\n",
       "  <tbody>\n",
       "    <tr>\n",
       "      <th>0</th>\n",
       "      <td>1</td>\n",
       "      <td>RMSE Training</td>\n",
       "      <td>112.941415</td>\n",
       "      <td>2</td>\n",
       "    </tr>\n",
       "    <tr>\n",
       "      <th>1</th>\n",
       "      <td>9</td>\n",
       "      <td>RMSE Training</td>\n",
       "      <td>110.105334</td>\n",
       "      <td>10</td>\n",
       "    </tr>\n",
       "    <tr>\n",
       "      <th>2</th>\n",
       "      <td>11</td>\n",
       "      <td>RMSE Training</td>\n",
       "      <td>108.781098</td>\n",
       "      <td>12</td>\n",
       "    </tr>\n",
       "    <tr>\n",
       "      <th>3</th>\n",
       "      <td>16</td>\n",
       "      <td>RMSE Training</td>\n",
       "      <td>108.376485</td>\n",
       "      <td>17</td>\n",
       "    </tr>\n",
       "    <tr>\n",
       "      <th>4</th>\n",
       "      <td>18</td>\n",
       "      <td>RMSE Training</td>\n",
       "      <td>103.739106</td>\n",
       "      <td>19</td>\n",
       "    </tr>\n",
       "    <tr>\n",
       "      <th>5</th>\n",
       "      <td>29</td>\n",
       "      <td>RMSE Training</td>\n",
       "      <td>100.693825</td>\n",
       "      <td>30</td>\n",
       "    </tr>\n",
       "    <tr>\n",
       "      <th>6</th>\n",
       "      <td>32</td>\n",
       "      <td>RMSE Training</td>\n",
       "      <td>100.583831</td>\n",
       "      <td>33</td>\n",
       "    </tr>\n",
       "    <tr>\n",
       "      <th>7</th>\n",
       "      <td>43</td>\n",
       "      <td>RMSE Training</td>\n",
       "      <td>99.698380</td>\n",
       "      <td>44</td>\n",
       "    </tr>\n",
       "    <tr>\n",
       "      <th>8</th>\n",
       "      <td>1</td>\n",
       "      <td>RMSE Test</td>\n",
       "      <td>112.800409</td>\n",
       "      <td>2</td>\n",
       "    </tr>\n",
       "    <tr>\n",
       "      <th>9</th>\n",
       "      <td>9</td>\n",
       "      <td>RMSE Test</td>\n",
       "      <td>111.862579</td>\n",
       "      <td>10</td>\n",
       "    </tr>\n",
       "    <tr>\n",
       "      <th>10</th>\n",
       "      <td>11</td>\n",
       "      <td>RMSE Test</td>\n",
       "      <td>110.207392</td>\n",
       "      <td>12</td>\n",
       "    </tr>\n",
       "    <tr>\n",
       "      <th>11</th>\n",
       "      <td>16</td>\n",
       "      <td>RMSE Test</td>\n",
       "      <td>109.925906</td>\n",
       "      <td>17</td>\n",
       "    </tr>\n",
       "    <tr>\n",
       "      <th>12</th>\n",
       "      <td>18</td>\n",
       "      <td>RMSE Test</td>\n",
       "      <td>105.971726</td>\n",
       "      <td>19</td>\n",
       "    </tr>\n",
       "    <tr>\n",
       "      <th>13</th>\n",
       "      <td>29</td>\n",
       "      <td>RMSE Test</td>\n",
       "      <td>102.867147</td>\n",
       "      <td>30</td>\n",
       "    </tr>\n",
       "    <tr>\n",
       "      <th>14</th>\n",
       "      <td>32</td>\n",
       "      <td>RMSE Test</td>\n",
       "      <td>116.236818</td>\n",
       "      <td>33</td>\n",
       "    </tr>\n",
       "    <tr>\n",
       "      <th>15</th>\n",
       "      <td>43</td>\n",
       "      <td>RMSE Test</td>\n",
       "      <td>102.071917</td>\n",
       "      <td>44</td>\n",
       "    </tr>\n",
       "  </tbody>\n",
       "</table>\n",
       "</div>"
      ],
      "text/plain": [
       "    nvars            var       value  nvars2\n",
       "0       1  RMSE Training  112.941415       2\n",
       "1       9  RMSE Training  110.105334      10\n",
       "2      11  RMSE Training  108.781098      12\n",
       "3      16  RMSE Training  108.376485      17\n",
       "4      18  RMSE Training  103.739106      19\n",
       "5      29  RMSE Training  100.693825      30\n",
       "6      32  RMSE Training  100.583831      33\n",
       "7      43  RMSE Training   99.698380      44\n",
       "8       1      RMSE Test  112.800409       2\n",
       "9       9      RMSE Test  111.862579      10\n",
       "10     11      RMSE Test  110.207392      12\n",
       "11     16      RMSE Test  109.925906      17\n",
       "12     18      RMSE Test  105.971726      19\n",
       "13     29      RMSE Test  102.867147      30\n",
       "14     32      RMSE Test  116.236818      33\n",
       "15     43      RMSE Test  102.071917      44"
      ]
     },
     "execution_count": 49,
     "metadata": {},
     "output_type": "execute_result"
    }
   ],
   "source": [
    "data_rmse_levels"
   ]
  },
  {
   "cell_type": "code",
   "execution_count": 50,
   "id": "9390dded",
   "metadata": {},
   "outputs": [
    {
     "data": {
      "image/png": "[encoded data removed]",
      "text/plain": [
       "<Figure size 700x500 with 1 Axes>"
      ]
     },
     "metadata": {},
     "output_type": "display_data"
    }
   ],
   "source": [
    "plt.figure(figsize=(7,5))\n",
    "ax = sns.lineplot(\n",
    "    x = [str(x) for x in data_rmse_levels['nvars2']], \n",
    "    y = data_rmse_levels['value'], \n",
    "    hue = data_rmse_levels['var'], marker = 'o',\n",
    "    palette = ['k', 'steelblue']\n",
    ")\n",
    "ax.set_title('Train & Test RMSE')\n",
    "ax.set_ylabel('RMSE')\n",
    "ax.set_xlabel('# of coefficients')\n",
    "ax.legend(fontsize = 8, title = None)\n",
    "ax.grid(linestyle = ':')\n",
    "plt.show();"
   ]
  },
  {
   "cell_type": "code",
   "execution_count": 51,
   "id": "b384f3d4",
   "metadata": {},
   "outputs": [
    {
     "data": {
      "text/plain": [
       "count    14319.000000\n",
       "mean       164.635729\n",
       "std        133.469869\n",
       "min         10.000000\n",
       "25%         68.000000\n",
       "50%        126.000000\n",
       "75%        228.000000\n",
       "max       1000.000000\n",
       "Name: price, dtype: float64"
      ]
     },
     "execution_count": 51,
     "metadata": {},
     "output_type": "execute_result"
    }
   ],
   "source": [
    "data.price.describe()"
   ]
  },
  {
   "cell_type": "markdown",
   "id": "646be406",
   "metadata": {},
   "source": [
    "## Lasso"
   ]
  },
  {
   "cell_type": "code",
   "execution_count": 52,
   "id": "c025a511",
   "metadata": {},
   "outputs": [],
   "source": [
    "predictors = basic_lev + reviews + host + nights + amenities + poly_lev\n",
    "predictors_2 = basic_lev + reviews + host + nights + amenities + poly_lev + X1 + X2"
   ]
  },
  {
   "cell_type": "code",
   "execution_count": 53,
   "id": "cdcb1813",
   "metadata": {},
   "outputs": [],
   "source": [
    "from sklearn.linear_model import ElasticNet\n",
    "from sklearn.model_selection import GridSearchCV\n",
    "from patsy import dmatrices\n",
    "from sklearn.preprocessing import StandardScaler"
   ]
  },
  {
   "cell_type": "code",
   "execution_count": 54,
   "id": "5f162a4e",
   "metadata": {},
   "outputs": [],
   "source": [
    "lasso_model =  ElasticNet(l1_ratio = 1, fit_intercept = True)"
   ]
  },
  {
   "cell_type": "code",
   "execution_count": 55,
   "id": "67f54450",
   "metadata": {},
   "outputs": [],
   "source": [
    "lasso_model_cv = GridSearchCV(\n",
    "    lasso_model,\n",
    "    # {\"alpha\":[i/100 for i in range(1, 26, 1)]}, #> this option takes forever to run\n",
    "    {\"alpha\":[i/100 for i in range(5, 26, 5)]},\n",
    "    cv=5,\n",
    "    scoring=\"neg_root_mean_squared_error\",\n",
    "    verbose=3,\n",
    ")\n"
   ]
  },
  {
   "cell_type": "code",
   "execution_count": 56,
   "id": "7b9eca5d",
   "metadata": {},
   "outputs": [],
   "source": [
    "y, X = dmatrices(\"price ~ \" + \" + \".join(predictors_2), data_work)"
   ]
  },
  {
   "cell_type": "code",
   "execution_count": 57,
   "id": "d440483d",
   "metadata": {},
   "outputs": [],
   "source": [
    "scaler = StandardScaler()\n",
    "X_scaled = scaler.fit_transform(X)"
   ]
  },
  {
   "cell_type": "code",
   "execution_count": 58,
   "id": "9f817297",
   "metadata": {},
   "outputs": [
    {
     "name": "stdout",
     "output_type": "stream",
     "text": [
      "Fitting 5 folds for each of 5 candidates, totalling 25 fits\n",
      "[CV 1/5] END ......................alpha=0.05;, score=-95.773 total time=   0.2s\n",
      "[CV 2/5] END .....................alpha=0.05;, score=-103.821 total time=   0.0s\n",
      "[CV 3/5] END .....................alpha=0.05;, score=-101.553 total time=   0.0s\n",
      "[CV 4/5] END .....................alpha=0.05;, score=-106.644 total time=   0.0s\n",
      "[CV 5/5] END ......................alpha=0.05;, score=-99.122 total time=   0.0s\n",
      "[CV 1/5] END .......................alpha=0.1;, score=-95.776 total time=   0.0s\n",
      "[CV 2/5] END ......................alpha=0.1;, score=-103.809 total time=   0.2s\n",
      "[CV 3/5] END ......................alpha=0.1;, score=-101.537 total time=   0.2s\n",
      "[CV 4/5] END ......................alpha=0.1;, score=-106.637 total time=   0.1s\n",
      "[CV 5/5] END .......................alpha=0.1;, score=-99.127 total time=   0.0s\n",
      "[CV 1/5] END ......................alpha=0.15;, score=-95.780 total time=   0.0s\n",
      "[CV 2/5] END .....................alpha=0.15;, score=-103.803 total time=   0.0s\n",
      "[CV 3/5] END .....................alpha=0.15;, score=-101.538 total time=   0.0s\n",
      "[CV 4/5] END .....................alpha=0.15;, score=-106.633 total time=   0.0s\n",
      "[CV 5/5] END ......................alpha=0.15;, score=-99.143 total time=   0.0s\n",
      "[CV 1/5] END .......................alpha=0.2;, score=-95.791 total time=   0.0s\n",
      "[CV 2/5] END ......................alpha=0.2;, score=-103.808 total time=   0.0s\n",
      "[CV 3/5] END ......................alpha=0.2;, score=-101.543 total time=   0.0s\n",
      "[CV 4/5] END ......................alpha=0.2;, score=-106.642 total time=   0.0s\n",
      "[CV 5/5] END .......................alpha=0.2;, score=-99.162 total time=   0.0s\n",
      "[CV 1/5] END ......................alpha=0.25;, score=-95.808 total time=   0.0s\n",
      "[CV 2/5] END .....................alpha=0.25;, score=-103.816 total time=   0.0s\n",
      "[CV 3/5] END .....................alpha=0.25;, score=-101.550 total time=   0.0s\n",
      "[CV 4/5] END .....................alpha=0.25;, score=-106.657 total time=   0.0s\n",
      "[CV 5/5] END ......................alpha=0.25;, score=-99.169 total time=   0.0s\n",
      "CPU times: total: 12.6 s\n",
      "Wall time: 3.16 s\n"
     ]
    },
    {
     "data": {
      "text/html": [
       "<style>#sk-container-id-1 {color: black;background-color: white;}#sk-container-id-1 pre{padding: 0;}#sk-container-id-1 div.sk-toggleable {background-color: white;}#sk-container-id-1 label.sk-toggleable__label {cursor: pointer;display: block;width: 100%;margin-bottom: 0;padding: 0.3em;box-sizing: border-box;text-align: center;}#sk-container-id-1 label.sk-toggleable__label-arrow:before {content: \"▸\";float: left;margin-right: 0.25em;color: #696969;}#sk-container-id-1 label.sk-toggleable__label-arrow:hover:before {color: black;}#sk-container-id-1 div.sk-estimator:hover label.sk-toggleable__label-arrow:before {color: black;}#sk-container-id-1 div.sk-toggleable__content {max-height: 0;max-width: 0;overflow: hidden;text-align: left;background-color: #f0f8ff;}#sk-container-id-1 div.sk-toggleable__content pre {margin: 0.2em;color: black;border-radius: 0.25em;background-color: #f0f8ff;}#sk-container-id-1 input.sk-toggleable__control:checked~div.sk-toggleable__content {max-height: 200px;max-width: 100%;overflow: auto;}#sk-container-id-1 input.sk-toggleable__control:checked~label.sk-toggleable__label-arrow:before {content: \"▾\";}#sk-container-id-1 div.sk-estimator input.sk-toggleable__control:checked~label.sk-toggleable__label {background-color: #d4ebff;}#sk-container-id-1 div.sk-label input.sk-toggleable__control:checked~label.sk-toggleable__label {background-color: #d4ebff;}#sk-container-id-1 input.sk-hidden--visually {border: 0;clip: rect(1px 1px 1px 1px);clip: rect(1px, 1px, 1px, 1px);height: 1px;margin: -1px;overflow: hidden;padding: 0;position: absolute;width: 1px;}#sk-container-id-1 div.sk-estimator {font-family: monospace;background-color: #f0f8ff;border: 1px dotted black;border-radius: 0.25em;box-sizing: border-box;margin-bottom: 0.5em;}#sk-container-id-1 div.sk-estimator:hover {background-color: #d4ebff;}#sk-container-id-1 div.sk-parallel-item::after {content: \"\";width: 100%;border-bottom: 1px solid gray;flex-grow: 1;}#sk-container-id-1 div.sk-label:hover label.sk-toggleable__label {background-color: #d4ebff;}#sk-container-id-1 div.sk-serial::before {content: \"\";position: absolute;border-left: 1px solid gray;box-sizing: border-box;top: 0;bottom: 0;left: 50%;z-index: 0;}#sk-container-id-1 div.sk-serial {display: flex;flex-direction: column;align-items: center;background-color: white;padding-right: 0.2em;padding-left: 0.2em;position: relative;}#sk-container-id-1 div.sk-item {position: relative;z-index: 1;}#sk-container-id-1 div.sk-parallel {display: flex;align-items: stretch;justify-content: center;background-color: white;position: relative;}#sk-container-id-1 div.sk-item::before, #sk-container-id-1 div.sk-parallel-item::before {content: \"\";position: absolute;border-left: 1px solid gray;box-sizing: border-box;top: 0;bottom: 0;left: 50%;z-index: -1;}#sk-container-id-1 div.sk-parallel-item {display: flex;flex-direction: column;z-index: 1;position: relative;background-color: white;}#sk-container-id-1 div.sk-parallel-item:first-child::after {align-self: flex-end;width: 50%;}#sk-container-id-1 div.sk-parallel-item:last-child::after {align-self: flex-start;width: 50%;}#sk-container-id-1 div.sk-parallel-item:only-child::after {width: 0;}#sk-container-id-1 div.sk-dashed-wrapped {border: 1px dashed gray;margin: 0 0.4em 0.5em 0.4em;box-sizing: border-box;padding-bottom: 0.4em;background-color: white;}#sk-container-id-1 div.sk-label label {font-family: monospace;font-weight: bold;display: inline-block;line-height: 1.2em;}#sk-container-id-1 div.sk-label-container {text-align: center;}#sk-container-id-1 div.sk-container {/* jupyter's `normalize.less` sets `[hidden] { display: none; }` but bootstrap.min.css set `[hidden] { display: none !important; }` so we also need the `!important` here to be able to override the default hidden behavior on the sphinx rendered scikit-learn.org. See: https://github.com/scikit-learn/scikit-learn/issues/21755 */display: inline-block !important;position: relative;}#sk-container-id-1 div.sk-text-repr-fallback {display: none;}</style><div id=\"sk-container-id-1\" class=\"sk-top-container\"><div class=\"sk-text-repr-fallback\"><pre>GridSearchCV(cv=5, estimator=ElasticNet(l1_ratio=1),\n",
       "             param_grid={&#x27;alpha&#x27;: [0.05, 0.1, 0.15, 0.2, 0.25]},\n",
       "             scoring=&#x27;neg_root_mean_squared_error&#x27;, verbose=3)</pre><b>In a Jupyter environment, please rerun this cell to show the HTML representation or trust the notebook. <br />On GitHub, the HTML representation is unable to render, please try loading this page with nbviewer.org.</b></div><div class=\"sk-container\" hidden><div class=\"sk-item sk-dashed-wrapped\"><div class=\"sk-label-container\"><div class=\"sk-label sk-toggleable\"><input class=\"sk-toggleable__control sk-hidden--visually\" id=\"sk-estimator-id-1\" type=\"checkbox\" ><label for=\"sk-estimator-id-1\" class=\"sk-toggleable__label sk-toggleable__label-arrow\">GridSearchCV</label><div class=\"sk-toggleable__content\"><pre>GridSearchCV(cv=5, estimator=ElasticNet(l1_ratio=1),\n",
       "             param_grid={&#x27;alpha&#x27;: [0.05, 0.1, 0.15, 0.2, 0.25]},\n",
       "             scoring=&#x27;neg_root_mean_squared_error&#x27;, verbose=3)</pre></div></div></div><div class=\"sk-parallel\"><div class=\"sk-parallel-item\"><div class=\"sk-item\"><div class=\"sk-label-container\"><div class=\"sk-label sk-toggleable\"><input class=\"sk-toggleable__control sk-hidden--visually\" id=\"sk-estimator-id-2\" type=\"checkbox\" ><label for=\"sk-estimator-id-2\" class=\"sk-toggleable__label sk-toggleable__label-arrow\">estimator: ElasticNet</label><div class=\"sk-toggleable__content\"><pre>ElasticNet(l1_ratio=1)</pre></div></div></div><div class=\"sk-serial\"><div class=\"sk-item\"><div class=\"sk-estimator sk-toggleable\"><input class=\"sk-toggleable__control sk-hidden--visually\" id=\"sk-estimator-id-3\" type=\"checkbox\" ><label for=\"sk-estimator-id-3\" class=\"sk-toggleable__label sk-toggleable__label-arrow\">ElasticNet</label><div class=\"sk-toggleable__content\"><pre>ElasticNet(l1_ratio=1)</pre></div></div></div></div></div></div></div></div></div></div>"
      ],
      "text/plain": [
       "GridSearchCV(cv=5, estimator=ElasticNet(l1_ratio=1),\n",
       "             param_grid={'alpha': [0.05, 0.1, 0.15, 0.2, 0.25]},\n",
       "             scoring='neg_root_mean_squared_error', verbose=3)"
      ]
     },
     "execution_count": 58,
     "metadata": {},
     "output_type": "execute_result"
    }
   ],
   "source": [
    "%%time\n",
    "lasso_model_cv.fit(X_scaled, y.ravel())"
   ]
  },
  {
   "cell_type": "code",
   "execution_count": 59,
   "id": "f1335959",
   "metadata": {},
   "outputs": [
    {
     "data": {
      "text/html": [
       "<style>#sk-container-id-2 {color: black;background-color: white;}#sk-container-id-2 pre{padding: 0;}#sk-container-id-2 div.sk-toggleable {background-color: white;}#sk-container-id-2 label.sk-toggleable__label {cursor: pointer;display: block;width: 100%;margin-bottom: 0;padding: 0.3em;box-sizing: border-box;text-align: center;}#sk-container-id-2 label.sk-toggleable__label-arrow:before {content: \"▸\";float: left;margin-right: 0.25em;color: #696969;}#sk-container-id-2 label.sk-toggleable__label-arrow:hover:before {color: black;}#sk-container-id-2 div.sk-estimator:hover label.sk-toggleable__label-arrow:before {color: black;}#sk-container-id-2 div.sk-toggleable__content {max-height: 0;max-width: 0;overflow: hidden;text-align: left;background-color: #f0f8ff;}#sk-container-id-2 div.sk-toggleable__content pre {margin: 0.2em;color: black;border-radius: 0.25em;background-color: #f0f8ff;}#sk-container-id-2 input.sk-toggleable__control:checked~div.sk-toggleable__content {max-height: 200px;max-width: 100%;overflow: auto;}#sk-container-id-2 input.sk-toggleable__control:checked~label.sk-toggleable__label-arrow:before {content: \"▾\";}#sk-container-id-2 div.sk-estimator input.sk-toggleable__control:checked~label.sk-toggleable__label {background-color: #d4ebff;}#sk-container-id-2 div.sk-label input.sk-toggleable__control:checked~label.sk-toggleable__label {background-color: #d4ebff;}#sk-container-id-2 input.sk-hidden--visually {border: 0;clip: rect(1px 1px 1px 1px);clip: rect(1px, 1px, 1px, 1px);height: 1px;margin: -1px;overflow: hidden;padding: 0;position: absolute;width: 1px;}#sk-container-id-2 div.sk-estimator {font-family: monospace;background-color: #f0f8ff;border: 1px dotted black;border-radius: 0.25em;box-sizing: border-box;margin-bottom: 0.5em;}#sk-container-id-2 div.sk-estimator:hover {background-color: #d4ebff;}#sk-container-id-2 div.sk-parallel-item::after {content: \"\";width: 100%;border-bottom: 1px solid gray;flex-grow: 1;}#sk-container-id-2 div.sk-label:hover label.sk-toggleable__label {background-color: #d4ebff;}#sk-container-id-2 div.sk-serial::before {content: \"\";position: absolute;border-left: 1px solid gray;box-sizing: border-box;top: 0;bottom: 0;left: 50%;z-index: 0;}#sk-container-id-2 div.sk-serial {display: flex;flex-direction: column;align-items: center;background-color: white;padding-right: 0.2em;padding-left: 0.2em;position: relative;}#sk-container-id-2 div.sk-item {position: relative;z-index: 1;}#sk-container-id-2 div.sk-parallel {display: flex;align-items: stretch;justify-content: center;background-color: white;position: relative;}#sk-container-id-2 div.sk-item::before, #sk-container-id-2 div.sk-parallel-item::before {content: \"\";position: absolute;border-left: 1px solid gray;box-sizing: border-box;top: 0;bottom: 0;left: 50%;z-index: -1;}#sk-container-id-2 div.sk-parallel-item {display: flex;flex-direction: column;z-index: 1;position: relative;background-color: white;}#sk-container-id-2 div.sk-parallel-item:first-child::after {align-self: flex-end;width: 50%;}#sk-container-id-2 div.sk-parallel-item:last-child::after {align-self: flex-start;width: 50%;}#sk-container-id-2 div.sk-parallel-item:only-child::after {width: 0;}#sk-container-id-2 div.sk-dashed-wrapped {border: 1px dashed gray;margin: 0 0.4em 0.5em 0.4em;box-sizing: border-box;padding-bottom: 0.4em;background-color: white;}#sk-container-id-2 div.sk-label label {font-family: monospace;font-weight: bold;display: inline-block;line-height: 1.2em;}#sk-container-id-2 div.sk-label-container {text-align: center;}#sk-container-id-2 div.sk-container {/* jupyter's `normalize.less` sets `[hidden] { display: none; }` but bootstrap.min.css set `[hidden] { display: none !important; }` so we also need the `!important` here to be able to override the default hidden behavior on the sphinx rendered scikit-learn.org. See: https://github.com/scikit-learn/scikit-learn/issues/21755 */display: inline-block !important;position: relative;}#sk-container-id-2 div.sk-text-repr-fallback {display: none;}</style><div id=\"sk-container-id-2\" class=\"sk-top-container\"><div class=\"sk-text-repr-fallback\"><pre>ElasticNet(alpha=0.1, l1_ratio=1)</pre><b>In a Jupyter environment, please rerun this cell to show the HTML representation or trust the notebook. <br />On GitHub, the HTML representation is unable to render, please try loading this page with nbviewer.org.</b></div><div class=\"sk-container\" hidden><div class=\"sk-item\"><div class=\"sk-estimator sk-toggleable\"><input class=\"sk-toggleable__control sk-hidden--visually\" id=\"sk-estimator-id-4\" type=\"checkbox\" checked><label for=\"sk-estimator-id-4\" class=\"sk-toggleable__label sk-toggleable__label-arrow\">ElasticNet</label><div class=\"sk-toggleable__content\"><pre>ElasticNet(alpha=0.1, l1_ratio=1)</pre></div></div></div></div></div>"
      ],
      "text/plain": [
       "ElasticNet(alpha=0.1, l1_ratio=1)"
      ]
     },
     "execution_count": 59,
     "metadata": {},
     "output_type": "execute_result"
    }
   ],
   "source": [
    "lasso_model_cv.best_estimator_"
   ]
  },
  {
   "cell_type": "code",
   "execution_count": 60,
   "id": "9c66aa75",
   "metadata": {},
   "outputs": [
    {
     "data": {
      "text/plain": [
       "101.3770113309149"
      ]
     },
     "execution_count": 60,
     "metadata": {},
     "output_type": "execute_result"
    }
   ],
   "source": [
    "lasso_rmse = pd.DataFrame(lasso_model_cv.cv_results_).loc[\n",
    "    lambda x: x.param_alpha == lasso_model_cv.best_estimator_.alpha\n",
    "].mean_test_score.values[0] * -1\n",
    "lasso_rmse"
   ]
  },
  {
   "cell_type": "markdown",
   "id": "d5999523",
   "metadata": {},
   "source": [
    "## Random forest\n"
   ]
  },
  {
   "cell_type": "code",
   "execution_count": 61,
   "id": "12868bc7",
   "metadata": {},
   "outputs": [],
   "source": [
    "from sklearn.ensemble import RandomForestRegressor\n",
    "from sklearn.model_selection import GridSearchCV\n",
    "from sklearn.model_selection import RandomizedSearchCV\n",
    "from sklearn.impute import SimpleImputer\n",
    "from sklearn.inspection import permutation_importance\n",
    "from sklearn.inspection import PartialDependenceDisplay\n",
    "from sklearn.inspection import partial_dependence\n",
    "from sklearn.compose import ColumnTransformer\n",
    "from sklearn.pipeline import Pipeline\n",
    "from sklearn.preprocessing import OneHotEncoder, StandardScaler\n",
    "from sklearn.metrics import mean_squared_error\n",
    "import math\n"
   ]
  },
  {
   "cell_type": "code",
   "execution_count": 62,
   "id": "1a8446d5",
   "metadata": {},
   "outputs": [],
   "source": [
    "y, X = dmatrices(\"price ~ \" + \" + \".join(predictors), data = data_work)"
   ]
  },
  {
   "cell_type": "code",
   "execution_count": 63,
   "id": "d9b7630c",
   "metadata": {},
   "outputs": [
    {
     "data": {
      "text/plain": [
       "['Intercept',\n",
       " 'room_type[T.Hotel room]',\n",
       " 'room_type[T.Private room]',\n",
       " 'room_type[T.Shared room]',\n",
       " 'host_is_superhost[T.f]',\n",
       " 'host_is_superhost[T.t]',\n",
       " 'host_has_profile_pic[T.t]',\n",
       " 'host_identity_verified[T.t]',\n",
       " 'n_accommodates',\n",
       " 'n_beds',\n",
       " 'n_days_since',\n",
       " 'flag_days_since',\n",
       " 'f_bathroom',\n",
       " 'distance',\n",
       " 'f_number_of_reviews',\n",
       " 'n_review_scores_rating',\n",
       " 'flag_review_scores_rating',\n",
       " 'host_acceptance_rate',\n",
       " 'n_minimum_nights',\n",
       " 'maximum_nights',\n",
       " 'Laundry',\n",
       " 'Essentials',\n",
       " 'Heating_Cooling',\n",
       " 'Kitchen',\n",
       " 'Outdoor',\n",
       " 'Workspace',\n",
       " 'Entertainment',\n",
       " 'Luxury',\n",
       " 'Internet',\n",
       " 'Parking',\n",
       " 'Family',\n",
       " 'n_accommodates2',\n",
       " 'n_days_since2',\n",
       " 'n_days_since3']"
      ]
     },
     "execution_count": 63,
     "metadata": {},
     "output_type": "execute_result"
    }
   ],
   "source": [
    "X.design_info.column_names"
   ]
  },
  {
   "cell_type": "code",
   "execution_count": 64,
   "id": "ff701cfd",
   "metadata": {},
   "outputs": [
    {
     "name": "stdout",
     "output_type": "stream",
     "text": [
      "The theoretical recommended number of variables: 5.83.\n"
     ]
    }
   ],
   "source": [
    "print('The theoretical recommended number of variables: {:.2f}.'.format(math.sqrt(len(X.design_info.column_names))))"
   ]
  },
  {
   "cell_type": "code",
   "execution_count": 65,
   "id": "5cf834b9",
   "metadata": {},
   "outputs": [],
   "source": [
    "rfr = RandomForestRegressor(random_state = 20020203)"
   ]
  },
  {
   "cell_type": "code",
   "execution_count": 66,
   "id": "2400d8d7",
   "metadata": {},
   "outputs": [],
   "source": [
    "tune_grid = {\"max_features\": [2, 4, 6, 8], \"min_samples_leaf\": [5, 10, 15]}"
   ]
  },
  {
   "cell_type": "code",
   "execution_count": 67,
   "id": "43eef1c6",
   "metadata": {},
   "outputs": [],
   "source": [
    "rf_random = GridSearchCV(\n",
    "    estimator = rfr,\n",
    "    param_grid = tune_grid,\n",
    "    cv = 5,\n",
    "    scoring = \"neg_root_mean_squared_error\",\n",
    "    verbose = 3,\n",
    ")"
   ]
  },
  {
   "cell_type": "code",
   "execution_count": 68,
   "id": "a806d2ae",
   "metadata": {},
   "outputs": [
    {
     "name": "stdout",
     "output_type": "stream",
     "text": [
      "Fitting 5 folds for each of 12 candidates, totalling 60 fits\n",
      "[CV 1/5] END max_features=2, min_samples_leaf=5;, score=-87.795 total time=   0.7s\n",
      "[CV 2/5] END max_features=2, min_samples_leaf=5;, score=-94.266 total time=   0.7s\n",
      "[CV 3/5] END max_features=2, min_samples_leaf=5;, score=-93.796 total time=   0.6s\n",
      "[CV 4/5] END max_features=2, min_samples_leaf=5;, score=-94.976 total time=   0.6s\n",
      "[CV 5/5] END max_features=2, min_samples_leaf=5;, score=-92.020 total time=   0.6s\n",
      "[CV 1/5] END max_features=2, min_samples_leaf=10;, score=-90.999 total time=   0.5s\n",
      "[CV 2/5] END max_features=2, min_samples_leaf=10;, score=-98.881 total time=   0.6s\n",
      "[CV 3/5] END max_features=2, min_samples_leaf=10;, score=-97.061 total time=   0.5s\n",
      "[CV 4/5] END max_features=2, min_samples_leaf=10;, score=-98.658 total time=   0.6s\n",
      "[CV 5/5] END max_features=2, min_samples_leaf=10;, score=-95.444 total time=   0.5s\n",
      "[CV 1/5] END max_features=2, min_samples_leaf=15;, score=-94.693 total time=   0.5s\n",
      "[CV 2/5] END max_features=2, min_samples_leaf=15;, score=-100.922 total time=   0.5s\n",
      "[CV 3/5] END max_features=2, min_samples_leaf=15;, score=-100.095 total time=   0.5s\n",
      "[CV 4/5] END max_features=2, min_samples_leaf=15;, score=-101.037 total time=   0.5s\n",
      "[CV 5/5] END max_features=2, min_samples_leaf=15;, score=-97.583 total time=   0.5s\n",
      "[CV 1/5] END max_features=4, min_samples_leaf=5;, score=-80.936 total time=   1.1s\n",
      "[CV 2/5] END max_features=4, min_samples_leaf=5;, score=-87.704 total time=   1.1s\n",
      "[CV 3/5] END max_features=4, min_samples_leaf=5;, score=-87.212 total time=   1.5s\n",
      "[CV 4/5] END max_features=4, min_samples_leaf=5;, score=-87.727 total time=   1.7s\n",
      "[CV 5/5] END max_features=4, min_samples_leaf=5;, score=-85.262 total time=   1.1s\n",
      "[CV 1/5] END max_features=4, min_samples_leaf=10;, score=-84.455 total time=   0.9s\n",
      "[CV 2/5] END max_features=4, min_samples_leaf=10;, score=-91.030 total time=   0.9s\n",
      "[CV 3/5] END max_features=4, min_samples_leaf=10;, score=-90.972 total time=   0.9s\n",
      "[CV 4/5] END max_features=4, min_samples_leaf=10;, score=-91.125 total time=   1.0s\n",
      "[CV 5/5] END max_features=4, min_samples_leaf=10;, score=-88.605 total time=   1.1s\n",
      "[CV 1/5] END max_features=4, min_samples_leaf=15;, score=-85.672 total time=   1.0s\n",
      "[CV 2/5] END max_features=4, min_samples_leaf=15;, score=-93.537 total time=   1.5s\n",
      "[CV 3/5] END max_features=4, min_samples_leaf=15;, score=-92.247 total time=   1.0s\n",
      "[CV 4/5] END max_features=4, min_samples_leaf=15;, score=-93.012 total time=   0.9s\n",
      "[CV 5/5] END max_features=4, min_samples_leaf=15;, score=-90.761 total time=   1.0s\n",
      "[CV 1/5] END max_features=6, min_samples_leaf=5;, score=-78.711 total time=   1.6s\n",
      "[CV 2/5] END max_features=6, min_samples_leaf=5;, score=-85.161 total time=   1.6s\n",
      "[CV 3/5] END max_features=6, min_samples_leaf=5;, score=-85.243 total time=   1.6s\n",
      "[CV 4/5] END max_features=6, min_samples_leaf=5;, score=-85.433 total time=   1.5s\n",
      "[CV 5/5] END max_features=6, min_samples_leaf=5;, score=-83.058 total time=   1.6s\n",
      "[CV 1/5] END max_features=6, min_samples_leaf=10;, score=-81.464 total time=   1.3s\n",
      "[CV 2/5] END max_features=6, min_samples_leaf=10;, score=-89.088 total time=   1.4s\n",
      "[CV 3/5] END max_features=6, min_samples_leaf=10;, score=-88.441 total time=   1.4s\n",
      "[CV 4/5] END max_features=6, min_samples_leaf=10;, score=-88.656 total time=   1.5s\n",
      "[CV 5/5] END max_features=6, min_samples_leaf=10;, score=-86.457 total time=   1.7s\n",
      "[CV 1/5] END max_features=6, min_samples_leaf=15;, score=-83.493 total time=   1.3s\n",
      "[CV 2/5] END max_features=6, min_samples_leaf=15;, score=-91.068 total time=   1.9s\n",
      "[CV 3/5] END max_features=6, min_samples_leaf=15;, score=-90.158 total time=   2.1s\n",
      "[CV 4/5] END max_features=6, min_samples_leaf=15;, score=-90.603 total time=   1.8s\n",
      "[CV 5/5] END max_features=6, min_samples_leaf=15;, score=-87.922 total time=   2.5s\n",
      "[CV 1/5] END max_features=8, min_samples_leaf=5;, score=-77.753 total time=   2.5s\n",
      "[CV 2/5] END max_features=8, min_samples_leaf=5;, score=-84.240 total time=   2.6s\n",
      "[CV 3/5] END max_features=8, min_samples_leaf=5;, score=-84.326 total time=   1.9s\n",
      "[CV 4/5] END max_features=8, min_samples_leaf=5;, score=-85.147 total time=   1.9s\n",
      "[CV 5/5] END max_features=8, min_samples_leaf=5;, score=-82.004 total time=   1.8s\n",
      "[CV 1/5] END max_features=8, min_samples_leaf=10;, score=-80.578 total time=   1.5s\n",
      "[CV 2/5] END max_features=8, min_samples_leaf=10;, score=-87.673 total time=   1.5s\n",
      "[CV 3/5] END max_features=8, min_samples_leaf=10;, score=-87.103 total time=   1.6s\n",
      "[CV 4/5] END max_features=8, min_samples_leaf=10;, score=-87.538 total time=   1.5s\n",
      "[CV 5/5] END max_features=8, min_samples_leaf=10;, score=-85.011 total time=   1.4s\n",
      "[CV 1/5] END max_features=8, min_samples_leaf=15;, score=-82.201 total time=   1.3s\n",
      "[CV 2/5] END max_features=8, min_samples_leaf=15;, score=-89.654 total time=   1.3s\n",
      "[CV 3/5] END max_features=8, min_samples_leaf=15;, score=-88.954 total time=   1.4s\n",
      "[CV 4/5] END max_features=8, min_samples_leaf=15;, score=-89.340 total time=   1.4s\n",
      "[CV 5/5] END max_features=8, min_samples_leaf=15;, score=-86.820 total time=   1.4s\n",
      "CPU times: total: 1min 22s\n",
      "Wall time: 1min 23s\n"
     ]
    }
   ],
   "source": [
    "%%time\n",
    "rf_model = rf_random.fit(X, y.ravel())"
   ]
  },
  {
   "cell_type": "code",
   "execution_count": 69,
   "id": "f1b210dc",
   "metadata": {},
   "outputs": [
    {
     "data": {
      "text/plain": [
       "{'mean_fit_time': array([0.71954198, 0.61513672, 0.56918049, 1.34896502, 1.02961121,\n",
       "        1.15555425, 1.63483753, 1.49619784, 1.95010157, 2.21078787,\n",
       "        1.58208694, 1.4003377 ]),\n",
       " 'std_fit_time': array([0.02424773, 0.03098822, 0.01933812, 0.26502639, 0.06874223,\n",
       "        0.2221648 , 0.04220525, 0.13943765, 0.38371502, 0.31095254,\n",
       "        0.04648117, 0.0394739 ]),\n",
       " 'mean_score_time': array([0.03448944, 0.03161674, 0.02964377, 0.04442654, 0.03604784,\n",
       "        0.03872738, 0.04299164, 0.04316983, 0.0726954 , 0.04885898,\n",
       "        0.03620176, 0.03220801]),\n",
       " 'std_score_time': array([0.00121795, 0.00220772, 0.00132064, 0.00753372, 0.00079721,\n",
       "        0.00380578, 0.00272997, 0.00399395, 0.03553517, 0.01262625,\n",
       "        0.00120205, 0.00284316]),\n",
       " 'param_max_features': masked_array(data=[2, 2, 2, 4, 4, 4, 6, 6, 6, 8, 8, 8],\n",
       "              mask=[False, False, False, False, False, False, False, False,\n",
       "                    False, False, False, False],\n",
       "        fill_value='?',\n",
       "             dtype=object),\n",
       " 'param_min_samples_leaf': masked_array(data=[5, 10, 15, 5, 10, 15, 5, 10, 15, 5, 10, 15],\n",
       "              mask=[False, False, False, False, False, False, False, False,\n",
       "                    False, False, False, False],\n",
       "        fill_value='?',\n",
       "             dtype=object),\n",
       " 'params': [{'max_features': 2, 'min_samples_leaf': 5},\n",
       "  {'max_features': 2, 'min_samples_leaf': 10},\n",
       "  {'max_features': 2, 'min_samples_leaf': 15},\n",
       "  {'max_features': 4, 'min_samples_leaf': 5},\n",
       "  {'max_features': 4, 'min_samples_leaf': 10},\n",
       "  {'max_features': 4, 'min_samples_leaf': 15},\n",
       "  {'max_features': 6, 'min_samples_leaf': 5},\n",
       "  {'max_features': 6, 'min_samples_leaf': 10},\n",
       "  {'max_features': 6, 'min_samples_leaf': 15},\n",
       "  {'max_features': 8, 'min_samples_leaf': 5},\n",
       "  {'max_features': 8, 'min_samples_leaf': 10},\n",
       "  {'max_features': 8, 'min_samples_leaf': 15}],\n",
       " 'split0_test_score': array([-87.79534104, -90.99857622, -94.6929124 , -80.93609618,\n",
       "        -84.45462982, -85.67214687, -78.71078178, -81.46359621,\n",
       "        -83.49338256, -77.75336736, -80.57819526, -82.20120841]),\n",
       " 'split1_test_score': array([ -94.26604888,  -98.88132117, -100.921524  ,  -87.70399242,\n",
       "         -91.03011377,  -93.53697002,  -85.16148559,  -89.08838085,\n",
       "         -91.06760536,  -84.24041324,  -87.67276444,  -89.65396385]),\n",
       " 'split2_test_score': array([ -93.79565816,  -97.06107484, -100.09462565,  -87.21160251,\n",
       "         -90.97245574,  -92.24715972,  -85.24325289,  -88.44066733,\n",
       "         -90.15796092,  -84.3259632 ,  -87.10277066,  -88.95396849]),\n",
       " 'split3_test_score': array([ -94.97551534,  -98.65808052, -101.0366153 ,  -87.72701446,\n",
       "         -91.12517476,  -93.01238382,  -85.4325305 ,  -88.65636918,\n",
       "         -90.60343683,  -85.14652503,  -87.53804814,  -89.34048508]),\n",
       " 'split4_test_score': array([-92.0197456 , -95.44358649, -97.58308065, -85.26209598,\n",
       "        -88.60505257, -90.76144726, -83.05787611, -86.45669671,\n",
       "        -87.92223134, -82.00384732, -85.01095187, -86.82042367]),\n",
       " 'mean_test_score': array([-92.5704618 , -96.20852785, -98.8657516 , -85.76816031,\n",
       "        -89.23748533, -91.04602154, -83.52118537, -86.82114206,\n",
       "        -88.6489234 , -82.69402323, -85.58054607, -87.3940099 ]),\n",
       " 'std_test_score': array([2.57935925, 2.88443062, 2.42927201, 2.57965214, 2.5714855 ,\n",
       "        2.84512388, 2.55593348, 2.82727467, 2.79481742, 2.68163153,\n",
       "        2.67859332, 2.77934585]),\n",
       " 'rank_test_score': array([10, 11, 12,  4,  8,  9,  2,  5,  7,  1,  3,  6])}"
      ]
     },
     "execution_count": 69,
     "metadata": {},
     "output_type": "execute_result"
    }
   ],
   "source": [
    "rf_model.cv_results_"
   ]
  },
  {
   "cell_type": "code",
   "execution_count": 70,
   "id": "ba0587c9",
   "metadata": {},
   "outputs": [],
   "source": [
    "df_rf_model_cv_results = pd.DataFrame(rf_model.cv_results_)[[\n",
    "    'param_max_features', 'param_min_samples_leaf', 'mean_test_score']]"
   ]
  },
  {
   "cell_type": "code",
   "execution_count": 71,
   "id": "15833c5d",
   "metadata": {},
   "outputs": [
    {
     "data": {
      "text/html": [
       "<div>\n",
       "<style scoped>\n",
       "    .dataframe tbody tr th:only-of-type {\n",
       "        vertical-align: middle;\n",
       "    }\n",
       "\n",
       "    .dataframe tbody tr th {\n",
       "        vertical-align: top;\n",
       "    }\n",
       "\n",
       "    .dataframe thead th {\n",
       "        text-align: right;\n",
       "    }\n",
       "</style>\n",
       "<table border=\"1\" class=\"dataframe\">\n",
       "  <thead>\n",
       "    <tr style=\"text-align: right;\">\n",
       "      <th></th>\n",
       "      <th>max features</th>\n",
       "      <th>min node size</th>\n",
       "      <th>RMSE</th>\n",
       "    </tr>\n",
       "  </thead>\n",
       "  <tbody>\n",
       "    <tr>\n",
       "      <th>0</th>\n",
       "      <td>2</td>\n",
       "      <td>5</td>\n",
       "      <td>-92.570462</td>\n",
       "    </tr>\n",
       "    <tr>\n",
       "      <th>1</th>\n",
       "      <td>2</td>\n",
       "      <td>10</td>\n",
       "      <td>-96.208528</td>\n",
       "    </tr>\n",
       "    <tr>\n",
       "      <th>2</th>\n",
       "      <td>2</td>\n",
       "      <td>15</td>\n",
       "      <td>-98.865752</td>\n",
       "    </tr>\n",
       "    <tr>\n",
       "      <th>3</th>\n",
       "      <td>4</td>\n",
       "      <td>5</td>\n",
       "      <td>-85.768160</td>\n",
       "    </tr>\n",
       "    <tr>\n",
       "      <th>4</th>\n",
       "      <td>4</td>\n",
       "      <td>10</td>\n",
       "      <td>-89.237485</td>\n",
       "    </tr>\n",
       "    <tr>\n",
       "      <th>5</th>\n",
       "      <td>4</td>\n",
       "      <td>15</td>\n",
       "      <td>-91.046022</td>\n",
       "    </tr>\n",
       "    <tr>\n",
       "      <th>6</th>\n",
       "      <td>6</td>\n",
       "      <td>5</td>\n",
       "      <td>-83.521185</td>\n",
       "    </tr>\n",
       "    <tr>\n",
       "      <th>7</th>\n",
       "      <td>6</td>\n",
       "      <td>10</td>\n",
       "      <td>-86.821142</td>\n",
       "    </tr>\n",
       "    <tr>\n",
       "      <th>8</th>\n",
       "      <td>6</td>\n",
       "      <td>15</td>\n",
       "      <td>-88.648923</td>\n",
       "    </tr>\n",
       "    <tr>\n",
       "      <th>9</th>\n",
       "      <td>8</td>\n",
       "      <td>5</td>\n",
       "      <td>-82.694023</td>\n",
       "    </tr>\n",
       "    <tr>\n",
       "      <th>10</th>\n",
       "      <td>8</td>\n",
       "      <td>10</td>\n",
       "      <td>-85.580546</td>\n",
       "    </tr>\n",
       "    <tr>\n",
       "      <th>11</th>\n",
       "      <td>8</td>\n",
       "      <td>15</td>\n",
       "      <td>-87.394010</td>\n",
       "    </tr>\n",
       "  </tbody>\n",
       "</table>\n",
       "</div>"
      ],
      "text/plain": [
       "   max features min node size       RMSE\n",
       "0             2             5 -92.570462\n",
       "1             2            10 -96.208528\n",
       "2             2            15 -98.865752\n",
       "3             4             5 -85.768160\n",
       "4             4            10 -89.237485\n",
       "5             4            15 -91.046022\n",
       "6             6             5 -83.521185\n",
       "7             6            10 -86.821142\n",
       "8             6            15 -88.648923\n",
       "9             8             5 -82.694023\n",
       "10            8            10 -85.580546\n",
       "11            8            15 -87.394010"
      ]
     },
     "execution_count": 71,
     "metadata": {},
     "output_type": "execute_result"
    }
   ],
   "source": [
    "df_rf_model_cv_results.columns = ['max features', 'min node size', 'RMSE']\n",
    "df_rf_model_cv_results"
   ]
  },
  {
   "cell_type": "code",
   "execution_count": 72,
   "id": "fb7bf625",
   "metadata": {},
   "outputs": [
    {
     "data": {
      "text/html": [
       "<div>\n",
       "<style scoped>\n",
       "    .dataframe tbody tr th:only-of-type {\n",
       "        vertical-align: middle;\n",
       "    }\n",
       "\n",
       "    .dataframe tbody tr th {\n",
       "        vertical-align: top;\n",
       "    }\n",
       "\n",
       "    .dataframe thead th {\n",
       "        text-align: right;\n",
       "    }\n",
       "</style>\n",
       "<table border=\"1\" class=\"dataframe\">\n",
       "  <thead>\n",
       "    <tr style=\"text-align: right;\">\n",
       "      <th>min node size</th>\n",
       "      <th>5</th>\n",
       "      <th>10</th>\n",
       "      <th>15</th>\n",
       "    </tr>\n",
       "    <tr>\n",
       "      <th>max features</th>\n",
       "      <th></th>\n",
       "      <th></th>\n",
       "      <th></th>\n",
       "    </tr>\n",
       "  </thead>\n",
       "  <tbody>\n",
       "    <tr>\n",
       "      <th>2</th>\n",
       "      <td>92.57</td>\n",
       "      <td>96.21</td>\n",
       "      <td>98.87</td>\n",
       "    </tr>\n",
       "    <tr>\n",
       "      <th>4</th>\n",
       "      <td>85.77</td>\n",
       "      <td>89.24</td>\n",
       "      <td>91.05</td>\n",
       "    </tr>\n",
       "    <tr>\n",
       "      <th>6</th>\n",
       "      <td>83.52</td>\n",
       "      <td>86.82</td>\n",
       "      <td>88.65</td>\n",
       "    </tr>\n",
       "    <tr>\n",
       "      <th>8</th>\n",
       "      <td>82.69</td>\n",
       "      <td>85.58</td>\n",
       "      <td>87.39</td>\n",
       "    </tr>\n",
       "  </tbody>\n",
       "</table>\n",
       "</div>"
      ],
      "text/plain": [
       "min node size     5      10     15\n",
       "max features                      \n",
       "2              92.57  96.21  98.87\n",
       "4              85.77  89.24  91.05\n",
       "6              83.52  86.82  88.65\n",
       "8              82.69  85.58  87.39"
      ]
     },
     "execution_count": 72,
     "metadata": {},
     "output_type": "execute_result"
    }
   ],
   "source": [
    "df_rf_model_cv_results.pivot(\n",
    "    index = 'max features', \n",
    "    columns = 'min node size', \n",
    "    values = 'RMSE').round(2)*-1\n"
   ]
  },
  {
   "cell_type": "code",
   "execution_count": 73,
   "id": "806b8456",
   "metadata": {},
   "outputs": [
    {
     "data": {
      "text/plain": [
       "-82.6940232310474"
      ]
     },
     "execution_count": 73,
     "metadata": {},
     "output_type": "execute_result"
    }
   ],
   "source": [
    "rf_model.best_score_"
   ]
  },
  {
   "cell_type": "code",
   "execution_count": 74,
   "id": "5654b6fd",
   "metadata": {},
   "outputs": [
    {
     "data": {
      "text/html": [
       "<style>#sk-container-id-3 {color: black;background-color: white;}#sk-container-id-3 pre{padding: 0;}#sk-container-id-3 div.sk-toggleable {background-color: white;}#sk-container-id-3 label.sk-toggleable__label {cursor: pointer;display: block;width: 100%;margin-bottom: 0;padding: 0.3em;box-sizing: border-box;text-align: center;}#sk-container-id-3 label.sk-toggleable__label-arrow:before {content: \"▸\";float: left;margin-right: 0.25em;color: #696969;}#sk-container-id-3 label.sk-toggleable__label-arrow:hover:before {color: black;}#sk-container-id-3 div.sk-estimator:hover label.sk-toggleable__label-arrow:before {color: black;}#sk-container-id-3 div.sk-toggleable__content {max-height: 0;max-width: 0;overflow: hidden;text-align: left;background-color: #f0f8ff;}#sk-container-id-3 div.sk-toggleable__content pre {margin: 0.2em;color: black;border-radius: 0.25em;background-color: #f0f8ff;}#sk-container-id-3 input.sk-toggleable__control:checked~div.sk-toggleable__content {max-height: 200px;max-width: 100%;overflow: auto;}#sk-container-id-3 input.sk-toggleable__control:checked~label.sk-toggleable__label-arrow:before {content: \"▾\";}#sk-container-id-3 div.sk-estimator input.sk-toggleable__control:checked~label.sk-toggleable__label {background-color: #d4ebff;}#sk-container-id-3 div.sk-label input.sk-toggleable__control:checked~label.sk-toggleable__label {background-color: #d4ebff;}#sk-container-id-3 input.sk-hidden--visually {border: 0;clip: rect(1px 1px 1px 1px);clip: rect(1px, 1px, 1px, 1px);height: 1px;margin: -1px;overflow: hidden;padding: 0;position: absolute;width: 1px;}#sk-container-id-3 div.sk-estimator {font-family: monospace;background-color: #f0f8ff;border: 1px dotted black;border-radius: 0.25em;box-sizing: border-box;margin-bottom: 0.5em;}#sk-container-id-3 div.sk-estimator:hover {background-color: #d4ebff;}#sk-container-id-3 div.sk-parallel-item::after {content: \"\";width: 100%;border-bottom: 1px solid gray;flex-grow: 1;}#sk-container-id-3 div.sk-label:hover label.sk-toggleable__label {background-color: #d4ebff;}#sk-container-id-3 div.sk-serial::before {content: \"\";position: absolute;border-left: 1px solid gray;box-sizing: border-box;top: 0;bottom: 0;left: 50%;z-index: 0;}#sk-container-id-3 div.sk-serial {display: flex;flex-direction: column;align-items: center;background-color: white;padding-right: 0.2em;padding-left: 0.2em;position: relative;}#sk-container-id-3 div.sk-item {position: relative;z-index: 1;}#sk-container-id-3 div.sk-parallel {display: flex;align-items: stretch;justify-content: center;background-color: white;position: relative;}#sk-container-id-3 div.sk-item::before, #sk-container-id-3 div.sk-parallel-item::before {content: \"\";position: absolute;border-left: 1px solid gray;box-sizing: border-box;top: 0;bottom: 0;left: 50%;z-index: -1;}#sk-container-id-3 div.sk-parallel-item {display: flex;flex-direction: column;z-index: 1;position: relative;background-color: white;}#sk-container-id-3 div.sk-parallel-item:first-child::after {align-self: flex-end;width: 50%;}#sk-container-id-3 div.sk-parallel-item:last-child::after {align-self: flex-start;width: 50%;}#sk-container-id-3 div.sk-parallel-item:only-child::after {width: 0;}#sk-container-id-3 div.sk-dashed-wrapped {border: 1px dashed gray;margin: 0 0.4em 0.5em 0.4em;box-sizing: border-box;padding-bottom: 0.4em;background-color: white;}#sk-container-id-3 div.sk-label label {font-family: monospace;font-weight: bold;display: inline-block;line-height: 1.2em;}#sk-container-id-3 div.sk-label-container {text-align: center;}#sk-container-id-3 div.sk-container {/* jupyter's `normalize.less` sets `[hidden] { display: none; }` but bootstrap.min.css set `[hidden] { display: none !important; }` so we also need the `!important` here to be able to override the default hidden behavior on the sphinx rendered scikit-learn.org. See: https://github.com/scikit-learn/scikit-learn/issues/21755 */display: inline-block !important;position: relative;}#sk-container-id-3 div.sk-text-repr-fallback {display: none;}</style><div id=\"sk-container-id-3\" class=\"sk-top-container\"><div class=\"sk-text-repr-fallback\"><pre>RandomForestRegressor(max_features=8, min_samples_leaf=5, random_state=20020203)</pre><b>In a Jupyter environment, please rerun this cell to show the HTML representation or trust the notebook. <br />On GitHub, the HTML representation is unable to render, please try loading this page with nbviewer.org.</b></div><div class=\"sk-container\" hidden><div class=\"sk-item\"><div class=\"sk-estimator sk-toggleable\"><input class=\"sk-toggleable__control sk-hidden--visually\" id=\"sk-estimator-id-5\" type=\"checkbox\" checked><label for=\"sk-estimator-id-5\" class=\"sk-toggleable__label sk-toggleable__label-arrow\">RandomForestRegressor</label><div class=\"sk-toggleable__content\"><pre>RandomForestRegressor(max_features=8, min_samples_leaf=5, random_state=20020203)</pre></div></div></div></div></div>"
      ],
      "text/plain": [
       "RandomForestRegressor(max_features=8, min_samples_leaf=5, random_state=20020203)"
      ]
     },
     "execution_count": 74,
     "metadata": {},
     "output_type": "execute_result"
    }
   ],
   "source": [
    "rf_model.best_estimator_"
   ]
  },
  {
   "cell_type": "code",
   "execution_count": 75,
   "id": "10a5d3cd",
   "metadata": {},
   "outputs": [],
   "source": [
    "y_h, X_h = dmatrices(\"price ~ \" + \" + \".join(predictors), data_holdout)\n",
    "pred = rf_model.predict(X_h)"
   ]
  },
  {
   "cell_type": "code",
   "execution_count": 76,
   "id": "e56208d6",
   "metadata": {},
   "outputs": [
    {
     "data": {
      "text/plain": [
       "81.35155557794923"
      ]
     },
     "execution_count": 76,
     "metadata": {},
     "output_type": "execute_result"
    }
   ],
   "source": [
    "rf_rmse = mean_squared_error(y_h, pred, squared= False)\n",
    "rf_rmse"
   ]
  },
  {
   "cell_type": "code",
   "execution_count": 77,
   "id": "359d0b6c",
   "metadata": {},
   "outputs": [],
   "source": [
    "df_var_imp = pd.DataFrame(\n",
    "    rf_model.best_estimator_.feature_importances_, \n",
    "    X.design_info.column_names)\\\n",
    "    .reset_index()\\\n",
    "    .rename({\"index\": \"variable\", 0: \"imp\"}, axis=1)\\\n",
    "    .sort_values(by=[\"imp\"], ascending=False)\\\n",
    "    .reset_index(drop = True)\n",
    "\n",
    "df_var_imp['cumulative_imp'] = df_var_imp['imp'].cumsum()"
   ]
  },
  {
   "cell_type": "code",
   "execution_count": 78,
   "id": "39c328f7",
   "metadata": {},
   "outputs": [
    {
     "data": {
      "text/html": [
       "<style type=\"text/css\">\n",
       "</style>\n",
       "<table id=\"T_fe9d4\">\n",
       "  <thead>\n",
       "    <tr>\n",
       "      <th class=\"blank level0\" >&nbsp;</th>\n",
       "      <th id=\"T_fe9d4_level0_col0\" class=\"col_heading level0 col0\" >variable</th>\n",
       "      <th id=\"T_fe9d4_level0_col1\" class=\"col_heading level0 col1\" >imp</th>\n",
       "      <th id=\"T_fe9d4_level0_col2\" class=\"col_heading level0 col2\" >cumulative_imp</th>\n",
       "    </tr>\n",
       "  </thead>\n",
       "  <tbody>\n",
       "    <tr>\n",
       "      <th id=\"T_fe9d4_level0_row0\" class=\"row_heading level0 row0\" >0</th>\n",
       "      <td id=\"T_fe9d4_row0_col0\" class=\"data row0 col0\" >n_minimum_nights</td>\n",
       "      <td id=\"T_fe9d4_row0_col1\" class=\"data row0 col1\" >23.3%</td>\n",
       "      <td id=\"T_fe9d4_row0_col2\" class=\"data row0 col2\" >23.3%</td>\n",
       "    </tr>\n",
       "    <tr>\n",
       "      <th id=\"T_fe9d4_level0_row1\" class=\"row_heading level0 row1\" >1</th>\n",
       "      <td id=\"T_fe9d4_row1_col0\" class=\"data row1 col0\" >n_accommodates</td>\n",
       "      <td id=\"T_fe9d4_row1_col1\" class=\"data row1 col1\" >12.1%</td>\n",
       "      <td id=\"T_fe9d4_row1_col2\" class=\"data row1 col2\" >35.4%</td>\n",
       "    </tr>\n",
       "    <tr>\n",
       "      <th id=\"T_fe9d4_level0_row2\" class=\"row_heading level0 row2\" >2</th>\n",
       "      <td id=\"T_fe9d4_row2_col0\" class=\"data row2 col0\" >n_accommodates2</td>\n",
       "      <td id=\"T_fe9d4_row2_col1\" class=\"data row2 col1\" >11.7%</td>\n",
       "      <td id=\"T_fe9d4_row2_col2\" class=\"data row2 col2\" >47.1%</td>\n",
       "    </tr>\n",
       "    <tr>\n",
       "      <th id=\"T_fe9d4_level0_row3\" class=\"row_heading level0 row3\" >3</th>\n",
       "      <td id=\"T_fe9d4_row3_col0\" class=\"data row3 col0\" >distance</td>\n",
       "      <td id=\"T_fe9d4_row3_col1\" class=\"data row3 col1\" >7.0%</td>\n",
       "      <td id=\"T_fe9d4_row3_col2\" class=\"data row3 col2\" >54.1%</td>\n",
       "    </tr>\n",
       "    <tr>\n",
       "      <th id=\"T_fe9d4_level0_row4\" class=\"row_heading level0 row4\" >4</th>\n",
       "      <td id=\"T_fe9d4_row4_col0\" class=\"data row4 col0\" >host_acceptance_rate</td>\n",
       "      <td id=\"T_fe9d4_row4_col1\" class=\"data row4 col1\" >4.7%</td>\n",
       "      <td id=\"T_fe9d4_row4_col2\" class=\"data row4 col2\" >58.9%</td>\n",
       "    </tr>\n",
       "    <tr>\n",
       "      <th id=\"T_fe9d4_level0_row5\" class=\"row_heading level0 row5\" >5</th>\n",
       "      <td id=\"T_fe9d4_row5_col0\" class=\"data row5 col0\" >room_type[T.Private room]</td>\n",
       "      <td id=\"T_fe9d4_row5_col1\" class=\"data row5 col1\" >4.5%</td>\n",
       "      <td id=\"T_fe9d4_row5_col2\" class=\"data row5 col2\" >63.4%</td>\n",
       "    </tr>\n",
       "    <tr>\n",
       "      <th id=\"T_fe9d4_level0_row6\" class=\"row_heading level0 row6\" >6</th>\n",
       "      <td id=\"T_fe9d4_row6_col0\" class=\"data row6 col0\" >Family</td>\n",
       "      <td id=\"T_fe9d4_row6_col1\" class=\"data row6 col1\" >4.0%</td>\n",
       "      <td id=\"T_fe9d4_row6_col2\" class=\"data row6 col2\" >67.4%</td>\n",
       "    </tr>\n",
       "    <tr>\n",
       "      <th id=\"T_fe9d4_level0_row7\" class=\"row_heading level0 row7\" >7</th>\n",
       "      <td id=\"T_fe9d4_row7_col0\" class=\"data row7 col0\" >n_beds</td>\n",
       "      <td id=\"T_fe9d4_row7_col1\" class=\"data row7 col1\" >3.8%</td>\n",
       "      <td id=\"T_fe9d4_row7_col2\" class=\"data row7 col2\" >71.2%</td>\n",
       "    </tr>\n",
       "    <tr>\n",
       "      <th id=\"T_fe9d4_level0_row8\" class=\"row_heading level0 row8\" >8</th>\n",
       "      <td id=\"T_fe9d4_row8_col0\" class=\"data row8 col0\" >n_days_since3</td>\n",
       "      <td id=\"T_fe9d4_row8_col1\" class=\"data row8 col1\" >3.3%</td>\n",
       "      <td id=\"T_fe9d4_row8_col2\" class=\"data row8 col2\" >74.5%</td>\n",
       "    </tr>\n",
       "    <tr>\n",
       "      <th id=\"T_fe9d4_level0_row9\" class=\"row_heading level0 row9\" >9</th>\n",
       "      <td id=\"T_fe9d4_row9_col0\" class=\"data row9 col0\" >n_review_scores_rating</td>\n",
       "      <td id=\"T_fe9d4_row9_col1\" class=\"data row9 col1\" >3.1%</td>\n",
       "      <td id=\"T_fe9d4_row9_col2\" class=\"data row9 col2\" >77.7%</td>\n",
       "    </tr>\n",
       "    <tr>\n",
       "      <th id=\"T_fe9d4_level0_row10\" class=\"row_heading level0 row10\" >10</th>\n",
       "      <td id=\"T_fe9d4_row10_col0\" class=\"data row10 col0\" >n_days_since</td>\n",
       "      <td id=\"T_fe9d4_row10_col1\" class=\"data row10 col1\" >3.1%</td>\n",
       "      <td id=\"T_fe9d4_row10_col2\" class=\"data row10 col2\" >80.8%</td>\n",
       "    </tr>\n",
       "    <tr>\n",
       "      <th id=\"T_fe9d4_level0_row11\" class=\"row_heading level0 row11\" >11</th>\n",
       "      <td id=\"T_fe9d4_row11_col0\" class=\"data row11 col0\" >n_days_since2</td>\n",
       "      <td id=\"T_fe9d4_row11_col1\" class=\"data row11 col1\" >2.9%</td>\n",
       "      <td id=\"T_fe9d4_row11_col2\" class=\"data row11 col2\" >83.7%</td>\n",
       "    </tr>\n",
       "    <tr>\n",
       "      <th id=\"T_fe9d4_level0_row12\" class=\"row_heading level0 row12\" >12</th>\n",
       "      <td id=\"T_fe9d4_row12_col0\" class=\"data row12 col0\" >f_bathroom</td>\n",
       "      <td id=\"T_fe9d4_row12_col1\" class=\"data row12 col1\" >2.8%</td>\n",
       "      <td id=\"T_fe9d4_row12_col2\" class=\"data row12 col2\" >86.5%</td>\n",
       "    </tr>\n",
       "    <tr>\n",
       "      <th id=\"T_fe9d4_level0_row13\" class=\"row_heading level0 row13\" >13</th>\n",
       "      <td id=\"T_fe9d4_row13_col0\" class=\"data row13 col0\" >maximum_nights</td>\n",
       "      <td id=\"T_fe9d4_row13_col1\" class=\"data row13 col1\" >1.9%</td>\n",
       "      <td id=\"T_fe9d4_row13_col2\" class=\"data row13 col2\" >88.4%</td>\n",
       "    </tr>\n",
       "    <tr>\n",
       "      <th id=\"T_fe9d4_level0_row14\" class=\"row_heading level0 row14\" >14</th>\n",
       "      <td id=\"T_fe9d4_row14_col0\" class=\"data row14 col0\" >Entertainment</td>\n",
       "      <td id=\"T_fe9d4_row14_col1\" class=\"data row14 col1\" >1.7%</td>\n",
       "      <td id=\"T_fe9d4_row14_col2\" class=\"data row14 col2\" >90.2%</td>\n",
       "    </tr>\n",
       "    <tr>\n",
       "      <th id=\"T_fe9d4_level0_row15\" class=\"row_heading level0 row15\" >15</th>\n",
       "      <td id=\"T_fe9d4_row15_col0\" class=\"data row15 col0\" >Luxury</td>\n",
       "      <td id=\"T_fe9d4_row15_col1\" class=\"data row15 col1\" >1.5%</td>\n",
       "      <td id=\"T_fe9d4_row15_col2\" class=\"data row15 col2\" >91.6%</td>\n",
       "    </tr>\n",
       "    <tr>\n",
       "      <th id=\"T_fe9d4_level0_row16\" class=\"row_heading level0 row16\" >16</th>\n",
       "      <td id=\"T_fe9d4_row16_col0\" class=\"data row16 col0\" >f_number_of_reviews</td>\n",
       "      <td id=\"T_fe9d4_row16_col1\" class=\"data row16 col1\" >1.4%</td>\n",
       "      <td id=\"T_fe9d4_row16_col2\" class=\"data row16 col2\" >93.0%</td>\n",
       "    </tr>\n",
       "    <tr>\n",
       "      <th id=\"T_fe9d4_level0_row17\" class=\"row_heading level0 row17\" >17</th>\n",
       "      <td id=\"T_fe9d4_row17_col0\" class=\"data row17 col0\" >host_is_superhost[T.t]</td>\n",
       "      <td id=\"T_fe9d4_row17_col1\" class=\"data row17 col1\" >0.8%</td>\n",
       "      <td id=\"T_fe9d4_row17_col2\" class=\"data row17 col2\" >93.8%</td>\n",
       "    </tr>\n",
       "    <tr>\n",
       "      <th id=\"T_fe9d4_level0_row18\" class=\"row_heading level0 row18\" >18</th>\n",
       "      <td id=\"T_fe9d4_row18_col0\" class=\"data row18 col0\" >Workspace</td>\n",
       "      <td id=\"T_fe9d4_row18_col1\" class=\"data row18 col1\" >0.8%</td>\n",
       "      <td id=\"T_fe9d4_row18_col2\" class=\"data row18 col2\" >94.6%</td>\n",
       "    </tr>\n",
       "    <tr>\n",
       "      <th id=\"T_fe9d4_level0_row19\" class=\"row_heading level0 row19\" >19</th>\n",
       "      <td id=\"T_fe9d4_row19_col0\" class=\"data row19 col0\" >host_is_superhost[T.f]</td>\n",
       "      <td id=\"T_fe9d4_row19_col1\" class=\"data row19 col1\" >0.7%</td>\n",
       "      <td id=\"T_fe9d4_row19_col2\" class=\"data row19 col2\" >95.2%</td>\n",
       "    </tr>\n",
       "    <tr>\n",
       "      <th id=\"T_fe9d4_level0_row20\" class=\"row_heading level0 row20\" >20</th>\n",
       "      <td id=\"T_fe9d4_row20_col0\" class=\"data row20 col0\" >flag_review_scores_rating</td>\n",
       "      <td id=\"T_fe9d4_row20_col1\" class=\"data row20 col1\" >0.7%</td>\n",
       "      <td id=\"T_fe9d4_row20_col2\" class=\"data row20 col2\" >95.9%</td>\n",
       "    </tr>\n",
       "    <tr>\n",
       "      <th id=\"T_fe9d4_level0_row21\" class=\"row_heading level0 row21\" >21</th>\n",
       "      <td id=\"T_fe9d4_row21_col0\" class=\"data row21 col0\" >Kitchen</td>\n",
       "      <td id=\"T_fe9d4_row21_col1\" class=\"data row21 col1\" >0.6%</td>\n",
       "      <td id=\"T_fe9d4_row21_col2\" class=\"data row21 col2\" >96.5%</td>\n",
       "    </tr>\n",
       "    <tr>\n",
       "      <th id=\"T_fe9d4_level0_row22\" class=\"row_heading level0 row22\" >22</th>\n",
       "      <td id=\"T_fe9d4_row22_col0\" class=\"data row22 col0\" >Outdoor</td>\n",
       "      <td id=\"T_fe9d4_row22_col1\" class=\"data row22 col1\" >0.6%</td>\n",
       "      <td id=\"T_fe9d4_row22_col2\" class=\"data row22 col2\" >97.1%</td>\n",
       "    </tr>\n",
       "    <tr>\n",
       "      <th id=\"T_fe9d4_level0_row23\" class=\"row_heading level0 row23\" >23</th>\n",
       "      <td id=\"T_fe9d4_row23_col0\" class=\"data row23 col0\" >Parking</td>\n",
       "      <td id=\"T_fe9d4_row23_col1\" class=\"data row23 col1\" >0.6%</td>\n",
       "      <td id=\"T_fe9d4_row23_col2\" class=\"data row23 col2\" >97.7%</td>\n",
       "    </tr>\n",
       "    <tr>\n",
       "      <th id=\"T_fe9d4_level0_row24\" class=\"row_heading level0 row24\" >24</th>\n",
       "      <td id=\"T_fe9d4_row24_col0\" class=\"data row24 col0\" >flag_days_since</td>\n",
       "      <td id=\"T_fe9d4_row24_col1\" class=\"data row24 col1\" >0.6%</td>\n",
       "      <td id=\"T_fe9d4_row24_col2\" class=\"data row24 col2\" >98.3%</td>\n",
       "    </tr>\n",
       "    <tr>\n",
       "      <th id=\"T_fe9d4_level0_row25\" class=\"row_heading level0 row25\" >25</th>\n",
       "      <td id=\"T_fe9d4_row25_col0\" class=\"data row25 col0\" >Essentials</td>\n",
       "      <td id=\"T_fe9d4_row25_col1\" class=\"data row25 col1\" >0.5%</td>\n",
       "      <td id=\"T_fe9d4_row25_col2\" class=\"data row25 col2\" >98.8%</td>\n",
       "    </tr>\n",
       "    <tr>\n",
       "      <th id=\"T_fe9d4_level0_row26\" class=\"row_heading level0 row26\" >26</th>\n",
       "      <td id=\"T_fe9d4_row26_col0\" class=\"data row26 col0\" >Internet</td>\n",
       "      <td id=\"T_fe9d4_row26_col1\" class=\"data row26 col1\" >0.3%</td>\n",
       "      <td id=\"T_fe9d4_row26_col2\" class=\"data row26 col2\" >99.1%</td>\n",
       "    </tr>\n",
       "    <tr>\n",
       "      <th id=\"T_fe9d4_level0_row27\" class=\"row_heading level0 row27\" >27</th>\n",
       "      <td id=\"T_fe9d4_row27_col0\" class=\"data row27 col0\" >Heating_Cooling</td>\n",
       "      <td id=\"T_fe9d4_row27_col1\" class=\"data row27 col1\" >0.3%</td>\n",
       "      <td id=\"T_fe9d4_row27_col2\" class=\"data row27 col2\" >99.3%</td>\n",
       "    </tr>\n",
       "    <tr>\n",
       "      <th id=\"T_fe9d4_level0_row28\" class=\"row_heading level0 row28\" >28</th>\n",
       "      <td id=\"T_fe9d4_row28_col0\" class=\"data row28 col0\" >host_identity_verified[T.t]</td>\n",
       "      <td id=\"T_fe9d4_row28_col1\" class=\"data row28 col1\" >0.2%</td>\n",
       "      <td id=\"T_fe9d4_row28_col2\" class=\"data row28 col2\" >99.6%</td>\n",
       "    </tr>\n",
       "    <tr>\n",
       "      <th id=\"T_fe9d4_level0_row29\" class=\"row_heading level0 row29\" >29</th>\n",
       "      <td id=\"T_fe9d4_row29_col0\" class=\"data row29 col0\" >host_has_profile_pic[T.t]</td>\n",
       "      <td id=\"T_fe9d4_row29_col1\" class=\"data row29 col1\" >0.2%</td>\n",
       "      <td id=\"T_fe9d4_row29_col2\" class=\"data row29 col2\" >99.7%</td>\n",
       "    </tr>\n",
       "    <tr>\n",
       "      <th id=\"T_fe9d4_level0_row30\" class=\"row_heading level0 row30\" >30</th>\n",
       "      <td id=\"T_fe9d4_row30_col0\" class=\"data row30 col0\" >room_type[T.Shared room]</td>\n",
       "      <td id=\"T_fe9d4_row30_col1\" class=\"data row30 col1\" >0.1%</td>\n",
       "      <td id=\"T_fe9d4_row30_col2\" class=\"data row30 col2\" >99.8%</td>\n",
       "    </tr>\n",
       "    <tr>\n",
       "      <th id=\"T_fe9d4_level0_row31\" class=\"row_heading level0 row31\" >31</th>\n",
       "      <td id=\"T_fe9d4_row31_col0\" class=\"data row31 col0\" >Laundry</td>\n",
       "      <td id=\"T_fe9d4_row31_col1\" class=\"data row31 col1\" >0.1%</td>\n",
       "      <td id=\"T_fe9d4_row31_col2\" class=\"data row31 col2\" >99.9%</td>\n",
       "    </tr>\n",
       "    <tr>\n",
       "      <th id=\"T_fe9d4_level0_row32\" class=\"row_heading level0 row32\" >32</th>\n",
       "      <td id=\"T_fe9d4_row32_col0\" class=\"data row32 col0\" >room_type[T.Hotel room]</td>\n",
       "      <td id=\"T_fe9d4_row32_col1\" class=\"data row32 col1\" >0.1%</td>\n",
       "      <td id=\"T_fe9d4_row32_col2\" class=\"data row32 col2\" >100.0%</td>\n",
       "    </tr>\n",
       "    <tr>\n",
       "      <th id=\"T_fe9d4_level0_row33\" class=\"row_heading level0 row33\" >33</th>\n",
       "      <td id=\"T_fe9d4_row33_col0\" class=\"data row33 col0\" >Intercept</td>\n",
       "      <td id=\"T_fe9d4_row33_col1\" class=\"data row33 col1\" >0.0%</td>\n",
       "      <td id=\"T_fe9d4_row33_col2\" class=\"data row33 col2\" >100.0%</td>\n",
       "    </tr>\n",
       "  </tbody>\n",
       "</table>\n"
      ],
      "text/plain": [
       "<pandas.io.formats.style.Styler at 0x20323c3b820>"
      ]
     },
     "execution_count": 78,
     "metadata": {},
     "output_type": "execute_result"
    }
   ],
   "source": [
    "df_var_imp.style.format({\n",
    "    'imp': lambda x: f'{x:,.1%}',\n",
    "    'cumulative_imp': lambda x: f'{x:,.1%}'})"
   ]
  },
  {
   "cell_type": "code",
   "execution_count": 79,
   "id": "0b3a3487",
   "metadata": {},
   "outputs": [],
   "source": [
    "%matplotlib inline"
   ]
  },
  {
   "cell_type": "code",
   "execution_count": 80,
   "id": "67906ca6",
   "metadata": {},
   "outputs": [
    {
     "data": {
      "image/png": "[encoded data removed]",
      "text/plain": [
       "<Figure size 1000x600 with 1 Axes>"
      ]
     },
     "metadata": {},
     "output_type": "display_data"
    }
   ],
   "source": [
    "ax = df_var_imp[df_var_imp.imp > 0.01]\\\n",
    "    .sort_values(by = 'imp')\\\n",
    "    .plot(kind = 'barh',\n",
    "          x = 'variable', \n",
    "          y = 'imp',\n",
    "          figsize = (10,6), \n",
    "          grid = True,\n",
    "          title = 'Random forest model highest feature importances',\n",
    "          xlabel = 'variables', \n",
    "          legend = False)\n",
    "\n",
    "ax.xaxis.set_major_formatter(mtick.PercentFormatter(xmax=1))"
   ]
  },
  {
   "cell_type": "markdown",
   "id": "e6c501fd",
   "metadata": {},
   "source": [
    "# Boosting with GBM"
   ]
  },
  {
   "cell_type": "code",
   "execution_count": 81,
   "id": "6b05c981",
   "metadata": {},
   "outputs": [],
   "source": [
    "numerical_columns = ['n_accommodates', 'n_accommodates2', 'distance',\n",
    "                    'n_minimum_nights', 'host_acceptance_rate', 'n_review_scores_rating',\n",
    "                    'n_beds', 'n_days_since3', 'n_days_since2', 'n_days_since', 'maximum_nights']\n",
    "categorical_columns = [col for col in predictors if col not in numerical_columns]"
   ]
  },
  {
   "cell_type": "code",
   "execution_count": 82,
   "id": "538e9306",
   "metadata": {},
   "outputs": [
    {
     "data": {
      "text/plain": [
       "['room_type',\n",
       " 'flag_days_since',\n",
       " 'f_bathroom',\n",
       " 'f_number_of_reviews',\n",
       " 'flag_review_scores_rating',\n",
       " 'host_is_superhost',\n",
       " 'host_has_profile_pic',\n",
       " 'host_identity_verified',\n",
       " 'Laundry',\n",
       " 'Essentials',\n",
       " 'Heating_Cooling',\n",
       " 'Kitchen',\n",
       " 'Outdoor',\n",
       " 'Workspace',\n",
       " 'Entertainment',\n",
       " 'Luxury',\n",
       " 'Internet',\n",
       " 'Parking',\n",
       " 'Family']"
      ]
     },
     "execution_count": 82,
     "metadata": {},
     "output_type": "execute_result"
    }
   ],
   "source": [
    "categorical_columns"
   ]
  },
  {
   "cell_type": "code",
   "execution_count": 83,
   "id": "32be66e9",
   "metadata": {},
   "outputs": [],
   "source": [
    "gbm = GradientBoostingRegressor(learning_rate=0.1, min_samples_split=20, max_features = 10)\n",
    "\n",
    "tune_grid = {\"n_estimators\": [30, 45], \"max_depth\": [5, 10]}\n",
    "\n",
    "gbm_model_cv = GridSearchCV(\n",
    "    gbm,\n",
    "    tune_grid,\n",
    "    cv=5,\n",
    "    scoring=\"neg_root_mean_squared_error\",\n",
    "    verbose=10,\n",
    "    n_jobs=-1\n",
    ")"
   ]
  },
  {
   "cell_type": "code",
   "execution_count": 84,
   "id": "397c03bb",
   "metadata": {},
   "outputs": [],
   "source": [
    "categorical_encoder = OneHotEncoder(handle_unknown=\"ignore\")"
   ]
  },
  {
   "cell_type": "code",
   "execution_count": 85,
   "id": "2ac5807f",
   "metadata": {},
   "outputs": [],
   "source": [
    "preprocessing = ColumnTransformer(\n",
    "    [\n",
    "        (\"cat\", categorical_encoder, categorical_columns),\n",
    "        (\"num\", \"passthrough\", numerical_columns),\n",
    "    ]\n",
    ")\n",
    "\n",
    "gbm_pipe = Pipeline(\n",
    "    [(\"preprocess\", preprocessing), (\"regressor\", gbm_model_cv)], verbose=True\n",
    ")"
   ]
  },
  {
   "cell_type": "code",
   "execution_count": 86,
   "id": "ddb47c1d",
   "metadata": {},
   "outputs": [],
   "source": [
    "predictors = list(predictors)\n"
   ]
  },
  {
   "cell_type": "code",
   "execution_count": 87,
   "id": "ddedcdce",
   "metadata": {},
   "outputs": [
    {
     "name": "stdout",
     "output_type": "stream",
     "text": [
      "CPU times: total: 0 ns\n",
      "Wall time: 0 ns\n",
      "[Pipeline] ........ (step 1 of 2) Processing preprocess, total=   0.0s\n",
      "Fitting 5 folds for each of 4 candidates, totalling 20 fits\n",
      "[Pipeline] ......... (step 2 of 2) Processing regressor, total=  15.8s\n"
     ]
    },
    {
     "data": {
      "text/html": [
       "<style>#sk-container-id-4 {color: black;background-color: white;}#sk-container-id-4 pre{padding: 0;}#sk-container-id-4 div.sk-toggleable {background-color: white;}#sk-container-id-4 label.sk-toggleable__label {cursor: pointer;display: block;width: 100%;margin-bottom: 0;padding: 0.3em;box-sizing: border-box;text-align: center;}#sk-container-id-4 label.sk-toggleable__label-arrow:before {content: \"▸\";float: left;margin-right: 0.25em;color: #696969;}#sk-container-id-4 label.sk-toggleable__label-arrow:hover:before {color: black;}#sk-container-id-4 div.sk-estimator:hover label.sk-toggleable__label-arrow:before {color: black;}#sk-container-id-4 div.sk-toggleable__content {max-height: 0;max-width: 0;overflow: hidden;text-align: left;background-color: #f0f8ff;}#sk-container-id-4 div.sk-toggleable__content pre {margin: 0.2em;color: black;border-radius: 0.25em;background-color: #f0f8ff;}#sk-container-id-4 input.sk-toggleable__control:checked~div.sk-toggleable__content {max-height: 200px;max-width: 100%;overflow: auto;}#sk-container-id-4 input.sk-toggleable__control:checked~label.sk-toggleable__label-arrow:before {content: \"▾\";}#sk-container-id-4 div.sk-estimator input.sk-toggleable__control:checked~label.sk-toggleable__label {background-color: #d4ebff;}#sk-container-id-4 div.sk-label input.sk-toggleable__control:checked~label.sk-toggleable__label {background-color: #d4ebff;}#sk-container-id-4 input.sk-hidden--visually {border: 0;clip: rect(1px 1px 1px 1px);clip: rect(1px, 1px, 1px, 1px);height: 1px;margin: -1px;overflow: hidden;padding: 0;position: absolute;width: 1px;}#sk-container-id-4 div.sk-estimator {font-family: monospace;background-color: #f0f8ff;border: 1px dotted black;border-radius: 0.25em;box-sizing: border-box;margin-bottom: 0.5em;}#sk-container-id-4 div.sk-estimator:hover {background-color: #d4ebff;}#sk-container-id-4 div.sk-parallel-item::after {content: \"\";width: 100%;border-bottom: 1px solid gray;flex-grow: 1;}#sk-container-id-4 div.sk-label:hover label.sk-toggleable__label {background-color: #d4ebff;}#sk-container-id-4 div.sk-serial::before {content: \"\";position: absolute;border-left: 1px solid gray;box-sizing: border-box;top: 0;bottom: 0;left: 50%;z-index: 0;}#sk-container-id-4 div.sk-serial {display: flex;flex-direction: column;align-items: center;background-color: white;padding-right: 0.2em;padding-left: 0.2em;position: relative;}#sk-container-id-4 div.sk-item {position: relative;z-index: 1;}#sk-container-id-4 div.sk-parallel {display: flex;align-items: stretch;justify-content: center;background-color: white;position: relative;}#sk-container-id-4 div.sk-item::before, #sk-container-id-4 div.sk-parallel-item::before {content: \"\";position: absolute;border-left: 1px solid gray;box-sizing: border-box;top: 0;bottom: 0;left: 50%;z-index: -1;}#sk-container-id-4 div.sk-parallel-item {display: flex;flex-direction: column;z-index: 1;position: relative;background-color: white;}#sk-container-id-4 div.sk-parallel-item:first-child::after {align-self: flex-end;width: 50%;}#sk-container-id-4 div.sk-parallel-item:last-child::after {align-self: flex-start;width: 50%;}#sk-container-id-4 div.sk-parallel-item:only-child::after {width: 0;}#sk-container-id-4 div.sk-dashed-wrapped {border: 1px dashed gray;margin: 0 0.4em 0.5em 0.4em;box-sizing: border-box;padding-bottom: 0.4em;background-color: white;}#sk-container-id-4 div.sk-label label {font-family: monospace;font-weight: bold;display: inline-block;line-height: 1.2em;}#sk-container-id-4 div.sk-label-container {text-align: center;}#sk-container-id-4 div.sk-container {/* jupyter's `normalize.less` sets `[hidden] { display: none; }` but bootstrap.min.css set `[hidden] { display: none !important; }` so we also need the `!important` here to be able to override the default hidden behavior on the sphinx rendered scikit-learn.org. See: https://github.com/scikit-learn/scikit-learn/issues/21755 */display: inline-block !important;position: relative;}#sk-container-id-4 div.sk-text-repr-fallback {display: none;}</style><div id=\"sk-container-id-4\" class=\"sk-top-container\"><div class=\"sk-text-repr-fallback\"><pre>Pipeline(steps=[(&#x27;preprocess&#x27;,\n",
       "                 ColumnTransformer(transformers=[(&#x27;cat&#x27;,\n",
       "                                                  OneHotEncoder(handle_unknown=&#x27;ignore&#x27;),\n",
       "                                                  [&#x27;room_type&#x27;,\n",
       "                                                   &#x27;flag_days_since&#x27;,\n",
       "                                                   &#x27;f_bathroom&#x27;,\n",
       "                                                   &#x27;f_number_of_reviews&#x27;,\n",
       "                                                   &#x27;flag_review_scores_rating&#x27;,\n",
       "                                                   &#x27;host_is_superhost&#x27;,\n",
       "                                                   &#x27;host_has_profile_pic&#x27;,\n",
       "                                                   &#x27;host_identity_verified&#x27;,\n",
       "                                                   &#x27;Laundry&#x27;, &#x27;Essentials&#x27;,\n",
       "                                                   &#x27;Heating_Cooling&#x27;, &#x27;Kitchen&#x27;,\n",
       "                                                   &#x27;Outdoor&#x27;, &#x27;Workspace&#x27;,\n",
       "                                                   &#x27;Entert...\n",
       "                                                   &#x27;host_acceptance_rate&#x27;,\n",
       "                                                   &#x27;n_review_scores_rating&#x27;,\n",
       "                                                   &#x27;n_beds&#x27;, &#x27;n_days_since3&#x27;,\n",
       "                                                   &#x27;n_days_since2&#x27;,\n",
       "                                                   &#x27;n_days_since&#x27;,\n",
       "                                                   &#x27;maximum_nights&#x27;])])),\n",
       "                (&#x27;regressor&#x27;,\n",
       "                 GridSearchCV(cv=5,\n",
       "                              estimator=GradientBoostingRegressor(max_features=10,\n",
       "                                                                  min_samples_split=20),\n",
       "                              n_jobs=-1,\n",
       "                              param_grid={&#x27;max_depth&#x27;: [5, 10],\n",
       "                                          &#x27;n_estimators&#x27;: [30, 45]},\n",
       "                              scoring=&#x27;neg_root_mean_squared_error&#x27;,\n",
       "                              verbose=10))],\n",
       "         verbose=True)</pre><b>In a Jupyter environment, please rerun this cell to show the HTML representation or trust the notebook. <br />On GitHub, the HTML representation is unable to render, please try loading this page with nbviewer.org.</b></div><div class=\"sk-container\" hidden><div class=\"sk-item sk-dashed-wrapped\"><div class=\"sk-label-container\"><div class=\"sk-label sk-toggleable\"><input class=\"sk-toggleable__control sk-hidden--visually\" id=\"sk-estimator-id-6\" type=\"checkbox\" ><label for=\"sk-estimator-id-6\" class=\"sk-toggleable__label sk-toggleable__label-arrow\">Pipeline</label><div class=\"sk-toggleable__content\"><pre>Pipeline(steps=[(&#x27;preprocess&#x27;,\n",
       "                 ColumnTransformer(transformers=[(&#x27;cat&#x27;,\n",
       "                                                  OneHotEncoder(handle_unknown=&#x27;ignore&#x27;),\n",
       "                                                  [&#x27;room_type&#x27;,\n",
       "                                                   &#x27;flag_days_since&#x27;,\n",
       "                                                   &#x27;f_bathroom&#x27;,\n",
       "                                                   &#x27;f_number_of_reviews&#x27;,\n",
       "                                                   &#x27;flag_review_scores_rating&#x27;,\n",
       "                                                   &#x27;host_is_superhost&#x27;,\n",
       "                                                   &#x27;host_has_profile_pic&#x27;,\n",
       "                                                   &#x27;host_identity_verified&#x27;,\n",
       "                                                   &#x27;Laundry&#x27;, &#x27;Essentials&#x27;,\n",
       "                                                   &#x27;Heating_Cooling&#x27;, &#x27;Kitchen&#x27;,\n",
       "                                                   &#x27;Outdoor&#x27;, &#x27;Workspace&#x27;,\n",
       "                                                   &#x27;Entert...\n",
       "                                                   &#x27;host_acceptance_rate&#x27;,\n",
       "                                                   &#x27;n_review_scores_rating&#x27;,\n",
       "                                                   &#x27;n_beds&#x27;, &#x27;n_days_since3&#x27;,\n",
       "                                                   &#x27;n_days_since2&#x27;,\n",
       "                                                   &#x27;n_days_since&#x27;,\n",
       "                                                   &#x27;maximum_nights&#x27;])])),\n",
       "                (&#x27;regressor&#x27;,\n",
       "                 GridSearchCV(cv=5,\n",
       "                              estimator=GradientBoostingRegressor(max_features=10,\n",
       "                                                                  min_samples_split=20),\n",
       "                              n_jobs=-1,\n",
       "                              param_grid={&#x27;max_depth&#x27;: [5, 10],\n",
       "                                          &#x27;n_estimators&#x27;: [30, 45]},\n",
       "                              scoring=&#x27;neg_root_mean_squared_error&#x27;,\n",
       "                              verbose=10))],\n",
       "         verbose=True)</pre></div></div></div><div class=\"sk-serial\"><div class=\"sk-item sk-dashed-wrapped\"><div class=\"sk-label-container\"><div class=\"sk-label sk-toggleable\"><input class=\"sk-toggleable__control sk-hidden--visually\" id=\"sk-estimator-id-7\" type=\"checkbox\" ><label for=\"sk-estimator-id-7\" class=\"sk-toggleable__label sk-toggleable__label-arrow\">preprocess: ColumnTransformer</label><div class=\"sk-toggleable__content\"><pre>ColumnTransformer(transformers=[(&#x27;cat&#x27;, OneHotEncoder(handle_unknown=&#x27;ignore&#x27;),\n",
       "                                 [&#x27;room_type&#x27;, &#x27;flag_days_since&#x27;, &#x27;f_bathroom&#x27;,\n",
       "                                  &#x27;f_number_of_reviews&#x27;,\n",
       "                                  &#x27;flag_review_scores_rating&#x27;,\n",
       "                                  &#x27;host_is_superhost&#x27;, &#x27;host_has_profile_pic&#x27;,\n",
       "                                  &#x27;host_identity_verified&#x27;, &#x27;Laundry&#x27;,\n",
       "                                  &#x27;Essentials&#x27;, &#x27;Heating_Cooling&#x27;, &#x27;Kitchen&#x27;,\n",
       "                                  &#x27;Outdoor&#x27;, &#x27;Workspace&#x27;, &#x27;Entertainment&#x27;,\n",
       "                                  &#x27;Luxury&#x27;, &#x27;Internet&#x27;, &#x27;Parking&#x27;, &#x27;Family&#x27;]),\n",
       "                                (&#x27;num&#x27;, &#x27;passthrough&#x27;,\n",
       "                                 [&#x27;n_accommodates&#x27;, &#x27;n_accommodates2&#x27;,\n",
       "                                  &#x27;distance&#x27;, &#x27;n_minimum_nights&#x27;,\n",
       "                                  &#x27;host_acceptance_rate&#x27;,\n",
       "                                  &#x27;n_review_scores_rating&#x27;, &#x27;n_beds&#x27;,\n",
       "                                  &#x27;n_days_since3&#x27;, &#x27;n_days_since2&#x27;,\n",
       "                                  &#x27;n_days_since&#x27;, &#x27;maximum_nights&#x27;])])</pre></div></div></div><div class=\"sk-parallel\"><div class=\"sk-parallel-item\"><div class=\"sk-item\"><div class=\"sk-label-container\"><div class=\"sk-label sk-toggleable\"><input class=\"sk-toggleable__control sk-hidden--visually\" id=\"sk-estimator-id-8\" type=\"checkbox\" ><label for=\"sk-estimator-id-8\" class=\"sk-toggleable__label sk-toggleable__label-arrow\">cat</label><div class=\"sk-toggleable__content\"><pre>[&#x27;room_type&#x27;, &#x27;flag_days_since&#x27;, &#x27;f_bathroom&#x27;, &#x27;f_number_of_reviews&#x27;, &#x27;flag_review_scores_rating&#x27;, &#x27;host_is_superhost&#x27;, &#x27;host_has_profile_pic&#x27;, &#x27;host_identity_verified&#x27;, &#x27;Laundry&#x27;, &#x27;Essentials&#x27;, &#x27;Heating_Cooling&#x27;, &#x27;Kitchen&#x27;, &#x27;Outdoor&#x27;, &#x27;Workspace&#x27;, &#x27;Entertainment&#x27;, &#x27;Luxury&#x27;, &#x27;Internet&#x27;, &#x27;Parking&#x27;, &#x27;Family&#x27;]</pre></div></div></div><div class=\"sk-serial\"><div class=\"sk-item\"><div class=\"sk-estimator sk-toggleable\"><input class=\"sk-toggleable__control sk-hidden--visually\" id=\"sk-estimator-id-9\" type=\"checkbox\" ><label for=\"sk-estimator-id-9\" class=\"sk-toggleable__label sk-toggleable__label-arrow\">OneHotEncoder</label><div class=\"sk-toggleable__content\"><pre>OneHotEncoder(handle_unknown=&#x27;ignore&#x27;)</pre></div></div></div></div></div></div><div class=\"sk-parallel-item\"><div class=\"sk-item\"><div class=\"sk-label-container\"><div class=\"sk-label sk-toggleable\"><input class=\"sk-toggleable__control sk-hidden--visually\" id=\"sk-estimator-id-10\" type=\"checkbox\" ><label for=\"sk-estimator-id-10\" class=\"sk-toggleable__label sk-toggleable__label-arrow\">num</label><div class=\"sk-toggleable__content\"><pre>[&#x27;n_accommodates&#x27;, &#x27;n_accommodates2&#x27;, &#x27;distance&#x27;, &#x27;n_minimum_nights&#x27;, &#x27;host_acceptance_rate&#x27;, &#x27;n_review_scores_rating&#x27;, &#x27;n_beds&#x27;, &#x27;n_days_since3&#x27;, &#x27;n_days_since2&#x27;, &#x27;n_days_since&#x27;, &#x27;maximum_nights&#x27;]</pre></div></div></div><div class=\"sk-serial\"><div class=\"sk-item\"><div class=\"sk-estimator sk-toggleable\"><input class=\"sk-toggleable__control sk-hidden--visually\" id=\"sk-estimator-id-11\" type=\"checkbox\" ><label for=\"sk-estimator-id-11\" class=\"sk-toggleable__label sk-toggleable__label-arrow\">passthrough</label><div class=\"sk-toggleable__content\"><pre>passthrough</pre></div></div></div></div></div></div></div></div><div class=\"sk-item sk-dashed-wrapped\"><div class=\"sk-label-container\"><div class=\"sk-label sk-toggleable\"><input class=\"sk-toggleable__control sk-hidden--visually\" id=\"sk-estimator-id-12\" type=\"checkbox\" ><label for=\"sk-estimator-id-12\" class=\"sk-toggleable__label sk-toggleable__label-arrow\">regressor: GridSearchCV</label><div class=\"sk-toggleable__content\"><pre>GridSearchCV(cv=5,\n",
       "             estimator=GradientBoostingRegressor(max_features=10,\n",
       "                                                 min_samples_split=20),\n",
       "             n_jobs=-1,\n",
       "             param_grid={&#x27;max_depth&#x27;: [5, 10], &#x27;n_estimators&#x27;: [30, 45]},\n",
       "             scoring=&#x27;neg_root_mean_squared_error&#x27;, verbose=10)</pre></div></div></div><div class=\"sk-parallel\"><div class=\"sk-parallel-item\"><div class=\"sk-item\"><div class=\"sk-label-container\"><div class=\"sk-label sk-toggleable\"><input class=\"sk-toggleable__control sk-hidden--visually\" id=\"sk-estimator-id-13\" type=\"checkbox\" ><label for=\"sk-estimator-id-13\" class=\"sk-toggleable__label sk-toggleable__label-arrow\">estimator: GradientBoostingRegressor</label><div class=\"sk-toggleable__content\"><pre>GradientBoostingRegressor(max_features=10, min_samples_split=20)</pre></div></div></div><div class=\"sk-serial\"><div class=\"sk-item\"><div class=\"sk-estimator sk-toggleable\"><input class=\"sk-toggleable__control sk-hidden--visually\" id=\"sk-estimator-id-14\" type=\"checkbox\" ><label for=\"sk-estimator-id-14\" class=\"sk-toggleable__label sk-toggleable__label-arrow\">GradientBoostingRegressor</label><div class=\"sk-toggleable__content\"><pre>GradientBoostingRegressor(max_features=10, min_samples_split=20)</pre></div></div></div></div></div></div></div></div></div></div></div></div>"
      ],
      "text/plain": [
       "Pipeline(steps=[('preprocess',\n",
       "                 ColumnTransformer(transformers=[('cat',\n",
       "                                                  OneHotEncoder(handle_unknown='ignore'),\n",
       "                                                  ['room_type',\n",
       "                                                   'flag_days_since',\n",
       "                                                   'f_bathroom',\n",
       "                                                   'f_number_of_reviews',\n",
       "                                                   'flag_review_scores_rating',\n",
       "                                                   'host_is_superhost',\n",
       "                                                   'host_has_profile_pic',\n",
       "                                                   'host_identity_verified',\n",
       "                                                   'Laundry', 'Essentials',\n",
       "                                                   'Heating_Cooling', 'Kitchen',\n",
       "                                                   'Outdoor', 'Workspace',\n",
       "                                                   'Entert...\n",
       "                                                   'host_acceptance_rate',\n",
       "                                                   'n_review_scores_rating',\n",
       "                                                   'n_beds', 'n_days_since3',\n",
       "                                                   'n_days_since2',\n",
       "                                                   'n_days_since',\n",
       "                                                   'maximum_nights'])])),\n",
       "                ('regressor',\n",
       "                 GridSearchCV(cv=5,\n",
       "                              estimator=GradientBoostingRegressor(max_features=10,\n",
       "                                                                  min_samples_split=20),\n",
       "                              n_jobs=-1,\n",
       "                              param_grid={'max_depth': [5, 10],\n",
       "                                          'n_estimators': [30, 45]},\n",
       "                              scoring='neg_root_mean_squared_error',\n",
       "                              verbose=10))],\n",
       "         verbose=True)"
      ]
     },
     "execution_count": 87,
     "metadata": {},
     "output_type": "execute_result"
    }
   ],
   "source": [
    "%time\n",
    "gbm_pipe.fit(data_work[predictors],data_work.price)"
   ]
  },
  {
   "cell_type": "code",
   "execution_count": 88,
   "id": "a4b11afe",
   "metadata": {},
   "outputs": [
    {
     "data": {
      "text/plain": [
       "{'mean_fit_time': array([1.60411158, 1.73935037, 1.71162248, 2.1894763 ]),\n",
       " 'std_fit_time': array([0.17161019, 0.27906114, 0.07920261, 0.10350673]),\n",
       " 'mean_score_time': array([0.01057196, 0.01156912, 0.01635642, 0.01583104]),\n",
       " 'std_score_time': array([0.00173808, 0.00135278, 0.00286303, 0.00213797]),\n",
       " 'param_max_depth': masked_array(data=[5, 5, 10, 10],\n",
       "              mask=[False, False, False, False],\n",
       "        fill_value='?',\n",
       "             dtype=object),\n",
       " 'param_n_estimators': masked_array(data=[30, 45, 30, 45],\n",
       "              mask=[False, False, False, False],\n",
       "        fill_value='?',\n",
       "             dtype=object),\n",
       " 'params': [{'max_depth': 5, 'n_estimators': 30},\n",
       "  {'max_depth': 5, 'n_estimators': 45},\n",
       "  {'max_depth': 10, 'n_estimators': 30},\n",
       "  {'max_depth': 10, 'n_estimators': 45}],\n",
       " 'split0_test_score': array([-83.29981793, -81.24642929, -78.89866231, -76.36186862]),\n",
       " 'split1_test_score': array([-91.54738896, -89.02652358, -82.88751587, -80.93972782]),\n",
       " 'split2_test_score': array([-91.45139277, -87.38874167, -82.76471124, -82.32423006]),\n",
       " 'split3_test_score': array([-91.03627762, -88.2396555 , -81.71337247, -81.0110098 ]),\n",
       " 'split4_test_score': array([-88.6038273 , -85.91368472, -80.04863304, -78.96857528]),\n",
       " 'mean_test_score': array([-89.18774092, -86.36300695, -81.26257898, -79.92108231]),\n",
       " 'std_test_score': array([3.13425394, 2.75860543, 1.55960269, 2.07730457]),\n",
       " 'rank_test_score': array([4, 3, 2, 1])}"
      ]
     },
     "execution_count": 88,
     "metadata": {},
     "output_type": "execute_result"
    }
   ],
   "source": [
    "gbm_model_cv.cv_results_"
   ]
  },
  {
   "cell_type": "code",
   "execution_count": 89,
   "id": "45fb9346",
   "metadata": {},
   "outputs": [
    {
     "data": {
      "text/html": [
       "<style>#sk-container-id-5 {color: black;background-color: white;}#sk-container-id-5 pre{padding: 0;}#sk-container-id-5 div.sk-toggleable {background-color: white;}#sk-container-id-5 label.sk-toggleable__label {cursor: pointer;display: block;width: 100%;margin-bottom: 0;padding: 0.3em;box-sizing: border-box;text-align: center;}#sk-container-id-5 label.sk-toggleable__label-arrow:before {content: \"▸\";float: left;margin-right: 0.25em;color: #696969;}#sk-container-id-5 label.sk-toggleable__label-arrow:hover:before {color: black;}#sk-container-id-5 div.sk-estimator:hover label.sk-toggleable__label-arrow:before {color: black;}#sk-container-id-5 div.sk-toggleable__content {max-height: 0;max-width: 0;overflow: hidden;text-align: left;background-color: #f0f8ff;}#sk-container-id-5 div.sk-toggleable__content pre {margin: 0.2em;color: black;border-radius: 0.25em;background-color: #f0f8ff;}#sk-container-id-5 input.sk-toggleable__control:checked~div.sk-toggleable__content {max-height: 200px;max-width: 100%;overflow: auto;}#sk-container-id-5 input.sk-toggleable__control:checked~label.sk-toggleable__label-arrow:before {content: \"▾\";}#sk-container-id-5 div.sk-estimator input.sk-toggleable__control:checked~label.sk-toggleable__label {background-color: #d4ebff;}#sk-container-id-5 div.sk-label input.sk-toggleable__control:checked~label.sk-toggleable__label {background-color: #d4ebff;}#sk-container-id-5 input.sk-hidden--visually {border: 0;clip: rect(1px 1px 1px 1px);clip: rect(1px, 1px, 1px, 1px);height: 1px;margin: -1px;overflow: hidden;padding: 0;position: absolute;width: 1px;}#sk-container-id-5 div.sk-estimator {font-family: monospace;background-color: #f0f8ff;border: 1px dotted black;border-radius: 0.25em;box-sizing: border-box;margin-bottom: 0.5em;}#sk-container-id-5 div.sk-estimator:hover {background-color: #d4ebff;}#sk-container-id-5 div.sk-parallel-item::after {content: \"\";width: 100%;border-bottom: 1px solid gray;flex-grow: 1;}#sk-container-id-5 div.sk-label:hover label.sk-toggleable__label {background-color: #d4ebff;}#sk-container-id-5 div.sk-serial::before {content: \"\";position: absolute;border-left: 1px solid gray;box-sizing: border-box;top: 0;bottom: 0;left: 50%;z-index: 0;}#sk-container-id-5 div.sk-serial {display: flex;flex-direction: column;align-items: center;background-color: white;padding-right: 0.2em;padding-left: 0.2em;position: relative;}#sk-container-id-5 div.sk-item {position: relative;z-index: 1;}#sk-container-id-5 div.sk-parallel {display: flex;align-items: stretch;justify-content: center;background-color: white;position: relative;}#sk-container-id-5 div.sk-item::before, #sk-container-id-5 div.sk-parallel-item::before {content: \"\";position: absolute;border-left: 1px solid gray;box-sizing: border-box;top: 0;bottom: 0;left: 50%;z-index: -1;}#sk-container-id-5 div.sk-parallel-item {display: flex;flex-direction: column;z-index: 1;position: relative;background-color: white;}#sk-container-id-5 div.sk-parallel-item:first-child::after {align-self: flex-end;width: 50%;}#sk-container-id-5 div.sk-parallel-item:last-child::after {align-self: flex-start;width: 50%;}#sk-container-id-5 div.sk-parallel-item:only-child::after {width: 0;}#sk-container-id-5 div.sk-dashed-wrapped {border: 1px dashed gray;margin: 0 0.4em 0.5em 0.4em;box-sizing: border-box;padding-bottom: 0.4em;background-color: white;}#sk-container-id-5 div.sk-label label {font-family: monospace;font-weight: bold;display: inline-block;line-height: 1.2em;}#sk-container-id-5 div.sk-label-container {text-align: center;}#sk-container-id-5 div.sk-container {/* jupyter's `normalize.less` sets `[hidden] { display: none; }` but bootstrap.min.css set `[hidden] { display: none !important; }` so we also need the `!important` here to be able to override the default hidden behavior on the sphinx rendered scikit-learn.org. See: https://github.com/scikit-learn/scikit-learn/issues/21755 */display: inline-block !important;position: relative;}#sk-container-id-5 div.sk-text-repr-fallback {display: none;}</style><div id=\"sk-container-id-5\" class=\"sk-top-container\"><div class=\"sk-text-repr-fallback\"><pre>GradientBoostingRegressor(max_depth=10, max_features=10, min_samples_split=20,\n",
       "                          n_estimators=45)</pre><b>In a Jupyter environment, please rerun this cell to show the HTML representation or trust the notebook. <br />On GitHub, the HTML representation is unable to render, please try loading this page with nbviewer.org.</b></div><div class=\"sk-container\" hidden><div class=\"sk-item\"><div class=\"sk-estimator sk-toggleable\"><input class=\"sk-toggleable__control sk-hidden--visually\" id=\"sk-estimator-id-15\" type=\"checkbox\" checked><label for=\"sk-estimator-id-15\" class=\"sk-toggleable__label sk-toggleable__label-arrow\">GradientBoostingRegressor</label><div class=\"sk-toggleable__content\"><pre>GradientBoostingRegressor(max_depth=10, max_features=10, min_samples_split=20,\n",
       "                          n_estimators=45)</pre></div></div></div></div></div>"
      ],
      "text/plain": [
       "GradientBoostingRegressor(max_depth=10, max_features=10, min_samples_split=20,\n",
       "                          n_estimators=45)"
      ]
     },
     "execution_count": 89,
     "metadata": {},
     "output_type": "execute_result"
    }
   ],
   "source": [
    "gbm_model_cv.best_estimator_"
   ]
  },
  {
   "cell_type": "code",
   "execution_count": 90,
   "id": "be08f0cd",
   "metadata": {},
   "outputs": [
    {
     "data": {
      "text/plain": [
       "79.9210823148813"
      ]
     },
     "execution_count": 90,
     "metadata": {},
     "output_type": "execute_result"
    }
   ],
   "source": [
    "gbm_rmse = gbm_model_cv.best_score_*-1\n",
    "gbm_rmse"
   ]
  },
  {
   "cell_type": "code",
   "execution_count": 91,
   "id": "aa6759f4",
   "metadata": {},
   "outputs": [
    {
     "name": "stdout",
     "output_type": "stream",
     "text": [
      "                      Feature  Importance\n",
      "46           n_minimum_nights    0.202907\n",
      "43             n_accommodates    0.140071\n",
      "45                   distance    0.070797\n",
      "44            n_accommodates2    0.057583\n",
      "47       host_acceptance_rate    0.050417\n",
      "42                 Family_1.0    0.043906\n",
      "0   room_type_Entire home/apt    0.034107\n",
      "51              n_days_since2    0.031762\n",
      "48     n_review_scores_rating    0.030647\n",
      "52               n_days_since    0.029485\n"
     ]
    },
    {
     "data": {
      "image/png": "[encoded data removed]",
      "text/plain": [
       "<Figure size 1000x600 with 1 Axes>"
      ]
     },
     "metadata": {},
     "output_type": "display_data"
    }
   ],
   "source": [
    "best_gbm_model = gbm_model_cv.best_estimator_\n",
    "\n",
    "feature_importance = best_gbm_model.feature_importances_\n",
    "\n",
    "# Step 3: Get the names of the transformed features\n",
    "# Extract feature names after preprocessing\n",
    "transformed_feature_names = (\n",
    "    preprocessing.named_transformers_['cat'].get_feature_names_out(categorical_columns).tolist()  # One-hot encoded categorical features\n",
    "    + numerical_columns  # Numerical features\n",
    ")\n",
    "\n",
    "# Step 4: Create a DataFrame for feature importance\n",
    "feature_importance_df = pd.DataFrame({\n",
    "    'Feature': transformed_feature_names,\n",
    "    'Importance': feature_importance\n",
    "})\n",
    "\n",
    "# Step 5: Sort the DataFrame by importance\n",
    "feature_importance_df = feature_importance_df.sort_values(by='Importance', ascending=False)\n",
    "\n",
    "# Step 6: Display the top N most important features\n",
    "print(feature_importance_df.head(10))  # Adjust the number as needed\n",
    "\n",
    "# Step 7: Plot feature importance\n",
    "plt.figure(figsize=(10, 6))\n",
    "plt.barh(feature_importance_df['Feature'][:10], feature_importance_df['Importance'][:10])  # Plot top 10 features\n",
    "plt.xlabel('Feature Importance')\n",
    "plt.ylabel('Feature')\n",
    "plt.title('Top 10 Feature Importance in GBM Model')\n",
    "plt.gca().invert_yaxis()  # Invert y-axis to show the most important feature at the top\n",
    "plt.grid(True)\n",
    "plt.show()"
   ]
  },
  {
   "cell_type": "markdown",
   "id": "87be185f",
   "metadata": {},
   "source": [
    "### OLS RMSE"
   ]
  },
  {
   "cell_type": "code",
   "execution_count": 92,
   "id": "4262f283",
   "metadata": {},
   "outputs": [
    {
     "data": {
      "text/plain": [
       "101.68991769941985"
      ]
     },
     "execution_count": 92,
     "metadata": {},
     "output_type": "execute_result"
    }
   ],
   "source": [
    "y, X = dmatrices(\"price ~ \" + \" + \".join(predictors), data = data_work)\n",
    "\n",
    "ols_model = LinearRegression().fit(X,y)\n",
    "\n",
    "y_hat = ols_model.predict(X)\n",
    "\n",
    "ols_rmse = mean_squared_error(y,y_hat,squared=False)\n",
    "ols_rmse"
   ]
  },
  {
   "cell_type": "markdown",
   "id": "ea3a0e07",
   "metadata": {},
   "source": [
    "# Cart "
   ]
  },
  {
   "cell_type": "code",
   "execution_count": 93,
   "id": "c03bd866",
   "metadata": {},
   "outputs": [],
   "source": [
    "from sklearn.tree import DecisionTreeRegressor"
   ]
  },
  {
   "cell_type": "code",
   "execution_count": 94,
   "id": "21ecd28c",
   "metadata": {},
   "outputs": [],
   "source": [
    "y, X = dmatrices(\"price ~ \" + \" + \".join(predictors_2), data_work)"
   ]
  },
  {
   "cell_type": "code",
   "execution_count": 95,
   "id": "a19912e2",
   "metadata": {},
   "outputs": [],
   "source": [
    "cart_model = DecisionTreeRegressor(random_state=2039402)"
   ]
  },
  {
   "cell_type": "code",
   "execution_count": 96,
   "id": "2d6fc553",
   "metadata": {},
   "outputs": [],
   "source": [
    "path = cart_model.cost_complexity_pruning_path(X, y.ravel())\n",
    "ccp_alphas, impurities = path.ccp_alphas, path.impurities"
   ]
  },
  {
   "cell_type": "code",
   "execution_count": 97,
   "id": "d51aff1f",
   "metadata": {},
   "outputs": [
    {
     "data": {
      "text/plain": [
       "array([ 0.00000000e+00, -3.94649591e-17,  1.99493200e-17, ...,\n",
       "        4.73745289e+02,  2.20605707e+03,  4.23216899e+03])"
      ]
     },
     "execution_count": 97,
     "metadata": {},
     "output_type": "execute_result"
    }
   ],
   "source": [
    "ccp_alphas"
   ]
  },
  {
   "cell_type": "code",
   "execution_count": 98,
   "id": "450abaaf",
   "metadata": {},
   "outputs": [
    {
     "name": "stdout",
     "output_type": "stream",
     "text": [
      "Fitting 5 folds for each of 10 candidates, totalling 50 fits\n",
      "[CV 1/5] END .ccp_alpha=0.009623777932960893;, score=-111.291 total time=   0.2s\n",
      "[CV 2/5] END .ccp_alpha=0.009623777932960893;, score=-116.300 total time=   0.2s\n",
      "[CV 3/5] END .ccp_alpha=0.009623777932960893;, score=-111.351 total time=   0.2s\n",
      "[CV 4/5] END .ccp_alpha=0.009623777932960893;, score=-107.257 total time=   0.2s\n",
      "[CV 5/5] END .ccp_alpha=0.009623777932960893;, score=-117.214 total time=   0.2s\n",
      "[CV 1/5] END ccp_alpha=0.0011784217877093385;, score=-111.301 total time=   0.1s\n",
      "[CV 2/5] END ccp_alpha=0.0011784217877093385;, score=-116.357 total time=   0.1s\n",
      "[CV 3/5] END ccp_alpha=0.0011784217877093385;, score=-111.391 total time=   0.1s\n",
      "[CV 4/5] END ccp_alpha=0.0011784217877093385;, score=-107.258 total time=   0.1s\n",
      "[CV 5/5] END ccp_alpha=0.0011784217877093385;, score=-117.212 total time=   0.1s\n",
      "[CV 1/5] END .....ccp_alpha=7.064910164550691;, score=-97.818 total time=   0.3s\n",
      "[CV 2/5] END ....ccp_alpha=7.064910164550691;, score=-104.130 total time=   0.3s\n",
      "[CV 3/5] END ....ccp_alpha=7.064910164550691;, score=-102.016 total time=   0.3s\n",
      "[CV 4/5] END .....ccp_alpha=7.064910164550691;, score=-97.839 total time=   0.3s\n",
      "[CV 5/5] END ....ccp_alpha=7.064910164550691;, score=-106.539 total time=   0.3s\n",
      "[CV 1/5] END ..ccp_alpha=0.49523175628491606;, score=-109.592 total time=   0.3s\n",
      "[CV 2/5] END ..ccp_alpha=0.49523175628491606;, score=-115.023 total time=   0.3s\n",
      "[CV 3/5] END ..ccp_alpha=0.49523175628491606;, score=-110.143 total time=   0.3s\n",
      "[CV 4/5] END ..ccp_alpha=0.49523175628491606;, score=-105.660 total time=   0.3s\n",
      "[CV 5/5] END ..ccp_alpha=0.49523175628491606;, score=-115.496 total time=   0.3s\n",
      "[CV 1/5] END ccp_alpha=0.00017458100558659218;, score=-111.312 total time=   0.1s\n",
      "[CV 2/5] END ccp_alpha=0.00017458100558659218;, score=-116.370 total time=   0.1s\n",
      "[CV 3/5] END ccp_alpha=0.00017458100558659218;, score=-111.400 total time=   0.1s\n",
      "[CV 4/5] END ccp_alpha=0.00017458100558659218;, score=-107.271 total time=   0.0s\n",
      "[CV 5/5] END ccp_alpha=0.00017458100558659218;, score=-117.218 total time=   0.0s\n",
      "[CV 1/5] END .ccp_alpha=0.002793296089385475;, score=-111.289 total time=   0.1s\n",
      "[CV 2/5] END .ccp_alpha=0.002793296089385475;, score=-116.368 total time=   0.2s\n",
      "[CV 3/5] END .ccp_alpha=0.002793296089385475;, score=-111.398 total time=   0.1s\n",
      "[CV 4/5] END .ccp_alpha=0.002793296089385475;, score=-107.247 total time=   0.1s\n",
      "[CV 5/5] END .ccp_alpha=0.002793296089385475;, score=-117.206 total time=   0.1s\n",
      "[CV 1/5] END ccp_alpha=0.0023568435754189945;, score=-111.284 total time=   0.1s\n",
      "[CV 2/5] END ccp_alpha=0.0023568435754189945;, score=-116.345 total time=   0.1s\n",
      "[CV 3/5] END ccp_alpha=0.0023568435754189945;, score=-111.390 total time=   0.1s\n",
      "[CV 4/5] END ccp_alpha=0.0023568435754189945;, score=-107.267 total time=   0.1s\n",
      "[CV 5/5] END ccp_alpha=0.0023568435754189945;, score=-117.205 total time=   0.1s\n",
      "[CV 1/5] END .....ccp_alpha=6.532763843627087;, score=-98.767 total time=   0.3s\n",
      "[CV 2/5] END ....ccp_alpha=6.532763843627087;, score=-105.473 total time=   0.3s\n",
      "[CV 3/5] END ....ccp_alpha=6.532763843627087;, score=-102.142 total time=   0.3s\n",
      "[CV 4/5] END .....ccp_alpha=6.532763843627087;, score=-98.264 total time=   0.3s\n",
      "[CV 5/5] END ....ccp_alpha=6.532763843627087;, score=-107.178 total time=   0.3s\n",
      "[CV 1/5] END ccp_alpha=0.0002327746741154033;, score=-111.315 total time=   0.1s\n",
      "[CV 2/5] END ccp_alpha=0.0002327746741154033;, score=-116.367 total time=   0.1s\n",
      "[CV 3/5] END ccp_alpha=0.0002327746741154033;, score=-111.399 total time=   0.1s\n",
      "[CV 4/5] END ccp_alpha=0.0002327746741154033;, score=-107.268 total time=   0.1s\n",
      "[CV 5/5] END ccp_alpha=0.0002327746741154033;, score=-117.219 total time=   0.1s\n",
      "[CV 1/5] END ccp_alpha=0.0052810754189944135;, score=-111.299 total time=   0.2s\n",
      "[CV 2/5] END ccp_alpha=0.0052810754189944135;, score=-116.373 total time=   0.2s\n",
      "[CV 3/5] END ccp_alpha=0.0052810754189944135;, score=-111.366 total time=   0.2s\n",
      "[CV 4/5] END ccp_alpha=0.0052810754189944135;, score=-107.236 total time=   0.2s\n",
      "[CV 5/5] END ccp_alpha=0.0052810754189944135;, score=-117.209 total time=   0.1s\n",
      "CPU times: total: 14.1 s\n",
      "Wall time: 14.1 s\n"
     ]
    },
    {
     "data": {
      "text/html": [
       "<style>#sk-container-id-6 {color: black;background-color: white;}#sk-container-id-6 pre{padding: 0;}#sk-container-id-6 div.sk-toggleable {background-color: white;}#sk-container-id-6 label.sk-toggleable__label {cursor: pointer;display: block;width: 100%;margin-bottom: 0;padding: 0.3em;box-sizing: border-box;text-align: center;}#sk-container-id-6 label.sk-toggleable__label-arrow:before {content: \"▸\";float: left;margin-right: 0.25em;color: #696969;}#sk-container-id-6 label.sk-toggleable__label-arrow:hover:before {color: black;}#sk-container-id-6 div.sk-estimator:hover label.sk-toggleable__label-arrow:before {color: black;}#sk-container-id-6 div.sk-toggleable__content {max-height: 0;max-width: 0;overflow: hidden;text-align: left;background-color: #f0f8ff;}#sk-container-id-6 div.sk-toggleable__content pre {margin: 0.2em;color: black;border-radius: 0.25em;background-color: #f0f8ff;}#sk-container-id-6 input.sk-toggleable__control:checked~div.sk-toggleable__content {max-height: 200px;max-width: 100%;overflow: auto;}#sk-container-id-6 input.sk-toggleable__control:checked~label.sk-toggleable__label-arrow:before {content: \"▾\";}#sk-container-id-6 div.sk-estimator input.sk-toggleable__control:checked~label.sk-toggleable__label {background-color: #d4ebff;}#sk-container-id-6 div.sk-label input.sk-toggleable__control:checked~label.sk-toggleable__label {background-color: #d4ebff;}#sk-container-id-6 input.sk-hidden--visually {border: 0;clip: rect(1px 1px 1px 1px);clip: rect(1px, 1px, 1px, 1px);height: 1px;margin: -1px;overflow: hidden;padding: 0;position: absolute;width: 1px;}#sk-container-id-6 div.sk-estimator {font-family: monospace;background-color: #f0f8ff;border: 1px dotted black;border-radius: 0.25em;box-sizing: border-box;margin-bottom: 0.5em;}#sk-container-id-6 div.sk-estimator:hover {background-color: #d4ebff;}#sk-container-id-6 div.sk-parallel-item::after {content: \"\";width: 100%;border-bottom: 1px solid gray;flex-grow: 1;}#sk-container-id-6 div.sk-label:hover label.sk-toggleable__label {background-color: #d4ebff;}#sk-container-id-6 div.sk-serial::before {content: \"\";position: absolute;border-left: 1px solid gray;box-sizing: border-box;top: 0;bottom: 0;left: 50%;z-index: 0;}#sk-container-id-6 div.sk-serial {display: flex;flex-direction: column;align-items: center;background-color: white;padding-right: 0.2em;padding-left: 0.2em;position: relative;}#sk-container-id-6 div.sk-item {position: relative;z-index: 1;}#sk-container-id-6 div.sk-parallel {display: flex;align-items: stretch;justify-content: center;background-color: white;position: relative;}#sk-container-id-6 div.sk-item::before, #sk-container-id-6 div.sk-parallel-item::before {content: \"\";position: absolute;border-left: 1px solid gray;box-sizing: border-box;top: 0;bottom: 0;left: 50%;z-index: -1;}#sk-container-id-6 div.sk-parallel-item {display: flex;flex-direction: column;z-index: 1;position: relative;background-color: white;}#sk-container-id-6 div.sk-parallel-item:first-child::after {align-self: flex-end;width: 50%;}#sk-container-id-6 div.sk-parallel-item:last-child::after {align-self: flex-start;width: 50%;}#sk-container-id-6 div.sk-parallel-item:only-child::after {width: 0;}#sk-container-id-6 div.sk-dashed-wrapped {border: 1px dashed gray;margin: 0 0.4em 0.5em 0.4em;box-sizing: border-box;padding-bottom: 0.4em;background-color: white;}#sk-container-id-6 div.sk-label label {font-family: monospace;font-weight: bold;display: inline-block;line-height: 1.2em;}#sk-container-id-6 div.sk-label-container {text-align: center;}#sk-container-id-6 div.sk-container {/* jupyter's `normalize.less` sets `[hidden] { display: none; }` but bootstrap.min.css set `[hidden] { display: none !important; }` so we also need the `!important` here to be able to override the default hidden behavior on the sphinx rendered scikit-learn.org. See: https://github.com/scikit-learn/scikit-learn/issues/21755 */display: inline-block !important;position: relative;}#sk-container-id-6 div.sk-text-repr-fallback {display: none;}</style><div id=\"sk-container-id-6\" class=\"sk-top-container\"><div class=\"sk-text-repr-fallback\"><pre>RandomizedSearchCV(cv=5, estimator=DecisionTreeRegressor(random_state=2039402),\n",
       "                   param_distributions={&#x27;ccp_alpha&#x27;: array([ 0.00000000e+00, -3.94649591e-17,  1.99493200e-17, ...,\n",
       "        4.73745289e+02,  2.20605707e+03,  4.23216899e+03])},\n",
       "                   scoring=&#x27;neg_root_mean_squared_error&#x27;, verbose=3)</pre><b>In a Jupyter environment, please rerun this cell to show the HTML representation or trust the notebook. <br />On GitHub, the HTML representation is unable to render, please try loading this page with nbviewer.org.</b></div><div class=\"sk-container\" hidden><div class=\"sk-item sk-dashed-wrapped\"><div class=\"sk-label-container\"><div class=\"sk-label sk-toggleable\"><input class=\"sk-toggleable__control sk-hidden--visually\" id=\"sk-estimator-id-16\" type=\"checkbox\" ><label for=\"sk-estimator-id-16\" class=\"sk-toggleable__label sk-toggleable__label-arrow\">RandomizedSearchCV</label><div class=\"sk-toggleable__content\"><pre>RandomizedSearchCV(cv=5, estimator=DecisionTreeRegressor(random_state=2039402),\n",
       "                   param_distributions={&#x27;ccp_alpha&#x27;: array([ 0.00000000e+00, -3.94649591e-17,  1.99493200e-17, ...,\n",
       "        4.73745289e+02,  2.20605707e+03,  4.23216899e+03])},\n",
       "                   scoring=&#x27;neg_root_mean_squared_error&#x27;, verbose=3)</pre></div></div></div><div class=\"sk-parallel\"><div class=\"sk-parallel-item\"><div class=\"sk-item\"><div class=\"sk-label-container\"><div class=\"sk-label sk-toggleable\"><input class=\"sk-toggleable__control sk-hidden--visually\" id=\"sk-estimator-id-17\" type=\"checkbox\" ><label for=\"sk-estimator-id-17\" class=\"sk-toggleable__label sk-toggleable__label-arrow\">estimator: DecisionTreeRegressor</label><div class=\"sk-toggleable__content\"><pre>DecisionTreeRegressor(random_state=2039402)</pre></div></div></div><div class=\"sk-serial\"><div class=\"sk-item\"><div class=\"sk-estimator sk-toggleable\"><input class=\"sk-toggleable__control sk-hidden--visually\" id=\"sk-estimator-id-18\" type=\"checkbox\" ><label for=\"sk-estimator-id-18\" class=\"sk-toggleable__label sk-toggleable__label-arrow\">DecisionTreeRegressor</label><div class=\"sk-toggleable__content\"><pre>DecisionTreeRegressor(random_state=2039402)</pre></div></div></div></div></div></div></div></div></div></div>"
      ],
      "text/plain": [
       "RandomizedSearchCV(cv=5, estimator=DecisionTreeRegressor(random_state=2039402),\n",
       "                   param_distributions={'ccp_alpha': array([ 0.00000000e+00, -3.94649591e-17,  1.99493200e-17, ...,\n",
       "        4.73745289e+02,  2.20605707e+03,  4.23216899e+03])},\n",
       "                   scoring='neg_root_mean_squared_error', verbose=3)"
      ]
     },
     "execution_count": 98,
     "metadata": {},
     "output_type": "execute_result"
    }
   ],
   "source": [
    "%%time\n",
    "\n",
    "cart_model_cv = RandomizedSearchCV(\n",
    "    cart_model,\n",
    "    {\"ccp_alpha\":ccp_alphas},\n",
    "    cv = 5,\n",
    "    scoring=\"neg_root_mean_squared_error\",\n",
    "    verbose = 3,\n",
    ")\n",
    "cart_model_cv.fit(X,y.ravel())"
   ]
  },
  {
   "cell_type": "code",
   "execution_count": 99,
   "id": "447588f2",
   "metadata": {},
   "outputs": [
    {
     "data": {
      "text/html": [
       "<style>#sk-container-id-7 {color: black;background-color: white;}#sk-container-id-7 pre{padding: 0;}#sk-container-id-7 div.sk-toggleable {background-color: white;}#sk-container-id-7 label.sk-toggleable__label {cursor: pointer;display: block;width: 100%;margin-bottom: 0;padding: 0.3em;box-sizing: border-box;text-align: center;}#sk-container-id-7 label.sk-toggleable__label-arrow:before {content: \"▸\";float: left;margin-right: 0.25em;color: #696969;}#sk-container-id-7 label.sk-toggleable__label-arrow:hover:before {color: black;}#sk-container-id-7 div.sk-estimator:hover label.sk-toggleable__label-arrow:before {color: black;}#sk-container-id-7 div.sk-toggleable__content {max-height: 0;max-width: 0;overflow: hidden;text-align: left;background-color: #f0f8ff;}#sk-container-id-7 div.sk-toggleable__content pre {margin: 0.2em;color: black;border-radius: 0.25em;background-color: #f0f8ff;}#sk-container-id-7 input.sk-toggleable__control:checked~div.sk-toggleable__content {max-height: 200px;max-width: 100%;overflow: auto;}#sk-container-id-7 input.sk-toggleable__control:checked~label.sk-toggleable__label-arrow:before {content: \"▾\";}#sk-container-id-7 div.sk-estimator input.sk-toggleable__control:checked~label.sk-toggleable__label {background-color: #d4ebff;}#sk-container-id-7 div.sk-label input.sk-toggleable__control:checked~label.sk-toggleable__label {background-color: #d4ebff;}#sk-container-id-7 input.sk-hidden--visually {border: 0;clip: rect(1px 1px 1px 1px);clip: rect(1px, 1px, 1px, 1px);height: 1px;margin: -1px;overflow: hidden;padding: 0;position: absolute;width: 1px;}#sk-container-id-7 div.sk-estimator {font-family: monospace;background-color: #f0f8ff;border: 1px dotted black;border-radius: 0.25em;box-sizing: border-box;margin-bottom: 0.5em;}#sk-container-id-7 div.sk-estimator:hover {background-color: #d4ebff;}#sk-container-id-7 div.sk-parallel-item::after {content: \"\";width: 100%;border-bottom: 1px solid gray;flex-grow: 1;}#sk-container-id-7 div.sk-label:hover label.sk-toggleable__label {background-color: #d4ebff;}#sk-container-id-7 div.sk-serial::before {content: \"\";position: absolute;border-left: 1px solid gray;box-sizing: border-box;top: 0;bottom: 0;left: 50%;z-index: 0;}#sk-container-id-7 div.sk-serial {display: flex;flex-direction: column;align-items: center;background-color: white;padding-right: 0.2em;padding-left: 0.2em;position: relative;}#sk-container-id-7 div.sk-item {position: relative;z-index: 1;}#sk-container-id-7 div.sk-parallel {display: flex;align-items: stretch;justify-content: center;background-color: white;position: relative;}#sk-container-id-7 div.sk-item::before, #sk-container-id-7 div.sk-parallel-item::before {content: \"\";position: absolute;border-left: 1px solid gray;box-sizing: border-box;top: 0;bottom: 0;left: 50%;z-index: -1;}#sk-container-id-7 div.sk-parallel-item {display: flex;flex-direction: column;z-index: 1;position: relative;background-color: white;}#sk-container-id-7 div.sk-parallel-item:first-child::after {align-self: flex-end;width: 50%;}#sk-container-id-7 div.sk-parallel-item:last-child::after {align-self: flex-start;width: 50%;}#sk-container-id-7 div.sk-parallel-item:only-child::after {width: 0;}#sk-container-id-7 div.sk-dashed-wrapped {border: 1px dashed gray;margin: 0 0.4em 0.5em 0.4em;box-sizing: border-box;padding-bottom: 0.4em;background-color: white;}#sk-container-id-7 div.sk-label label {font-family: monospace;font-weight: bold;display: inline-block;line-height: 1.2em;}#sk-container-id-7 div.sk-label-container {text-align: center;}#sk-container-id-7 div.sk-container {/* jupyter's `normalize.less` sets `[hidden] { display: none; }` but bootstrap.min.css set `[hidden] { display: none !important; }` so we also need the `!important` here to be able to override the default hidden behavior on the sphinx rendered scikit-learn.org. See: https://github.com/scikit-learn/scikit-learn/issues/21755 */display: inline-block !important;position: relative;}#sk-container-id-7 div.sk-text-repr-fallback {display: none;}</style><div id=\"sk-container-id-7\" class=\"sk-top-container\"><div class=\"sk-text-repr-fallback\"><pre>DecisionTreeRegressor(ccp_alpha=7.064910164550691, random_state=2039402)</pre><b>In a Jupyter environment, please rerun this cell to show the HTML representation or trust the notebook. <br />On GitHub, the HTML representation is unable to render, please try loading this page with nbviewer.org.</b></div><div class=\"sk-container\" hidden><div class=\"sk-item\"><div class=\"sk-estimator sk-toggleable\"><input class=\"sk-toggleable__control sk-hidden--visually\" id=\"sk-estimator-id-19\" type=\"checkbox\" checked><label for=\"sk-estimator-id-19\" class=\"sk-toggleable__label sk-toggleable__label-arrow\">DecisionTreeRegressor</label><div class=\"sk-toggleable__content\"><pre>DecisionTreeRegressor(ccp_alpha=7.064910164550691, random_state=2039402)</pre></div></div></div></div></div>"
      ],
      "text/plain": [
       "DecisionTreeRegressor(ccp_alpha=7.064910164550691, random_state=2039402)"
      ]
     },
     "execution_count": 99,
     "metadata": {},
     "output_type": "execute_result"
    }
   ],
   "source": [
    "cart_model_cv.best_estimator_"
   ]
  },
  {
   "cell_type": "code",
   "execution_count": 100,
   "id": "78470a8d",
   "metadata": {},
   "outputs": [
    {
     "data": {
      "text/plain": [
       "101.66853453725011"
      ]
     },
     "execution_count": 100,
     "metadata": {},
     "output_type": "execute_result"
    }
   ],
   "source": [
    "cart_rmse = pd.DataFrame(cart_model_cv.cv_results_).loc[\n",
    "    lambda x: x.param_ccp_alpha == cart_model_cv.best_estimator_.ccp_alpha\n",
    "].mean_test_score.values[0] * -1\n",
    "cart_rmse"
   ]
  },
  {
   "cell_type": "markdown",
   "id": "5432f844",
   "metadata": {},
   "source": [
    "# #3. Comparison table and discussion"
   ]
  },
  {
   "cell_type": "code",
   "execution_count": 101,
   "id": "d4692783",
   "metadata": {},
   "outputs": [
    {
     "data": {
      "text/html": [
       "<div>\n",
       "<style scoped>\n",
       "    .dataframe tbody tr th:only-of-type {\n",
       "        vertical-align: middle;\n",
       "    }\n",
       "\n",
       "    .dataframe tbody tr th {\n",
       "        vertical-align: top;\n",
       "    }\n",
       "\n",
       "    .dataframe thead th {\n",
       "        text-align: right;\n",
       "    }\n",
       "</style>\n",
       "<table border=\"1\" class=\"dataframe\">\n",
       "  <thead>\n",
       "    <tr style=\"text-align: right;\">\n",
       "      <th></th>\n",
       "      <th>model</th>\n",
       "      <th>CV RMSE</th>\n",
       "    </tr>\n",
       "  </thead>\n",
       "  <tbody>\n",
       "    <tr>\n",
       "      <th>0</th>\n",
       "      <td>OLS</td>\n",
       "      <td>101.689918</td>\n",
       "    </tr>\n",
       "    <tr>\n",
       "      <th>1</th>\n",
       "      <td>LASSO</td>\n",
       "      <td>101.377011</td>\n",
       "    </tr>\n",
       "    <tr>\n",
       "      <th>2</th>\n",
       "      <td>Random Forest</td>\n",
       "      <td>81.351556</td>\n",
       "    </tr>\n",
       "    <tr>\n",
       "      <th>3</th>\n",
       "      <td>GBM</td>\n",
       "      <td>79.921082</td>\n",
       "    </tr>\n",
       "    <tr>\n",
       "      <th>4</th>\n",
       "      <td>Cart</td>\n",
       "      <td>101.668535</td>\n",
       "    </tr>\n",
       "  </tbody>\n",
       "</table>\n",
       "</div>"
      ],
      "text/plain": [
       "           model     CV RMSE\n",
       "0            OLS  101.689918\n",
       "1          LASSO  101.377011\n",
       "2  Random Forest   81.351556\n",
       "3            GBM   79.921082\n",
       "4           Cart  101.668535"
      ]
     },
     "execution_count": 101,
     "metadata": {},
     "output_type": "execute_result"
    }
   ],
   "source": [
    "pd.DataFrame({'model': ['OLS', 'LASSO', 'Random Forest', 'GBM', 'Cart'],\n",
    "              'CV RMSE': [ols_rmse, lasso_rmse,rf_rmse, gbm_rmse, cart_rmse]})"
   ]
  },
  {
   "cell_type": "markdown",
   "id": "b1e61e29",
   "metadata": {},
   "source": [
    "The GBM has the best performance with reasonable training time. Random Forest has a **relatively** good performance but is very slow to train. Lasso: **relatively** moderate performance but very fast to train. OLS has a moderate performance; time likely similar to LASSO. CART: worst performance with moderate training time."
   ]
  },
  {
   "cell_type": "markdown",
   "id": "086ffe1c",
   "metadata": {},
   "source": [
    "# #4. Feature Importance for Random Forest and GBM"
   ]
  },
  {
   "cell_type": "code",
   "execution_count": 102,
   "id": "4571f72e",
   "metadata": {},
   "outputs": [
    {
     "data": {
      "image/png": "[encoded data removed]",
      "text/plain": [
       "<Figure size 2000x600 with 2 Axes>"
      ]
     },
     "metadata": {},
     "output_type": "display_data"
    }
   ],
   "source": [
    "import matplotlib.pyplot as plt\n",
    "import matplotlib.ticker as mtick\n",
    "\n",
    "# Create a figure with two subplots\n",
    "fig, (ax1, ax2) = plt.subplots(1, 2, figsize=(20, 6))\n",
    "\n",
    "# Plot GBM Feature Importance\n",
    "ax1.barh(feature_importance_df['Feature'][:10], feature_importance_df['Importance'][:10])\n",
    "ax1.set_xlabel('Feature Importance')\n",
    "ax1.set_ylabel('Feature')\n",
    "ax1.set_title('Top 10 Feature Importance in GBM Model')\n",
    "ax1.invert_yaxis()  # Invert y-axis to show the most important feature at the top\n",
    "ax1.grid(True)\n",
    "ax1.xaxis.set_major_formatter(mtick.PercentFormatter(xmax=1))  # Format x-axis as percentages\n",
    "\n",
    "# Filter and sort Random Forest features for top 10\n",
    "df_var_imp_top10 = df_var_imp[df_var_imp.imp > 0.01]\\\n",
    "    .sort_values(by='imp', ascending=False)\\\n",
    "    .head(10)  # Select top 10 features\n",
    "\n",
    "# Plot Random Forest Feature Importance (Top 10)\n",
    "df_var_imp_top10.plot(kind='barh',\n",
    "                      x='variable',\n",
    "                      y='imp',\n",
    "                      ax=ax2,  # Use the second subplot\n",
    "                      grid=True,\n",
    "                      title='Top 10 Feature Importance in Random Forest Model',\n",
    "                      xlabel='Features',\n",
    "                      legend=False)\n",
    "ax2.xaxis.set_major_formatter(mtick.PercentFormatter(xmax=1))  # Format x-axis as percentages\n",
    "ax2.invert_yaxis()  # Invert y-axis to show the most important feature at the top\n",
    "\n",
    "# Adjust layout for better spacing\n",
    "plt.tight_layout()\n",
    "\n",
    "# Show the combined plot\n",
    "plt.show()"
   ]
  },
  {
   "cell_type": "markdown",
   "id": "08e26f81",
   "metadata": {},
   "source": [
    "The graphs reveal that **n_minimum_nights** and **n_accommodates** are the most important features in both the GBM and Random Forest models, indicating their strong influence on the target variable. The GBM model highlights **host_acceptance_rate** and **room_type_Entire home/apt** as significant, whereas the Random Forest model emphasizes **n_review_scores_rating** and **n_beds**. Both models agree on the importance of **distance**, suggesting it is a key predictor. However, the RF model assigns higher importance to some features (e.g., **n_beds**) compared to the GBM, reflecting differences in how each model captures feature interactions and nonlinearities."
   ]
  },
  {
   "cell_type": "code",
   "execution_count": null,
   "id": "bb5d78d3",
   "metadata": {},
   "outputs": [],
   "source": []
  }
 ],
 "metadata": {
  "kernelspec": {
   "display_name": "Python 3 (ipykernel)",
   "language": "python",
   "name": "python3"
  },
  "language_info": {
   "codemirror_mode": {
    "name": "ipython",
    "version": 3
   },
   "file_extension": ".py",
   "mimetype": "text/x-python",
   "name": "python",
   "nbconvert_exporter": "python",
   "pygments_lexer": "ipython3",
   "version": "3.10.9"
  }
 },
 "nbformat": 4,
 "nbformat_minor": 5
}
