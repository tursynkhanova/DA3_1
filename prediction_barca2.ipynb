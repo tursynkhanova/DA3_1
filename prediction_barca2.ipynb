{
 "cells": [
  {
   "cell_type": "code",
   "execution_count": 1,
   "id": "d963ec7b",
   "metadata": {},
   "outputs": [],
   "source": [
    "import os\n",
    "import sys\n",
    "import warnings\n",
    "\n",
    "import numpy as np\n",
    "import pandas as pd\n",
    "import regex as re\n",
    "import statsmodels.api as sm\n",
    "import statsmodels.formula.api as smf\n",
    "from mizani.formatters import percent_format\n",
    "from plotnine import *\n",
    "from statsmodels.tools.eval_measures import rmse\n",
    "from sklearn.linear_model import LinearRegression\n",
    "warnings.filterwarnings(\"ignore\")\n",
    "\n",
    "import seaborn as sns\n",
    "import matplotlib as mpl\n",
    "import matplotlib.pyplot as plt\n",
    "import matplotlib.ticker as mtick\n",
    "sns.set_style(\"whitegrid\")\n",
    "from sklearn.ensemble import GradientBoostingRegressor\n",
    "from plotnine import ggplot, aes, geom_bar, theme_minimal, labs"
   ]
  },
  {
   "cell_type": "code",
   "execution_count": 2,
   "id": "1b522153",
   "metadata": {},
   "outputs": [],
   "source": [
    "data = pd.read_csv('cleaned_data_barca2.csv')\n",
    "barca4 = pd.read_csv('cleaned_data_barca4.csv')\n",
    "madrid = pd.read_csv('cleaned_data_madrid.csv')"
   ]
  },
  {
   "cell_type": "code",
   "execution_count": 3,
   "id": "66c6ee6a",
   "metadata": {},
   "outputs": [
    {
     "data": {
      "text/plain": [
       "(15612, 67)"
      ]
     },
     "execution_count": 3,
     "metadata": {},
     "output_type": "execute_result"
    }
   ],
   "source": [
    "data.shape"
   ]
  },
  {
   "cell_type": "code",
   "execution_count": 4,
   "id": "45c1d708",
   "metadata": {},
   "outputs": [
    {
     "data": {
      "text/html": [
       "<div>\n",
       "<style scoped>\n",
       "    .dataframe tbody tr th:only-of-type {\n",
       "        vertical-align: middle;\n",
       "    }\n",
       "\n",
       "    .dataframe tbody tr th {\n",
       "        vertical-align: top;\n",
       "    }\n",
       "\n",
       "    .dataframe thead th {\n",
       "        text-align: right;\n",
       "    }\n",
       "</style>\n",
       "<table border=\"1\" class=\"dataframe\">\n",
       "  <thead>\n",
       "    <tr style=\"text-align: right;\">\n",
       "      <th></th>\n",
       "      <th>id</th>\n",
       "      <th>host_acceptance_rate</th>\n",
       "      <th>latitude</th>\n",
       "      <th>longitude</th>\n",
       "      <th>bedrooms</th>\n",
       "      <th>price</th>\n",
       "      <th>maximum_nights</th>\n",
       "      <th>availability_30</th>\n",
       "      <th>availability_60</th>\n",
       "      <th>availability_90</th>\n",
       "      <th>...</th>\n",
       "      <th>f_number_of_reviews</th>\n",
       "      <th>ln_days_since</th>\n",
       "      <th>ln_days_since2</th>\n",
       "      <th>ln_days_since3</th>\n",
       "      <th>n_days_since2</th>\n",
       "      <th>n_days_since3</th>\n",
       "      <th>ln_review_scores_rating</th>\n",
       "      <th>f_minimum_nights</th>\n",
       "      <th>distance</th>\n",
       "      <th>in_center</th>\n",
       "    </tr>\n",
       "  </thead>\n",
       "  <tbody>\n",
       "    <tr>\n",
       "      <th>count</th>\n",
       "      <td>1.561200e+04</td>\n",
       "      <td>15612.000000</td>\n",
       "      <td>15612.000000</td>\n",
       "      <td>15612.000000</td>\n",
       "      <td>15612.000000</td>\n",
       "      <td>15612.000000</td>\n",
       "      <td>15612.000000</td>\n",
       "      <td>15612.000000</td>\n",
       "      <td>15612.000000</td>\n",
       "      <td>15612.000000</td>\n",
       "      <td>...</td>\n",
       "      <td>15611.000000</td>\n",
       "      <td>15612.000000</td>\n",
       "      <td>15612.000000</td>\n",
       "      <td>15612.000000</td>\n",
       "      <td>1.561200e+04</td>\n",
       "      <td>1.561200e+04</td>\n",
       "      <td>15612.000000</td>\n",
       "      <td>15611.000000</td>\n",
       "      <td>15612.000000</td>\n",
       "      <td>15612.000000</td>\n",
       "    </tr>\n",
       "    <tr>\n",
       "      <th>mean</th>\n",
       "      <td>5.488582e+17</td>\n",
       "      <td>86.117538</td>\n",
       "      <td>41.392004</td>\n",
       "      <td>2.166935</td>\n",
       "      <td>1.769664</td>\n",
       "      <td>110.305726</td>\n",
       "      <td>511.054061</td>\n",
       "      <td>14.503075</td>\n",
       "      <td>32.836600</td>\n",
       "      <td>52.964579</td>\n",
       "      <td>...</td>\n",
       "      <td>1.067965</td>\n",
       "      <td>6.655956</td>\n",
       "      <td>45.750886</td>\n",
       "      <td>321.829557</td>\n",
       "      <td>2.916263e+06</td>\n",
       "      <td>8.661120e+09</td>\n",
       "      <td>1.522771</td>\n",
       "      <td>2.261610</td>\n",
       "      <td>1.851366</td>\n",
       "      <td>0.645401</td>\n",
       "    </tr>\n",
       "    <tr>\n",
       "      <th>std</th>\n",
       "      <td>5.229909e+17</td>\n",
       "      <td>23.557487</td>\n",
       "      <td>0.013871</td>\n",
       "      <td>0.017521</td>\n",
       "      <td>1.126992</td>\n",
       "      <td>104.879221</td>\n",
       "      <td>395.121662</td>\n",
       "      <td>10.536158</td>\n",
       "      <td>20.422308</td>\n",
       "      <td>29.972709</td>\n",
       "      <td>...</td>\n",
       "      <td>0.707826</td>\n",
       "      <td>1.203840</td>\n",
       "      <td>14.548174</td>\n",
       "      <td>140.209169</td>\n",
       "      <td>4.564966e+06</td>\n",
       "      <td>1.817431e+10</td>\n",
       "      <td>0.137706</td>\n",
       "      <td>0.906012</td>\n",
       "      <td>1.170015</td>\n",
       "      <td>0.478407</td>\n",
       "    </tr>\n",
       "    <tr>\n",
       "      <th>min</th>\n",
       "      <td>1.867400e+04</td>\n",
       "      <td>0.000000</td>\n",
       "      <td>41.335310</td>\n",
       "      <td>2.090310</td>\n",
       "      <td>0.000000</td>\n",
       "      <td>5.000000</td>\n",
       "      <td>1.000000</td>\n",
       "      <td>0.000000</td>\n",
       "      <td>0.000000</td>\n",
       "      <td>0.000000</td>\n",
       "      <td>...</td>\n",
       "      <td>0.000000</td>\n",
       "      <td>0.000000</td>\n",
       "      <td>0.000000</td>\n",
       "      <td>0.000000</td>\n",
       "      <td>1.000000e+00</td>\n",
       "      <td>1.000000e+00</td>\n",
       "      <td>0.000000</td>\n",
       "      <td>1.000000</td>\n",
       "      <td>0.022265</td>\n",
       "      <td>0.000000</td>\n",
       "    </tr>\n",
       "    <tr>\n",
       "      <th>25%</th>\n",
       "      <td>3.148763e+07</td>\n",
       "      <td>85.000000</td>\n",
       "      <td>41.381128</td>\n",
       "      <td>2.156649</td>\n",
       "      <td>1.000000</td>\n",
       "      <td>52.000000</td>\n",
       "      <td>330.000000</td>\n",
       "      <td>5.000000</td>\n",
       "      <td>15.000000</td>\n",
       "      <td>30.000000</td>\n",
       "      <td>...</td>\n",
       "      <td>1.000000</td>\n",
       "      <td>6.194405</td>\n",
       "      <td>38.370658</td>\n",
       "      <td>237.683412</td>\n",
       "      <td>2.401000e+05</td>\n",
       "      <td>1.176490e+08</td>\n",
       "      <td>1.512927</td>\n",
       "      <td>1.000000</td>\n",
       "      <td>0.989227</td>\n",
       "      <td>0.000000</td>\n",
       "    </tr>\n",
       "    <tr>\n",
       "      <th>50%</th>\n",
       "      <td>6.595190e+17</td>\n",
       "      <td>97.000000</td>\n",
       "      <td>41.389915</td>\n",
       "      <td>2.167630</td>\n",
       "      <td>1.000000</td>\n",
       "      <td>88.000000</td>\n",
       "      <td>365.000000</td>\n",
       "      <td>14.000000</td>\n",
       "      <td>35.000000</td>\n",
       "      <td>59.000000</td>\n",
       "      <td>...</td>\n",
       "      <td>1.000000</td>\n",
       "      <td>6.825460</td>\n",
       "      <td>46.586905</td>\n",
       "      <td>317.977056</td>\n",
       "      <td>8.482410e+05</td>\n",
       "      <td>7.812300e+08</td>\n",
       "      <td>1.549688</td>\n",
       "      <td>3.000000</td>\n",
       "      <td>1.594674</td>\n",
       "      <td>1.000000</td>\n",
       "    </tr>\n",
       "    <tr>\n",
       "      <th>75%</th>\n",
       "      <td>1.070916e+18</td>\n",
       "      <td>100.000000</td>\n",
       "      <td>41.401301</td>\n",
       "      <td>2.177294</td>\n",
       "      <td>2.000000</td>\n",
       "      <td>130.000000</td>\n",
       "      <td>1125.000000</td>\n",
       "      <td>24.000000</td>\n",
       "      <td>52.000000</td>\n",
       "      <td>80.000000</td>\n",
       "      <td>...</td>\n",
       "      <td>2.000000</td>\n",
       "      <td>7.553811</td>\n",
       "      <td>57.060058</td>\n",
       "      <td>431.020888</td>\n",
       "      <td>3.640464e+06</td>\n",
       "      <td>6.946005e+09</td>\n",
       "      <td>1.576915</td>\n",
       "      <td>3.000000</td>\n",
       "      <td>2.423993</td>\n",
       "      <td>1.000000</td>\n",
       "    </tr>\n",
       "    <tr>\n",
       "      <th>max</th>\n",
       "      <td>1.309263e+18</td>\n",
       "      <td>100.000000</td>\n",
       "      <td>41.456377</td>\n",
       "      <td>2.221830</td>\n",
       "      <td>18.000000</td>\n",
       "      <td>1058.000000</td>\n",
       "      <td>1125.000000</td>\n",
       "      <td>30.000000</td>\n",
       "      <td>60.000000</td>\n",
       "      <td>90.000000</td>\n",
       "      <td>...</td>\n",
       "      <td>2.000000</td>\n",
       "      <td>8.569596</td>\n",
       "      <td>73.437973</td>\n",
       "      <td>629.333753</td>\n",
       "      <td>2.776236e+07</td>\n",
       "      <td>1.462799e+11</td>\n",
       "      <td>1.609438</td>\n",
       "      <td>3.000000</td>\n",
       "      <td>7.896295</td>\n",
       "      <td>1.000000</td>\n",
       "    </tr>\n",
       "  </tbody>\n",
       "</table>\n",
       "<p>8 rows × 54 columns</p>\n",
       "</div>"
      ],
      "text/plain": [
       "                 id  host_acceptance_rate      latitude     longitude  \\\n",
       "count  1.561200e+04          15612.000000  15612.000000  15612.000000   \n",
       "mean   5.488582e+17             86.117538     41.392004      2.166935   \n",
       "std    5.229909e+17             23.557487      0.013871      0.017521   \n",
       "min    1.867400e+04              0.000000     41.335310      2.090310   \n",
       "25%    3.148763e+07             85.000000     41.381128      2.156649   \n",
       "50%    6.595190e+17             97.000000     41.389915      2.167630   \n",
       "75%    1.070916e+18            100.000000     41.401301      2.177294   \n",
       "max    1.309263e+18            100.000000     41.456377      2.221830   \n",
       "\n",
       "           bedrooms         price  maximum_nights  availability_30  \\\n",
       "count  15612.000000  15612.000000    15612.000000     15612.000000   \n",
       "mean       1.769664    110.305726      511.054061        14.503075   \n",
       "std        1.126992    104.879221      395.121662        10.536158   \n",
       "min        0.000000      5.000000        1.000000         0.000000   \n",
       "25%        1.000000     52.000000      330.000000         5.000000   \n",
       "50%        1.000000     88.000000      365.000000        14.000000   \n",
       "75%        2.000000    130.000000     1125.000000        24.000000   \n",
       "max       18.000000   1058.000000     1125.000000        30.000000   \n",
       "\n",
       "       availability_60  availability_90  ...  f_number_of_reviews  \\\n",
       "count     15612.000000     15612.000000  ...         15611.000000   \n",
       "mean         32.836600        52.964579  ...             1.067965   \n",
       "std          20.422308        29.972709  ...             0.707826   \n",
       "min           0.000000         0.000000  ...             0.000000   \n",
       "25%          15.000000        30.000000  ...             1.000000   \n",
       "50%          35.000000        59.000000  ...             1.000000   \n",
       "75%          52.000000        80.000000  ...             2.000000   \n",
       "max          60.000000        90.000000  ...             2.000000   \n",
       "\n",
       "       ln_days_since  ln_days_since2  ln_days_since3  n_days_since2  \\\n",
       "count   15612.000000    15612.000000    15612.000000   1.561200e+04   \n",
       "mean        6.655956       45.750886      321.829557   2.916263e+06   \n",
       "std         1.203840       14.548174      140.209169   4.564966e+06   \n",
       "min         0.000000        0.000000        0.000000   1.000000e+00   \n",
       "25%         6.194405       38.370658      237.683412   2.401000e+05   \n",
       "50%         6.825460       46.586905      317.977056   8.482410e+05   \n",
       "75%         7.553811       57.060058      431.020888   3.640464e+06   \n",
       "max         8.569596       73.437973      629.333753   2.776236e+07   \n",
       "\n",
       "       n_days_since3  ln_review_scores_rating  f_minimum_nights      distance  \\\n",
       "count   1.561200e+04             15612.000000      15611.000000  15612.000000   \n",
       "mean    8.661120e+09                 1.522771          2.261610      1.851366   \n",
       "std     1.817431e+10                 0.137706          0.906012      1.170015   \n",
       "min     1.000000e+00                 0.000000          1.000000      0.022265   \n",
       "25%     1.176490e+08                 1.512927          1.000000      0.989227   \n",
       "50%     7.812300e+08                 1.549688          3.000000      1.594674   \n",
       "75%     6.946005e+09                 1.576915          3.000000      2.423993   \n",
       "max     1.462799e+11                 1.609438          3.000000      7.896295   \n",
       "\n",
       "          in_center  \n",
       "count  15612.000000  \n",
       "mean       0.645401  \n",
       "std        0.478407  \n",
       "min        0.000000  \n",
       "25%        0.000000  \n",
       "50%        1.000000  \n",
       "75%        1.000000  \n",
       "max        1.000000  \n",
       "\n",
       "[8 rows x 54 columns]"
      ]
     },
     "execution_count": 4,
     "metadata": {},
     "output_type": "execute_result"
    }
   ],
   "source": [
    "data.describe()"
   ]
  },
  {
   "cell_type": "code",
   "execution_count": 5,
   "id": "c798175d",
   "metadata": {},
   "outputs": [
    {
     "data": {
      "text/plain": [
       "ln_beds                311\n",
       "f_bathroom               2\n",
       "f_number_of_reviews      1\n",
       "f_minimum_nights         1\n",
       "dtype: int64"
      ]
     },
     "execution_count": 5,
     "metadata": {},
     "output_type": "execute_result"
    }
   ],
   "source": [
    "data.isnull().sum().loc[lambda x: x > 0]"
   ]
  },
  {
   "cell_type": "code",
   "execution_count": 6,
   "id": "75479ee7",
   "metadata": {},
   "outputs": [
    {
     "data": {
      "text/plain": [
       "ln_beds                1753\n",
       "f_bathroom                2\n",
       "f_number_of_reviews       1\n",
       "f_minimum_nights          1\n",
       "dtype: int64"
      ]
     },
     "execution_count": 6,
     "metadata": {},
     "output_type": "execute_result"
    }
   ],
   "source": [
    "barca4.isnull().sum().loc[lambda x: x > 0]"
   ]
  },
  {
   "cell_type": "code",
   "execution_count": 7,
   "id": "2f05d0bd",
   "metadata": {},
   "outputs": [
    {
     "data": {
      "text/plain": [
       "ln_beds                2972\n",
       "f_bathroom                1\n",
       "f_number_of_reviews       1\n",
       "f_minimum_nights          1\n",
       "dtype: int64"
      ]
     },
     "execution_count": 7,
     "metadata": {},
     "output_type": "execute_result"
    }
   ],
   "source": [
    "madrid.isnull().sum().loc[lambda x: x > 0]"
   ]
  },
  {
   "cell_type": "code",
   "execution_count": 8,
   "id": "c661dc9e",
   "metadata": {},
   "outputs": [],
   "source": [
    "data['f_bathroom']=data['f_bathroom'].fillna(1)\n",
    "data['f_minimum_nights']=data['f_minimum_nights'].fillna(1)\n",
    "data['f_number_of_reviews']=data['f_number_of_reviews'].fillna(1)\n",
    "data['ln_beds']=data['ln_beds'].fillna(0)\n",
    "\n",
    "barca4['f_bathroom'] = barca4['f_bathroom'].fillna(1)\n",
    "barca4['f_minimum_nights'] = barca4['f_minimum_nights'].fillna(1)\n",
    "barca4['f_number_of_reviews'] = barca4['f_number_of_reviews'].fillna(1)\n",
    "barca4['ln_beds'] = barca4['ln_beds'].fillna(0)\n",
    "\n",
    "madrid['f_bathroom'] = madrid['f_bathroom'].fillna(1)\n",
    "madrid['f_minimum_nights'] = madrid['f_minimum_nights'].fillna(1)\n",
    "madrid['f_number_of_reviews'] = madrid['f_number_of_reviews'].fillna(1)\n",
    "madrid['ln_beds'] = madrid['ln_beds'].fillna(0)\n"
   ]
  },
  {
   "cell_type": "code",
   "execution_count": 9,
   "id": "d86d5d77",
   "metadata": {},
   "outputs": [
    {
     "data": {
      "text/plain": [
       "flag_days_since\n",
       "0    12196\n",
       "1     3416\n",
       "Name: count, dtype: int64"
      ]
     },
     "execution_count": 9,
     "metadata": {},
     "output_type": "execute_result"
    }
   ],
   "source": [
    "data.flag_days_since.value_counts()"
   ]
  },
  {
   "cell_type": "code",
   "execution_count": 10,
   "id": "96b47281",
   "metadata": {},
   "outputs": [
    {
     "data": {
      "text/plain": [
       "Series([], dtype: int64)"
      ]
     },
     "execution_count": 10,
     "metadata": {},
     "output_type": "execute_result"
    }
   ],
   "source": [
    "data.isnull().sum().loc[lambda x: x > 0]"
   ]
  },
  {
   "cell_type": "code",
   "execution_count": 11,
   "id": "07eff11d",
   "metadata": {},
   "outputs": [
    {
     "data": {
      "text/plain": [
       "Series([], dtype: int64)"
      ]
     },
     "execution_count": 11,
     "metadata": {},
     "output_type": "execute_result"
    }
   ],
   "source": [
    "barca4.isnull().sum().loc[lambda x: x > 0]"
   ]
  },
  {
   "cell_type": "code",
   "execution_count": 12,
   "id": "b1968322",
   "metadata": {},
   "outputs": [
    {
     "data": {
      "text/plain": [
       "Series([], dtype: int64)"
      ]
     },
     "execution_count": 12,
     "metadata": {},
     "output_type": "execute_result"
    }
   ],
   "source": [
    "madrid.isnull().sum().loc[lambda x: x > 0]"
   ]
  },
  {
   "cell_type": "markdown",
   "id": "358a1a78",
   "metadata": {},
   "source": [
    "## Create new variables measuring the time since: squared, cubic, logs"
   ]
  },
  {
   "cell_type": "code",
   "execution_count": 13,
   "id": "b7a1d303",
   "metadata": {},
   "outputs": [],
   "source": [
    "data = data.assign(\n",
    "    ln_days_since=lambda x: np.log(x[\"n_days_since\"] + 1),\n",
    "    ln_days_since2=lambda x: np.log(x[\"n_days_since\"] + 1) ** 2,\n",
    "    ln_days_since3=lambda x: np.log(x[\"n_days_since\"] + 1) ** 3,\n",
    "    n_days_since2=lambda x: x[\"n_days_since\"] ** 2,\n",
    "    n_days_since3=lambda x: x[\"n_days_since\"] ** 3,\n",
    "    ln_review_scores_rating=lambda x: np.log(x[\"n_review_scores_rating\"]),\n",
    ").assign(\n",
    "    ln_days_since=lambda x: np.where(\n",
    "        x[\"ln_days_since\"].isnull(), 0, x[\"ln_days_since\"]\n",
    "    ),\n",
    "    ln_days_since2=lambda x: np.where(\n",
    "        x[\"ln_days_since2\"].isnull(), 0, x[\"ln_days_since2\"]\n",
    "    ),\n",
    "    ln_days_since3=lambda x: np.where(\n",
    "        x[\"ln_days_since3\"].isnull(), 0, x[\"ln_days_since3\"]\n",
    "    ),\n",
    ")\n",
    "\n",
    "barca4 = barca4.assign(\n",
    "    ln_days_since=lambda x: np.log(x[\"n_days_since\"] + 1),\n",
    "    ln_days_since2=lambda x: np.log(x[\"n_days_since\"] + 1) ** 2,\n",
    "    ln_days_since3=lambda x: np.log(x[\"n_days_since\"] + 1) ** 3,\n",
    "    n_days_since2=lambda x: x[\"n_days_since\"] ** 2,\n",
    "    n_days_since3=lambda x: x[\"n_days_since\"] ** 3,\n",
    "    ln_review_scores_rating=lambda x: np.log(x[\"n_review_scores_rating\"]),\n",
    ").assign(\n",
    "    ln_days_since=lambda x: np.where(\n",
    "        x[\"ln_days_since\"].isnull(), 0, x[\"ln_days_since\"]\n",
    "    ),\n",
    "    ln_days_since2=lambda x: np.where(\n",
    "        x[\"ln_days_since2\"].isnull(), 0, x[\"ln_days_since2\"]\n",
    "    ),\n",
    "    ln_days_since3=lambda x: np.where(\n",
    "        x[\"ln_days_since3\"].isnull(), 0, x[\"ln_days_since3\"]\n",
    "    ),\n",
    ")\n",
    "\n",
    "\n",
    "madrid = madrid.assign(\n",
    "    ln_days_since=lambda x: np.log(x[\"n_days_since\"] + 1),\n",
    "    ln_days_since2=lambda x: np.log(x[\"n_days_since\"] + 1) ** 2,\n",
    "    ln_days_since3=lambda x: np.log(x[\"n_days_since\"] + 1) ** 3,\n",
    "    n_days_since2=lambda x: x[\"n_days_since\"] ** 2,\n",
    "    n_days_since3=lambda x: x[\"n_days_since\"] ** 3,\n",
    "    ln_review_scores_rating=lambda x: np.log(x[\"n_review_scores_rating\"]),\n",
    ").assign(\n",
    "    ln_days_since=lambda x: np.where(\n",
    "        x[\"ln_days_since\"].isnull(), 0, x[\"ln_days_since\"]\n",
    "    ),\n",
    "    ln_days_since2=lambda x: np.where(\n",
    "        x[\"ln_days_since2\"].isnull(), 0, x[\"ln_days_since2\"]\n",
    "    ),\n",
    "    ln_days_since3=lambda x: np.where(\n",
    "        x[\"ln_days_since3\"].isnull(), 0, x[\"ln_days_since3\"]\n",
    "    ),\n",
    ")\n"
   ]
  },
  {
   "cell_type": "code",
   "execution_count": 14,
   "id": "3ee23d5b",
   "metadata": {},
   "outputs": [
    {
     "data": {
      "text/plain": [
       "Series([], dtype: int64)"
      ]
     },
     "execution_count": 14,
     "metadata": {},
     "output_type": "execute_result"
    }
   ],
   "source": [
    "data.isnull().sum().loc[lambda x: x > 0]"
   ]
  },
  {
   "cell_type": "code",
   "execution_count": 15,
   "id": "323d8d60",
   "metadata": {},
   "outputs": [
    {
     "data": {
      "text/plain": [
       "count    15612.000000\n",
       "mean         3.563989\n",
       "std          2.195655\n",
       "min          1.000000\n",
       "25%          2.000000\n",
       "50%          3.000000\n",
       "75%          5.000000\n",
       "max         16.000000\n",
       "Name: n_accommodates, dtype: float64"
      ]
     },
     "execution_count": 15,
     "metadata": {},
     "output_type": "execute_result"
    }
   ],
   "source": [
    "data['n_accommodates'].describe()"
   ]
  },
  {
   "cell_type": "code",
   "execution_count": 16,
   "id": "bcd65a00",
   "metadata": {},
   "outputs": [],
   "source": [
    "data = data.loc[data.n_accommodates < 8]\n",
    "barca4 = barca4.loc[barca4.n_accommodates < 8]\n",
    "madrid = madrid.loc[madrid.n_accommodates < 8]\n"
   ]
  },
  {
   "cell_type": "code",
   "execution_count": 17,
   "id": "20ebbd8a",
   "metadata": {},
   "outputs": [
    {
     "data": {
      "text/html": [
       "<div>\n",
       "<style scoped>\n",
       "    .dataframe tbody tr th:only-of-type {\n",
       "        vertical-align: middle;\n",
       "    }\n",
       "\n",
       "    .dataframe tbody tr th {\n",
       "        vertical-align: top;\n",
       "    }\n",
       "\n",
       "    .dataframe thead th {\n",
       "        text-align: right;\n",
       "    }\n",
       "</style>\n",
       "<table border=\"1\" class=\"dataframe\">\n",
       "  <thead>\n",
       "    <tr style=\"text-align: right;\">\n",
       "      <th></th>\n",
       "      <th>mean_price</th>\n",
       "    </tr>\n",
       "    <tr>\n",
       "      <th>room_type</th>\n",
       "      <th></th>\n",
       "    </tr>\n",
       "  </thead>\n",
       "  <tbody>\n",
       "    <tr>\n",
       "      <th>Entire home/apt</th>\n",
       "      <td>121.654370</td>\n",
       "    </tr>\n",
       "    <tr>\n",
       "      <th>Hotel room</th>\n",
       "      <td>136.094595</td>\n",
       "    </tr>\n",
       "    <tr>\n",
       "      <th>Private room</th>\n",
       "      <td>60.110787</td>\n",
       "    </tr>\n",
       "    <tr>\n",
       "      <th>Shared room</th>\n",
       "      <td>54.558824</td>\n",
       "    </tr>\n",
       "  </tbody>\n",
       "</table>\n",
       "</div>"
      ],
      "text/plain": [
       "                 mean_price\n",
       "room_type                  \n",
       "Entire home/apt  121.654370\n",
       "Hotel room       136.094595\n",
       "Private room      60.110787\n",
       "Shared room       54.558824"
      ]
     },
     "execution_count": 17,
     "metadata": {},
     "output_type": "execute_result"
    }
   ],
   "source": [
    "data.groupby([\"room_type\"]).agg(mean_price=(\"price\", np.mean))"
   ]
  },
  {
   "cell_type": "code",
   "execution_count": 18,
   "id": "524cee05",
   "metadata": {},
   "outputs": [
    {
     "data": {
      "text/plain": [
       "count    14771.000000\n",
       "mean       101.101347\n",
       "std         89.683556\n",
       "min          5.000000\n",
       "25%         50.000000\n",
       "50%         85.000000\n",
       "75%        122.000000\n",
       "max       1050.000000\n",
       "Name: price, dtype: float64"
      ]
     },
     "execution_count": 18,
     "metadata": {},
     "output_type": "execute_result"
    }
   ],
   "source": [
    "data.price.describe()"
   ]
  },
  {
   "cell_type": "code",
   "execution_count": 19,
   "id": "fff17bbf",
   "metadata": {},
   "outputs": [
    {
     "data": {
      "image/png": "[encoded data removed]"
     },
     "metadata": {
      "image/png": {
       "height": 480,
       "width": 640
      }
     },
     "output_type": "display_data"
    },
    {
     "name": "stdout",
     "output_type": "stream",
     "text": [
      "\n"
     ]
    }
   ],
   "source": [
    "# Define the colors (replace with actual color values)\n",
    "color = [\"#E41A1C\", \"#377EB8\", \"#4DAF4A\"]\n",
    "\n",
    "# Define the plot\n",
    "plot = (\n",
    "    ggplot(data, aes(x=\"room_type\", y=\"price\"))\n",
    "    + stat_boxplot(\n",
    "        aes(group=\"room_type\"),\n",
    "        geom=\"errorbar\",\n",
    "        width=0.3,\n",
    "        color=color[1],  # Adjusted to a valid color format\n",
    "        size=0.5,\n",
    "        na_rm=True,\n",
    "    )\n",
    "    + geom_boxplot(\n",
    "        aes(group=\"room_type\"),\n",
    "        color=color[1],  # Boxplot border color\n",
    "        fill=color[1],  # Boxplot fill color\n",
    "        size=0.5,\n",
    "        width=0.6,\n",
    "        alpha=0.3,\n",
    "        na_rm=True,\n",
    "        outlier_color=color[0],  # Specify a valid color instead of an empty string\n",
    "    )\n",
    "    + scale_y_continuous(expand=(0.01, 0.01), limits=(0, 300), breaks=np.arange(0, 301, 100))\n",
    "    + labs(x=\"Room type\", y=\"Price (US dollars)\")\n",
    "    + theme_bw()\n",
    ")\n",
    "\n",
    "# Display the plot\n",
    "print(plot)\n"
   ]
  },
  {
   "cell_type": "code",
   "execution_count": 20,
   "id": "40a50641",
   "metadata": {},
   "outputs": [
    {
     "data": {
      "image/png": "[encoded data removed]",
      "text/plain": [
       "<Figure size 1000x600 with 1 Axes>"
      ]
     },
     "metadata": {},
     "output_type": "display_data"
    }
   ],
   "source": [
    "# relative frequencies with matplotlib\n",
    "\n",
    "from matplotlib.ticker import PercentFormatter\n",
    "fig = plt.figure(figsize = (10,6))\n",
    "ax = fig.add_subplot(111)\n",
    "ax.hist(data.price, bins = 16, density = True, rwidth = 0.9, color = 'steelblue')\n",
    "ax.set_xlabel('price in USD')\n",
    "# ax.grid()\n",
    "ax.yaxis.set_major_formatter(PercentFormatter(xmax=0.1, decimals = 0))\n",
    "ax.set_title('Relative frequency of apartment prices')\n",
    "plt.show()"
   ]
  },
  {
   "cell_type": "code",
   "execution_count": 21,
   "id": "043e1049",
   "metadata": {},
   "outputs": [
    {
     "data": {
      "image/png": "[encoded data removed]",
      "text/plain": [
       "<Figure size 1000x600 with 1 Axes>"
      ]
     },
     "metadata": {},
     "output_type": "display_data"
    }
   ],
   "source": [
    "# relative frequencies with matplotlib\n",
    "from matplotlib.ticker import PercentFormatter\n",
    "fig = plt.figure(figsize = (10,6))\n",
    "ax = fig.add_subplot(111)\n",
    "ax.hist(data.ln_price, bins = 16, density = True, rwidth = 0.9, color = 'steelblue')\n",
    "# ax.set_xticks(range(0, df.price.max(), 2000))\n",
    "ax.set_xlabel('ln price in USD')\n",
    "ax.yaxis.set_major_formatter(PercentFormatter(xmax=10, decimals = 0))\n",
    "ax.set_title('Relative frequency of logged apartment prices')\n",
    "plt.show()"
   ]
  },
  {
   "cell_type": "code",
   "execution_count": 22,
   "id": "b957cb8c",
   "metadata": {},
   "outputs": [],
   "source": [
    "data[\"room_type\"] = pd.Categorical(\n",
    "    data[\"room_type\"], categories=sorted(set(data[\"room_type\"]), reverse=False)\n",
    ")\n",
    "barca4[\"room_type\"] = pd.Categorical(\n",
    "    barca4[\"room_type\"], categories=sorted(set(barca4[\"room_type\"]), reverse=False)\n",
    ")\n",
    "\n",
    "madrid[\"room_type\"] = pd.Categorical(\n",
    "    madrid[\"room_type\"], categories=sorted(set(madrid[\"room_type\"]), reverse=False)\n",
    ")\n"
   ]
  },
  {
   "cell_type": "code",
   "execution_count": 23,
   "id": "878bf10e",
   "metadata": {},
   "outputs": [
    {
     "data": {
      "image/png": "[encoded data removed]",
      "text/plain": [
       "<Figure size 640x480 with 1 Axes>"
      ]
     },
     "metadata": {},
     "output_type": "display_data"
    }
   ],
   "source": [
    "sns.boxplot(data = data, x = 'room_type', y = 'price', orient = 'v', order = ['Entire home/apt', 'Hotel room', 'Private room', 'Shared room'])\n",
    "plt.show()"
   ]
  },
  {
   "cell_type": "code",
   "execution_count": 24,
   "id": "cee7b0f3",
   "metadata": {},
   "outputs": [
    {
     "data": {
      "text/plain": [
       "room_type\n",
       "Entire home/apt    9759\n",
       "Private room       4802\n",
       "Shared room         136\n",
       "Hotel room           74\n",
       "Name: count, dtype: int64"
      ]
     },
     "execution_count": 24,
     "metadata": {},
     "output_type": "execute_result"
    }
   ],
   "source": [
    "data.room_type.value_counts()"
   ]
  },
  {
   "cell_type": "code",
   "execution_count": 25,
   "id": "4f87f39e",
   "metadata": {},
   "outputs": [
    {
     "data": {
      "image/png": "[encoded data removed]",
      "text/plain": [
       "<Figure size 640x480 with 1 Axes>"
      ]
     },
     "metadata": {},
     "output_type": "display_data"
    }
   ],
   "source": [
    "sns.boxplot(data = data, x = 'n_accommodates', y = 'price', orient = 'v')\n",
    "plt.show()"
   ]
  },
  {
   "cell_type": "code",
   "execution_count": 26,
   "id": "74c0a6ea",
   "metadata": {},
   "outputs": [
    {
     "data": {
      "text/plain": [
       "n_accommodates\n",
       "1.0    2030\n",
       "2.0    4595\n",
       "3.0    1518\n",
       "4.0    3428\n",
       "5.0    1333\n",
       "6.0    1570\n",
       "7.0     297\n",
       "Name: count, dtype: int64"
      ]
     },
     "execution_count": 26,
     "metadata": {},
     "output_type": "execute_result"
    }
   ],
   "source": [
    "data.n_accommodates.value_counts().sort_index()"
   ]
  },
  {
   "cell_type": "markdown",
   "id": "a8fd3517",
   "metadata": {},
   "source": [
    "# Part 2. Setting up models"
   ]
  },
  {
   "cell_type": "code",
   "execution_count": 27,
   "id": "2c2ab19c",
   "metadata": {},
   "outputs": [],
   "source": [
    "basic_lev = ( \"n_accommodates\",\n",
    "    \"n_beds\",\n",
    "    \"room_type\",\n",
    "    \"n_days_since\",\n",
    "    \"flag_days_since\",\n",
    "    \"f_bathroom\",\n",
    "     \"distance\")\n",
    "\n",
    "host = (\"host_acceptance_rate\",\n",
    "    \"host_is_superhost\",\n",
    "    \"host_has_profile_pic\",\n",
    "    \"host_identity_verified\")\n",
    "\n",
    "amenities = (\n",
    "    \"Laundry\",\n",
    "    \"Essentials\",\n",
    "    \"Heating_Cooling\",\n",
    "    \"Kitchen\",\n",
    "    \"Outdoor\",\n",
    "    \"Workspace\",\n",
    "    \"Entertainment\",\n",
    "    \"Luxury\",\n",
    "    \"Internet\",\n",
    "    \"Parking\",\n",
    "    \"Family\"\n",
    ")\n",
    "\n",
    "nights = ( \"n_minimum_nights\", \"maximum_nights\") \n",
    "reviews = (\"f_number_of_reviews\", \"n_review_scores_rating\", \"flag_review_scores_rating\")\n",
    "poly_lev = (\"n_accommodates2\", \"n_days_since2\", \"n_days_since3\")\n"
   ]
  },
  {
   "cell_type": "markdown",
   "id": "296b669d",
   "metadata": {},
   "source": [
    "## Interactions"
   ]
  },
  {
   "cell_type": "code",
   "execution_count": 28,
   "id": "127b7fa8",
   "metadata": {},
   "outputs": [],
   "source": [
    "def price_diff_by_variables(df, factor_var, dummy_var, factor_lab, dummy_lab):\n",
    "    # Calculate statistics same way as before\n",
    "    stats = df.groupby([factor_var, dummy_var]).agg(\n",
    "        Mean=(\"price\", np.mean), \n",
    "        sd=(\"price\", np.std), \n",
    "        size=(\"price\", \"size\")\n",
    "    )\n",
    "    stats[\"se\"] = stats[\"sd\"] / stats[\"size\"] ** (1/2)\n",
    "    stats[\"Mean_l\"] = stats[\"Mean\"] - (1.96 * stats[\"se\"])\n",
    "    stats[\"Mean_u\"] = stats[\"Mean\"] + (1.96 * stats[\"se\"])\n",
    "    stats = stats.drop([\"sd\", \"size\"], axis=1).reset_index()\n",
    "\n",
    "    # Create the plot using seaborn\n",
    "    # plt.figure(figsize=(10, 6))\n",
    "    plt.figure()\n",
    "    \n",
    "    # Create bar plot\n",
    "    ax = sns.barplot(\n",
    "        data=stats,\n",
    "        x=stats.columns[0],\n",
    "        y='Mean',\n",
    "        hue=stats.columns[1],\n",
    "        palette=['indianred', 'steelblue'],\n",
    "        ci=None\n",
    "    )\n",
    "\n",
    "    # Add error bars\n",
    "    for i, group in enumerate(stats[stats.columns[1]].unique()):\n",
    "        group_data = stats[stats[stats.columns[1]] == group]\n",
    "        x = np.arange(len(group_data))\n",
    "        \n",
    "        # Adjust x positions for dodge effect\n",
    "        if i == 1:\n",
    "            x = x + 0.2\n",
    "        else:\n",
    "            x = x - 0.2\n",
    "            \n",
    "        plt.errorbar(\n",
    "            x=x, \n",
    "            y=group_data['Mean'],\n",
    "            yerr=[(group_data['Mean'] - group_data['Mean_l']), \n",
    "                  (group_data['Mean_u'] - group_data['Mean'])],\n",
    "            fmt='none',\n",
    "            color='black',\n",
    "            capsize=3\n",
    "        )\n",
    "\n",
    "    # Customize the plot\n",
    "    plt.xlabel(factor_lab)\n",
    "    plt.ylabel('Mean Price')\n",
    "    \n",
    "    # Customize legend\n",
    "    plt.legend(\n",
    "        title=dummy_lab,\n",
    "        bbox_to_anchor=(0.5, 1.15),\n",
    "        loc='center',\n",
    "        ncol=2,\n",
    "        fontsize=10,\n",
    "        title_fontsize=10\n",
    "    )\n",
    "    \n",
    "    # Remove grid\n",
    "    ax.grid(False)\n",
    "    plt.show()\n",
    "    \n",
    "    return plt"
   ]
  },
  {
   "cell_type": "code",
   "execution_count": 29,
   "id": "08e6ca8a",
   "metadata": {},
   "outputs": [
    {
     "data": {
      "image/png": "[encoded data removed]",
      "text/plain": [
       "<Figure size 640x480 with 1 Axes>"
      ]
     },
     "metadata": {},
     "output_type": "display_data"
    },
    {
     "data": {
      "text/plain": [
       "<module 'matplotlib.pyplot' from 'C:\\\\Users\\\\Acer\\\\anaconda3\\\\lib\\\\site-packages\\\\matplotlib\\\\pyplot.py'>"
      ]
     },
     "execution_count": 29,
     "metadata": {},
     "output_type": "execute_result"
    }
   ],
   "source": [
    "price_diff_by_variables(data, \"room_type\", 'instant_bookable', \"Room type\", 'instant_bookable')"
   ]
  },
  {
   "cell_type": "code",
   "execution_count": 30,
   "id": "c042e3aa",
   "metadata": {},
   "outputs": [
    {
     "data": {
      "image/png": "[encoded data removed]",
      "text/plain": [
       "<Figure size 640x480 with 1 Axes>"
      ]
     },
     "metadata": {},
     "output_type": "display_data"
    },
    {
     "data": {
      "text/plain": [
       "<module 'matplotlib.pyplot' from 'C:\\\\Users\\\\Acer\\\\anaconda3\\\\lib\\\\site-packages\\\\matplotlib\\\\pyplot.py'>"
      ]
     },
     "execution_count": 30,
     "metadata": {},
     "output_type": "execute_result"
    }
   ],
   "source": [
    "price_diff_by_variables(data, \"room_type\", 'in_center', \"Room type\", 'In center')"
   ]
  },
  {
   "cell_type": "code",
   "execution_count": 31,
   "id": "3ffdb92d",
   "metadata": {},
   "outputs": [
    {
     "data": {
      "image/png": "[encoded data removed]",
      "text/plain": [
       "<Figure size 640x480 with 1 Axes>"
      ]
     },
     "metadata": {},
     "output_type": "display_data"
    }
   ],
   "source": [
    "price_diff_by_variables(data, \"in_center\", \"Kitchen\", \"In Center\", \"kitchen\");"
   ]
  },
  {
   "cell_type": "code",
   "execution_count": 32,
   "id": "96f5b66f",
   "metadata": {},
   "outputs": [
    {
     "data": {
      "image/png": "[encoded data removed]",
      "text/plain": [
       "<Figure size 640x480 with 1 Axes>"
      ]
     },
     "metadata": {},
     "output_type": "display_data"
    },
    {
     "data": {
      "text/plain": [
       "<module 'matplotlib.pyplot' from 'C:\\\\Users\\\\Acer\\\\anaconda3\\\\lib\\\\site-packages\\\\matplotlib\\\\pyplot.py'>"
      ]
     },
     "execution_count": 32,
     "metadata": {},
     "output_type": "execute_result"
    }
   ],
   "source": [
    "price_diff_by_variables(data,\"room_type\",\"Family\",\"Room type\", \"Family kid friendly\")"
   ]
  },
  {
   "cell_type": "code",
   "execution_count": 33,
   "id": "8eae59fb",
   "metadata": {},
   "outputs": [
    {
     "data": {
      "image/png": "[encoded data removed]",
      "text/plain": [
       "<Figure size 640x480 with 1 Axes>"
      ]
     },
     "metadata": {},
     "output_type": "display_data"
    }
   ],
   "source": [
    "price_diff_by_variables(data, \"room_type\", \"Heating_Cooling\", \"room type\", \"air conditioning/ heating\");"
   ]
  },
  {
   "cell_type": "code",
   "execution_count": 34,
   "id": "b0faa4ea",
   "metadata": {},
   "outputs": [],
   "source": [
    "X1 = (\"room_type*instant_bookable\", \"room_type*Family\")\n",
    "X2 = (\"room_type*in_center\", \"in_center*Kitchen\", \"room_type*Heating_Cooling\")\n"
   ]
  },
  {
   "cell_type": "markdown",
   "id": "a9d6b684",
   "metadata": {},
   "source": [
    "basic_lev,\n",
    "basic_add, \n",
    "reviews ,\n",
    "host ,\n",
    "nights ,\n",
    "amenities ,\n",
    "poly_lev "
   ]
  },
  {
   "cell_type": "code",
   "execution_count": 35,
   "id": "7b20d53f",
   "metadata": {},
   "outputs": [],
   "source": [
    "modellev1=\"~ n_accommodates\"\n",
    "modellev2=\"~\"+\"+\".join(basic_lev)\n",
    "modellev3=\"~\"+\"+\".join(basic_lev)+\"+\"+\"+\".join(reviews)\n",
    "modellev4=\"~\"+\"+\".join(basic_lev)+\"+\"+\"+\".join(reviews)+\"+\"+\"+\".join(host)\n",
    "modellev5=\"~\"+\"+\".join(basic_lev)+\"+\"+\"+\".join(reviews)+\"+\"+\"+\".join(host)+\"+\"+\"+\".join(nights)\n",
    "modellev6=\"~\"+\"+\".join(basic_lev)+\"+\"+\"+\".join(reviews)+\"+\"+\"+\".join(host)+\"+\"+\"+\".join(nights)+\"+\"+\"+\".join(amenities)\n",
    "modellev7=\"~\"+\"+\".join(basic_lev)+\"+\"+\"+\".join(reviews)+\"+\"+\"+\".join(host)+\"+\"+\"+\".join(nights)+\"+\"+\"+\".join(amenities)+\"+\"+\"+\".join(poly_lev)\n",
    "modellev8=\"~\"+\"+\".join(basic_lev)+\"+\"+\"+\".join(reviews)+\"+\"+\"+\".join(host)+\"+\"+\"+\".join(nights)+\"+\"+\"+\".join(amenities)+\"+\"+\"+\".join(X1)+\"+\"+\"+\".join(X2)\n",
    "\n"
   ]
  },
  {
   "cell_type": "code",
   "execution_count": 36,
   "id": "a2e0e643",
   "metadata": {},
   "outputs": [
    {
     "data": {
      "text/plain": [
       "'~n_accommodates+n_beds+room_type+n_days_since+flag_days_since+f_bathroom+distance+f_number_of_reviews+n_review_scores_rating+flag_review_scores_rating+host_acceptance_rate+host_is_superhost+host_has_profile_pic+host_identity_verified+n_minimum_nights+maximum_nights+Laundry+Essentials+Heating_Cooling+Kitchen+Outdoor+Workspace+Entertainment+Luxury+Internet+Parking+Family+room_type*instant_bookable+room_type*Family+room_type*in_center+in_center*Kitchen+room_type*Heating_Cooling'"
      ]
     },
     "execution_count": 36,
     "metadata": {},
     "output_type": "execute_result"
    }
   ],
   "source": [
    "modellev8"
   ]
  },
  {
   "cell_type": "markdown",
   "id": "042ac253",
   "metadata": {},
   "source": [
    "# Regression with CV"
   ]
  },
  {
   "cell_type": "code",
   "execution_count": 37,
   "id": "c9adbc59",
   "metadata": {},
   "outputs": [],
   "source": [
    "smp_size = round(0.2 * data.shape[0])-1"
   ]
  },
  {
   "cell_type": "code",
   "execution_count": 38,
   "id": "38eaad7a",
   "metadata": {},
   "outputs": [
    {
     "data": {
      "text/plain": [
       "2953"
      ]
     },
     "execution_count": 38,
     "metadata": {},
     "output_type": "execute_result"
    }
   ],
   "source": [
    "smp_size"
   ]
  },
  {
   "cell_type": "code",
   "execution_count": 39,
   "id": "7c0f7e33",
   "metadata": {},
   "outputs": [],
   "source": [
    "# Set the seed to make results reproducable\n",
    "np.random.seed(20020302)"
   ]
  },
  {
   "cell_type": "code",
   "execution_count": 40,
   "id": "23e4e4bb",
   "metadata": {},
   "outputs": [],
   "source": [
    "from sklearn.model_selection import train_test_split"
   ]
  },
  {
   "cell_type": "code",
   "execution_count": 41,
   "id": "aafb74f2",
   "metadata": {},
   "outputs": [
    {
     "data": {
      "text/plain": [
       "(11818, 67)"
      ]
     },
     "execution_count": 41,
     "metadata": {},
     "output_type": "execute_result"
    }
   ],
   "source": [
    "data_work, data_holdout = train_test_split(data, test_size = smp_size)\n",
    "data_work.shape"
   ]
  },
  {
   "cell_type": "code",
   "execution_count": 42,
   "id": "f9c66729",
   "metadata": {},
   "outputs": [
    {
     "data": {
      "text/plain": [
       "(2953, 67)"
      ]
     },
     "execution_count": 42,
     "metadata": {},
     "output_type": "execute_result"
    }
   ],
   "source": [
    "data_holdout.shape"
   ]
  },
  {
   "cell_type": "code",
   "execution_count": 43,
   "id": "56c95b3b",
   "metadata": {},
   "outputs": [],
   "source": [
    "n_folds = 5"
   ]
  },
  {
   "cell_type": "code",
   "execution_count": 44,
   "id": "3f3b6d4f",
   "metadata": {},
   "outputs": [],
   "source": [
    "from sklearn.model_selection import KFold\n",
    "from statsmodels.tools.eval_measures import mse,rmse\n",
    "\n",
    "k = KFold(n_splits=n_folds, shuffle=False, random_state=None)"
   ]
  },
  {
   "cell_type": "code",
   "execution_count": 45,
   "id": "11939c1a",
   "metadata": {},
   "outputs": [],
   "source": [
    "def cv_reg(formula, df, kfold, testdf, robustse=None):\n",
    "    regression_list = []\n",
    "    predicts_on_test = []\n",
    "    rsquared = []\n",
    "    rmse_list = []\n",
    "    rmse_list_test = []\n",
    "\n",
    "    # Calculating OLS for each fold\n",
    "\n",
    "    for train_index, test_index in k.split(df):\n",
    "        df_train, df_test = df.iloc[train_index, :], df.iloc[test_index, :]\n",
    "        if robustse is None:\n",
    "            model = smf.ols(formula, data = df_train).fit()\n",
    "        else:\n",
    "            model = smf.ols(formula, data = df_train).fit(cov_type=robustse)\n",
    "        regression_list += [model]\n",
    "        predicts_on_test += [model.predict(df_test)]\n",
    "        rsquared += [model.rsquared]\n",
    "\n",
    "        rmse_tr = pd.concat(\n",
    "            [df_train[\"price\"], model.predict(df_train)],\n",
    "            axis=1,\n",
    "            keys=[\"price\", \"predicted\"],\n",
    "        )\n",
    "        rmse_tr = rmse_tr[~rmse_tr.isna().any(axis=1)]\n",
    "\n",
    "        rmse_te = pd.concat(\n",
    "            [df_test[\"price\"], model.predict(df_test)],\n",
    "            axis=1,\n",
    "            keys=[\"price\", \"predicted\"],\n",
    "        )\n",
    "        rmse_te = rmse_te[~rmse_te.isna().any(axis=1)]\n",
    "\n",
    "        rmse_list += [rmse(rmse_tr[\"price\"], rmse_tr[\"predicted\"], axis=0)]\n",
    "        rmse_list_test += [rmse(rmse_te[\"price\"], rmse_te[\"predicted\"], axis=0)]\n",
    "    nvars = model.df_model\n",
    "\n",
    "    return {\n",
    "        \"regressions\": regression_list,\n",
    "        \"test_predict\": predicts_on_test,\n",
    "        \"r2\": rsquared,\n",
    "        \"rmse\": rmse_list,\n",
    "        \"rmse_test\": rmse_list_test,\n",
    "        \"nvars\": nvars,\n",
    "    }\n",
    "\n",
    "\n",
    "def summarize_cv(cvlist, stat=\"rmse\"):\n",
    "    result = pd.DataFrame(\n",
    "        {\"Model\" + str(x + 1): cvlist[x][stat] for x in range(len(cvlist))}\n",
    "    )\n",
    "    result[\"Resample\"] = [\"Fold\" + str(x + 1) for x in range(len(cvlist[0][\"rmse\"]))]\n",
    "    result = result.set_index(\"Resample\")\n",
    "    result = pd.concat([result, pd.DataFrame(result.mean(), columns=[\"Average\"]).T])\n",
    "    return result"
   ]
  },
  {
   "cell_type": "code",
   "execution_count": 46,
   "id": "138c2897",
   "metadata": {},
   "outputs": [
    {
     "name": "stdout",
     "output_type": "stream",
     "text": [
      "['maximum_nights', 'n_minimum_nights', 'f_minimum_nights']\n"
     ]
    }
   ],
   "source": [
    "f_columns = data.filter(like=\"nights\", axis=1).columns.tolist()\n",
    "print(f_columns)\n"
   ]
  },
  {
   "cell_type": "code",
   "execution_count": 47,
   "id": "1ed87114",
   "metadata": {},
   "outputs": [],
   "source": [
    "cv_list = []\n",
    "for i in [\n",
    "    modellev1,\n",
    "    modellev2,\n",
    "    modellev3,\n",
    "    modellev4,\n",
    "    modellev5,\n",
    "    modellev6,\n",
    "    modellev7,\n",
    "    modellev8,\n",
    "]:\n",
    "    cv_list += [cv_reg(\"price\" + i, data, k, \"HC0\")]"
   ]
  },
  {
   "cell_type": "code",
   "execution_count": 48,
   "id": "1c4b6d68",
   "metadata": {},
   "outputs": [
    {
     "data": {
      "text/html": [
       "<div>\n",
       "<style scoped>\n",
       "    .dataframe tbody tr th:only-of-type {\n",
       "        vertical-align: middle;\n",
       "    }\n",
       "\n",
       "    .dataframe tbody tr th {\n",
       "        vertical-align: top;\n",
       "    }\n",
       "\n",
       "    .dataframe thead th {\n",
       "        text-align: right;\n",
       "    }\n",
       "</style>\n",
       "<table border=\"1\" class=\"dataframe\">\n",
       "  <thead>\n",
       "    <tr style=\"text-align: right;\">\n",
       "      <th></th>\n",
       "      <th>Model1</th>\n",
       "      <th>Model2</th>\n",
       "      <th>Model3</th>\n",
       "      <th>Model4</th>\n",
       "      <th>Model5</th>\n",
       "      <th>Model6</th>\n",
       "      <th>Model7</th>\n",
       "      <th>Model8</th>\n",
       "    </tr>\n",
       "  </thead>\n",
       "  <tbody>\n",
       "    <tr>\n",
       "      <th>Fold1</th>\n",
       "      <td>85.863</td>\n",
       "      <td>84.704</td>\n",
       "      <td>84.540</td>\n",
       "      <td>83.986</td>\n",
       "      <td>83.151</td>\n",
       "      <td>81.838</td>\n",
       "      <td>81.825</td>\n",
       "      <td>81.613</td>\n",
       "    </tr>\n",
       "    <tr>\n",
       "      <th>Fold2</th>\n",
       "      <td>83.660</td>\n",
       "      <td>82.332</td>\n",
       "      <td>82.193</td>\n",
       "      <td>81.633</td>\n",
       "      <td>80.982</td>\n",
       "      <td>79.962</td>\n",
       "      <td>79.944</td>\n",
       "      <td>79.650</td>\n",
       "    </tr>\n",
       "    <tr>\n",
       "      <th>Fold3</th>\n",
       "      <td>86.312</td>\n",
       "      <td>85.091</td>\n",
       "      <td>84.874</td>\n",
       "      <td>84.409</td>\n",
       "      <td>83.630</td>\n",
       "      <td>82.424</td>\n",
       "      <td>82.392</td>\n",
       "      <td>82.210</td>\n",
       "    </tr>\n",
       "    <tr>\n",
       "      <th>Fold4</th>\n",
       "      <td>76.807</td>\n",
       "      <td>75.559</td>\n",
       "      <td>75.359</td>\n",
       "      <td>74.782</td>\n",
       "      <td>74.178</td>\n",
       "      <td>73.068</td>\n",
       "      <td>73.034</td>\n",
       "      <td>72.880</td>\n",
       "    </tr>\n",
       "    <tr>\n",
       "      <th>Fold5</th>\n",
       "      <td>80.751</td>\n",
       "      <td>79.643</td>\n",
       "      <td>79.353</td>\n",
       "      <td>78.766</td>\n",
       "      <td>77.944</td>\n",
       "      <td>76.871</td>\n",
       "      <td>76.820</td>\n",
       "      <td>76.699</td>\n",
       "    </tr>\n",
       "    <tr>\n",
       "      <th>Average</th>\n",
       "      <td>82.679</td>\n",
       "      <td>81.466</td>\n",
       "      <td>81.264</td>\n",
       "      <td>80.715</td>\n",
       "      <td>79.977</td>\n",
       "      <td>78.832</td>\n",
       "      <td>78.803</td>\n",
       "      <td>78.610</td>\n",
       "    </tr>\n",
       "  </tbody>\n",
       "</table>\n",
       "</div>"
      ],
      "text/plain": [
       "         Model1  Model2  Model3  Model4  Model5  Model6  Model7  Model8\n",
       "Fold1    85.863  84.704  84.540  83.986  83.151  81.838  81.825  81.613\n",
       "Fold2    83.660  82.332  82.193  81.633  80.982  79.962  79.944  79.650\n",
       "Fold3    86.312  85.091  84.874  84.409  83.630  82.424  82.392  82.210\n",
       "Fold4    76.807  75.559  75.359  74.782  74.178  73.068  73.034  72.880\n",
       "Fold5    80.751  79.643  79.353  78.766  77.944  76.871  76.820  76.699\n",
       "Average  82.679  81.466  81.264  80.715  79.977  78.832  78.803  78.610"
      ]
     },
     "execution_count": 48,
     "metadata": {},
     "output_type": "execute_result"
    }
   ],
   "source": [
    "summarize_cv(cv_list).map('{:,.3f}'.format)"
   ]
  },
  {
   "cell_type": "code",
   "execution_count": 49,
   "id": "44a8e158",
   "metadata": {},
   "outputs": [],
   "source": [
    "# RMSE training vs test graph\n",
    "\n",
    "rmse_levels = {\"nvars\": [], \"var\": [], \"value\": []}\n",
    "for i in range(0, 8):\n",
    "    rmse_levels[\"nvars\"].append(int(cv_list[i][\"nvars\"]))\n",
    "    rmse_levels[\"var\"].append(\"RMSE Training\")\n",
    "    rmse_levels[\"value\"].append(pd.Series(cv_list[i][\"rmse\"]).mean())\n",
    "for i in range(0, 8):\n",
    "    rmse_levels[\"nvars\"].append(int(cv_list[i][\"nvars\"]))\n",
    "    rmse_levels[\"var\"].append(\"RMSE Test\")\n",
    "    rmse_levels[\"value\"].append(pd.Series(cv_list[i][\"rmse_test\"]).mean())\n",
    "data_rmse_levels = pd.DataFrame.from_dict(rmse_levels)\n",
    "data_rmse_levels[\"nvars2\"] = data_rmse_levels[\"nvars\"] + 1"
   ]
  },
  {
   "cell_type": "code",
   "execution_count": 50,
   "id": "39f1f26f",
   "metadata": {},
   "outputs": [
    {
     "data": {
      "text/html": [
       "<div>\n",
       "<style scoped>\n",
       "    .dataframe tbody tr th:only-of-type {\n",
       "        vertical-align: middle;\n",
       "    }\n",
       "\n",
       "    .dataframe tbody tr th {\n",
       "        vertical-align: top;\n",
       "    }\n",
       "\n",
       "    .dataframe thead th {\n",
       "        text-align: right;\n",
       "    }\n",
       "</style>\n",
       "<table border=\"1\" class=\"dataframe\">\n",
       "  <thead>\n",
       "    <tr style=\"text-align: right;\">\n",
       "      <th></th>\n",
       "      <th>nvars</th>\n",
       "      <th>var</th>\n",
       "      <th>value</th>\n",
       "      <th>nvars2</th>\n",
       "    </tr>\n",
       "  </thead>\n",
       "  <tbody>\n",
       "    <tr>\n",
       "      <th>0</th>\n",
       "      <td>1</td>\n",
       "      <td>RMSE Training</td>\n",
       "      <td>82.678531</td>\n",
       "      <td>2</td>\n",
       "    </tr>\n",
       "    <tr>\n",
       "      <th>1</th>\n",
       "      <td>9</td>\n",
       "      <td>RMSE Training</td>\n",
       "      <td>81.465823</td>\n",
       "      <td>10</td>\n",
       "    </tr>\n",
       "    <tr>\n",
       "      <th>2</th>\n",
       "      <td>11</td>\n",
       "      <td>RMSE Training</td>\n",
       "      <td>81.263907</td>\n",
       "      <td>12</td>\n",
       "    </tr>\n",
       "    <tr>\n",
       "      <th>3</th>\n",
       "      <td>16</td>\n",
       "      <td>RMSE Training</td>\n",
       "      <td>80.715066</td>\n",
       "      <td>17</td>\n",
       "    </tr>\n",
       "    <tr>\n",
       "      <th>4</th>\n",
       "      <td>18</td>\n",
       "      <td>RMSE Training</td>\n",
       "      <td>79.976841</td>\n",
       "      <td>19</td>\n",
       "    </tr>\n",
       "    <tr>\n",
       "      <th>5</th>\n",
       "      <td>29</td>\n",
       "      <td>RMSE Training</td>\n",
       "      <td>78.832498</td>\n",
       "      <td>30</td>\n",
       "    </tr>\n",
       "    <tr>\n",
       "      <th>6</th>\n",
       "      <td>32</td>\n",
       "      <td>RMSE Training</td>\n",
       "      <td>78.802935</td>\n",
       "      <td>33</td>\n",
       "    </tr>\n",
       "    <tr>\n",
       "      <th>7</th>\n",
       "      <td>43</td>\n",
       "      <td>RMSE Training</td>\n",
       "      <td>78.610460</td>\n",
       "      <td>44</td>\n",
       "    </tr>\n",
       "    <tr>\n",
       "      <th>8</th>\n",
       "      <td>1</td>\n",
       "      <td>RMSE Test</td>\n",
       "      <td>81.762861</td>\n",
       "      <td>2</td>\n",
       "    </tr>\n",
       "    <tr>\n",
       "      <th>9</th>\n",
       "      <td>9</td>\n",
       "      <td>RMSE Test</td>\n",
       "      <td>81.199655</td>\n",
       "      <td>10</td>\n",
       "    </tr>\n",
       "    <tr>\n",
       "      <th>10</th>\n",
       "      <td>11</td>\n",
       "      <td>RMSE Test</td>\n",
       "      <td>81.007769</td>\n",
       "      <td>12</td>\n",
       "    </tr>\n",
       "    <tr>\n",
       "      <th>11</th>\n",
       "      <td>16</td>\n",
       "      <td>RMSE Test</td>\n",
       "      <td>80.820875</td>\n",
       "      <td>17</td>\n",
       "    </tr>\n",
       "    <tr>\n",
       "      <th>12</th>\n",
       "      <td>18</td>\n",
       "      <td>RMSE Test</td>\n",
       "      <td>80.293210</td>\n",
       "      <td>19</td>\n",
       "    </tr>\n",
       "    <tr>\n",
       "      <th>13</th>\n",
       "      <td>29</td>\n",
       "      <td>RMSE Test</td>\n",
       "      <td>79.178382</td>\n",
       "      <td>30</td>\n",
       "    </tr>\n",
       "    <tr>\n",
       "      <th>14</th>\n",
       "      <td>32</td>\n",
       "      <td>RMSE Test</td>\n",
       "      <td>83.372611</td>\n",
       "      <td>33</td>\n",
       "    </tr>\n",
       "    <tr>\n",
       "      <th>15</th>\n",
       "      <td>43</td>\n",
       "      <td>RMSE Test</td>\n",
       "      <td>79.473794</td>\n",
       "      <td>44</td>\n",
       "    </tr>\n",
       "  </tbody>\n",
       "</table>\n",
       "</div>"
      ],
      "text/plain": [
       "    nvars            var      value  nvars2\n",
       "0       1  RMSE Training  82.678531       2\n",
       "1       9  RMSE Training  81.465823      10\n",
       "2      11  RMSE Training  81.263907      12\n",
       "3      16  RMSE Training  80.715066      17\n",
       "4      18  RMSE Training  79.976841      19\n",
       "5      29  RMSE Training  78.832498      30\n",
       "6      32  RMSE Training  78.802935      33\n",
       "7      43  RMSE Training  78.610460      44\n",
       "8       1      RMSE Test  81.762861       2\n",
       "9       9      RMSE Test  81.199655      10\n",
       "10     11      RMSE Test  81.007769      12\n",
       "11     16      RMSE Test  80.820875      17\n",
       "12     18      RMSE Test  80.293210      19\n",
       "13     29      RMSE Test  79.178382      30\n",
       "14     32      RMSE Test  83.372611      33\n",
       "15     43      RMSE Test  79.473794      44"
      ]
     },
     "execution_count": 50,
     "metadata": {},
     "output_type": "execute_result"
    }
   ],
   "source": [
    "data_rmse_levels"
   ]
  },
  {
   "cell_type": "code",
   "execution_count": 51,
   "id": "9390dded",
   "metadata": {},
   "outputs": [
    {
     "data": {
      "image/png": "[encoded data removed]",
      "text/plain": [
       "<Figure size 700x500 with 1 Axes>"
      ]
     },
     "metadata": {},
     "output_type": "display_data"
    }
   ],
   "source": [
    "plt.figure(figsize=(7,5))\n",
    "ax = sns.lineplot(\n",
    "    x = [str(x) for x in data_rmse_levels['nvars2']], \n",
    "    y = data_rmse_levels['value'], \n",
    "    hue = data_rmse_levels['var'], marker = 'o',\n",
    "    palette = ['k', 'steelblue']\n",
    ")\n",
    "ax.set_title('Train & Test RMSE')\n",
    "ax.set_ylabel('RMSE')\n",
    "ax.set_xlabel('# of coefficients')\n",
    "ax.legend(fontsize = 8, title = None)\n",
    "ax.grid(linestyle = ':')\n",
    "plt.show();"
   ]
  },
  {
   "cell_type": "code",
   "execution_count": 52,
   "id": "b384f3d4",
   "metadata": {},
   "outputs": [
    {
     "data": {
      "text/plain": [
       "count    14771.000000\n",
       "mean       101.101347\n",
       "std         89.683556\n",
       "min          5.000000\n",
       "25%         50.000000\n",
       "50%         85.000000\n",
       "75%        122.000000\n",
       "max       1050.000000\n",
       "Name: price, dtype: float64"
      ]
     },
     "execution_count": 52,
     "metadata": {},
     "output_type": "execute_result"
    }
   ],
   "source": [
    "data.price.describe()"
   ]
  },
  {
   "cell_type": "markdown",
   "id": "646be406",
   "metadata": {},
   "source": [
    "## Lasso"
   ]
  },
  {
   "cell_type": "code",
   "execution_count": 53,
   "id": "c025a511",
   "metadata": {},
   "outputs": [],
   "source": [
    "predictors = basic_lev + reviews + host + nights + amenities + poly_lev\n",
    "predictors_2 = basic_lev + reviews + host + nights + amenities + poly_lev + X1 + X2"
   ]
  },
  {
   "cell_type": "code",
   "execution_count": 54,
   "id": "cdcb1813",
   "metadata": {},
   "outputs": [],
   "source": [
    "from sklearn.linear_model import ElasticNet\n",
    "from sklearn.model_selection import GridSearchCV\n",
    "from patsy import dmatrices\n",
    "from sklearn.preprocessing import StandardScaler"
   ]
  },
  {
   "cell_type": "code",
   "execution_count": 55,
   "id": "5f162a4e",
   "metadata": {},
   "outputs": [],
   "source": [
    "lasso_model =  ElasticNet(l1_ratio = 1, fit_intercept = True)"
   ]
  },
  {
   "cell_type": "code",
   "execution_count": 56,
   "id": "67f54450",
   "metadata": {},
   "outputs": [],
   "source": [
    "lasso_model_cv = GridSearchCV(\n",
    "    lasso_model,\n",
    "    # {\"alpha\":[i/100 for i in range(1, 26, 1)]}, #> this option takes forever to run\n",
    "    {\"alpha\":[i/100 for i in range(5, 26, 5)]},\n",
    "    cv=5,\n",
    "    scoring=\"neg_root_mean_squared_error\",\n",
    "    verbose=3,\n",
    ")\n"
   ]
  },
  {
   "cell_type": "code",
   "execution_count": 57,
   "id": "7b9eca5d",
   "metadata": {},
   "outputs": [],
   "source": [
    "y, X = dmatrices(\"price ~ \" + \" + \".join(predictors_2), data_work)"
   ]
  },
  {
   "cell_type": "code",
   "execution_count": 58,
   "id": "d440483d",
   "metadata": {},
   "outputs": [],
   "source": [
    "scaler = StandardScaler()\n",
    "X_scaled = scaler.fit_transform(X)"
   ]
  },
  {
   "cell_type": "code",
   "execution_count": 59,
   "id": "9f817297",
   "metadata": {},
   "outputs": [
    {
     "name": "stdout",
     "output_type": "stream",
     "text": [
      "Fitting 5 folds for each of 5 candidates, totalling 25 fits\n",
      "[CV 1/5] END ......................alpha=0.05;, score=-70.281 total time=   0.0s\n",
      "[CV 2/5] END ......................alpha=0.05;, score=-87.188 total time=   0.0s\n",
      "[CV 3/5] END ......................alpha=0.05;, score=-83.128 total time=   0.0s\n",
      "[CV 4/5] END ......................alpha=0.05;, score=-69.547 total time=   0.0s\n",
      "[CV 5/5] END ......................alpha=0.05;, score=-74.487 total time=   0.0s\n",
      "[CV 1/5] END .......................alpha=0.1;, score=-70.280 total time=   0.0s\n",
      "[CV 2/5] END .......................alpha=0.1;, score=-87.220 total time=   0.0s\n",
      "[CV 3/5] END .......................alpha=0.1;, score=-83.128 total time=   0.0s\n",
      "[CV 4/5] END .......................alpha=0.1;, score=-69.546 total time=   0.0s\n",
      "[CV 5/5] END .......................alpha=0.1;, score=-74.462 total time=   0.0s\n",
      "[CV 1/5] END ......................alpha=0.15;, score=-70.291 total time=   0.0s\n",
      "[CV 2/5] END ......................alpha=0.15;, score=-87.259 total time=   0.0s\n",
      "[CV 3/5] END ......................alpha=0.15;, score=-83.132 total time=   0.0s\n",
      "[CV 4/5] END ......................alpha=0.15;, score=-69.550 total time=   0.0s\n",
      "[CV 5/5] END ......................alpha=0.15;, score=-74.443 total time=   0.0s\n",
      "[CV 1/5] END .......................alpha=0.2;, score=-70.308 total time=   0.0s\n",
      "[CV 2/5] END .......................alpha=0.2;, score=-87.289 total time=   0.0s\n",
      "[CV 3/5] END .......................alpha=0.2;, score=-83.142 total time=   0.0s\n",
      "[CV 4/5] END .......................alpha=0.2;, score=-69.553 total time=   0.0s\n",
      "[CV 5/5] END .......................alpha=0.2;, score=-74.430 total time=   0.0s\n",
      "[CV 1/5] END ......................alpha=0.25;, score=-70.322 total time=   0.0s\n",
      "[CV 2/5] END ......................alpha=0.25;, score=-87.319 total time=   0.0s\n",
      "[CV 3/5] END ......................alpha=0.25;, score=-83.159 total time=   0.0s\n",
      "[CV 4/5] END ......................alpha=0.25;, score=-69.554 total time=   0.0s\n",
      "[CV 5/5] END ......................alpha=0.25;, score=-74.412 total time=   0.0s\n",
      "CPU times: total: 6 s\n",
      "Wall time: 1.51 s\n"
     ]
    },
    {
     "data": {
      "text/html": [
       "<style>#sk-container-id-1 {color: black;background-color: white;}#sk-container-id-1 pre{padding: 0;}#sk-container-id-1 div.sk-toggleable {background-color: white;}#sk-container-id-1 label.sk-toggleable__label {cursor: pointer;display: block;width: 100%;margin-bottom: 0;padding: 0.3em;box-sizing: border-box;text-align: center;}#sk-container-id-1 label.sk-toggleable__label-arrow:before {content: \"▸\";float: left;margin-right: 0.25em;color: #696969;}#sk-container-id-1 label.sk-toggleable__label-arrow:hover:before {color: black;}#sk-container-id-1 div.sk-estimator:hover label.sk-toggleable__label-arrow:before {color: black;}#sk-container-id-1 div.sk-toggleable__content {max-height: 0;max-width: 0;overflow: hidden;text-align: left;background-color: #f0f8ff;}#sk-container-id-1 div.sk-toggleable__content pre {margin: 0.2em;color: black;border-radius: 0.25em;background-color: #f0f8ff;}#sk-container-id-1 input.sk-toggleable__control:checked~div.sk-toggleable__content {max-height: 200px;max-width: 100%;overflow: auto;}#sk-container-id-1 input.sk-toggleable__control:checked~label.sk-toggleable__label-arrow:before {content: \"▾\";}#sk-container-id-1 div.sk-estimator input.sk-toggleable__control:checked~label.sk-toggleable__label {background-color: #d4ebff;}#sk-container-id-1 div.sk-label input.sk-toggleable__control:checked~label.sk-toggleable__label {background-color: #d4ebff;}#sk-container-id-1 input.sk-hidden--visually {border: 0;clip: rect(1px 1px 1px 1px);clip: rect(1px, 1px, 1px, 1px);height: 1px;margin: -1px;overflow: hidden;padding: 0;position: absolute;width: 1px;}#sk-container-id-1 div.sk-estimator {font-family: monospace;background-color: #f0f8ff;border: 1px dotted black;border-radius: 0.25em;box-sizing: border-box;margin-bottom: 0.5em;}#sk-container-id-1 div.sk-estimator:hover {background-color: #d4ebff;}#sk-container-id-1 div.sk-parallel-item::after {content: \"\";width: 100%;border-bottom: 1px solid gray;flex-grow: 1;}#sk-container-id-1 div.sk-label:hover label.sk-toggleable__label {background-color: #d4ebff;}#sk-container-id-1 div.sk-serial::before {content: \"\";position: absolute;border-left: 1px solid gray;box-sizing: border-box;top: 0;bottom: 0;left: 50%;z-index: 0;}#sk-container-id-1 div.sk-serial {display: flex;flex-direction: column;align-items: center;background-color: white;padding-right: 0.2em;padding-left: 0.2em;position: relative;}#sk-container-id-1 div.sk-item {position: relative;z-index: 1;}#sk-container-id-1 div.sk-parallel {display: flex;align-items: stretch;justify-content: center;background-color: white;position: relative;}#sk-container-id-1 div.sk-item::before, #sk-container-id-1 div.sk-parallel-item::before {content: \"\";position: absolute;border-left: 1px solid gray;box-sizing: border-box;top: 0;bottom: 0;left: 50%;z-index: -1;}#sk-container-id-1 div.sk-parallel-item {display: flex;flex-direction: column;z-index: 1;position: relative;background-color: white;}#sk-container-id-1 div.sk-parallel-item:first-child::after {align-self: flex-end;width: 50%;}#sk-container-id-1 div.sk-parallel-item:last-child::after {align-self: flex-start;width: 50%;}#sk-container-id-1 div.sk-parallel-item:only-child::after {width: 0;}#sk-container-id-1 div.sk-dashed-wrapped {border: 1px dashed gray;margin: 0 0.4em 0.5em 0.4em;box-sizing: border-box;padding-bottom: 0.4em;background-color: white;}#sk-container-id-1 div.sk-label label {font-family: monospace;font-weight: bold;display: inline-block;line-height: 1.2em;}#sk-container-id-1 div.sk-label-container {text-align: center;}#sk-container-id-1 div.sk-container {/* jupyter's `normalize.less` sets `[hidden] { display: none; }` but bootstrap.min.css set `[hidden] { display: none !important; }` so we also need the `!important` here to be able to override the default hidden behavior on the sphinx rendered scikit-learn.org. See: https://github.com/scikit-learn/scikit-learn/issues/21755 */display: inline-block !important;position: relative;}#sk-container-id-1 div.sk-text-repr-fallback {display: none;}</style><div id=\"sk-container-id-1\" class=\"sk-top-container\"><div class=\"sk-text-repr-fallback\"><pre>GridSearchCV(cv=5, estimator=ElasticNet(l1_ratio=1),\n",
       "             param_grid={&#x27;alpha&#x27;: [0.05, 0.1, 0.15, 0.2, 0.25]},\n",
       "             scoring=&#x27;neg_root_mean_squared_error&#x27;, verbose=3)</pre><b>In a Jupyter environment, please rerun this cell to show the HTML representation or trust the notebook. <br />On GitHub, the HTML representation is unable to render, please try loading this page with nbviewer.org.</b></div><div class=\"sk-container\" hidden><div class=\"sk-item sk-dashed-wrapped\"><div class=\"sk-label-container\"><div class=\"sk-label sk-toggleable\"><input class=\"sk-toggleable__control sk-hidden--visually\" id=\"sk-estimator-id-1\" type=\"checkbox\" ><label for=\"sk-estimator-id-1\" class=\"sk-toggleable__label sk-toggleable__label-arrow\">GridSearchCV</label><div class=\"sk-toggleable__content\"><pre>GridSearchCV(cv=5, estimator=ElasticNet(l1_ratio=1),\n",
       "             param_grid={&#x27;alpha&#x27;: [0.05, 0.1, 0.15, 0.2, 0.25]},\n",
       "             scoring=&#x27;neg_root_mean_squared_error&#x27;, verbose=3)</pre></div></div></div><div class=\"sk-parallel\"><div class=\"sk-parallel-item\"><div class=\"sk-item\"><div class=\"sk-label-container\"><div class=\"sk-label sk-toggleable\"><input class=\"sk-toggleable__control sk-hidden--visually\" id=\"sk-estimator-id-2\" type=\"checkbox\" ><label for=\"sk-estimator-id-2\" class=\"sk-toggleable__label sk-toggleable__label-arrow\">estimator: ElasticNet</label><div class=\"sk-toggleable__content\"><pre>ElasticNet(l1_ratio=1)</pre></div></div></div><div class=\"sk-serial\"><div class=\"sk-item\"><div class=\"sk-estimator sk-toggleable\"><input class=\"sk-toggleable__control sk-hidden--visually\" id=\"sk-estimator-id-3\" type=\"checkbox\" ><label for=\"sk-estimator-id-3\" class=\"sk-toggleable__label sk-toggleable__label-arrow\">ElasticNet</label><div class=\"sk-toggleable__content\"><pre>ElasticNet(l1_ratio=1)</pre></div></div></div></div></div></div></div></div></div></div>"
      ],
      "text/plain": [
       "GridSearchCV(cv=5, estimator=ElasticNet(l1_ratio=1),\n",
       "             param_grid={'alpha': [0.05, 0.1, 0.15, 0.2, 0.25]},\n",
       "             scoring='neg_root_mean_squared_error', verbose=3)"
      ]
     },
     "execution_count": 59,
     "metadata": {},
     "output_type": "execute_result"
    }
   ],
   "source": [
    "%%time\n",
    "lasso_model_cv.fit(X_scaled, y.ravel())"
   ]
  },
  {
   "cell_type": "code",
   "execution_count": 60,
   "id": "f1335959",
   "metadata": {},
   "outputs": [
    {
     "data": {
      "text/html": [
       "<style>#sk-container-id-2 {color: black;background-color: white;}#sk-container-id-2 pre{padding: 0;}#sk-container-id-2 div.sk-toggleable {background-color: white;}#sk-container-id-2 label.sk-toggleable__label {cursor: pointer;display: block;width: 100%;margin-bottom: 0;padding: 0.3em;box-sizing: border-box;text-align: center;}#sk-container-id-2 label.sk-toggleable__label-arrow:before {content: \"▸\";float: left;margin-right: 0.25em;color: #696969;}#sk-container-id-2 label.sk-toggleable__label-arrow:hover:before {color: black;}#sk-container-id-2 div.sk-estimator:hover label.sk-toggleable__label-arrow:before {color: black;}#sk-container-id-2 div.sk-toggleable__content {max-height: 0;max-width: 0;overflow: hidden;text-align: left;background-color: #f0f8ff;}#sk-container-id-2 div.sk-toggleable__content pre {margin: 0.2em;color: black;border-radius: 0.25em;background-color: #f0f8ff;}#sk-container-id-2 input.sk-toggleable__control:checked~div.sk-toggleable__content {max-height: 200px;max-width: 100%;overflow: auto;}#sk-container-id-2 input.sk-toggleable__control:checked~label.sk-toggleable__label-arrow:before {content: \"▾\";}#sk-container-id-2 div.sk-estimator input.sk-toggleable__control:checked~label.sk-toggleable__label {background-color: #d4ebff;}#sk-container-id-2 div.sk-label input.sk-toggleable__control:checked~label.sk-toggleable__label {background-color: #d4ebff;}#sk-container-id-2 input.sk-hidden--visually {border: 0;clip: rect(1px 1px 1px 1px);clip: rect(1px, 1px, 1px, 1px);height: 1px;margin: -1px;overflow: hidden;padding: 0;position: absolute;width: 1px;}#sk-container-id-2 div.sk-estimator {font-family: monospace;background-color: #f0f8ff;border: 1px dotted black;border-radius: 0.25em;box-sizing: border-box;margin-bottom: 0.5em;}#sk-container-id-2 div.sk-estimator:hover {background-color: #d4ebff;}#sk-container-id-2 div.sk-parallel-item::after {content: \"\";width: 100%;border-bottom: 1px solid gray;flex-grow: 1;}#sk-container-id-2 div.sk-label:hover label.sk-toggleable__label {background-color: #d4ebff;}#sk-container-id-2 div.sk-serial::before {content: \"\";position: absolute;border-left: 1px solid gray;box-sizing: border-box;top: 0;bottom: 0;left: 50%;z-index: 0;}#sk-container-id-2 div.sk-serial {display: flex;flex-direction: column;align-items: center;background-color: white;padding-right: 0.2em;padding-left: 0.2em;position: relative;}#sk-container-id-2 div.sk-item {position: relative;z-index: 1;}#sk-container-id-2 div.sk-parallel {display: flex;align-items: stretch;justify-content: center;background-color: white;position: relative;}#sk-container-id-2 div.sk-item::before, #sk-container-id-2 div.sk-parallel-item::before {content: \"\";position: absolute;border-left: 1px solid gray;box-sizing: border-box;top: 0;bottom: 0;left: 50%;z-index: -1;}#sk-container-id-2 div.sk-parallel-item {display: flex;flex-direction: column;z-index: 1;position: relative;background-color: white;}#sk-container-id-2 div.sk-parallel-item:first-child::after {align-self: flex-end;width: 50%;}#sk-container-id-2 div.sk-parallel-item:last-child::after {align-self: flex-start;width: 50%;}#sk-container-id-2 div.sk-parallel-item:only-child::after {width: 0;}#sk-container-id-2 div.sk-dashed-wrapped {border: 1px dashed gray;margin: 0 0.4em 0.5em 0.4em;box-sizing: border-box;padding-bottom: 0.4em;background-color: white;}#sk-container-id-2 div.sk-label label {font-family: monospace;font-weight: bold;display: inline-block;line-height: 1.2em;}#sk-container-id-2 div.sk-label-container {text-align: center;}#sk-container-id-2 div.sk-container {/* jupyter's `normalize.less` sets `[hidden] { display: none; }` but bootstrap.min.css set `[hidden] { display: none !important; }` so we also need the `!important` here to be able to override the default hidden behavior on the sphinx rendered scikit-learn.org. See: https://github.com/scikit-learn/scikit-learn/issues/21755 */display: inline-block !important;position: relative;}#sk-container-id-2 div.sk-text-repr-fallback {display: none;}</style><div id=\"sk-container-id-2\" class=\"sk-top-container\"><div class=\"sk-text-repr-fallback\"><pre>ElasticNet(alpha=0.05, l1_ratio=1)</pre><b>In a Jupyter environment, please rerun this cell to show the HTML representation or trust the notebook. <br />On GitHub, the HTML representation is unable to render, please try loading this page with nbviewer.org.</b></div><div class=\"sk-container\" hidden><div class=\"sk-item\"><div class=\"sk-estimator sk-toggleable\"><input class=\"sk-toggleable__control sk-hidden--visually\" id=\"sk-estimator-id-4\" type=\"checkbox\" checked><label for=\"sk-estimator-id-4\" class=\"sk-toggleable__label sk-toggleable__label-arrow\">ElasticNet</label><div class=\"sk-toggleable__content\"><pre>ElasticNet(alpha=0.05, l1_ratio=1)</pre></div></div></div></div></div>"
      ],
      "text/plain": [
       "ElasticNet(alpha=0.05, l1_ratio=1)"
      ]
     },
     "execution_count": 60,
     "metadata": {},
     "output_type": "execute_result"
    }
   ],
   "source": [
    "lasso_model_cv.best_estimator_"
   ]
  },
  {
   "cell_type": "code",
   "execution_count": 61,
   "id": "9c66aa75",
   "metadata": {},
   "outputs": [
    {
     "data": {
      "text/plain": [
       "76.926236856686"
      ]
     },
     "execution_count": 61,
     "metadata": {},
     "output_type": "execute_result"
    }
   ],
   "source": [
    "lasso_rmse = pd.DataFrame(lasso_model_cv.cv_results_).loc[\n",
    "    lambda x: x.param_alpha == lasso_model_cv.best_estimator_.alpha\n",
    "].mean_test_score.values[0] * -1\n",
    "lasso_rmse"
   ]
  },
  {
   "cell_type": "markdown",
   "id": "d5999523",
   "metadata": {},
   "source": [
    "## Random forest\n"
   ]
  },
  {
   "cell_type": "code",
   "execution_count": 62,
   "id": "12868bc7",
   "metadata": {},
   "outputs": [],
   "source": [
    "from sklearn.ensemble import RandomForestRegressor\n",
    "from sklearn.model_selection import GridSearchCV\n",
    "from sklearn.model_selection import RandomizedSearchCV\n",
    "from sklearn.impute import SimpleImputer\n",
    "from sklearn.inspection import permutation_importance\n",
    "from sklearn.inspection import PartialDependenceDisplay\n",
    "from sklearn.inspection import partial_dependence\n",
    "from sklearn.compose import ColumnTransformer\n",
    "from sklearn.pipeline import Pipeline\n",
    "from sklearn.preprocessing import OneHotEncoder, StandardScaler\n",
    "from sklearn.metrics import mean_squared_error\n",
    "import math\n"
   ]
  },
  {
   "cell_type": "code",
   "execution_count": 63,
   "id": "1a8446d5",
   "metadata": {},
   "outputs": [],
   "source": [
    "y, X = dmatrices(\"price ~ \" + \" + \".join(predictors), data = data_work)"
   ]
  },
  {
   "cell_type": "code",
   "execution_count": 64,
   "id": "d9b7630c",
   "metadata": {},
   "outputs": [
    {
     "data": {
      "text/plain": [
       "['Intercept',\n",
       " 'room_type[T.Hotel room]',\n",
       " 'room_type[T.Private room]',\n",
       " 'room_type[T.Shared room]',\n",
       " 'host_is_superhost[T.f]',\n",
       " 'host_is_superhost[T.t]',\n",
       " 'host_has_profile_pic[T.t]',\n",
       " 'host_identity_verified[T.t]',\n",
       " 'n_accommodates',\n",
       " 'n_beds',\n",
       " 'n_days_since',\n",
       " 'flag_days_since',\n",
       " 'f_bathroom',\n",
       " 'distance',\n",
       " 'f_number_of_reviews',\n",
       " 'n_review_scores_rating',\n",
       " 'flag_review_scores_rating',\n",
       " 'host_acceptance_rate',\n",
       " 'n_minimum_nights',\n",
       " 'maximum_nights',\n",
       " 'Laundry',\n",
       " 'Essentials',\n",
       " 'Heating_Cooling',\n",
       " 'Kitchen',\n",
       " 'Outdoor',\n",
       " 'Workspace',\n",
       " 'Entertainment',\n",
       " 'Luxury',\n",
       " 'Internet',\n",
       " 'Parking',\n",
       " 'Family',\n",
       " 'n_accommodates2',\n",
       " 'n_days_since2',\n",
       " 'n_days_since3']"
      ]
     },
     "execution_count": 64,
     "metadata": {},
     "output_type": "execute_result"
    }
   ],
   "source": [
    "X.design_info.column_names"
   ]
  },
  {
   "cell_type": "code",
   "execution_count": 65,
   "id": "ff701cfd",
   "metadata": {},
   "outputs": [
    {
     "name": "stdout",
     "output_type": "stream",
     "text": [
      "The theoretical recommended number of variables: 5.83.\n"
     ]
    }
   ],
   "source": [
    "print('The theoretical recommended number of variables: {:.2f}.'.format(math.sqrt(len(X.design_info.column_names))))"
   ]
  },
  {
   "cell_type": "code",
   "execution_count": 66,
   "id": "5cf834b9",
   "metadata": {},
   "outputs": [],
   "source": [
    "rfr = RandomForestRegressor(random_state = 20020203)"
   ]
  },
  {
   "cell_type": "code",
   "execution_count": 67,
   "id": "2400d8d7",
   "metadata": {},
   "outputs": [],
   "source": [
    "tune_grid = {\"max_features\": [2, 4, 6, 8], \"min_samples_leaf\": [5, 10, 15]}"
   ]
  },
  {
   "cell_type": "code",
   "execution_count": 68,
   "id": "43eef1c6",
   "metadata": {},
   "outputs": [],
   "source": [
    "rf_random = GridSearchCV(\n",
    "    estimator = rfr,\n",
    "    param_grid = tune_grid,\n",
    "    cv = 5,\n",
    "    scoring = \"neg_root_mean_squared_error\",\n",
    "    verbose = 3,\n",
    ")"
   ]
  },
  {
   "cell_type": "code",
   "execution_count": 69,
   "id": "a806d2ae",
   "metadata": {},
   "outputs": [
    {
     "name": "stdout",
     "output_type": "stream",
     "text": [
      "Fitting 5 folds for each of 12 candidates, totalling 60 fits\n",
      "[CV 1/5] END max_features=2, min_samples_leaf=5;, score=-66.165 total time=   0.5s\n",
      "[CV 2/5] END max_features=2, min_samples_leaf=5;, score=-83.720 total time=   0.5s\n",
      "[CV 3/5] END max_features=2, min_samples_leaf=5;, score=-79.154 total time=   0.5s\n",
      "[CV 4/5] END max_features=2, min_samples_leaf=5;, score=-65.704 total time=   0.5s\n",
      "[CV 5/5] END max_features=2, min_samples_leaf=5;, score=-70.557 total time=   0.5s\n",
      "[CV 1/5] END max_features=2, min_samples_leaf=10;, score=-67.618 total time=   0.4s\n",
      "[CV 2/5] END max_features=2, min_samples_leaf=10;, score=-85.439 total time=   0.5s\n",
      "[CV 3/5] END max_features=2, min_samples_leaf=10;, score=-81.471 total time=   0.4s\n",
      "[CV 4/5] END max_features=2, min_samples_leaf=10;, score=-68.017 total time=   0.5s\n",
      "[CV 5/5] END max_features=2, min_samples_leaf=10;, score=-72.148 total time=   0.8s\n",
      "[CV 1/5] END max_features=2, min_samples_leaf=15;, score=-67.915 total time=   0.7s\n",
      "[CV 2/5] END max_features=2, min_samples_leaf=15;, score=-86.625 total time=   0.4s\n",
      "[CV 3/5] END max_features=2, min_samples_leaf=15;, score=-82.391 total time=   0.4s\n",
      "[CV 4/5] END max_features=2, min_samples_leaf=15;, score=-68.402 total time=   0.5s\n",
      "[CV 5/5] END max_features=2, min_samples_leaf=15;, score=-72.933 total time=   0.6s\n",
      "[CV 1/5] END max_features=4, min_samples_leaf=5;, score=-64.802 total time=   1.1s\n",
      "[CV 2/5] END max_features=4, min_samples_leaf=5;, score=-80.888 total time=   1.2s\n",
      "[CV 3/5] END max_features=4, min_samples_leaf=5;, score=-76.290 total time=   1.1s\n",
      "[CV 4/5] END max_features=4, min_samples_leaf=5;, score=-63.472 total time=   1.0s\n",
      "[CV 5/5] END max_features=4, min_samples_leaf=5;, score=-68.153 total time=   0.9s\n",
      "[CV 1/5] END max_features=4, min_samples_leaf=10;, score=-65.921 total time=   0.8s\n",
      "[CV 2/5] END max_features=4, min_samples_leaf=10;, score=-83.196 total time=   0.8s\n",
      "[CV 3/5] END max_features=4, min_samples_leaf=10;, score=-78.272 total time=   0.9s\n",
      "[CV 4/5] END max_features=4, min_samples_leaf=10;, score=-65.262 total time=   0.8s\n",
      "[CV 5/5] END max_features=4, min_samples_leaf=10;, score=-69.788 total time=   0.8s\n",
      "[CV 1/5] END max_features=4, min_samples_leaf=15;, score=-66.448 total time=   0.7s\n",
      "[CV 2/5] END max_features=4, min_samples_leaf=15;, score=-84.459 total time=   0.7s\n",
      "[CV 3/5] END max_features=4, min_samples_leaf=15;, score=-79.864 total time=   0.8s\n",
      "[CV 4/5] END max_features=4, min_samples_leaf=15;, score=-66.209 total time=   0.9s\n",
      "[CV 5/5] END max_features=4, min_samples_leaf=15;, score=-70.550 total time=   0.8s\n",
      "[CV 1/5] END max_features=6, min_samples_leaf=5;, score=-63.896 total time=   1.6s\n",
      "[CV 2/5] END max_features=6, min_samples_leaf=5;, score=-79.840 total time=   1.6s\n",
      "[CV 3/5] END max_features=6, min_samples_leaf=5;, score=-75.155 total time=   1.4s\n",
      "[CV 4/5] END max_features=6, min_samples_leaf=5;, score=-62.575 total time=   1.4s\n",
      "[CV 5/5] END max_features=6, min_samples_leaf=5;, score=-67.454 total time=   1.4s\n",
      "[CV 1/5] END max_features=6, min_samples_leaf=10;, score=-65.120 total time=   1.2s\n",
      "[CV 2/5] END max_features=6, min_samples_leaf=10;, score=-82.441 total time=   1.2s\n",
      "[CV 3/5] END max_features=6, min_samples_leaf=10;, score=-77.206 total time=   1.4s\n",
      "[CV 4/5] END max_features=6, min_samples_leaf=10;, score=-64.154 total time=   1.4s\n",
      "[CV 5/5] END max_features=6, min_samples_leaf=10;, score=-68.870 total time=   1.2s\n",
      "[CV 1/5] END max_features=6, min_samples_leaf=15;, score=-65.887 total time=   1.1s\n",
      "[CV 2/5] END max_features=6, min_samples_leaf=15;, score=-83.413 total time=   1.1s\n",
      "[CV 3/5] END max_features=6, min_samples_leaf=15;, score=-78.536 total time=   1.1s\n",
      "[CV 4/5] END max_features=6, min_samples_leaf=15;, score=-65.254 total time=   1.1s\n",
      "[CV 5/5] END max_features=6, min_samples_leaf=15;, score=-69.769 total time=   1.2s\n",
      "[CV 1/5] END max_features=8, min_samples_leaf=5;, score=-63.587 total time=   1.9s\n",
      "[CV 2/5] END max_features=8, min_samples_leaf=5;, score=-79.512 total time=   1.8s\n",
      "[CV 3/5] END max_features=8, min_samples_leaf=5;, score=-74.378 total time=   1.8s\n",
      "[CV 4/5] END max_features=8, min_samples_leaf=5;, score=-62.152 total time=   1.9s\n",
      "[CV 5/5] END max_features=8, min_samples_leaf=5;, score=-66.714 total time=   1.9s\n",
      "[CV 1/5] END max_features=8, min_samples_leaf=10;, score=-65.078 total time=   1.6s\n",
      "[CV 2/5] END max_features=8, min_samples_leaf=10;, score=-81.752 total time=   1.8s\n",
      "[CV 3/5] END max_features=8, min_samples_leaf=10;, score=-76.919 total time=   2.2s\n",
      "[CV 4/5] END max_features=8, min_samples_leaf=10;, score=-64.060 total time=   2.3s\n",
      "[CV 5/5] END max_features=8, min_samples_leaf=10;, score=-68.283 total time=   1.9s\n",
      "[CV 1/5] END max_features=8, min_samples_leaf=15;, score=-65.665 total time=   1.7s\n",
      "[CV 2/5] END max_features=8, min_samples_leaf=15;, score=-83.087 total time=   1.5s\n",
      "[CV 3/5] END max_features=8, min_samples_leaf=15;, score=-77.976 total time=   1.5s\n",
      "[CV 4/5] END max_features=8, min_samples_leaf=15;, score=-64.919 total time=   1.4s\n",
      "[CV 5/5] END max_features=8, min_samples_leaf=15;, score=-69.508 total time=   1.3s\n",
      "CPU times: total: 1min 14s\n",
      "Wall time: 1min 14s\n"
     ]
    }
   ],
   "source": [
    "%%time\n",
    "rf_model = rf_random.fit(X, y.ravel())"
   ]
  },
  {
   "cell_type": "code",
   "execution_count": 70,
   "id": "f1b210dc",
   "metadata": {},
   "outputs": [
    {
     "data": {
      "text/plain": [
       "{'mean_fit_time': array([0.58423018, 0.57325678, 0.58997774, 1.10119009, 0.87797775,\n",
       "        0.84564524, 1.54057403, 1.34428802, 1.16495695, 1.91513505,\n",
       "        1.9965405 , 1.5390017 ]),\n",
       " 'std_fit_time': array([0.01461716, 0.13312925, 0.09318687, 0.10937914, 0.03709708,\n",
       "        0.08126219, 0.07786809, 0.10344179, 0.03644565, 0.03018917,\n",
       "        0.26912202, 0.12747603]),\n",
       " 'mean_score_time': array([0.03054075, 0.03083487, 0.02672725, 0.03914862, 0.0310348 ,\n",
       "        0.02747092, 0.04230094, 0.0358026 , 0.03101163, 0.03979149,\n",
       "        0.04170547, 0.03564024]),\n",
       " 'std_score_time': array([0.00150818, 0.00858424, 0.00228685, 0.00755482, 0.00260055,\n",
       "        0.00187416, 0.00920814, 0.00266621, 0.00117866, 0.00075814,\n",
       "        0.00494773, 0.00354576]),\n",
       " 'param_max_features': masked_array(data=[2, 2, 2, 4, 4, 4, 6, 6, 6, 8, 8, 8],\n",
       "              mask=[False, False, False, False, False, False, False, False,\n",
       "                    False, False, False, False],\n",
       "        fill_value='?',\n",
       "             dtype=object),\n",
       " 'param_min_samples_leaf': masked_array(data=[5, 10, 15, 5, 10, 15, 5, 10, 15, 5, 10, 15],\n",
       "              mask=[False, False, False, False, False, False, False, False,\n",
       "                    False, False, False, False],\n",
       "        fill_value='?',\n",
       "             dtype=object),\n",
       " 'params': [{'max_features': 2, 'min_samples_leaf': 5},\n",
       "  {'max_features': 2, 'min_samples_leaf': 10},\n",
       "  {'max_features': 2, 'min_samples_leaf': 15},\n",
       "  {'max_features': 4, 'min_samples_leaf': 5},\n",
       "  {'max_features': 4, 'min_samples_leaf': 10},\n",
       "  {'max_features': 4, 'min_samples_leaf': 15},\n",
       "  {'max_features': 6, 'min_samples_leaf': 5},\n",
       "  {'max_features': 6, 'min_samples_leaf': 10},\n",
       "  {'max_features': 6, 'min_samples_leaf': 15},\n",
       "  {'max_features': 8, 'min_samples_leaf': 5},\n",
       "  {'max_features': 8, 'min_samples_leaf': 10},\n",
       "  {'max_features': 8, 'min_samples_leaf': 15}],\n",
       " 'split0_test_score': array([-66.16531866, -67.61842297, -67.91493988, -64.80180317,\n",
       "        -65.92092215, -66.44787256, -63.89573458, -65.1199229 ,\n",
       "        -65.88654248, -63.58747749, -65.07790179, -65.66469448]),\n",
       " 'split1_test_score': array([-83.72037915, -85.43933068, -86.62508294, -80.8882602 ,\n",
       "        -83.19568536, -84.45855927, -79.84046555, -82.44074659,\n",
       "        -83.41327626, -79.5117535 , -81.75229711, -83.0865524 ]),\n",
       " 'split2_test_score': array([-79.15360881, -81.47068902, -82.3912477 , -76.28962949,\n",
       "        -78.27157688, -79.86429277, -75.15460751, -77.20551105,\n",
       "        -78.53602734, -74.37800185, -76.91899484, -77.97599041]),\n",
       " 'split3_test_score': array([-65.7038706 , -68.01685497, -68.4020656 , -63.47151757,\n",
       "        -65.26236736, -66.20879139, -62.57488501, -64.15428272,\n",
       "        -65.25367936, -62.15170851, -64.05994179, -64.91888944]),\n",
       " 'split4_test_score': array([-70.55705531, -72.14783206, -72.93295389, -68.15258163,\n",
       "        -69.78768475, -70.55040204, -67.45422288, -68.87029038,\n",
       "        -69.76947525, -66.71410418, -68.28344127, -69.5083853 ]),\n",
       " 'mean_test_score': array([-73.06004651, -74.93862594, -75.653258  , -70.72075841,\n",
       "        -72.4876473 , -73.50598361, -69.78398311, -71.55815073,\n",
       "        -72.57180014, -69.26860911, -71.21851536, -72.23090241]),\n",
       " 'std_test_score': array([7.19290977, 7.24178795, 7.55834454, 6.7612347 , 7.08141607,\n",
       "        7.37818971, 6.66403473, 7.12483268, 7.20014163, 6.64046576,\n",
       "        6.94295318, 7.13924215]),\n",
       " 'rank_test_score': array([ 9, 11, 12,  3,  7, 10,  2,  5,  8,  1,  4,  6])}"
      ]
     },
     "execution_count": 70,
     "metadata": {},
     "output_type": "execute_result"
    }
   ],
   "source": [
    "rf_model.cv_results_"
   ]
  },
  {
   "cell_type": "code",
   "execution_count": 71,
   "id": "ba0587c9",
   "metadata": {},
   "outputs": [],
   "source": [
    "df_rf_model_cv_results = pd.DataFrame(rf_model.cv_results_)[[\n",
    "    'param_max_features', 'param_min_samples_leaf', 'mean_test_score']]"
   ]
  },
  {
   "cell_type": "code",
   "execution_count": 72,
   "id": "15833c5d",
   "metadata": {},
   "outputs": [
    {
     "data": {
      "text/html": [
       "<div>\n",
       "<style scoped>\n",
       "    .dataframe tbody tr th:only-of-type {\n",
       "        vertical-align: middle;\n",
       "    }\n",
       "\n",
       "    .dataframe tbody tr th {\n",
       "        vertical-align: top;\n",
       "    }\n",
       "\n",
       "    .dataframe thead th {\n",
       "        text-align: right;\n",
       "    }\n",
       "</style>\n",
       "<table border=\"1\" class=\"dataframe\">\n",
       "  <thead>\n",
       "    <tr style=\"text-align: right;\">\n",
       "      <th></th>\n",
       "      <th>max features</th>\n",
       "      <th>min node size</th>\n",
       "      <th>RMSE</th>\n",
       "    </tr>\n",
       "  </thead>\n",
       "  <tbody>\n",
       "    <tr>\n",
       "      <th>0</th>\n",
       "      <td>2</td>\n",
       "      <td>5</td>\n",
       "      <td>-73.060047</td>\n",
       "    </tr>\n",
       "    <tr>\n",
       "      <th>1</th>\n",
       "      <td>2</td>\n",
       "      <td>10</td>\n",
       "      <td>-74.938626</td>\n",
       "    </tr>\n",
       "    <tr>\n",
       "      <th>2</th>\n",
       "      <td>2</td>\n",
       "      <td>15</td>\n",
       "      <td>-75.653258</td>\n",
       "    </tr>\n",
       "    <tr>\n",
       "      <th>3</th>\n",
       "      <td>4</td>\n",
       "      <td>5</td>\n",
       "      <td>-70.720758</td>\n",
       "    </tr>\n",
       "    <tr>\n",
       "      <th>4</th>\n",
       "      <td>4</td>\n",
       "      <td>10</td>\n",
       "      <td>-72.487647</td>\n",
       "    </tr>\n",
       "    <tr>\n",
       "      <th>5</th>\n",
       "      <td>4</td>\n",
       "      <td>15</td>\n",
       "      <td>-73.505984</td>\n",
       "    </tr>\n",
       "    <tr>\n",
       "      <th>6</th>\n",
       "      <td>6</td>\n",
       "      <td>5</td>\n",
       "      <td>-69.783983</td>\n",
       "    </tr>\n",
       "    <tr>\n",
       "      <th>7</th>\n",
       "      <td>6</td>\n",
       "      <td>10</td>\n",
       "      <td>-71.558151</td>\n",
       "    </tr>\n",
       "    <tr>\n",
       "      <th>8</th>\n",
       "      <td>6</td>\n",
       "      <td>15</td>\n",
       "      <td>-72.571800</td>\n",
       "    </tr>\n",
       "    <tr>\n",
       "      <th>9</th>\n",
       "      <td>8</td>\n",
       "      <td>5</td>\n",
       "      <td>-69.268609</td>\n",
       "    </tr>\n",
       "    <tr>\n",
       "      <th>10</th>\n",
       "      <td>8</td>\n",
       "      <td>10</td>\n",
       "      <td>-71.218515</td>\n",
       "    </tr>\n",
       "    <tr>\n",
       "      <th>11</th>\n",
       "      <td>8</td>\n",
       "      <td>15</td>\n",
       "      <td>-72.230902</td>\n",
       "    </tr>\n",
       "  </tbody>\n",
       "</table>\n",
       "</div>"
      ],
      "text/plain": [
       "   max features min node size       RMSE\n",
       "0             2             5 -73.060047\n",
       "1             2            10 -74.938626\n",
       "2             2            15 -75.653258\n",
       "3             4             5 -70.720758\n",
       "4             4            10 -72.487647\n",
       "5             4            15 -73.505984\n",
       "6             6             5 -69.783983\n",
       "7             6            10 -71.558151\n",
       "8             6            15 -72.571800\n",
       "9             8             5 -69.268609\n",
       "10            8            10 -71.218515\n",
       "11            8            15 -72.230902"
      ]
     },
     "execution_count": 72,
     "metadata": {},
     "output_type": "execute_result"
    }
   ],
   "source": [
    "df_rf_model_cv_results.columns = ['max features', 'min node size', 'RMSE']\n",
    "df_rf_model_cv_results"
   ]
  },
  {
   "cell_type": "code",
   "execution_count": 73,
   "id": "fb7bf625",
   "metadata": {},
   "outputs": [
    {
     "data": {
      "text/html": [
       "<div>\n",
       "<style scoped>\n",
       "    .dataframe tbody tr th:only-of-type {\n",
       "        vertical-align: middle;\n",
       "    }\n",
       "\n",
       "    .dataframe tbody tr th {\n",
       "        vertical-align: top;\n",
       "    }\n",
       "\n",
       "    .dataframe thead th {\n",
       "        text-align: right;\n",
       "    }\n",
       "</style>\n",
       "<table border=\"1\" class=\"dataframe\">\n",
       "  <thead>\n",
       "    <tr style=\"text-align: right;\">\n",
       "      <th>min node size</th>\n",
       "      <th>5</th>\n",
       "      <th>10</th>\n",
       "      <th>15</th>\n",
       "    </tr>\n",
       "    <tr>\n",
       "      <th>max features</th>\n",
       "      <th></th>\n",
       "      <th></th>\n",
       "      <th></th>\n",
       "    </tr>\n",
       "  </thead>\n",
       "  <tbody>\n",
       "    <tr>\n",
       "      <th>2</th>\n",
       "      <td>73.06</td>\n",
       "      <td>74.94</td>\n",
       "      <td>75.65</td>\n",
       "    </tr>\n",
       "    <tr>\n",
       "      <th>4</th>\n",
       "      <td>70.72</td>\n",
       "      <td>72.49</td>\n",
       "      <td>73.51</td>\n",
       "    </tr>\n",
       "    <tr>\n",
       "      <th>6</th>\n",
       "      <td>69.78</td>\n",
       "      <td>71.56</td>\n",
       "      <td>72.57</td>\n",
       "    </tr>\n",
       "    <tr>\n",
       "      <th>8</th>\n",
       "      <td>69.27</td>\n",
       "      <td>71.22</td>\n",
       "      <td>72.23</td>\n",
       "    </tr>\n",
       "  </tbody>\n",
       "</table>\n",
       "</div>"
      ],
      "text/plain": [
       "min node size     5      10     15\n",
       "max features                      \n",
       "2              73.06  74.94  75.65\n",
       "4              70.72  72.49  73.51\n",
       "6              69.78  71.56  72.57\n",
       "8              69.27  71.22  72.23"
      ]
     },
     "execution_count": 73,
     "metadata": {},
     "output_type": "execute_result"
    }
   ],
   "source": [
    "df_rf_model_cv_results.pivot(\n",
    "    index = 'max features', \n",
    "    columns = 'min node size', \n",
    "    values = 'RMSE').round(2)*-1\n"
   ]
  },
  {
   "cell_type": "code",
   "execution_count": 74,
   "id": "806b8456",
   "metadata": {},
   "outputs": [
    {
     "data": {
      "text/plain": [
       "-69.2686091069275"
      ]
     },
     "execution_count": 74,
     "metadata": {},
     "output_type": "execute_result"
    }
   ],
   "source": [
    "rf_model.best_score_"
   ]
  },
  {
   "cell_type": "code",
   "execution_count": 75,
   "id": "5654b6fd",
   "metadata": {},
   "outputs": [
    {
     "data": {
      "text/html": [
       "<style>#sk-container-id-3 {color: black;background-color: white;}#sk-container-id-3 pre{padding: 0;}#sk-container-id-3 div.sk-toggleable {background-color: white;}#sk-container-id-3 label.sk-toggleable__label {cursor: pointer;display: block;width: 100%;margin-bottom: 0;padding: 0.3em;box-sizing: border-box;text-align: center;}#sk-container-id-3 label.sk-toggleable__label-arrow:before {content: \"▸\";float: left;margin-right: 0.25em;color: #696969;}#sk-container-id-3 label.sk-toggleable__label-arrow:hover:before {color: black;}#sk-container-id-3 div.sk-estimator:hover label.sk-toggleable__label-arrow:before {color: black;}#sk-container-id-3 div.sk-toggleable__content {max-height: 0;max-width: 0;overflow: hidden;text-align: left;background-color: #f0f8ff;}#sk-container-id-3 div.sk-toggleable__content pre {margin: 0.2em;color: black;border-radius: 0.25em;background-color: #f0f8ff;}#sk-container-id-3 input.sk-toggleable__control:checked~div.sk-toggleable__content {max-height: 200px;max-width: 100%;overflow: auto;}#sk-container-id-3 input.sk-toggleable__control:checked~label.sk-toggleable__label-arrow:before {content: \"▾\";}#sk-container-id-3 div.sk-estimator input.sk-toggleable__control:checked~label.sk-toggleable__label {background-color: #d4ebff;}#sk-container-id-3 div.sk-label input.sk-toggleable__control:checked~label.sk-toggleable__label {background-color: #d4ebff;}#sk-container-id-3 input.sk-hidden--visually {border: 0;clip: rect(1px 1px 1px 1px);clip: rect(1px, 1px, 1px, 1px);height: 1px;margin: -1px;overflow: hidden;padding: 0;position: absolute;width: 1px;}#sk-container-id-3 div.sk-estimator {font-family: monospace;background-color: #f0f8ff;border: 1px dotted black;border-radius: 0.25em;box-sizing: border-box;margin-bottom: 0.5em;}#sk-container-id-3 div.sk-estimator:hover {background-color: #d4ebff;}#sk-container-id-3 div.sk-parallel-item::after {content: \"\";width: 100%;border-bottom: 1px solid gray;flex-grow: 1;}#sk-container-id-3 div.sk-label:hover label.sk-toggleable__label {background-color: #d4ebff;}#sk-container-id-3 div.sk-serial::before {content: \"\";position: absolute;border-left: 1px solid gray;box-sizing: border-box;top: 0;bottom: 0;left: 50%;z-index: 0;}#sk-container-id-3 div.sk-serial {display: flex;flex-direction: column;align-items: center;background-color: white;padding-right: 0.2em;padding-left: 0.2em;position: relative;}#sk-container-id-3 div.sk-item {position: relative;z-index: 1;}#sk-container-id-3 div.sk-parallel {display: flex;align-items: stretch;justify-content: center;background-color: white;position: relative;}#sk-container-id-3 div.sk-item::before, #sk-container-id-3 div.sk-parallel-item::before {content: \"\";position: absolute;border-left: 1px solid gray;box-sizing: border-box;top: 0;bottom: 0;left: 50%;z-index: -1;}#sk-container-id-3 div.sk-parallel-item {display: flex;flex-direction: column;z-index: 1;position: relative;background-color: white;}#sk-container-id-3 div.sk-parallel-item:first-child::after {align-self: flex-end;width: 50%;}#sk-container-id-3 div.sk-parallel-item:last-child::after {align-self: flex-start;width: 50%;}#sk-container-id-3 div.sk-parallel-item:only-child::after {width: 0;}#sk-container-id-3 div.sk-dashed-wrapped {border: 1px dashed gray;margin: 0 0.4em 0.5em 0.4em;box-sizing: border-box;padding-bottom: 0.4em;background-color: white;}#sk-container-id-3 div.sk-label label {font-family: monospace;font-weight: bold;display: inline-block;line-height: 1.2em;}#sk-container-id-3 div.sk-label-container {text-align: center;}#sk-container-id-3 div.sk-container {/* jupyter's `normalize.less` sets `[hidden] { display: none; }` but bootstrap.min.css set `[hidden] { display: none !important; }` so we also need the `!important` here to be able to override the default hidden behavior on the sphinx rendered scikit-learn.org. See: https://github.com/scikit-learn/scikit-learn/issues/21755 */display: inline-block !important;position: relative;}#sk-container-id-3 div.sk-text-repr-fallback {display: none;}</style><div id=\"sk-container-id-3\" class=\"sk-top-container\"><div class=\"sk-text-repr-fallback\"><pre>RandomForestRegressor(max_features=8, min_samples_leaf=5, random_state=20020203)</pre><b>In a Jupyter environment, please rerun this cell to show the HTML representation or trust the notebook. <br />On GitHub, the HTML representation is unable to render, please try loading this page with nbviewer.org.</b></div><div class=\"sk-container\" hidden><div class=\"sk-item\"><div class=\"sk-estimator sk-toggleable\"><input class=\"sk-toggleable__control sk-hidden--visually\" id=\"sk-estimator-id-5\" type=\"checkbox\" checked><label for=\"sk-estimator-id-5\" class=\"sk-toggleable__label sk-toggleable__label-arrow\">RandomForestRegressor</label><div class=\"sk-toggleable__content\"><pre>RandomForestRegressor(max_features=8, min_samples_leaf=5, random_state=20020203)</pre></div></div></div></div></div>"
      ],
      "text/plain": [
       "RandomForestRegressor(max_features=8, min_samples_leaf=5, random_state=20020203)"
      ]
     },
     "execution_count": 75,
     "metadata": {},
     "output_type": "execute_result"
    }
   ],
   "source": [
    "rf_model.best_estimator_"
   ]
  },
  {
   "cell_type": "code",
   "execution_count": 76,
   "id": "10a5d3cd",
   "metadata": {},
   "outputs": [],
   "source": [
    "y_h, X_h = dmatrices(\"price ~ \" + \" + \".join(predictors), data_holdout)\n",
    "pred = rf_model.predict(X_h)"
   ]
  },
  {
   "cell_type": "code",
   "execution_count": 77,
   "id": "e56208d6",
   "metadata": {},
   "outputs": [
    {
     "data": {
      "text/plain": [
       "76.5017428841026"
      ]
     },
     "execution_count": 77,
     "metadata": {},
     "output_type": "execute_result"
    }
   ],
   "source": [
    "rf_rmse = mean_squared_error(y_h, pred, squared= False)\n",
    "rf_rmse"
   ]
  },
  {
   "cell_type": "code",
   "execution_count": 78,
   "id": "359d0b6c",
   "metadata": {},
   "outputs": [],
   "source": [
    "df_var_imp = pd.DataFrame(\n",
    "    rf_model.best_estimator_.feature_importances_, \n",
    "    X.design_info.column_names)\\\n",
    "    .reset_index()\\\n",
    "    .rename({\"index\": \"variable\", 0: \"imp\"}, axis=1)\\\n",
    "    .sort_values(by=[\"imp\"], ascending=False)\\\n",
    "    .reset_index(drop = True)\n",
    "\n",
    "df_var_imp['cumulative_imp'] = df_var_imp['imp'].cumsum()"
   ]
  },
  {
   "cell_type": "code",
   "execution_count": 79,
   "id": "39c328f7",
   "metadata": {},
   "outputs": [
    {
     "data": {
      "text/html": [
       "<style type=\"text/css\">\n",
       "</style>\n",
       "<table id=\"T_fe946\">\n",
       "  <thead>\n",
       "    <tr>\n",
       "      <th class=\"blank level0\" >&nbsp;</th>\n",
       "      <th id=\"T_fe946_level0_col0\" class=\"col_heading level0 col0\" >variable</th>\n",
       "      <th id=\"T_fe946_level0_col1\" class=\"col_heading level0 col1\" >imp</th>\n",
       "      <th id=\"T_fe946_level0_col2\" class=\"col_heading level0 col2\" >cumulative_imp</th>\n",
       "    </tr>\n",
       "  </thead>\n",
       "  <tbody>\n",
       "    <tr>\n",
       "      <th id=\"T_fe946_level0_row0\" class=\"row_heading level0 row0\" >0</th>\n",
       "      <td id=\"T_fe946_row0_col0\" class=\"data row0 col0\" >n_accommodates</td>\n",
       "      <td id=\"T_fe946_row0_col1\" class=\"data row0 col1\" >10.6%</td>\n",
       "      <td id=\"T_fe946_row0_col2\" class=\"data row0 col2\" >10.6%</td>\n",
       "    </tr>\n",
       "    <tr>\n",
       "      <th id=\"T_fe946_level0_row1\" class=\"row_heading level0 row1\" >1</th>\n",
       "      <td id=\"T_fe946_row1_col0\" class=\"data row1 col0\" >n_accommodates2</td>\n",
       "      <td id=\"T_fe946_row1_col1\" class=\"data row1 col1\" >9.3%</td>\n",
       "      <td id=\"T_fe946_row1_col2\" class=\"data row1 col2\" >20.0%</td>\n",
       "    </tr>\n",
       "    <tr>\n",
       "      <th id=\"T_fe946_level0_row2\" class=\"row_heading level0 row2\" >2</th>\n",
       "      <td id=\"T_fe946_row2_col0\" class=\"data row2 col0\" >distance</td>\n",
       "      <td id=\"T_fe946_row2_col1\" class=\"data row2 col1\" >8.0%</td>\n",
       "      <td id=\"T_fe946_row2_col2\" class=\"data row2 col2\" >27.9%</td>\n",
       "    </tr>\n",
       "    <tr>\n",
       "      <th id=\"T_fe946_level0_row3\" class=\"row_heading level0 row3\" >3</th>\n",
       "      <td id=\"T_fe946_row3_col0\" class=\"data row3 col0\" >n_minimum_nights</td>\n",
       "      <td id=\"T_fe946_row3_col1\" class=\"data row3 col1\" >7.5%</td>\n",
       "      <td id=\"T_fe946_row3_col2\" class=\"data row3 col2\" >35.4%</td>\n",
       "    </tr>\n",
       "    <tr>\n",
       "      <th id=\"T_fe946_level0_row4\" class=\"row_heading level0 row4\" >4</th>\n",
       "      <td id=\"T_fe946_row4_col0\" class=\"data row4 col0\" >host_acceptance_rate</td>\n",
       "      <td id=\"T_fe946_row4_col1\" class=\"data row4 col1\" >6.6%</td>\n",
       "      <td id=\"T_fe946_row4_col2\" class=\"data row4 col2\" >42.1%</td>\n",
       "    </tr>\n",
       "    <tr>\n",
       "      <th id=\"T_fe946_level0_row5\" class=\"row_heading level0 row5\" >5</th>\n",
       "      <td id=\"T_fe946_row5_col0\" class=\"data row5 col0\" >n_review_scores_rating</td>\n",
       "      <td id=\"T_fe946_row5_col1\" class=\"data row5 col1\" >5.3%</td>\n",
       "      <td id=\"T_fe946_row5_col2\" class=\"data row5 col2\" >47.4%</td>\n",
       "    </tr>\n",
       "    <tr>\n",
       "      <th id=\"T_fe946_level0_row6\" class=\"row_heading level0 row6\" >6</th>\n",
       "      <td id=\"T_fe946_row6_col0\" class=\"data row6 col0\" >room_type[T.Private room]</td>\n",
       "      <td id=\"T_fe946_row6_col1\" class=\"data row6 col1\" >5.0%</td>\n",
       "      <td id=\"T_fe946_row6_col2\" class=\"data row6 col2\" >52.4%</td>\n",
       "    </tr>\n",
       "    <tr>\n",
       "      <th id=\"T_fe946_level0_row7\" class=\"row_heading level0 row7\" >7</th>\n",
       "      <td id=\"T_fe946_row7_col0\" class=\"data row7 col0\" >n_beds</td>\n",
       "      <td id=\"T_fe946_row7_col1\" class=\"data row7 col1\" >5.0%</td>\n",
       "      <td id=\"T_fe946_row7_col2\" class=\"data row7 col2\" >57.4%</td>\n",
       "    </tr>\n",
       "    <tr>\n",
       "      <th id=\"T_fe946_level0_row8\" class=\"row_heading level0 row8\" >8</th>\n",
       "      <td id=\"T_fe946_row8_col0\" class=\"data row8 col0\" >n_days_since3</td>\n",
       "      <td id=\"T_fe946_row8_col1\" class=\"data row8 col1\" >4.8%</td>\n",
       "      <td id=\"T_fe946_row8_col2\" class=\"data row8 col2\" >62.2%</td>\n",
       "    </tr>\n",
       "    <tr>\n",
       "      <th id=\"T_fe946_level0_row9\" class=\"row_heading level0 row9\" >9</th>\n",
       "      <td id=\"T_fe946_row9_col0\" class=\"data row9 col0\" >f_bathroom</td>\n",
       "      <td id=\"T_fe946_row9_col1\" class=\"data row9 col1\" >4.7%</td>\n",
       "      <td id=\"T_fe946_row9_col2\" class=\"data row9 col2\" >66.9%</td>\n",
       "    </tr>\n",
       "    <tr>\n",
       "      <th id=\"T_fe946_level0_row10\" class=\"row_heading level0 row10\" >10</th>\n",
       "      <td id=\"T_fe946_row10_col0\" class=\"data row10 col0\" >n_days_since2</td>\n",
       "      <td id=\"T_fe946_row10_col1\" class=\"data row10 col1\" >4.4%</td>\n",
       "      <td id=\"T_fe946_row10_col2\" class=\"data row10 col2\" >71.3%</td>\n",
       "    </tr>\n",
       "    <tr>\n",
       "      <th id=\"T_fe946_level0_row11\" class=\"row_heading level0 row11\" >11</th>\n",
       "      <td id=\"T_fe946_row11_col0\" class=\"data row11 col0\" >n_days_since</td>\n",
       "      <td id=\"T_fe946_row11_col1\" class=\"data row11 col1\" >4.4%</td>\n",
       "      <td id=\"T_fe946_row11_col2\" class=\"data row11 col2\" >75.7%</td>\n",
       "    </tr>\n",
       "    <tr>\n",
       "      <th id=\"T_fe946_level0_row12\" class=\"row_heading level0 row12\" >12</th>\n",
       "      <td id=\"T_fe946_row12_col0\" class=\"data row12 col0\" >Family</td>\n",
       "      <td id=\"T_fe946_row12_col1\" class=\"data row12 col1\" >3.4%</td>\n",
       "      <td id=\"T_fe946_row12_col2\" class=\"data row12 col2\" >79.0%</td>\n",
       "    </tr>\n",
       "    <tr>\n",
       "      <th id=\"T_fe946_level0_row13\" class=\"row_heading level0 row13\" >13</th>\n",
       "      <td id=\"T_fe946_row13_col0\" class=\"data row13 col0\" >maximum_nights</td>\n",
       "      <td id=\"T_fe946_row13_col1\" class=\"data row13 col1\" >3.1%</td>\n",
       "      <td id=\"T_fe946_row13_col2\" class=\"data row13 col2\" >82.2%</td>\n",
       "    </tr>\n",
       "    <tr>\n",
       "      <th id=\"T_fe946_level0_row14\" class=\"row_heading level0 row14\" >14</th>\n",
       "      <td id=\"T_fe946_row14_col0\" class=\"data row14 col0\" >Entertainment</td>\n",
       "      <td id=\"T_fe946_row14_col1\" class=\"data row14 col1\" >1.9%</td>\n",
       "      <td id=\"T_fe946_row14_col2\" class=\"data row14 col2\" >84.1%</td>\n",
       "    </tr>\n",
       "    <tr>\n",
       "      <th id=\"T_fe946_level0_row15\" class=\"row_heading level0 row15\" >15</th>\n",
       "      <td id=\"T_fe946_row15_col0\" class=\"data row15 col0\" >Luxury</td>\n",
       "      <td id=\"T_fe946_row15_col1\" class=\"data row15 col1\" >1.8%</td>\n",
       "      <td id=\"T_fe946_row15_col2\" class=\"data row15 col2\" >85.9%</td>\n",
       "    </tr>\n",
       "    <tr>\n",
       "      <th id=\"T_fe946_level0_row16\" class=\"row_heading level0 row16\" >16</th>\n",
       "      <td id=\"T_fe946_row16_col0\" class=\"data row16 col0\" >f_number_of_reviews</td>\n",
       "      <td id=\"T_fe946_row16_col1\" class=\"data row16 col1\" >1.5%</td>\n",
       "      <td id=\"T_fe946_row16_col2\" class=\"data row16 col2\" >87.4%</td>\n",
       "    </tr>\n",
       "    <tr>\n",
       "      <th id=\"T_fe946_level0_row17\" class=\"row_heading level0 row17\" >17</th>\n",
       "      <td id=\"T_fe946_row17_col0\" class=\"data row17 col0\" >host_is_superhost[T.t]</td>\n",
       "      <td id=\"T_fe946_row17_col1\" class=\"data row17 col1\" >1.3%</td>\n",
       "      <td id=\"T_fe946_row17_col2\" class=\"data row17 col2\" >88.7%</td>\n",
       "    </tr>\n",
       "    <tr>\n",
       "      <th id=\"T_fe946_level0_row18\" class=\"row_heading level0 row18\" >18</th>\n",
       "      <td id=\"T_fe946_row18_col0\" class=\"data row18 col0\" >Essentials</td>\n",
       "      <td id=\"T_fe946_row18_col1\" class=\"data row18 col1\" >1.1%</td>\n",
       "      <td id=\"T_fe946_row18_col2\" class=\"data row18 col2\" >89.9%</td>\n",
       "    </tr>\n",
       "    <tr>\n",
       "      <th id=\"T_fe946_level0_row19\" class=\"row_heading level0 row19\" >19</th>\n",
       "      <td id=\"T_fe946_row19_col0\" class=\"data row19 col0\" >flag_review_scores_rating</td>\n",
       "      <td id=\"T_fe946_row19_col1\" class=\"data row19 col1\" >1.1%</td>\n",
       "      <td id=\"T_fe946_row19_col2\" class=\"data row19 col2\" >90.9%</td>\n",
       "    </tr>\n",
       "    <tr>\n",
       "      <th id=\"T_fe946_level0_row20\" class=\"row_heading level0 row20\" >20</th>\n",
       "      <td id=\"T_fe946_row20_col0\" class=\"data row20 col0\" >Parking</td>\n",
       "      <td id=\"T_fe946_row20_col1\" class=\"data row20 col1\" >1.1%</td>\n",
       "      <td id=\"T_fe946_row20_col2\" class=\"data row20 col2\" >92.0%</td>\n",
       "    </tr>\n",
       "    <tr>\n",
       "      <th id=\"T_fe946_level0_row21\" class=\"row_heading level0 row21\" >21</th>\n",
       "      <td id=\"T_fe946_row21_col0\" class=\"data row21 col0\" >Kitchen</td>\n",
       "      <td id=\"T_fe946_row21_col1\" class=\"data row21 col1\" >1.0%</td>\n",
       "      <td id=\"T_fe946_row21_col2\" class=\"data row21 col2\" >93.0%</td>\n",
       "    </tr>\n",
       "    <tr>\n",
       "      <th id=\"T_fe946_level0_row22\" class=\"row_heading level0 row22\" >22</th>\n",
       "      <td id=\"T_fe946_row22_col0\" class=\"data row22 col0\" >Internet</td>\n",
       "      <td id=\"T_fe946_row22_col1\" class=\"data row22 col1\" >1.0%</td>\n",
       "      <td id=\"T_fe946_row22_col2\" class=\"data row22 col2\" >94.0%</td>\n",
       "    </tr>\n",
       "    <tr>\n",
       "      <th id=\"T_fe946_level0_row23\" class=\"row_heading level0 row23\" >23</th>\n",
       "      <td id=\"T_fe946_row23_col0\" class=\"data row23 col0\" >host_is_superhost[T.f]</td>\n",
       "      <td id=\"T_fe946_row23_col1\" class=\"data row23 col1\" >1.0%</td>\n",
       "      <td id=\"T_fe946_row23_col2\" class=\"data row23 col2\" >94.9%</td>\n",
       "    </tr>\n",
       "    <tr>\n",
       "      <th id=\"T_fe946_level0_row24\" class=\"row_heading level0 row24\" >24</th>\n",
       "      <td id=\"T_fe946_row24_col0\" class=\"data row24 col0\" >Workspace</td>\n",
       "      <td id=\"T_fe946_row24_col1\" class=\"data row24 col1\" >0.9%</td>\n",
       "      <td id=\"T_fe946_row24_col2\" class=\"data row24 col2\" >95.9%</td>\n",
       "    </tr>\n",
       "    <tr>\n",
       "      <th id=\"T_fe946_level0_row25\" class=\"row_heading level0 row25\" >25</th>\n",
       "      <td id=\"T_fe946_row25_col0\" class=\"data row25 col0\" >Outdoor</td>\n",
       "      <td id=\"T_fe946_row25_col1\" class=\"data row25 col1\" >0.9%</td>\n",
       "      <td id=\"T_fe946_row25_col2\" class=\"data row25 col2\" >96.8%</td>\n",
       "    </tr>\n",
       "    <tr>\n",
       "      <th id=\"T_fe946_level0_row26\" class=\"row_heading level0 row26\" >26</th>\n",
       "      <td id=\"T_fe946_row26_col0\" class=\"data row26 col0\" >flag_days_since</td>\n",
       "      <td id=\"T_fe946_row26_col1\" class=\"data row26 col1\" >0.9%</td>\n",
       "      <td id=\"T_fe946_row26_col2\" class=\"data row26 col2\" >97.6%</td>\n",
       "    </tr>\n",
       "    <tr>\n",
       "      <th id=\"T_fe946_level0_row27\" class=\"row_heading level0 row27\" >27</th>\n",
       "      <td id=\"T_fe946_row27_col0\" class=\"data row27 col0\" >host_identity_verified[T.t]</td>\n",
       "      <td id=\"T_fe946_row27_col1\" class=\"data row27 col1\" >0.8%</td>\n",
       "      <td id=\"T_fe946_row27_col2\" class=\"data row27 col2\" >98.4%</td>\n",
       "    </tr>\n",
       "    <tr>\n",
       "      <th id=\"T_fe946_level0_row28\" class=\"row_heading level0 row28\" >28</th>\n",
       "      <td id=\"T_fe946_row28_col0\" class=\"data row28 col0\" >host_has_profile_pic[T.t]</td>\n",
       "      <td id=\"T_fe946_row28_col1\" class=\"data row28 col1\" >0.7%</td>\n",
       "      <td id=\"T_fe946_row28_col2\" class=\"data row28 col2\" >99.0%</td>\n",
       "    </tr>\n",
       "    <tr>\n",
       "      <th id=\"T_fe946_level0_row29\" class=\"row_heading level0 row29\" >29</th>\n",
       "      <td id=\"T_fe946_row29_col0\" class=\"data row29 col0\" >Laundry</td>\n",
       "      <td id=\"T_fe946_row29_col1\" class=\"data row29 col1\" >0.4%</td>\n",
       "      <td id=\"T_fe946_row29_col2\" class=\"data row29 col2\" >99.4%</td>\n",
       "    </tr>\n",
       "    <tr>\n",
       "      <th id=\"T_fe946_level0_row30\" class=\"row_heading level0 row30\" >30</th>\n",
       "      <td id=\"T_fe946_row30_col0\" class=\"data row30 col0\" >Heating_Cooling</td>\n",
       "      <td id=\"T_fe946_row30_col1\" class=\"data row30 col1\" >0.3%</td>\n",
       "      <td id=\"T_fe946_row30_col2\" class=\"data row30 col2\" >99.7%</td>\n",
       "    </tr>\n",
       "    <tr>\n",
       "      <th id=\"T_fe946_level0_row31\" class=\"row_heading level0 row31\" >31</th>\n",
       "      <td id=\"T_fe946_row31_col0\" class=\"data row31 col0\" >room_type[T.Shared room]</td>\n",
       "      <td id=\"T_fe946_row31_col1\" class=\"data row31 col1\" >0.2%</td>\n",
       "      <td id=\"T_fe946_row31_col2\" class=\"data row31 col2\" >99.9%</td>\n",
       "    </tr>\n",
       "    <tr>\n",
       "      <th id=\"T_fe946_level0_row32\" class=\"row_heading level0 row32\" >32</th>\n",
       "      <td id=\"T_fe946_row32_col0\" class=\"data row32 col0\" >room_type[T.Hotel room]</td>\n",
       "      <td id=\"T_fe946_row32_col1\" class=\"data row32 col1\" >0.1%</td>\n",
       "      <td id=\"T_fe946_row32_col2\" class=\"data row32 col2\" >100.0%</td>\n",
       "    </tr>\n",
       "    <tr>\n",
       "      <th id=\"T_fe946_level0_row33\" class=\"row_heading level0 row33\" >33</th>\n",
       "      <td id=\"T_fe946_row33_col0\" class=\"data row33 col0\" >Intercept</td>\n",
       "      <td id=\"T_fe946_row33_col1\" class=\"data row33 col1\" >0.0%</td>\n",
       "      <td id=\"T_fe946_row33_col2\" class=\"data row33 col2\" >100.0%</td>\n",
       "    </tr>\n",
       "  </tbody>\n",
       "</table>\n"
      ],
      "text/plain": [
       "<pandas.io.formats.style.Styler at 0x1a994acf280>"
      ]
     },
     "execution_count": 79,
     "metadata": {},
     "output_type": "execute_result"
    }
   ],
   "source": [
    "df_var_imp.style.format({\n",
    "    'imp': lambda x: f'{x:,.1%}',\n",
    "    'cumulative_imp': lambda x: f'{x:,.1%}'})"
   ]
  },
  {
   "cell_type": "code",
   "execution_count": 80,
   "id": "0b3a3487",
   "metadata": {},
   "outputs": [],
   "source": [
    "%matplotlib inline"
   ]
  },
  {
   "cell_type": "code",
   "execution_count": 81,
   "id": "67906ca6",
   "metadata": {},
   "outputs": [
    {
     "data": {
      "image/png": "[encoded data removed]",
      "text/plain": [
       "<Figure size 1000x600 with 1 Axes>"
      ]
     },
     "metadata": {},
     "output_type": "display_data"
    }
   ],
   "source": [
    "ax = df_var_imp[df_var_imp.imp > 0.01]\\\n",
    "    .sort_values(by = 'imp')\\\n",
    "    .plot(kind = 'barh',\n",
    "          x = 'variable', \n",
    "          y = 'imp',\n",
    "          figsize = (10,6), \n",
    "          grid = True,\n",
    "          title = 'Random forest model highest feature importances',\n",
    "          xlabel = 'variables', \n",
    "          legend = False)\n",
    "\n",
    "ax.xaxis.set_major_formatter(mtick.PercentFormatter(xmax=1))"
   ]
  },
  {
   "cell_type": "markdown",
   "id": "e6c501fd",
   "metadata": {},
   "source": [
    "# Boosting with GBM"
   ]
  },
  {
   "cell_type": "code",
   "execution_count": 82,
   "id": "6b05c981",
   "metadata": {},
   "outputs": [],
   "source": [
    "numerical_columns = ['n_accommodates', 'n_accommodates2', 'distance',\n",
    "                    'n_minimum_nights', 'host_acceptance_rate', 'n_review_scores_rating',\n",
    "                    'n_beds', 'n_days_since3', 'n_days_since2', 'n_days_since', 'maximum_nights']\n",
    "categorical_columns = [col for col in predictors if col not in numerical_columns]"
   ]
  },
  {
   "cell_type": "code",
   "execution_count": 83,
   "id": "538e9306",
   "metadata": {},
   "outputs": [
    {
     "data": {
      "text/plain": [
       "['room_type',\n",
       " 'flag_days_since',\n",
       " 'f_bathroom',\n",
       " 'f_number_of_reviews',\n",
       " 'flag_review_scores_rating',\n",
       " 'host_is_superhost',\n",
       " 'host_has_profile_pic',\n",
       " 'host_identity_verified',\n",
       " 'Laundry',\n",
       " 'Essentials',\n",
       " 'Heating_Cooling',\n",
       " 'Kitchen',\n",
       " 'Outdoor',\n",
       " 'Workspace',\n",
       " 'Entertainment',\n",
       " 'Luxury',\n",
       " 'Internet',\n",
       " 'Parking',\n",
       " 'Family']"
      ]
     },
     "execution_count": 83,
     "metadata": {},
     "output_type": "execute_result"
    }
   ],
   "source": [
    "categorical_columns"
   ]
  },
  {
   "cell_type": "code",
   "execution_count": 84,
   "id": "32be66e9",
   "metadata": {},
   "outputs": [],
   "source": [
    "gbm = GradientBoostingRegressor(learning_rate=0.1, min_samples_split=20, max_features = 10)\n",
    "\n",
    "tune_grid = {\"n_estimators\": [30, 45], \"max_depth\": [5, 10]}\n",
    "\n",
    "gbm_model_cv = GridSearchCV(\n",
    "    gbm,\n",
    "    tune_grid,\n",
    "    cv=5,\n",
    "    scoring=\"neg_root_mean_squared_error\",\n",
    "    verbose=10,\n",
    "    n_jobs=-1\n",
    ")"
   ]
  },
  {
   "cell_type": "code",
   "execution_count": 85,
   "id": "397c03bb",
   "metadata": {},
   "outputs": [],
   "source": [
    "categorical_encoder = OneHotEncoder(handle_unknown=\"ignore\")"
   ]
  },
  {
   "cell_type": "code",
   "execution_count": 86,
   "id": "2ac5807f",
   "metadata": {},
   "outputs": [],
   "source": [
    "preprocessing = ColumnTransformer(\n",
    "    [\n",
    "        (\"cat\", categorical_encoder, categorical_columns),\n",
    "        (\"num\", \"passthrough\", numerical_columns),\n",
    "    ]\n",
    ")\n",
    "\n",
    "gbm_pipe = Pipeline(\n",
    "    [(\"preprocess\", preprocessing), (\"regressor\", gbm_model_cv)], verbose=True\n",
    ")"
   ]
  },
  {
   "cell_type": "code",
   "execution_count": 87,
   "id": "ddb47c1d",
   "metadata": {},
   "outputs": [],
   "source": [
    "predictors = list(predictors)\n"
   ]
  },
  {
   "cell_type": "code",
   "execution_count": 88,
   "id": "ddedcdce",
   "metadata": {},
   "outputs": [
    {
     "name": "stdout",
     "output_type": "stream",
     "text": [
      "CPU times: total: 0 ns\n",
      "Wall time: 0 ns\n",
      "[Pipeline] ........ (step 1 of 2) Processing preprocess, total=   0.0s\n",
      "Fitting 5 folds for each of 4 candidates, totalling 20 fits\n",
      "[Pipeline] ......... (step 2 of 2) Processing regressor, total=  12.2s\n"
     ]
    },
    {
     "data": {
      "text/html": [
       "<style>#sk-container-id-4 {color: black;background-color: white;}#sk-container-id-4 pre{padding: 0;}#sk-container-id-4 div.sk-toggleable {background-color: white;}#sk-container-id-4 label.sk-toggleable__label {cursor: pointer;display: block;width: 100%;margin-bottom: 0;padding: 0.3em;box-sizing: border-box;text-align: center;}#sk-container-id-4 label.sk-toggleable__label-arrow:before {content: \"▸\";float: left;margin-right: 0.25em;color: #696969;}#sk-container-id-4 label.sk-toggleable__label-arrow:hover:before {color: black;}#sk-container-id-4 div.sk-estimator:hover label.sk-toggleable__label-arrow:before {color: black;}#sk-container-id-4 div.sk-toggleable__content {max-height: 0;max-width: 0;overflow: hidden;text-align: left;background-color: #f0f8ff;}#sk-container-id-4 div.sk-toggleable__content pre {margin: 0.2em;color: black;border-radius: 0.25em;background-color: #f0f8ff;}#sk-container-id-4 input.sk-toggleable__control:checked~div.sk-toggleable__content {max-height: 200px;max-width: 100%;overflow: auto;}#sk-container-id-4 input.sk-toggleable__control:checked~label.sk-toggleable__label-arrow:before {content: \"▾\";}#sk-container-id-4 div.sk-estimator input.sk-toggleable__control:checked~label.sk-toggleable__label {background-color: #d4ebff;}#sk-container-id-4 div.sk-label input.sk-toggleable__control:checked~label.sk-toggleable__label {background-color: #d4ebff;}#sk-container-id-4 input.sk-hidden--visually {border: 0;clip: rect(1px 1px 1px 1px);clip: rect(1px, 1px, 1px, 1px);height: 1px;margin: -1px;overflow: hidden;padding: 0;position: absolute;width: 1px;}#sk-container-id-4 div.sk-estimator {font-family: monospace;background-color: #f0f8ff;border: 1px dotted black;border-radius: 0.25em;box-sizing: border-box;margin-bottom: 0.5em;}#sk-container-id-4 div.sk-estimator:hover {background-color: #d4ebff;}#sk-container-id-4 div.sk-parallel-item::after {content: \"\";width: 100%;border-bottom: 1px solid gray;flex-grow: 1;}#sk-container-id-4 div.sk-label:hover label.sk-toggleable__label {background-color: #d4ebff;}#sk-container-id-4 div.sk-serial::before {content: \"\";position: absolute;border-left: 1px solid gray;box-sizing: border-box;top: 0;bottom: 0;left: 50%;z-index: 0;}#sk-container-id-4 div.sk-serial {display: flex;flex-direction: column;align-items: center;background-color: white;padding-right: 0.2em;padding-left: 0.2em;position: relative;}#sk-container-id-4 div.sk-item {position: relative;z-index: 1;}#sk-container-id-4 div.sk-parallel {display: flex;align-items: stretch;justify-content: center;background-color: white;position: relative;}#sk-container-id-4 div.sk-item::before, #sk-container-id-4 div.sk-parallel-item::before {content: \"\";position: absolute;border-left: 1px solid gray;box-sizing: border-box;top: 0;bottom: 0;left: 50%;z-index: -1;}#sk-container-id-4 div.sk-parallel-item {display: flex;flex-direction: column;z-index: 1;position: relative;background-color: white;}#sk-container-id-4 div.sk-parallel-item:first-child::after {align-self: flex-end;width: 50%;}#sk-container-id-4 div.sk-parallel-item:last-child::after {align-self: flex-start;width: 50%;}#sk-container-id-4 div.sk-parallel-item:only-child::after {width: 0;}#sk-container-id-4 div.sk-dashed-wrapped {border: 1px dashed gray;margin: 0 0.4em 0.5em 0.4em;box-sizing: border-box;padding-bottom: 0.4em;background-color: white;}#sk-container-id-4 div.sk-label label {font-family: monospace;font-weight: bold;display: inline-block;line-height: 1.2em;}#sk-container-id-4 div.sk-label-container {text-align: center;}#sk-container-id-4 div.sk-container {/* jupyter's `normalize.less` sets `[hidden] { display: none; }` but bootstrap.min.css set `[hidden] { display: none !important; }` so we also need the `!important` here to be able to override the default hidden behavior on the sphinx rendered scikit-learn.org. See: https://github.com/scikit-learn/scikit-learn/issues/21755 */display: inline-block !important;position: relative;}#sk-container-id-4 div.sk-text-repr-fallback {display: none;}</style><div id=\"sk-container-id-4\" class=\"sk-top-container\"><div class=\"sk-text-repr-fallback\"><pre>Pipeline(steps=[(&#x27;preprocess&#x27;,\n",
       "                 ColumnTransformer(transformers=[(&#x27;cat&#x27;,\n",
       "                                                  OneHotEncoder(handle_unknown=&#x27;ignore&#x27;),\n",
       "                                                  [&#x27;room_type&#x27;,\n",
       "                                                   &#x27;flag_days_since&#x27;,\n",
       "                                                   &#x27;f_bathroom&#x27;,\n",
       "                                                   &#x27;f_number_of_reviews&#x27;,\n",
       "                                                   &#x27;flag_review_scores_rating&#x27;,\n",
       "                                                   &#x27;host_is_superhost&#x27;,\n",
       "                                                   &#x27;host_has_profile_pic&#x27;,\n",
       "                                                   &#x27;host_identity_verified&#x27;,\n",
       "                                                   &#x27;Laundry&#x27;, &#x27;Essentials&#x27;,\n",
       "                                                   &#x27;Heating_Cooling&#x27;, &#x27;Kitchen&#x27;,\n",
       "                                                   &#x27;Outdoor&#x27;, &#x27;Workspace&#x27;,\n",
       "                                                   &#x27;Entert...\n",
       "                                                   &#x27;host_acceptance_rate&#x27;,\n",
       "                                                   &#x27;n_review_scores_rating&#x27;,\n",
       "                                                   &#x27;n_beds&#x27;, &#x27;n_days_since3&#x27;,\n",
       "                                                   &#x27;n_days_since2&#x27;,\n",
       "                                                   &#x27;n_days_since&#x27;,\n",
       "                                                   &#x27;maximum_nights&#x27;])])),\n",
       "                (&#x27;regressor&#x27;,\n",
       "                 GridSearchCV(cv=5,\n",
       "                              estimator=GradientBoostingRegressor(max_features=10,\n",
       "                                                                  min_samples_split=20),\n",
       "                              n_jobs=-1,\n",
       "                              param_grid={&#x27;max_depth&#x27;: [5, 10],\n",
       "                                          &#x27;n_estimators&#x27;: [30, 45]},\n",
       "                              scoring=&#x27;neg_root_mean_squared_error&#x27;,\n",
       "                              verbose=10))],\n",
       "         verbose=True)</pre><b>In a Jupyter environment, please rerun this cell to show the HTML representation or trust the notebook. <br />On GitHub, the HTML representation is unable to render, please try loading this page with nbviewer.org.</b></div><div class=\"sk-container\" hidden><div class=\"sk-item sk-dashed-wrapped\"><div class=\"sk-label-container\"><div class=\"sk-label sk-toggleable\"><input class=\"sk-toggleable__control sk-hidden--visually\" id=\"sk-estimator-id-6\" type=\"checkbox\" ><label for=\"sk-estimator-id-6\" class=\"sk-toggleable__label sk-toggleable__label-arrow\">Pipeline</label><div class=\"sk-toggleable__content\"><pre>Pipeline(steps=[(&#x27;preprocess&#x27;,\n",
       "                 ColumnTransformer(transformers=[(&#x27;cat&#x27;,\n",
       "                                                  OneHotEncoder(handle_unknown=&#x27;ignore&#x27;),\n",
       "                                                  [&#x27;room_type&#x27;,\n",
       "                                                   &#x27;flag_days_since&#x27;,\n",
       "                                                   &#x27;f_bathroom&#x27;,\n",
       "                                                   &#x27;f_number_of_reviews&#x27;,\n",
       "                                                   &#x27;flag_review_scores_rating&#x27;,\n",
       "                                                   &#x27;host_is_superhost&#x27;,\n",
       "                                                   &#x27;host_has_profile_pic&#x27;,\n",
       "                                                   &#x27;host_identity_verified&#x27;,\n",
       "                                                   &#x27;Laundry&#x27;, &#x27;Essentials&#x27;,\n",
       "                                                   &#x27;Heating_Cooling&#x27;, &#x27;Kitchen&#x27;,\n",
       "                                                   &#x27;Outdoor&#x27;, &#x27;Workspace&#x27;,\n",
       "                                                   &#x27;Entert...\n",
       "                                                   &#x27;host_acceptance_rate&#x27;,\n",
       "                                                   &#x27;n_review_scores_rating&#x27;,\n",
       "                                                   &#x27;n_beds&#x27;, &#x27;n_days_since3&#x27;,\n",
       "                                                   &#x27;n_days_since2&#x27;,\n",
       "                                                   &#x27;n_days_since&#x27;,\n",
       "                                                   &#x27;maximum_nights&#x27;])])),\n",
       "                (&#x27;regressor&#x27;,\n",
       "                 GridSearchCV(cv=5,\n",
       "                              estimator=GradientBoostingRegressor(max_features=10,\n",
       "                                                                  min_samples_split=20),\n",
       "                              n_jobs=-1,\n",
       "                              param_grid={&#x27;max_depth&#x27;: [5, 10],\n",
       "                                          &#x27;n_estimators&#x27;: [30, 45]},\n",
       "                              scoring=&#x27;neg_root_mean_squared_error&#x27;,\n",
       "                              verbose=10))],\n",
       "         verbose=True)</pre></div></div></div><div class=\"sk-serial\"><div class=\"sk-item sk-dashed-wrapped\"><div class=\"sk-label-container\"><div class=\"sk-label sk-toggleable\"><input class=\"sk-toggleable__control sk-hidden--visually\" id=\"sk-estimator-id-7\" type=\"checkbox\" ><label for=\"sk-estimator-id-7\" class=\"sk-toggleable__label sk-toggleable__label-arrow\">preprocess: ColumnTransformer</label><div class=\"sk-toggleable__content\"><pre>ColumnTransformer(transformers=[(&#x27;cat&#x27;, OneHotEncoder(handle_unknown=&#x27;ignore&#x27;),\n",
       "                                 [&#x27;room_type&#x27;, &#x27;flag_days_since&#x27;, &#x27;f_bathroom&#x27;,\n",
       "                                  &#x27;f_number_of_reviews&#x27;,\n",
       "                                  &#x27;flag_review_scores_rating&#x27;,\n",
       "                                  &#x27;host_is_superhost&#x27;, &#x27;host_has_profile_pic&#x27;,\n",
       "                                  &#x27;host_identity_verified&#x27;, &#x27;Laundry&#x27;,\n",
       "                                  &#x27;Essentials&#x27;, &#x27;Heating_Cooling&#x27;, &#x27;Kitchen&#x27;,\n",
       "                                  &#x27;Outdoor&#x27;, &#x27;Workspace&#x27;, &#x27;Entertainment&#x27;,\n",
       "                                  &#x27;Luxury&#x27;, &#x27;Internet&#x27;, &#x27;Parking&#x27;, &#x27;Family&#x27;]),\n",
       "                                (&#x27;num&#x27;, &#x27;passthrough&#x27;,\n",
       "                                 [&#x27;n_accommodates&#x27;, &#x27;n_accommodates2&#x27;,\n",
       "                                  &#x27;distance&#x27;, &#x27;n_minimum_nights&#x27;,\n",
       "                                  &#x27;host_acceptance_rate&#x27;,\n",
       "                                  &#x27;n_review_scores_rating&#x27;, &#x27;n_beds&#x27;,\n",
       "                                  &#x27;n_days_since3&#x27;, &#x27;n_days_since2&#x27;,\n",
       "                                  &#x27;n_days_since&#x27;, &#x27;maximum_nights&#x27;])])</pre></div></div></div><div class=\"sk-parallel\"><div class=\"sk-parallel-item\"><div class=\"sk-item\"><div class=\"sk-label-container\"><div class=\"sk-label sk-toggleable\"><input class=\"sk-toggleable__control sk-hidden--visually\" id=\"sk-estimator-id-8\" type=\"checkbox\" ><label for=\"sk-estimator-id-8\" class=\"sk-toggleable__label sk-toggleable__label-arrow\">cat</label><div class=\"sk-toggleable__content\"><pre>[&#x27;room_type&#x27;, &#x27;flag_days_since&#x27;, &#x27;f_bathroom&#x27;, &#x27;f_number_of_reviews&#x27;, &#x27;flag_review_scores_rating&#x27;, &#x27;host_is_superhost&#x27;, &#x27;host_has_profile_pic&#x27;, &#x27;host_identity_verified&#x27;, &#x27;Laundry&#x27;, &#x27;Essentials&#x27;, &#x27;Heating_Cooling&#x27;, &#x27;Kitchen&#x27;, &#x27;Outdoor&#x27;, &#x27;Workspace&#x27;, &#x27;Entertainment&#x27;, &#x27;Luxury&#x27;, &#x27;Internet&#x27;, &#x27;Parking&#x27;, &#x27;Family&#x27;]</pre></div></div></div><div class=\"sk-serial\"><div class=\"sk-item\"><div class=\"sk-estimator sk-toggleable\"><input class=\"sk-toggleable__control sk-hidden--visually\" id=\"sk-estimator-id-9\" type=\"checkbox\" ><label for=\"sk-estimator-id-9\" class=\"sk-toggleable__label sk-toggleable__label-arrow\">OneHotEncoder</label><div class=\"sk-toggleable__content\"><pre>OneHotEncoder(handle_unknown=&#x27;ignore&#x27;)</pre></div></div></div></div></div></div><div class=\"sk-parallel-item\"><div class=\"sk-item\"><div class=\"sk-label-container\"><div class=\"sk-label sk-toggleable\"><input class=\"sk-toggleable__control sk-hidden--visually\" id=\"sk-estimator-id-10\" type=\"checkbox\" ><label for=\"sk-estimator-id-10\" class=\"sk-toggleable__label sk-toggleable__label-arrow\">num</label><div class=\"sk-toggleable__content\"><pre>[&#x27;n_accommodates&#x27;, &#x27;n_accommodates2&#x27;, &#x27;distance&#x27;, &#x27;n_minimum_nights&#x27;, &#x27;host_acceptance_rate&#x27;, &#x27;n_review_scores_rating&#x27;, &#x27;n_beds&#x27;, &#x27;n_days_since3&#x27;, &#x27;n_days_since2&#x27;, &#x27;n_days_since&#x27;, &#x27;maximum_nights&#x27;]</pre></div></div></div><div class=\"sk-serial\"><div class=\"sk-item\"><div class=\"sk-estimator sk-toggleable\"><input class=\"sk-toggleable__control sk-hidden--visually\" id=\"sk-estimator-id-11\" type=\"checkbox\" ><label for=\"sk-estimator-id-11\" class=\"sk-toggleable__label sk-toggleable__label-arrow\">passthrough</label><div class=\"sk-toggleable__content\"><pre>passthrough</pre></div></div></div></div></div></div></div></div><div class=\"sk-item sk-dashed-wrapped\"><div class=\"sk-label-container\"><div class=\"sk-label sk-toggleable\"><input class=\"sk-toggleable__control sk-hidden--visually\" id=\"sk-estimator-id-12\" type=\"checkbox\" ><label for=\"sk-estimator-id-12\" class=\"sk-toggleable__label sk-toggleable__label-arrow\">regressor: GridSearchCV</label><div class=\"sk-toggleable__content\"><pre>GridSearchCV(cv=5,\n",
       "             estimator=GradientBoostingRegressor(max_features=10,\n",
       "                                                 min_samples_split=20),\n",
       "             n_jobs=-1,\n",
       "             param_grid={&#x27;max_depth&#x27;: [5, 10], &#x27;n_estimators&#x27;: [30, 45]},\n",
       "             scoring=&#x27;neg_root_mean_squared_error&#x27;, verbose=10)</pre></div></div></div><div class=\"sk-parallel\"><div class=\"sk-parallel-item\"><div class=\"sk-item\"><div class=\"sk-label-container\"><div class=\"sk-label sk-toggleable\"><input class=\"sk-toggleable__control sk-hidden--visually\" id=\"sk-estimator-id-13\" type=\"checkbox\" ><label for=\"sk-estimator-id-13\" class=\"sk-toggleable__label sk-toggleable__label-arrow\">estimator: GradientBoostingRegressor</label><div class=\"sk-toggleable__content\"><pre>GradientBoostingRegressor(max_features=10, min_samples_split=20)</pre></div></div></div><div class=\"sk-serial\"><div class=\"sk-item\"><div class=\"sk-estimator sk-toggleable\"><input class=\"sk-toggleable__control sk-hidden--visually\" id=\"sk-estimator-id-14\" type=\"checkbox\" ><label for=\"sk-estimator-id-14\" class=\"sk-toggleable__label sk-toggleable__label-arrow\">GradientBoostingRegressor</label><div class=\"sk-toggleable__content\"><pre>GradientBoostingRegressor(max_features=10, min_samples_split=20)</pre></div></div></div></div></div></div></div></div></div></div></div></div>"
      ],
      "text/plain": [
       "Pipeline(steps=[('preprocess',\n",
       "                 ColumnTransformer(transformers=[('cat',\n",
       "                                                  OneHotEncoder(handle_unknown='ignore'),\n",
       "                                                  ['room_type',\n",
       "                                                   'flag_days_since',\n",
       "                                                   'f_bathroom',\n",
       "                                                   'f_number_of_reviews',\n",
       "                                                   'flag_review_scores_rating',\n",
       "                                                   'host_is_superhost',\n",
       "                                                   'host_has_profile_pic',\n",
       "                                                   'host_identity_verified',\n",
       "                                                   'Laundry', 'Essentials',\n",
       "                                                   'Heating_Cooling', 'Kitchen',\n",
       "                                                   'Outdoor', 'Workspace',\n",
       "                                                   'Entert...\n",
       "                                                   'host_acceptance_rate',\n",
       "                                                   'n_review_scores_rating',\n",
       "                                                   'n_beds', 'n_days_since3',\n",
       "                                                   'n_days_since2',\n",
       "                                                   'n_days_since',\n",
       "                                                   'maximum_nights'])])),\n",
       "                ('regressor',\n",
       "                 GridSearchCV(cv=5,\n",
       "                              estimator=GradientBoostingRegressor(max_features=10,\n",
       "                                                                  min_samples_split=20),\n",
       "                              n_jobs=-1,\n",
       "                              param_grid={'max_depth': [5, 10],\n",
       "                                          'n_estimators': [30, 45]},\n",
       "                              scoring='neg_root_mean_squared_error',\n",
       "                              verbose=10))],\n",
       "         verbose=True)"
      ]
     },
     "execution_count": 88,
     "metadata": {},
     "output_type": "execute_result"
    }
   ],
   "source": [
    "%time\n",
    "gbm_pipe.fit(data_work[predictors],data_work.price)"
   ]
  },
  {
   "cell_type": "code",
   "execution_count": 89,
   "id": "a4b11afe",
   "metadata": {},
   "outputs": [
    {
     "data": {
      "text/plain": [
       "{'mean_fit_time': array([0.81063476, 1.39506903, 2.0495203 , 2.36725507]),\n",
       " 'std_fit_time': array([0.01838221, 0.2155405 , 0.15290425, 0.19393895]),\n",
       " 'mean_score_time': array([0.00737929, 0.01396275, 0.01276569, 0.01605492]),\n",
       " 'std_score_time': array([0.00149296, 0.01003316, 0.00116333, 0.00434055]),\n",
       " 'param_max_depth': masked_array(data=[5, 5, 10, 10],\n",
       "              mask=[False, False, False, False],\n",
       "        fill_value='?',\n",
       "             dtype=object),\n",
       " 'param_n_estimators': masked_array(data=[30, 45, 30, 45],\n",
       "              mask=[False, False, False, False],\n",
       "        fill_value='?',\n",
       "             dtype=object),\n",
       " 'params': [{'max_depth': 5, 'n_estimators': 30},\n",
       "  {'max_depth': 5, 'n_estimators': 45},\n",
       "  {'max_depth': 10, 'n_estimators': 30},\n",
       "  {'max_depth': 10, 'n_estimators': 45}],\n",
       " 'split0_test_score': array([-65.94564734, -65.80080084, -63.34739235, -65.7492975 ]),\n",
       " 'split1_test_score': array([-82.2202879 , -80.57243365, -76.86410599, -75.83980821]),\n",
       " 'split2_test_score': array([-77.17920033, -77.1704027 , -73.6260885 , -71.92158689]),\n",
       " 'split3_test_score': array([-64.3066025 , -63.87463285, -59.34392753, -60.27409279]),\n",
       " 'split4_test_score': array([-70.16733762, -68.84178048, -64.68481715, -63.84107955]),\n",
       " 'mean_test_score': array([-71.96381514, -71.2520101 , -67.5732663 , -67.52517299]),\n",
       " 'std_test_score': array([6.78931597, 6.50919735, 6.58603863, 5.61722452]),\n",
       " 'rank_test_score': array([4, 3, 2, 1])}"
      ]
     },
     "execution_count": 89,
     "metadata": {},
     "output_type": "execute_result"
    }
   ],
   "source": [
    "gbm_model_cv.cv_results_"
   ]
  },
  {
   "cell_type": "code",
   "execution_count": 90,
   "id": "45fb9346",
   "metadata": {},
   "outputs": [
    {
     "data": {
      "text/html": [
       "<style>#sk-container-id-5 {color: black;background-color: white;}#sk-container-id-5 pre{padding: 0;}#sk-container-id-5 div.sk-toggleable {background-color: white;}#sk-container-id-5 label.sk-toggleable__label {cursor: pointer;display: block;width: 100%;margin-bottom: 0;padding: 0.3em;box-sizing: border-box;text-align: center;}#sk-container-id-5 label.sk-toggleable__label-arrow:before {content: \"▸\";float: left;margin-right: 0.25em;color: #696969;}#sk-container-id-5 label.sk-toggleable__label-arrow:hover:before {color: black;}#sk-container-id-5 div.sk-estimator:hover label.sk-toggleable__label-arrow:before {color: black;}#sk-container-id-5 div.sk-toggleable__content {max-height: 0;max-width: 0;overflow: hidden;text-align: left;background-color: #f0f8ff;}#sk-container-id-5 div.sk-toggleable__content pre {margin: 0.2em;color: black;border-radius: 0.25em;background-color: #f0f8ff;}#sk-container-id-5 input.sk-toggleable__control:checked~div.sk-toggleable__content {max-height: 200px;max-width: 100%;overflow: auto;}#sk-container-id-5 input.sk-toggleable__control:checked~label.sk-toggleable__label-arrow:before {content: \"▾\";}#sk-container-id-5 div.sk-estimator input.sk-toggleable__control:checked~label.sk-toggleable__label {background-color: #d4ebff;}#sk-container-id-5 div.sk-label input.sk-toggleable__control:checked~label.sk-toggleable__label {background-color: #d4ebff;}#sk-container-id-5 input.sk-hidden--visually {border: 0;clip: rect(1px 1px 1px 1px);clip: rect(1px, 1px, 1px, 1px);height: 1px;margin: -1px;overflow: hidden;padding: 0;position: absolute;width: 1px;}#sk-container-id-5 div.sk-estimator {font-family: monospace;background-color: #f0f8ff;border: 1px dotted black;border-radius: 0.25em;box-sizing: border-box;margin-bottom: 0.5em;}#sk-container-id-5 div.sk-estimator:hover {background-color: #d4ebff;}#sk-container-id-5 div.sk-parallel-item::after {content: \"\";width: 100%;border-bottom: 1px solid gray;flex-grow: 1;}#sk-container-id-5 div.sk-label:hover label.sk-toggleable__label {background-color: #d4ebff;}#sk-container-id-5 div.sk-serial::before {content: \"\";position: absolute;border-left: 1px solid gray;box-sizing: border-box;top: 0;bottom: 0;left: 50%;z-index: 0;}#sk-container-id-5 div.sk-serial {display: flex;flex-direction: column;align-items: center;background-color: white;padding-right: 0.2em;padding-left: 0.2em;position: relative;}#sk-container-id-5 div.sk-item {position: relative;z-index: 1;}#sk-container-id-5 div.sk-parallel {display: flex;align-items: stretch;justify-content: center;background-color: white;position: relative;}#sk-container-id-5 div.sk-item::before, #sk-container-id-5 div.sk-parallel-item::before {content: \"\";position: absolute;border-left: 1px solid gray;box-sizing: border-box;top: 0;bottom: 0;left: 50%;z-index: -1;}#sk-container-id-5 div.sk-parallel-item {display: flex;flex-direction: column;z-index: 1;position: relative;background-color: white;}#sk-container-id-5 div.sk-parallel-item:first-child::after {align-self: flex-end;width: 50%;}#sk-container-id-5 div.sk-parallel-item:last-child::after {align-self: flex-start;width: 50%;}#sk-container-id-5 div.sk-parallel-item:only-child::after {width: 0;}#sk-container-id-5 div.sk-dashed-wrapped {border: 1px dashed gray;margin: 0 0.4em 0.5em 0.4em;box-sizing: border-box;padding-bottom: 0.4em;background-color: white;}#sk-container-id-5 div.sk-label label {font-family: monospace;font-weight: bold;display: inline-block;line-height: 1.2em;}#sk-container-id-5 div.sk-label-container {text-align: center;}#sk-container-id-5 div.sk-container {/* jupyter's `normalize.less` sets `[hidden] { display: none; }` but bootstrap.min.css set `[hidden] { display: none !important; }` so we also need the `!important` here to be able to override the default hidden behavior on the sphinx rendered scikit-learn.org. See: https://github.com/scikit-learn/scikit-learn/issues/21755 */display: inline-block !important;position: relative;}#sk-container-id-5 div.sk-text-repr-fallback {display: none;}</style><div id=\"sk-container-id-5\" class=\"sk-top-container\"><div class=\"sk-text-repr-fallback\"><pre>GradientBoostingRegressor(max_depth=10, max_features=10, min_samples_split=20,\n",
       "                          n_estimators=45)</pre><b>In a Jupyter environment, please rerun this cell to show the HTML representation or trust the notebook. <br />On GitHub, the HTML representation is unable to render, please try loading this page with nbviewer.org.</b></div><div class=\"sk-container\" hidden><div class=\"sk-item\"><div class=\"sk-estimator sk-toggleable\"><input class=\"sk-toggleable__control sk-hidden--visually\" id=\"sk-estimator-id-15\" type=\"checkbox\" checked><label for=\"sk-estimator-id-15\" class=\"sk-toggleable__label sk-toggleable__label-arrow\">GradientBoostingRegressor</label><div class=\"sk-toggleable__content\"><pre>GradientBoostingRegressor(max_depth=10, max_features=10, min_samples_split=20,\n",
       "                          n_estimators=45)</pre></div></div></div></div></div>"
      ],
      "text/plain": [
       "GradientBoostingRegressor(max_depth=10, max_features=10, min_samples_split=20,\n",
       "                          n_estimators=45)"
      ]
     },
     "execution_count": 90,
     "metadata": {},
     "output_type": "execute_result"
    }
   ],
   "source": [
    "gbm_model_cv.best_estimator_"
   ]
  },
  {
   "cell_type": "code",
   "execution_count": 91,
   "id": "be08f0cd",
   "metadata": {},
   "outputs": [
    {
     "data": {
      "text/plain": [
       "67.52517298813711"
      ]
     },
     "execution_count": 91,
     "metadata": {},
     "output_type": "execute_result"
    }
   ],
   "source": [
    "gbm_rmse = gbm_model_cv.best_score_*-1\n",
    "gbm_rmse"
   ]
  },
  {
   "cell_type": "code",
   "execution_count": 92,
   "id": "aa6759f4",
   "metadata": {},
   "outputs": [
    {
     "name": "stdout",
     "output_type": "stream",
     "text": [
      "                   Feature  Importance\n",
      "46        n_minimum_nights    0.087709\n",
      "45                distance    0.082571\n",
      "44         n_accommodates2    0.073413\n",
      "43          n_accommodates    0.062113\n",
      "47    host_acceptance_rate    0.052008\n",
      "51           n_days_since2    0.045163\n",
      "50           n_days_since3    0.042952\n",
      "48  n_review_scores_rating    0.042379\n",
      "52            n_days_since    0.039123\n",
      "49                  n_beds    0.037868\n"
     ]
    },
    {
     "data": {
      "image/png": "[encoded data removed]",
      "text/plain": [
       "<Figure size 1000x600 with 1 Axes>"
      ]
     },
     "metadata": {},
     "output_type": "display_data"
    }
   ],
   "source": [
    "best_gbm_model = gbm_model_cv.best_estimator_\n",
    "\n",
    "feature_importance = best_gbm_model.feature_importances_\n",
    "\n",
    "# Step 3: Get the names of the transformed features\n",
    "# Extract feature names after preprocessing\n",
    "transformed_feature_names = (\n",
    "    preprocessing.named_transformers_['cat'].get_feature_names_out(categorical_columns).tolist()  # One-hot encoded categorical features\n",
    "    + numerical_columns  # Numerical features\n",
    ")\n",
    "\n",
    "# Step 4: Create a DataFrame for feature importance\n",
    "feature_importance_df = pd.DataFrame({\n",
    "    'Feature': transformed_feature_names,\n",
    "    'Importance': feature_importance\n",
    "})\n",
    "\n",
    "# Step 5: Sort the DataFrame by importance\n",
    "feature_importance_df = feature_importance_df.sort_values(by='Importance', ascending=False)\n",
    "\n",
    "# Step 6: Display the top N most important features\n",
    "print(feature_importance_df.head(10))  # Adjust the number as needed\n",
    "\n",
    "# Step 7: Plot feature importance\n",
    "plt.figure(figsize=(10, 6))\n",
    "plt.barh(feature_importance_df['Feature'][:10], feature_importance_df['Importance'][:10])  # Plot top 10 features\n",
    "plt.xlabel('Feature Importance')\n",
    "plt.ylabel('Feature')\n",
    "plt.title('Top 10 Feature Importance in GBM Model')\n",
    "plt.gca().invert_yaxis()  # Invert y-axis to show the most important feature at the top\n",
    "plt.grid(True)\n",
    "plt.show()"
   ]
  },
  {
   "cell_type": "markdown",
   "id": "87be185f",
   "metadata": {},
   "source": [
    "### OLS RMSE"
   ]
  },
  {
   "cell_type": "code",
   "execution_count": 110,
   "id": "4262f283",
   "metadata": {},
   "outputs": [
    {
     "data": {
      "text/plain": [
       "76.83078541591543"
      ]
     },
     "execution_count": 110,
     "metadata": {},
     "output_type": "execute_result"
    }
   ],
   "source": [
    "y, X = dmatrices(\"price ~ \" + \" + \".join(predictors_2), data = data_work)\n",
    "\n",
    "ols_model = LinearRegression().fit(X,y)\n",
    "\n",
    "y_hat = ols_model.predict(X)\n",
    "\n",
    "ols_rmse = mean_squared_error(y,y_hat,squared=False)\n",
    "ols_rmse"
   ]
  },
  {
   "cell_type": "markdown",
   "id": "ea3a0e07",
   "metadata": {},
   "source": [
    "# Cart "
   ]
  },
  {
   "cell_type": "code",
   "execution_count": 94,
   "id": "c03bd866",
   "metadata": {},
   "outputs": [],
   "source": [
    "from sklearn.tree import DecisionTreeRegressor"
   ]
  },
  {
   "cell_type": "code",
   "execution_count": 95,
   "id": "21ecd28c",
   "metadata": {},
   "outputs": [],
   "source": [
    "y, X = dmatrices(\"price ~ \" + \" + \".join(predictors_2), data_work)"
   ]
  },
  {
   "cell_type": "code",
   "execution_count": 96,
   "id": "a19912e2",
   "metadata": {},
   "outputs": [],
   "source": [
    "cart_model = DecisionTreeRegressor(random_state=2039402)"
   ]
  },
  {
   "cell_type": "code",
   "execution_count": 97,
   "id": "2d6fc553",
   "metadata": {},
   "outputs": [],
   "source": [
    "path = cart_model.cost_complexity_pruning_path(X, y.ravel())\n",
    "ccp_alphas, impurities = path.ccp_alphas, path.impurities"
   ]
  },
  {
   "cell_type": "code",
   "execution_count": 98,
   "id": "d51aff1f",
   "metadata": {},
   "outputs": [
    {
     "data": {
      "text/plain": [
       "array([ 0.00000000e+00, -1.90819582e-17, -9.62229428e-18, ...,\n",
       "        1.80690961e+02,  1.90965674e+02,  8.88355061e+02])"
      ]
     },
     "execution_count": 98,
     "metadata": {},
     "output_type": "execute_result"
    }
   ],
   "source": [
    "ccp_alphas"
   ]
  },
  {
   "cell_type": "code",
   "execution_count": 99,
   "id": "450abaaf",
   "metadata": {},
   "outputs": [
    {
     "name": "stdout",
     "output_type": "stream",
     "text": [
      "Fitting 5 folds for each of 10 candidates, totalling 50 fits\n",
      "[CV 1/5] END .ccp_alpha=0.018525926039888643;, score=-103.635 total time=   0.2s\n",
      "[CV 2/5] END .ccp_alpha=0.018525926039888643;, score=-108.516 total time=   0.2s\n",
      "[CV 3/5] END .ccp_alpha=0.018525926039888643;, score=-104.682 total time=   0.2s\n",
      "[CV 4/5] END ..ccp_alpha=0.018525926039888643;, score=-86.026 total time=   0.2s\n",
      "[CV 5/5] END ..ccp_alpha=0.018525926039888643;, score=-82.978 total time=   0.2s\n",
      "[CV 1/5] END .ccp_alpha=0.004075703728775571;, score=-103.735 total time=   0.2s\n",
      "[CV 2/5] END .ccp_alpha=0.004075703728775571;, score=-108.485 total time=   0.2s\n",
      "[CV 3/5] END .ccp_alpha=0.004075703728775571;, score=-104.784 total time=   0.1s\n",
      "[CV 4/5] END ..ccp_alpha=0.004075703728775571;, score=-86.115 total time=   0.2s\n",
      "[CV 5/5] END ..ccp_alpha=0.004075703728775571;, score=-83.053 total time=   0.1s\n",
      "[CV 1/5] END ..ccp_alpha=0.02820556213685367;, score=-103.539 total time=   0.2s\n",
      "[CV 2/5] END ..ccp_alpha=0.02820556213685367;, score=-108.527 total time=   0.2s\n",
      "[CV 3/5] END ..ccp_alpha=0.02820556213685367;, score=-104.653 total time=   0.2s\n",
      "[CV 4/5] END ...ccp_alpha=0.02820556213685367;, score=-85.975 total time=   0.2s\n",
      "[CV 5/5] END ...ccp_alpha=0.02820556213685367;, score=-82.924 total time=   0.2s\n",
      "[CV 1/5] END ..ccp_alpha=0.13822135725164988;, score=-102.951 total time=   0.3s\n",
      "[CV 2/5] END ..ccp_alpha=0.13822135725164988;, score=-107.811 total time=   0.3s\n",
      "[CV 3/5] END ..ccp_alpha=0.13822135725164988;, score=-104.188 total time=   0.3s\n",
      "[CV 4/5] END ...ccp_alpha=0.13822135725164988;, score=-85.300 total time=   0.3s\n",
      "[CV 5/5] END ...ccp_alpha=0.13822135725164988;, score=-82.124 total time=   0.2s\n",
      "[CV 1/5] END ..ccp_alpha=0.06910362723529029;, score=-103.259 total time=   0.3s\n",
      "[CV 2/5] END ..ccp_alpha=0.06910362723529029;, score=-108.183 total time=   0.2s\n",
      "[CV 3/5] END ..ccp_alpha=0.06910362723529029;, score=-104.403 total time=   0.3s\n",
      "[CV 4/5] END ...ccp_alpha=0.06910362723529029;, score=-85.710 total time=   0.3s\n",
      "[CV 5/5] END ...ccp_alpha=0.06910362723529029;, score=-82.751 total time=   0.2s\n",
      "[CV 1/5] END ccp_alpha=0.00022564449709508365;, score=-103.739 total time=   0.1s\n",
      "[CV 2/5] END ccp_alpha=0.00022564449709508365;, score=-108.502 total time=   0.1s\n",
      "[CV 3/5] END ccp_alpha=0.00022564449709508365;, score=-104.785 total time=   0.1s\n",
      "[CV 4/5] END ccp_alpha=0.00022564449709508365;, score=-86.125 total time=   0.1s\n",
      "[CV 5/5] END ccp_alpha=0.00022564449709508365;, score=-83.100 total time=   0.1s\n",
      "[CV 1/5] END .ccp_alpha=0.059013087380831636;, score=-103.291 total time=   0.2s\n",
      "[CV 2/5] END .ccp_alpha=0.059013087380831636;, score=-108.396 total time=   0.2s\n",
      "[CV 3/5] END .ccp_alpha=0.059013087380831636;, score=-104.471 total time=   0.2s\n",
      "[CV 4/5] END ..ccp_alpha=0.059013087380831636;, score=-85.750 total time=   0.3s\n",
      "[CV 5/5] END ..ccp_alpha=0.059013087380831636;, score=-82.812 total time=   0.2s\n",
      "[CV 1/5] END ...ccp_alpha=0.9563285136513453;, score=-100.997 total time=   0.3s\n",
      "[CV 2/5] END ...ccp_alpha=0.9563285136513453;, score=-105.406 total time=   0.3s\n",
      "[CV 3/5] END ...ccp_alpha=0.9563285136513453;, score=-103.303 total time=   0.3s\n",
      "[CV 4/5] END ....ccp_alpha=0.9563285136513453;, score=-83.298 total time=   0.3s\n",
      "[CV 5/5] END ....ccp_alpha=0.9563285136513453;, score=-79.783 total time=   0.2s\n",
      "[CV 1/5] END ..ccp_alpha=0.03357167033338943;, score=-103.502 total time=   0.3s\n",
      "[CV 2/5] END ..ccp_alpha=0.03357167033338943;, score=-108.542 total time=   0.2s\n",
      "[CV 3/5] END ..ccp_alpha=0.03357167033338943;, score=-104.608 total time=   0.2s\n",
      "[CV 4/5] END ...ccp_alpha=0.03357167033338943;, score=-85.968 total time=   0.2s\n",
      "[CV 5/5] END ...ccp_alpha=0.03357167033338943;, score=-82.854 total time=   0.2s\n",
      "[CV 1/5] END ccp_alpha=0.0007220623907034249;, score=-103.736 total time=   0.1s\n",
      "[CV 2/5] END ccp_alpha=0.0007220623907034249;, score=-108.507 total time=   0.1s\n",
      "[CV 3/5] END ccp_alpha=0.0007220623907034249;, score=-104.789 total time=   0.1s\n",
      "[CV 4/5] END .ccp_alpha=0.0007220623907034249;, score=-86.122 total time=   0.1s\n",
      "[CV 5/5] END .ccp_alpha=0.0007220623907034249;, score=-83.101 total time=   0.1s\n",
      "CPU times: total: 15.7 s\n",
      "Wall time: 15.7 s\n"
     ]
    },
    {
     "data": {
      "text/html": [
       "<style>#sk-container-id-6 {color: black;background-color: white;}#sk-container-id-6 pre{padding: 0;}#sk-container-id-6 div.sk-toggleable {background-color: white;}#sk-container-id-6 label.sk-toggleable__label {cursor: pointer;display: block;width: 100%;margin-bottom: 0;padding: 0.3em;box-sizing: border-box;text-align: center;}#sk-container-id-6 label.sk-toggleable__label-arrow:before {content: \"▸\";float: left;margin-right: 0.25em;color: #696969;}#sk-container-id-6 label.sk-toggleable__label-arrow:hover:before {color: black;}#sk-container-id-6 div.sk-estimator:hover label.sk-toggleable__label-arrow:before {color: black;}#sk-container-id-6 div.sk-toggleable__content {max-height: 0;max-width: 0;overflow: hidden;text-align: left;background-color: #f0f8ff;}#sk-container-id-6 div.sk-toggleable__content pre {margin: 0.2em;color: black;border-radius: 0.25em;background-color: #f0f8ff;}#sk-container-id-6 input.sk-toggleable__control:checked~div.sk-toggleable__content {max-height: 200px;max-width: 100%;overflow: auto;}#sk-container-id-6 input.sk-toggleable__control:checked~label.sk-toggleable__label-arrow:before {content: \"▾\";}#sk-container-id-6 div.sk-estimator input.sk-toggleable__control:checked~label.sk-toggleable__label {background-color: #d4ebff;}#sk-container-id-6 div.sk-label input.sk-toggleable__control:checked~label.sk-toggleable__label {background-color: #d4ebff;}#sk-container-id-6 input.sk-hidden--visually {border: 0;clip: rect(1px 1px 1px 1px);clip: rect(1px, 1px, 1px, 1px);height: 1px;margin: -1px;overflow: hidden;padding: 0;position: absolute;width: 1px;}#sk-container-id-6 div.sk-estimator {font-family: monospace;background-color: #f0f8ff;border: 1px dotted black;border-radius: 0.25em;box-sizing: border-box;margin-bottom: 0.5em;}#sk-container-id-6 div.sk-estimator:hover {background-color: #d4ebff;}#sk-container-id-6 div.sk-parallel-item::after {content: \"\";width: 100%;border-bottom: 1px solid gray;flex-grow: 1;}#sk-container-id-6 div.sk-label:hover label.sk-toggleable__label {background-color: #d4ebff;}#sk-container-id-6 div.sk-serial::before {content: \"\";position: absolute;border-left: 1px solid gray;box-sizing: border-box;top: 0;bottom: 0;left: 50%;z-index: 0;}#sk-container-id-6 div.sk-serial {display: flex;flex-direction: column;align-items: center;background-color: white;padding-right: 0.2em;padding-left: 0.2em;position: relative;}#sk-container-id-6 div.sk-item {position: relative;z-index: 1;}#sk-container-id-6 div.sk-parallel {display: flex;align-items: stretch;justify-content: center;background-color: white;position: relative;}#sk-container-id-6 div.sk-item::before, #sk-container-id-6 div.sk-parallel-item::before {content: \"\";position: absolute;border-left: 1px solid gray;box-sizing: border-box;top: 0;bottom: 0;left: 50%;z-index: -1;}#sk-container-id-6 div.sk-parallel-item {display: flex;flex-direction: column;z-index: 1;position: relative;background-color: white;}#sk-container-id-6 div.sk-parallel-item:first-child::after {align-self: flex-end;width: 50%;}#sk-container-id-6 div.sk-parallel-item:last-child::after {align-self: flex-start;width: 50%;}#sk-container-id-6 div.sk-parallel-item:only-child::after {width: 0;}#sk-container-id-6 div.sk-dashed-wrapped {border: 1px dashed gray;margin: 0 0.4em 0.5em 0.4em;box-sizing: border-box;padding-bottom: 0.4em;background-color: white;}#sk-container-id-6 div.sk-label label {font-family: monospace;font-weight: bold;display: inline-block;line-height: 1.2em;}#sk-container-id-6 div.sk-label-container {text-align: center;}#sk-container-id-6 div.sk-container {/* jupyter's `normalize.less` sets `[hidden] { display: none; }` but bootstrap.min.css set `[hidden] { display: none !important; }` so we also need the `!important` here to be able to override the default hidden behavior on the sphinx rendered scikit-learn.org. See: https://github.com/scikit-learn/scikit-learn/issues/21755 */display: inline-block !important;position: relative;}#sk-container-id-6 div.sk-text-repr-fallback {display: none;}</style><div id=\"sk-container-id-6\" class=\"sk-top-container\"><div class=\"sk-text-repr-fallback\"><pre>RandomizedSearchCV(cv=5, estimator=DecisionTreeRegressor(random_state=2039402),\n",
       "                   param_distributions={&#x27;ccp_alpha&#x27;: array([ 0.00000000e+00, -1.90819582e-17, -9.62229428e-18, ...,\n",
       "        1.80690961e+02,  1.90965674e+02,  8.88355061e+02])},\n",
       "                   scoring=&#x27;neg_root_mean_squared_error&#x27;, verbose=3)</pre><b>In a Jupyter environment, please rerun this cell to show the HTML representation or trust the notebook. <br />On GitHub, the HTML representation is unable to render, please try loading this page with nbviewer.org.</b></div><div class=\"sk-container\" hidden><div class=\"sk-item sk-dashed-wrapped\"><div class=\"sk-label-container\"><div class=\"sk-label sk-toggleable\"><input class=\"sk-toggleable__control sk-hidden--visually\" id=\"sk-estimator-id-16\" type=\"checkbox\" ><label for=\"sk-estimator-id-16\" class=\"sk-toggleable__label sk-toggleable__label-arrow\">RandomizedSearchCV</label><div class=\"sk-toggleable__content\"><pre>RandomizedSearchCV(cv=5, estimator=DecisionTreeRegressor(random_state=2039402),\n",
       "                   param_distributions={&#x27;ccp_alpha&#x27;: array([ 0.00000000e+00, -1.90819582e-17, -9.62229428e-18, ...,\n",
       "        1.80690961e+02,  1.90965674e+02,  8.88355061e+02])},\n",
       "                   scoring=&#x27;neg_root_mean_squared_error&#x27;, verbose=3)</pre></div></div></div><div class=\"sk-parallel\"><div class=\"sk-parallel-item\"><div class=\"sk-item\"><div class=\"sk-label-container\"><div class=\"sk-label sk-toggleable\"><input class=\"sk-toggleable__control sk-hidden--visually\" id=\"sk-estimator-id-17\" type=\"checkbox\" ><label for=\"sk-estimator-id-17\" class=\"sk-toggleable__label sk-toggleable__label-arrow\">estimator: DecisionTreeRegressor</label><div class=\"sk-toggleable__content\"><pre>DecisionTreeRegressor(random_state=2039402)</pre></div></div></div><div class=\"sk-serial\"><div class=\"sk-item\"><div class=\"sk-estimator sk-toggleable\"><input class=\"sk-toggleable__control sk-hidden--visually\" id=\"sk-estimator-id-18\" type=\"checkbox\" ><label for=\"sk-estimator-id-18\" class=\"sk-toggleable__label sk-toggleable__label-arrow\">DecisionTreeRegressor</label><div class=\"sk-toggleable__content\"><pre>DecisionTreeRegressor(random_state=2039402)</pre></div></div></div></div></div></div></div></div></div></div>"
      ],
      "text/plain": [
       "RandomizedSearchCV(cv=5, estimator=DecisionTreeRegressor(random_state=2039402),\n",
       "                   param_distributions={'ccp_alpha': array([ 0.00000000e+00, -1.90819582e-17, -9.62229428e-18, ...,\n",
       "        1.80690961e+02,  1.90965674e+02,  8.88355061e+02])},\n",
       "                   scoring='neg_root_mean_squared_error', verbose=3)"
      ]
     },
     "execution_count": 99,
     "metadata": {},
     "output_type": "execute_result"
    }
   ],
   "source": [
    "%%time\n",
    "\n",
    "cart_model_cv = RandomizedSearchCV(\n",
    "    cart_model,\n",
    "    {\"ccp_alpha\":ccp_alphas},\n",
    "    cv = 5,\n",
    "    scoring=\"neg_root_mean_squared_error\",\n",
    "    verbose = 3,\n",
    ")\n",
    "cart_model_cv.fit(X,y.ravel())"
   ]
  },
  {
   "cell_type": "code",
   "execution_count": 100,
   "id": "447588f2",
   "metadata": {},
   "outputs": [
    {
     "data": {
      "text/html": [
       "<style>#sk-container-id-7 {color: black;background-color: white;}#sk-container-id-7 pre{padding: 0;}#sk-container-id-7 div.sk-toggleable {background-color: white;}#sk-container-id-7 label.sk-toggleable__label {cursor: pointer;display: block;width: 100%;margin-bottom: 0;padding: 0.3em;box-sizing: border-box;text-align: center;}#sk-container-id-7 label.sk-toggleable__label-arrow:before {content: \"▸\";float: left;margin-right: 0.25em;color: #696969;}#sk-container-id-7 label.sk-toggleable__label-arrow:hover:before {color: black;}#sk-container-id-7 div.sk-estimator:hover label.sk-toggleable__label-arrow:before {color: black;}#sk-container-id-7 div.sk-toggleable__content {max-height: 0;max-width: 0;overflow: hidden;text-align: left;background-color: #f0f8ff;}#sk-container-id-7 div.sk-toggleable__content pre {margin: 0.2em;color: black;border-radius: 0.25em;background-color: #f0f8ff;}#sk-container-id-7 input.sk-toggleable__control:checked~div.sk-toggleable__content {max-height: 200px;max-width: 100%;overflow: auto;}#sk-container-id-7 input.sk-toggleable__control:checked~label.sk-toggleable__label-arrow:before {content: \"▾\";}#sk-container-id-7 div.sk-estimator input.sk-toggleable__control:checked~label.sk-toggleable__label {background-color: #d4ebff;}#sk-container-id-7 div.sk-label input.sk-toggleable__control:checked~label.sk-toggleable__label {background-color: #d4ebff;}#sk-container-id-7 input.sk-hidden--visually {border: 0;clip: rect(1px 1px 1px 1px);clip: rect(1px, 1px, 1px, 1px);height: 1px;margin: -1px;overflow: hidden;padding: 0;position: absolute;width: 1px;}#sk-container-id-7 div.sk-estimator {font-family: monospace;background-color: #f0f8ff;border: 1px dotted black;border-radius: 0.25em;box-sizing: border-box;margin-bottom: 0.5em;}#sk-container-id-7 div.sk-estimator:hover {background-color: #d4ebff;}#sk-container-id-7 div.sk-parallel-item::after {content: \"\";width: 100%;border-bottom: 1px solid gray;flex-grow: 1;}#sk-container-id-7 div.sk-label:hover label.sk-toggleable__label {background-color: #d4ebff;}#sk-container-id-7 div.sk-serial::before {content: \"\";position: absolute;border-left: 1px solid gray;box-sizing: border-box;top: 0;bottom: 0;left: 50%;z-index: 0;}#sk-container-id-7 div.sk-serial {display: flex;flex-direction: column;align-items: center;background-color: white;padding-right: 0.2em;padding-left: 0.2em;position: relative;}#sk-container-id-7 div.sk-item {position: relative;z-index: 1;}#sk-container-id-7 div.sk-parallel {display: flex;align-items: stretch;justify-content: center;background-color: white;position: relative;}#sk-container-id-7 div.sk-item::before, #sk-container-id-7 div.sk-parallel-item::before {content: \"\";position: absolute;border-left: 1px solid gray;box-sizing: border-box;top: 0;bottom: 0;left: 50%;z-index: -1;}#sk-container-id-7 div.sk-parallel-item {display: flex;flex-direction: column;z-index: 1;position: relative;background-color: white;}#sk-container-id-7 div.sk-parallel-item:first-child::after {align-self: flex-end;width: 50%;}#sk-container-id-7 div.sk-parallel-item:last-child::after {align-self: flex-start;width: 50%;}#sk-container-id-7 div.sk-parallel-item:only-child::after {width: 0;}#sk-container-id-7 div.sk-dashed-wrapped {border: 1px dashed gray;margin: 0 0.4em 0.5em 0.4em;box-sizing: border-box;padding-bottom: 0.4em;background-color: white;}#sk-container-id-7 div.sk-label label {font-family: monospace;font-weight: bold;display: inline-block;line-height: 1.2em;}#sk-container-id-7 div.sk-label-container {text-align: center;}#sk-container-id-7 div.sk-container {/* jupyter's `normalize.less` sets `[hidden] { display: none; }` but bootstrap.min.css set `[hidden] { display: none !important; }` so we also need the `!important` here to be able to override the default hidden behavior on the sphinx rendered scikit-learn.org. See: https://github.com/scikit-learn/scikit-learn/issues/21755 */display: inline-block !important;position: relative;}#sk-container-id-7 div.sk-text-repr-fallback {display: none;}</style><div id=\"sk-container-id-7\" class=\"sk-top-container\"><div class=\"sk-text-repr-fallback\"><pre>DecisionTreeRegressor(ccp_alpha=0.9563285136513453, random_state=2039402)</pre><b>In a Jupyter environment, please rerun this cell to show the HTML representation or trust the notebook. <br />On GitHub, the HTML representation is unable to render, please try loading this page with nbviewer.org.</b></div><div class=\"sk-container\" hidden><div class=\"sk-item\"><div class=\"sk-estimator sk-toggleable\"><input class=\"sk-toggleable__control sk-hidden--visually\" id=\"sk-estimator-id-19\" type=\"checkbox\" checked><label for=\"sk-estimator-id-19\" class=\"sk-toggleable__label sk-toggleable__label-arrow\">DecisionTreeRegressor</label><div class=\"sk-toggleable__content\"><pre>DecisionTreeRegressor(ccp_alpha=0.9563285136513453, random_state=2039402)</pre></div></div></div></div></div>"
      ],
      "text/plain": [
       "DecisionTreeRegressor(ccp_alpha=0.9563285136513453, random_state=2039402)"
      ]
     },
     "execution_count": 100,
     "metadata": {},
     "output_type": "execute_result"
    }
   ],
   "source": [
    "cart_model_cv.best_estimator_"
   ]
  },
  {
   "cell_type": "code",
   "execution_count": 101,
   "id": "78470a8d",
   "metadata": {},
   "outputs": [
    {
     "data": {
      "text/plain": [
       "94.5576253340322"
      ]
     },
     "execution_count": 101,
     "metadata": {},
     "output_type": "execute_result"
    }
   ],
   "source": [
    "cart_rmse = pd.DataFrame(cart_model_cv.cv_results_).loc[\n",
    "    lambda x: x.param_ccp_alpha == cart_model_cv.best_estimator_.ccp_alpha\n",
    "].mean_test_score.values[0] * -1\n",
    "cart_rmse"
   ]
  },
  {
   "cell_type": "markdown",
   "id": "5432f844",
   "metadata": {},
   "source": [
    "# #3. Comparison table and discussion"
   ]
  },
  {
   "cell_type": "code",
   "execution_count": 111,
   "id": "d4692783",
   "metadata": {},
   "outputs": [
    {
     "data": {
      "text/html": [
       "<div>\n",
       "<style scoped>\n",
       "    .dataframe tbody tr th:only-of-type {\n",
       "        vertical-align: middle;\n",
       "    }\n",
       "\n",
       "    .dataframe tbody tr th {\n",
       "        vertical-align: top;\n",
       "    }\n",
       "\n",
       "    .dataframe thead th {\n",
       "        text-align: right;\n",
       "    }\n",
       "</style>\n",
       "<table border=\"1\" class=\"dataframe\">\n",
       "  <thead>\n",
       "    <tr style=\"text-align: right;\">\n",
       "      <th></th>\n",
       "      <th>model</th>\n",
       "      <th>CV RMSE</th>\n",
       "    </tr>\n",
       "  </thead>\n",
       "  <tbody>\n",
       "    <tr>\n",
       "      <th>0</th>\n",
       "      <td>OLS</td>\n",
       "      <td>76.830785</td>\n",
       "    </tr>\n",
       "    <tr>\n",
       "      <th>1</th>\n",
       "      <td>LASSO</td>\n",
       "      <td>76.926237</td>\n",
       "    </tr>\n",
       "    <tr>\n",
       "      <th>2</th>\n",
       "      <td>Random Forest</td>\n",
       "      <td>76.501743</td>\n",
       "    </tr>\n",
       "    <tr>\n",
       "      <th>3</th>\n",
       "      <td>GBM</td>\n",
       "      <td>67.525173</td>\n",
       "    </tr>\n",
       "    <tr>\n",
       "      <th>4</th>\n",
       "      <td>Cart</td>\n",
       "      <td>94.557625</td>\n",
       "    </tr>\n",
       "  </tbody>\n",
       "</table>\n",
       "</div>"
      ],
      "text/plain": [
       "           model    CV RMSE\n",
       "0            OLS  76.830785\n",
       "1          LASSO  76.926237\n",
       "2  Random Forest  76.501743\n",
       "3            GBM  67.525173\n",
       "4           Cart  94.557625"
      ]
     },
     "execution_count": 111,
     "metadata": {},
     "output_type": "execute_result"
    }
   ],
   "source": [
    "pd.DataFrame({'model': ['OLS', 'LASSO', 'Random Forest', 'GBM', 'Cart'],\n",
    "              'CV RMSE': [ols_rmse, lasso_rmse,rf_rmse, gbm_rmse, cart_rmse]})"
   ]
  },
  {
   "cell_type": "markdown",
   "id": "b1e61e29",
   "metadata": {},
   "source": [
    "The GBM has the best performance with reasonable training time. Random Forest has a **relatively** good performance but is very slow to train. Lasso: **relatively** moderate performance but very fast to train. OLS has a moderate performance; time likely similar to LASSO. CART: worst performance with moderate training time."
   ]
  },
  {
   "cell_type": "markdown",
   "id": "086ffe1c",
   "metadata": {},
   "source": [
    "# #4. Feature Importance for Random Forest and GBM"
   ]
  },
  {
   "cell_type": "code",
   "execution_count": 103,
   "id": "4571f72e",
   "metadata": {},
   "outputs": [
    {
     "data": {
      "image/png": "[encoded data removed]",
      "text/plain": [
       "<Figure size 2000x600 with 2 Axes>"
      ]
     },
     "metadata": {},
     "output_type": "display_data"
    }
   ],
   "source": [
    "import matplotlib.pyplot as plt\n",
    "import matplotlib.ticker as mtick\n",
    "\n",
    "# Create a figure with two subplots\n",
    "fig, (ax1, ax2) = plt.subplots(1, 2, figsize=(20, 6))\n",
    "\n",
    "# Plot GBM Feature Importance\n",
    "ax1.barh(feature_importance_df['Feature'][:10], feature_importance_df['Importance'][:10])\n",
    "ax1.set_xlabel('Feature Importance')\n",
    "ax1.set_ylabel('Feature')\n",
    "ax1.set_title('Top 10 Feature Importance in GBM Model')\n",
    "ax1.invert_yaxis()  # Invert y-axis to show the most important feature at the top\n",
    "ax1.grid(True)\n",
    "ax1.xaxis.set_major_formatter(mtick.PercentFormatter(xmax=1))  # Format x-axis as percentages\n",
    "\n",
    "# Filter and sort Random Forest features for top 10\n",
    "df_var_imp_top10 = df_var_imp[df_var_imp.imp > 0.01]\\\n",
    "    .sort_values(by='imp', ascending=False)\\\n",
    "    .head(10)  # Select top 10 features\n",
    "\n",
    "# Plot Random Forest Feature Importance (Top 10)\n",
    "df_var_imp_top10.plot(kind='barh',\n",
    "                      x='variable',\n",
    "                      y='imp',\n",
    "                      ax=ax2,  # Use the second subplot\n",
    "                      grid=True,\n",
    "                      title='Top 10 Feature Importance in Random Forest Model',\n",
    "                      xlabel='Features',\n",
    "                      legend=False)\n",
    "ax2.xaxis.set_major_formatter(mtick.PercentFormatter(xmax=1))  # Format x-axis as percentages\n",
    "ax2.invert_yaxis()  # Invert y-axis to show the most important feature at the top\n",
    "\n",
    "# Adjust layout for better spacing\n",
    "plt.tight_layout()\n",
    "\n",
    "# Show the combined plot\n",
    "plt.show()"
   ]
  },
  {
   "cell_type": "markdown",
   "id": "08e26f81",
   "metadata": {},
   "source": [
    "The graphs reveal that **distance** and **n_accommodates** are among the most important features in both the GBM and Random Forest models, indicating their strong influence on the target variable. The GBM model highlights **n_minimum_nights** and **host_acceptance_rate** as significant, while the Random Forest model emphasizes **n_review_scores_rating** and **n_beds**. Both models agree on the importance of **distance**, suggesting it is a key predictor. However, the GBM model assigns higher importance to some features (e.g., **n_minimum_nights**) compared to the Random Forest, reflecting differences in how each model captures feature interactions and nonlinearities."
   ]
  },
  {
   "cell_type": "markdown",
   "id": "c9c879f6",
   "metadata": {},
   "source": [
    "# Test on further quarter and Madrid"
   ]
  },
  {
   "cell_type": "markdown",
   "id": "6e855a5c",
   "metadata": {},
   "source": [
    "## OLS"
   ]
  },
  {
   "cell_type": "code",
   "execution_count": 149,
   "id": "58bd5d39",
   "metadata": {},
   "outputs": [],
   "source": [
    "y_barca4, X_barca4 = dmatrices(\"price ~ \" + \" + \".join(predictors_2), barca4, return_type='dataframe')\n",
    "y_madrid, X_madrid = dmatrices(\"price ~ \" + \" + \".join(predictors_2), madrid, return_type='dataframe')"
   ]
  },
  {
   "cell_type": "code",
   "execution_count": 109,
   "id": "bfe5bdb1",
   "metadata": {},
   "outputs": [
    {
     "name": "stdout",
     "output_type": "stream",
     "text": [
      "67\n",
      "49\n",
      "49\n"
     ]
    }
   ],
   "source": [
    "print(data_work.shape[1])  # Number of features in training data\n",
    "print(X_barca4.shape[1])  # Number of features in X_barca4\n",
    "print(X_madrid.shape[1])  # Number of features in X_madrid"
   ]
  },
  {
   "cell_type": "code",
   "execution_count": 150,
   "id": "bdeefa5d",
   "metadata": {},
   "outputs": [],
   "source": [
    "y_barca4_test = ols_model.predict(X_barca4)\n",
    "y_madrid_test = ols_model.predict(X_madrid)\n",
    "\n",
    "ols_rmse_barca4 = mean_squared_error(y_barca4, y_barca4_test, squared=False)\n",
    "ols_rmse_madrid = mean_squared_error(y_madrid, y_madrid_test, squared=False)"
   ]
  },
  {
   "cell_type": "code",
   "execution_count": 151,
   "id": "ad3cb6c2",
   "metadata": {},
   "outputs": [
    {
     "data": {
      "text/html": [
       "<div>\n",
       "<style scoped>\n",
       "    .dataframe tbody tr th:only-of-type {\n",
       "        vertical-align: middle;\n",
       "    }\n",
       "\n",
       "    .dataframe tbody tr th {\n",
       "        vertical-align: top;\n",
       "    }\n",
       "\n",
       "    .dataframe thead th {\n",
       "        text-align: right;\n",
       "    }\n",
       "</style>\n",
       "<table border=\"1\" class=\"dataframe\">\n",
       "  <thead>\n",
       "    <tr style=\"text-align: right;\">\n",
       "      <th></th>\n",
       "      <th>Dataset</th>\n",
       "      <th>RMSE</th>\n",
       "    </tr>\n",
       "  </thead>\n",
       "  <tbody>\n",
       "    <tr>\n",
       "      <th>0</th>\n",
       "      <td>Barcelona next 2 quarter</td>\n",
       "      <td>130.055136</td>\n",
       "    </tr>\n",
       "    <tr>\n",
       "      <th>1</th>\n",
       "      <td>Madrid</td>\n",
       "      <td>3630.302407</td>\n",
       "    </tr>\n",
       "  </tbody>\n",
       "</table>\n",
       "</div>"
      ],
      "text/plain": [
       "                    Dataset         RMSE\n",
       "0  Barcelona next 2 quarter   130.055136\n",
       "1                    Madrid  3630.302407"
      ]
     },
     "execution_count": 151,
     "metadata": {},
     "output_type": "execute_result"
    }
   ],
   "source": [
    "ols_test = pd.DataFrame({\n",
    "    \"Dataset\": [\"Barcelona next 2 quarter\", \"Madrid\"],\n",
    "    \"RMSE\": [ols_rmse_barca4, ols_rmse_madrid]\n",
    "})\n",
    "ols_test"
   ]
  },
  {
   "cell_type": "markdown",
   "id": "c2e99875",
   "metadata": {},
   "source": [
    "## Lasso"
   ]
  },
  {
   "cell_type": "code",
   "execution_count": 117,
   "id": "93a227c5",
   "metadata": {},
   "outputs": [],
   "source": [
    "y_barca4, X_barca4 = dmatrices(\"price ~ \" + \" + \".join(predictors_2), barca4, return_type='dataframe')\n",
    "y_madrid, X_madrid = dmatrices(\"price ~ \" + \" + \".join(predictors_2), madrid, return_type='dataframe')\n"
   ]
  },
  {
   "cell_type": "code",
   "execution_count": 118,
   "id": "736d62b6",
   "metadata": {},
   "outputs": [],
   "source": [
    "X_barca4_scaled = scaler.transform(X_barca4)\n",
    "X_madrid_scaled = scaler.transform(X_madrid)"
   ]
  },
  {
   "cell_type": "code",
   "execution_count": 121,
   "id": "64062156",
   "metadata": {},
   "outputs": [],
   "source": [
    "y_barca4_test = lasso_model_cv.best_estimator_.predict(X_barca4_scaled)\n",
    "y_madrid_test = lasso_model_cv.best_estimator_.predict(X_madrid_scaled)"
   ]
  },
  {
   "cell_type": "code",
   "execution_count": 122,
   "id": "6d9d8d50",
   "metadata": {},
   "outputs": [
    {
     "data": {
      "text/html": [
       "<div>\n",
       "<style scoped>\n",
       "    .dataframe tbody tr th:only-of-type {\n",
       "        vertical-align: middle;\n",
       "    }\n",
       "\n",
       "    .dataframe tbody tr th {\n",
       "        vertical-align: top;\n",
       "    }\n",
       "\n",
       "    .dataframe thead th {\n",
       "        text-align: right;\n",
       "    }\n",
       "</style>\n",
       "<table border=\"1\" class=\"dataframe\">\n",
       "  <thead>\n",
       "    <tr style=\"text-align: right;\">\n",
       "      <th></th>\n",
       "      <th>Dataset</th>\n",
       "      <th>RMSE</th>\n",
       "    </tr>\n",
       "  </thead>\n",
       "  <tbody>\n",
       "    <tr>\n",
       "      <th>0</th>\n",
       "      <td>barca4</td>\n",
       "      <td>130.070043</td>\n",
       "    </tr>\n",
       "    <tr>\n",
       "      <th>1</th>\n",
       "      <td>madrid</td>\n",
       "      <td>3634.874983</td>\n",
       "    </tr>\n",
       "  </tbody>\n",
       "</table>\n",
       "</div>"
      ],
      "text/plain": [
       "  Dataset         RMSE\n",
       "0  barca4   130.070043\n",
       "1  madrid  3634.874983"
      ]
     },
     "execution_count": 122,
     "metadata": {},
     "output_type": "execute_result"
    }
   ],
   "source": [
    "lasso_rmse_barca4_test = mean_squared_error(y_barca4, y_barca4_test, squared=False)\n",
    "lasso_rmse_madrid_test = mean_squared_error(y_madrid, y_madrid_test, squared=False)\n",
    "\n",
    "lasso_test = pd.DataFrame({\n",
    "    \"Dataset\": [\"barca4\", \"madrid\"],\n",
    "    \"RMSE\": [lasso_rmse_barca4_test, lasso_rmse_madrid_test]})\n",
    "\n",
    "lasso_test\n"
   ]
  },
  {
   "cell_type": "markdown",
   "id": "e08f2742",
   "metadata": {},
   "source": [
    "## Random Forest test"
   ]
  },
  {
   "cell_type": "code",
   "execution_count": 128,
   "id": "67069b0c",
   "metadata": {},
   "outputs": [],
   "source": [
    "y_barca4, X_barca4 = dmatrices(\"price ~ \" + \" + \".join(predictors), barca4, return_type='dataframe')\n",
    "y_madrid, X_madrid = dmatrices(\"price ~ \" + \" + \".join(predictors), madrid, return_type='dataframe')\n"
   ]
  },
  {
   "cell_type": "code",
   "execution_count": 125,
   "id": "a4ac897b",
   "metadata": {},
   "outputs": [],
   "source": [
    "predictors_2 = list(predictors_2)\n",
    "rf_random.fit(X, y.ravel())"
   ]
  },
  {
   "cell_type": "code",
   "execution_count": 132,
   "id": "391e1244",
   "metadata": {},
   "outputs": [],
   "source": [
    "barca4[\"prediction\"] = rf_model.predict(X_barca4)\n",
    "madrid[\"prediction\"] = rf_model.predict( X_madrid)"
   ]
  },
  {
   "cell_type": "code",
   "execution_count": 133,
   "id": "5019bdb1",
   "metadata": {},
   "outputs": [],
   "source": [
    "rf_rmse_barca4 = mean_squared_error(barca4.price, barca4.prediction, squared=False)\n",
    "rf_rmse_madrid = mean_squared_error(madrid.price, madrid.prediction, squared=False)"
   ]
  },
  {
   "cell_type": "code",
   "execution_count": 135,
   "id": "d1ffe438",
   "metadata": {},
   "outputs": [
    {
     "data": {
      "text/html": [
       "<div>\n",
       "<style scoped>\n",
       "    .dataframe tbody tr th:only-of-type {\n",
       "        vertical-align: middle;\n",
       "    }\n",
       "\n",
       "    .dataframe tbody tr th {\n",
       "        vertical-align: top;\n",
       "    }\n",
       "\n",
       "    .dataframe thead th {\n",
       "        text-align: right;\n",
       "    }\n",
       "</style>\n",
       "<table border=\"1\" class=\"dataframe\">\n",
       "  <thead>\n",
       "    <tr style=\"text-align: right;\">\n",
       "      <th></th>\n",
       "      <th>Dataset</th>\n",
       "      <th>RMSE</th>\n",
       "    </tr>\n",
       "  </thead>\n",
       "  <tbody>\n",
       "    <tr>\n",
       "      <th>0</th>\n",
       "      <td>Barcelona</td>\n",
       "      <td>125.428109</td>\n",
       "    </tr>\n",
       "    <tr>\n",
       "      <th>1</th>\n",
       "      <td>madrid</td>\n",
       "      <td>88.910287</td>\n",
       "    </tr>\n",
       "  </tbody>\n",
       "</table>\n",
       "</div>"
      ],
      "text/plain": [
       "     Dataset        RMSE\n",
       "0  Barcelona  125.428109\n",
       "1     madrid   88.910287"
      ]
     },
     "execution_count": 135,
     "metadata": {},
     "output_type": "execute_result"
    }
   ],
   "source": [
    "rf_test = pd.DataFrame({\n",
    "    \"Dataset\": [\"Barcelona\", \"madrid\"],\n",
    "    \"RMSE\": [rf_rmse_barca4, rf_rmse_madrid]})\n",
    "\n",
    "rf_test"
   ]
  },
  {
   "cell_type": "markdown",
   "id": "44fc8082",
   "metadata": {},
   "source": [
    "## Cart"
   ]
  },
  {
   "cell_type": "code",
   "execution_count": 136,
   "id": "d6a21ef0",
   "metadata": {},
   "outputs": [],
   "source": [
    "y_barca4, X_barca4 = dmatrices(\"price ~ \" + \" + \".join(predictors_2), barca4, return_type='dataframe')\n",
    "y_madrid, X_madrid = dmatrices(\"price ~ \" + \" + \".join(predictors_2), madrid, return_type='dataframe')\n"
   ]
  },
  {
   "cell_type": "code",
   "execution_count": 137,
   "id": "fbfb173b",
   "metadata": {},
   "outputs": [],
   "source": [
    "y_barca4_test = cart_model_cv.best_estimator_.predict(X_barca4)\n",
    "y_madrid_test = cart_model_cv.best_estimator_.predict(X_madrid)\n"
   ]
  },
  {
   "cell_type": "code",
   "execution_count": 138,
   "id": "30ac8dbf",
   "metadata": {},
   "outputs": [],
   "source": [
    "cart_rmse_barca4 = mean_squared_error(y_barca4, y_barca4_test, squared=False)\n",
    "cart_rmse_madrid = mean_squared_error(y_madrid, y_madrid_test, squared=False)\n"
   ]
  },
  {
   "cell_type": "code",
   "execution_count": 139,
   "id": "41622150",
   "metadata": {},
   "outputs": [
    {
     "data": {
      "text/html": [
       "<div>\n",
       "<style scoped>\n",
       "    .dataframe tbody tr th:only-of-type {\n",
       "        vertical-align: middle;\n",
       "    }\n",
       "\n",
       "    .dataframe tbody tr th {\n",
       "        vertical-align: top;\n",
       "    }\n",
       "\n",
       "    .dataframe thead th {\n",
       "        text-align: right;\n",
       "    }\n",
       "</style>\n",
       "<table border=\"1\" class=\"dataframe\">\n",
       "  <thead>\n",
       "    <tr style=\"text-align: right;\">\n",
       "      <th></th>\n",
       "      <th>Dataset</th>\n",
       "      <th>RMSE</th>\n",
       "    </tr>\n",
       "  </thead>\n",
       "  <tbody>\n",
       "    <tr>\n",
       "      <th>0</th>\n",
       "      <td>barcelona</td>\n",
       "      <td>136.169036</td>\n",
       "    </tr>\n",
       "    <tr>\n",
       "      <th>1</th>\n",
       "      <td>madrid</td>\n",
       "      <td>140.125275</td>\n",
       "    </tr>\n",
       "  </tbody>\n",
       "</table>\n",
       "</div>"
      ],
      "text/plain": [
       "     Dataset        RMSE\n",
       "0  barcelona  136.169036\n",
       "1     madrid  140.125275"
      ]
     },
     "execution_count": 139,
     "metadata": {},
     "output_type": "execute_result"
    }
   ],
   "source": [
    "cart_test = pd.DataFrame({\n",
    "    \"Dataset\": [\"barcelona\", \"madrid\"],\n",
    "    \"RMSE\": [cart_rmse_barca4, cart_rmse_madrid]})\n",
    "\n",
    "cart_test\n"
   ]
  },
  {
   "cell_type": "markdown",
   "id": "cceff300",
   "metadata": {},
   "source": [
    "## gbm test"
   ]
  },
  {
   "cell_type": "code",
   "execution_count": 141,
   "id": "03149a3a",
   "metadata": {},
   "outputs": [],
   "source": [
    "barca4[\"prediction\"] = gbm_pipe.predict(barca4[predictors])\n",
    "madrid[\"prediction\"] = gbm_pipe.predict(madrid[predictors])"
   ]
  },
  {
   "cell_type": "code",
   "execution_count": 142,
   "id": "2227813b",
   "metadata": {},
   "outputs": [],
   "source": [
    "gbm_rmse_barca4 = mean_squared_error(barca4.price, barca4.prediction, squared=False)\n",
    "gbm_rmse_madrid = mean_squared_error(madrid.price, madrid.prediction, squared=False)"
   ]
  },
  {
   "cell_type": "code",
   "execution_count": 143,
   "id": "48dac980",
   "metadata": {},
   "outputs": [
    {
     "data": {
      "text/html": [
       "<div>\n",
       "<style scoped>\n",
       "    .dataframe tbody tr th:only-of-type {\n",
       "        vertical-align: middle;\n",
       "    }\n",
       "\n",
       "    .dataframe tbody tr th {\n",
       "        vertical-align: top;\n",
       "    }\n",
       "\n",
       "    .dataframe thead th {\n",
       "        text-align: right;\n",
       "    }\n",
       "</style>\n",
       "<table border=\"1\" class=\"dataframe\">\n",
       "  <thead>\n",
       "    <tr style=\"text-align: right;\">\n",
       "      <th></th>\n",
       "      <th>Dataset</th>\n",
       "      <th>RMSE</th>\n",
       "    </tr>\n",
       "  </thead>\n",
       "  <tbody>\n",
       "    <tr>\n",
       "      <th>0</th>\n",
       "      <td>barcalona</td>\n",
       "      <td>122.404748</td>\n",
       "    </tr>\n",
       "    <tr>\n",
       "      <th>1</th>\n",
       "      <td>madrid</td>\n",
       "      <td>90.644746</td>\n",
       "    </tr>\n",
       "  </tbody>\n",
       "</table>\n",
       "</div>"
      ],
      "text/plain": [
       "     Dataset        RMSE\n",
       "0  barcalona  122.404748\n",
       "1     madrid   90.644746"
      ]
     },
     "execution_count": 143,
     "metadata": {},
     "output_type": "execute_result"
    }
   ],
   "source": [
    "gbm_test = pd.DataFrame({\n",
    "    \"Dataset\": [\"barcalona\", \"madrid\"],\n",
    "    \"RMSE\": [gbm_rmse_barca4, gbm_rmse_madrid]})\n",
    "\n",
    "gbm_test\n"
   ]
  },
  {
   "cell_type": "markdown",
   "id": "efe5d787",
   "metadata": {},
   "source": [
    "# Final comparison"
   ]
  },
  {
   "cell_type": "code",
   "execution_count": 145,
   "id": "89a7e19f",
   "metadata": {},
   "outputs": [
    {
     "data": {
      "text/html": [
       "<div>\n",
       "<style scoped>\n",
       "    .dataframe tbody tr th:only-of-type {\n",
       "        vertical-align: middle;\n",
       "    }\n",
       "\n",
       "    .dataframe tbody tr th {\n",
       "        vertical-align: top;\n",
       "    }\n",
       "\n",
       "    .dataframe thead th {\n",
       "        text-align: right;\n",
       "    }\n",
       "</style>\n",
       "<table border=\"1\" class=\"dataframe\">\n",
       "  <thead>\n",
       "    <tr style=\"text-align: right;\">\n",
       "      <th></th>\n",
       "      <th>Model Name</th>\n",
       "      <th>Train RMSE Barcelona Q2 2024</th>\n",
       "      <th>Test RMSE Barcelona Q4 2024</th>\n",
       "      <th>Test RMSE MADRID Q4 2024</th>\n",
       "    </tr>\n",
       "  </thead>\n",
       "  <tbody>\n",
       "    <tr>\n",
       "      <th>0</th>\n",
       "      <td>OLS</td>\n",
       "      <td>76.830785</td>\n",
       "      <td>130.055136</td>\n",
       "      <td>3630.302407</td>\n",
       "    </tr>\n",
       "    <tr>\n",
       "      <th>1</th>\n",
       "      <td>Lasso</td>\n",
       "      <td>76.926237</td>\n",
       "      <td>130.070043</td>\n",
       "      <td>3634.874983</td>\n",
       "    </tr>\n",
       "    <tr>\n",
       "      <th>2</th>\n",
       "      <td>Random Forest</td>\n",
       "      <td>76.501743</td>\n",
       "      <td>136.169036</td>\n",
       "      <td>140.125275</td>\n",
       "    </tr>\n",
       "    <tr>\n",
       "      <th>3</th>\n",
       "      <td>GBM</td>\n",
       "      <td>67.525173</td>\n",
       "      <td>125.428109</td>\n",
       "      <td>88.910287</td>\n",
       "    </tr>\n",
       "    <tr>\n",
       "      <th>4</th>\n",
       "      <td>CART</td>\n",
       "      <td>94.557625</td>\n",
       "      <td>122.404748</td>\n",
       "      <td>90.644746</td>\n",
       "    </tr>\n",
       "  </tbody>\n",
       "</table>\n",
       "</div>"
      ],
      "text/plain": [
       "      Model Name  Train RMSE Barcelona Q2 2024  Test RMSE Barcelona Q4 2024  \\\n",
       "0            OLS                     76.830785                   130.055136   \n",
       "1          Lasso                     76.926237                   130.070043   \n",
       "2  Random Forest                     76.501743                   136.169036   \n",
       "3            GBM                     67.525173                   125.428109   \n",
       "4           CART                     94.557625                   122.404748   \n",
       "\n",
       "   Test RMSE MADRID Q4 2024  \n",
       "0               3630.302407  \n",
       "1               3634.874983  \n",
       "2                140.125275  \n",
       "3                 88.910287  \n",
       "4                 90.644746  "
      ]
     },
     "execution_count": 145,
     "metadata": {},
     "output_type": "execute_result"
    }
   ],
   "source": [
    "compare_models = pd.DataFrame({\n",
    "    'Model Name': ['OLS', 'Lasso','Random Forest', 'GBM', 'CART'],\n",
    "    'Train RMSE Barcelona Q2 2024': [ols_rmse, lasso_rmse,rf_rmse, gbm_rmse, cart_rmse],\n",
    "    'Test RMSE Barcelona Q4 2024': [ols_rmse_barca4, lasso_rmse_barca4_test, cart_rmse_barca4, rf_rmse_barca4, gbm_rmse_barca4],\n",
    "    'Test RMSE MADRID Q4 2024': [ols_rmse_madrid, lasso_rmse_madrid_test, cart_rmse_madrid, rf_rmse_madrid, gbm_rmse_madrid]})\n",
    "\n",
    "compare_models"
   ]
  },
  {
   "cell_type": "markdown",
   "id": "6e57c40a",
   "metadata": {},
   "source": [
    "The results from the model evaluation highlight interesting differences in predictive performance across the datasets for Barcelona and Madrid, two largest cities of Spain. RMSE values indicate that the models generally perform better on the Barcelona dataset compared to Madrid as the OLS and Lasso models show significantly higher RMSE values for Madrid (3630.30 and 3634.87, respectively) compared to Barcelona (130.06 and 130.07). This suggests that these linear models struggle to capture the complexity of the Madrid data, possibly due to differences in the underlying distribution of Airbnb prices or features between the two cities.\n",
    "\n",
    "The Random Forest, Gradient Boosting Machine (GBM), and CART models perform much better on the Madrid dataset, with RMSE values dropping to 140.13, 88.91, and 90.64, respectively. This improvement indicates that tree-based models are better suited for capturing non-linear relationships and interactions in the Madrid data. However, even these models show slightly higher RMSE values for Madrid compared to Barcelona, suggesting that Madrid's Airbnb market may have more variability or complexity in pricing.\n",
    "\n",
    "The differences in RMSE across the datasets could be attributed to several factors. Madrid and Barcelona, while both popular tourist destinations, may have distinct market dynamics, such as differences in demand patterns, property types, or seasonal fluctuations. Additionally, the feature sets used for modeling might not fully capture the unique characteristics of each city, leading to higher errors in predictions for Madrid. Further feature engineering or the inclusion of city-specific variables could help improve model performance, particularly for Madrid.\n",
    "\n",
    "**Differences across two time periods in Barcelona:**\n",
    " The Train RMSE for Q2 is consistently lower across all models compared to the Test RMSE for Q4. For example, the OLS model has a Train RMSE of 76.83 for Q2 but a Test RMSE of 130.06 for Q4. This increase in RMSE suggests that the models trained on Q2 data struggle to generalize to Q4 data, indicating potential changes in the Airbnb market dynamics between these two quarters.\n",
    "\n",
    "Several factors could contribute to this discrepancy. My guess is that it happened due to seasonal variations in demand and pricing and holiday-related spikes or drops in bookings (Christmas and more religious weekends are in Q4). \n",
    "Overall, the differences highlight the importance of considering temporal factors when modeling dynamic markets like Airbnb."
   ]
  },
  {
   "cell_type": "code",
   "execution_count": null,
   "id": "b61a5795",
   "metadata": {},
   "outputs": [],
   "source": []
  }
 ],
 "metadata": {
  "kernelspec": {
   "display_name": "Python 3 (ipykernel)",
   "language": "python",
   "name": "python3"
  },
  "language_info": {
   "codemirror_mode": {
    "name": "ipython",
    "version": 3
   },
   "file_extension": ".py",
   "mimetype": "text/x-python",
   "name": "python",
   "nbconvert_exporter": "python",
   "pygments_lexer": "ipython3",
   "version": "3.10.9"
  }
 },
 "nbformat": 4,
 "nbformat_minor": 5
}
