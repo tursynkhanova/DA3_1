{
 "cells": [
  {
   "cell_type": "code",
   "execution_count": 1,
   "id": "d963ec7b",
   "metadata": {},
   "outputs": [],
   "source": [
    "import os\n",
    "import sys\n",
    "import warnings\n",
    "\n",
    "import numpy as np\n",
    "import pandas as pd\n",
    "import regex as re\n",
    "import statsmodels.api as sm\n",
    "import statsmodels.formula.api as smf\n",
    "from mizani.formatters import percent_format\n",
    "from plotnine import *\n",
    "from statsmodels.tools.eval_measures import rmse\n",
    "from sklearn.linear_model import LinearRegression\n",
    "warnings.filterwarnings(\"ignore\")\n",
    "\n",
    "import seaborn as sns\n",
    "import matplotlib as mpl\n",
    "import matplotlib.pyplot as plt\n",
    "import matplotlib.ticker as mtick\n",
    "sns.set_style(\"whitegrid\")\n",
    "from sklearn.ensemble import GradientBoostingRegressor\n",
    "from plotnine import ggplot, aes, geom_bar, theme_minimal, labs"
   ]
  },
  {
   "cell_type": "code",
   "execution_count": 2,
   "id": "1b522153",
   "metadata": {},
   "outputs": [],
   "source": [
    "data = pd.read_csv('cleaned_data_madrid.csv')"
   ]
  },
  {
   "cell_type": "code",
   "execution_count": 3,
   "id": "66c6ee6a",
   "metadata": {},
   "outputs": [
    {
     "data": {
      "text/plain": [
       "(21547, 65)"
      ]
     },
     "execution_count": 3,
     "metadata": {},
     "output_type": "execute_result"
    }
   ],
   "source": [
    "data.shape"
   ]
  },
  {
   "cell_type": "code",
   "execution_count": 4,
   "id": "45c1d708",
   "metadata": {},
   "outputs": [
    {
     "data": {
      "text/html": [
       "<div>\n",
       "<style scoped>\n",
       "    .dataframe tbody tr th:only-of-type {\n",
       "        vertical-align: middle;\n",
       "    }\n",
       "\n",
       "    .dataframe tbody tr th {\n",
       "        vertical-align: top;\n",
       "    }\n",
       "\n",
       "    .dataframe thead th {\n",
       "        text-align: right;\n",
       "    }\n",
       "</style>\n",
       "<table border=\"1\" class=\"dataframe\">\n",
       "  <thead>\n",
       "    <tr style=\"text-align: right;\">\n",
       "      <th></th>\n",
       "      <th>id</th>\n",
       "      <th>host_acceptance_rate</th>\n",
       "      <th>latitude</th>\n",
       "      <th>longitude</th>\n",
       "      <th>bedrooms</th>\n",
       "      <th>price</th>\n",
       "      <th>maximum_nights</th>\n",
       "      <th>availability_30</th>\n",
       "      <th>availability_60</th>\n",
       "      <th>availability_90</th>\n",
       "      <th>...</th>\n",
       "      <th>f_bathroom</th>\n",
       "      <th>ln_number_of_reviews</th>\n",
       "      <th>f_number_of_reviews</th>\n",
       "      <th>ln_days_since</th>\n",
       "      <th>ln_days_since2</th>\n",
       "      <th>ln_days_since3</th>\n",
       "      <th>n_days_since2</th>\n",
       "      <th>n_days_since3</th>\n",
       "      <th>ln_review_scores_rating</th>\n",
       "      <th>f_minimum_nights</th>\n",
       "    </tr>\n",
       "  </thead>\n",
       "  <tbody>\n",
       "    <tr>\n",
       "      <th>count</th>\n",
       "      <td>2.154700e+04</td>\n",
       "      <td>21547.000000</td>\n",
       "      <td>21547.000000</td>\n",
       "      <td>21547.000000</td>\n",
       "      <td>21547.000000</td>\n",
       "      <td>21547.000000</td>\n",
       "      <td>21547.000000</td>\n",
       "      <td>21547.000000</td>\n",
       "      <td>21547.000000</td>\n",
       "      <td>21547.000000</td>\n",
       "      <td>...</td>\n",
       "      <td>21546.000000</td>\n",
       "      <td>21547.000000</td>\n",
       "      <td>21546.000000</td>\n",
       "      <td>21547.000000</td>\n",
       "      <td>21547.000000</td>\n",
       "      <td>21547.000000</td>\n",
       "      <td>2.154700e+04</td>\n",
       "      <td>2.154700e+04</td>\n",
       "      <td>21547.000000</td>\n",
       "      <td>21546.000000</td>\n",
       "    </tr>\n",
       "    <tr>\n",
       "      <th>mean</th>\n",
       "      <td>6.050017e+17</td>\n",
       "      <td>85.726087</td>\n",
       "      <td>40.421608</td>\n",
       "      <td>-3.694370</td>\n",
       "      <td>1.387061</td>\n",
       "      <td>125.445770</td>\n",
       "      <td>543.201420</td>\n",
       "      <td>10.692857</td>\n",
       "      <td>29.367893</td>\n",
       "      <td>50.106975</td>\n",
       "      <td>...</td>\n",
       "      <td>1.203054</td>\n",
       "      <td>2.621948</td>\n",
       "      <td>1.100947</td>\n",
       "      <td>6.235223</td>\n",
       "      <td>40.477418</td>\n",
       "      <td>270.455017</td>\n",
       "      <td>1.691869e+06</td>\n",
       "      <td>4.296152e+09</td>\n",
       "      <td>1.537703</td>\n",
       "      <td>1.949132</td>\n",
       "    </tr>\n",
       "    <tr>\n",
       "      <th>std</th>\n",
       "      <td>4.736009e+17</td>\n",
       "      <td>25.547176</td>\n",
       "      <td>0.023435</td>\n",
       "      <td>0.027204</td>\n",
       "      <td>0.943889</td>\n",
       "      <td>108.636923</td>\n",
       "      <td>417.236356</td>\n",
       "      <td>9.126770</td>\n",
       "      <td>18.051209</td>\n",
       "      <td>26.702058</td>\n",
       "      <td>...</td>\n",
       "      <td>0.445218</td>\n",
       "      <td>1.811188</td>\n",
       "      <td>0.666941</td>\n",
       "      <td>1.264706</td>\n",
       "      <td>14.499988</td>\n",
       "      <td>134.281766</td>\n",
       "      <td>3.134710e+06</td>\n",
       "      <td>1.104824e+10</td>\n",
       "      <td>0.116313</td>\n",
       "      <td>0.894745</td>\n",
       "    </tr>\n",
       "    <tr>\n",
       "      <th>min</th>\n",
       "      <td>2.185300e+04</td>\n",
       "      <td>0.000000</td>\n",
       "      <td>40.331397</td>\n",
       "      <td>-3.833071</td>\n",
       "      <td>0.000000</td>\n",
       "      <td>8.000000</td>\n",
       "      <td>1.000000</td>\n",
       "      <td>0.000000</td>\n",
       "      <td>0.000000</td>\n",
       "      <td>0.000000</td>\n",
       "      <td>...</td>\n",
       "      <td>0.000000</td>\n",
       "      <td>0.000000</td>\n",
       "      <td>0.000000</td>\n",
       "      <td>0.000000</td>\n",
       "      <td>0.000000</td>\n",
       "      <td>0.000000</td>\n",
       "      <td>1.000000e+00</td>\n",
       "      <td>1.000000e+00</td>\n",
       "      <td>0.000000</td>\n",
       "      <td>1.000000</td>\n",
       "    </tr>\n",
       "    <tr>\n",
       "      <th>25%</th>\n",
       "      <td>4.210692e+07</td>\n",
       "      <td>85.000000</td>\n",
       "      <td>40.409460</td>\n",
       "      <td>-3.707450</td>\n",
       "      <td>1.000000</td>\n",
       "      <td>60.000000</td>\n",
       "      <td>360.000000</td>\n",
       "      <td>3.000000</td>\n",
       "      <td>14.000000</td>\n",
       "      <td>30.000000</td>\n",
       "      <td>...</td>\n",
       "      <td>1.000000</td>\n",
       "      <td>1.098612</td>\n",
       "      <td>1.000000</td>\n",
       "      <td>5.624018</td>\n",
       "      <td>31.629573</td>\n",
       "      <td>177.885272</td>\n",
       "      <td>7.672900e+04</td>\n",
       "      <td>2.125393e+07</td>\n",
       "      <td>1.528228</td>\n",
       "      <td>1.000000</td>\n",
       "    </tr>\n",
       "    <tr>\n",
       "      <th>50%</th>\n",
       "      <td>7.816300e+17</td>\n",
       "      <td>99.000000</td>\n",
       "      <td>40.420080</td>\n",
       "      <td>-3.701150</td>\n",
       "      <td>1.000000</td>\n",
       "      <td>100.000000</td>\n",
       "      <td>365.000000</td>\n",
       "      <td>9.000000</td>\n",
       "      <td>30.000000</td>\n",
       "      <td>54.000000</td>\n",
       "      <td>...</td>\n",
       "      <td>1.000000</td>\n",
       "      <td>2.772589</td>\n",
       "      <td>1.000000</td>\n",
       "      <td>6.386879</td>\n",
       "      <td>40.792227</td>\n",
       "      <td>260.535034</td>\n",
       "      <td>3.528360e+05</td>\n",
       "      <td>2.095846e+08</td>\n",
       "      <td>1.560248</td>\n",
       "      <td>2.000000</td>\n",
       "    </tr>\n",
       "    <tr>\n",
       "      <th>75%</th>\n",
       "      <td>1.034372e+18</td>\n",
       "      <td>100.000000</td>\n",
       "      <td>40.431536</td>\n",
       "      <td>-3.686721</td>\n",
       "      <td>2.000000</td>\n",
       "      <td>151.000000</td>\n",
       "      <td>1125.000000</td>\n",
       "      <td>17.000000</td>\n",
       "      <td>44.000000</td>\n",
       "      <td>73.000000</td>\n",
       "      <td>...</td>\n",
       "      <td>1.000000</td>\n",
       "      <td>4.094345</td>\n",
       "      <td>2.000000</td>\n",
       "      <td>7.041412</td>\n",
       "      <td>49.581478</td>\n",
       "      <td>349.123599</td>\n",
       "      <td>1.306449e+06</td>\n",
       "      <td>1.493271e+09</td>\n",
       "      <td>1.585145</td>\n",
       "      <td>3.000000</td>\n",
       "    </tr>\n",
       "    <tr>\n",
       "      <th>max</th>\n",
       "      <td>1.178999e+18</td>\n",
       "      <td>100.000000</td>\n",
       "      <td>40.535530</td>\n",
       "      <td>-3.545904</td>\n",
       "      <td>15.000000</td>\n",
       "      <td>1050.000000</td>\n",
       "      <td>1825.000000</td>\n",
       "      <td>30.000000</td>\n",
       "      <td>60.000000</td>\n",
       "      <td>90.000000</td>\n",
       "      <td>...</td>\n",
       "      <td>2.000000</td>\n",
       "      <td>6.966967</td>\n",
       "      <td>2.000000</td>\n",
       "      <td>8.528924</td>\n",
       "      <td>72.742547</td>\n",
       "      <td>620.415659</td>\n",
       "      <td>2.559348e+07</td>\n",
       "      <td>1.294774e+11</td>\n",
       "      <td>1.609438</td>\n",
       "      <td>3.000000</td>\n",
       "    </tr>\n",
       "  </tbody>\n",
       "</table>\n",
       "<p>8 rows × 52 columns</p>\n",
       "</div>"
      ],
      "text/plain": [
       "                 id  host_acceptance_rate      latitude     longitude  \\\n",
       "count  2.154700e+04          21547.000000  21547.000000  21547.000000   \n",
       "mean   6.050017e+17             85.726087     40.421608     -3.694370   \n",
       "std    4.736009e+17             25.547176      0.023435      0.027204   \n",
       "min    2.185300e+04              0.000000     40.331397     -3.833071   \n",
       "25%    4.210692e+07             85.000000     40.409460     -3.707450   \n",
       "50%    7.816300e+17             99.000000     40.420080     -3.701150   \n",
       "75%    1.034372e+18            100.000000     40.431536     -3.686721   \n",
       "max    1.178999e+18            100.000000     40.535530     -3.545904   \n",
       "\n",
       "           bedrooms         price  maximum_nights  availability_30  \\\n",
       "count  21547.000000  21547.000000    21547.000000     21547.000000   \n",
       "mean       1.387061    125.445770      543.201420        10.692857   \n",
       "std        0.943889    108.636923      417.236356         9.126770   \n",
       "min        0.000000      8.000000        1.000000         0.000000   \n",
       "25%        1.000000     60.000000      360.000000         3.000000   \n",
       "50%        1.000000    100.000000      365.000000         9.000000   \n",
       "75%        2.000000    151.000000     1125.000000        17.000000   \n",
       "max       15.000000   1050.000000     1825.000000        30.000000   \n",
       "\n",
       "       availability_60  availability_90  ...    f_bathroom  \\\n",
       "count     21547.000000     21547.000000  ...  21546.000000   \n",
       "mean         29.367893        50.106975  ...      1.203054   \n",
       "std          18.051209        26.702058  ...      0.445218   \n",
       "min           0.000000         0.000000  ...      0.000000   \n",
       "25%          14.000000        30.000000  ...      1.000000   \n",
       "50%          30.000000        54.000000  ...      1.000000   \n",
       "75%          44.000000        73.000000  ...      1.000000   \n",
       "max          60.000000        90.000000  ...      2.000000   \n",
       "\n",
       "       ln_number_of_reviews  f_number_of_reviews  ln_days_since  \\\n",
       "count          21547.000000         21546.000000   21547.000000   \n",
       "mean               2.621948             1.100947       6.235223   \n",
       "std                1.811188             0.666941       1.264706   \n",
       "min                0.000000             0.000000       0.000000   \n",
       "25%                1.098612             1.000000       5.624018   \n",
       "50%                2.772589             1.000000       6.386879   \n",
       "75%                4.094345             2.000000       7.041412   \n",
       "max                6.966967             2.000000       8.528924   \n",
       "\n",
       "       ln_days_since2  ln_days_since3  n_days_since2  n_days_since3  \\\n",
       "count    21547.000000    21547.000000   2.154700e+04   2.154700e+04   \n",
       "mean        40.477418      270.455017   1.691869e+06   4.296152e+09   \n",
       "std         14.499988      134.281766   3.134710e+06   1.104824e+10   \n",
       "min          0.000000        0.000000   1.000000e+00   1.000000e+00   \n",
       "25%         31.629573      177.885272   7.672900e+04   2.125393e+07   \n",
       "50%         40.792227      260.535034   3.528360e+05   2.095846e+08   \n",
       "75%         49.581478      349.123599   1.306449e+06   1.493271e+09   \n",
       "max         72.742547      620.415659   2.559348e+07   1.294774e+11   \n",
       "\n",
       "       ln_review_scores_rating  f_minimum_nights  \n",
       "count             21547.000000      21546.000000  \n",
       "mean                  1.537703          1.949132  \n",
       "std                   0.116313          0.894745  \n",
       "min                   0.000000          1.000000  \n",
       "25%                   1.528228          1.000000  \n",
       "50%                   1.560248          2.000000  \n",
       "75%                   1.585145          3.000000  \n",
       "max                   1.609438          3.000000  \n",
       "\n",
       "[8 rows x 52 columns]"
      ]
     },
     "execution_count": 4,
     "metadata": {},
     "output_type": "execute_result"
    }
   ],
   "source": [
    "data.describe()"
   ]
  },
  {
   "cell_type": "code",
   "execution_count": 5,
   "id": "c798175d",
   "metadata": {},
   "outputs": [
    {
     "data": {
      "text/plain": [
       "ln_beds                2972\n",
       "f_bathroom                1\n",
       "f_number_of_reviews       1\n",
       "f_minimum_nights          1\n",
       "dtype: int64"
      ]
     },
     "execution_count": 5,
     "metadata": {},
     "output_type": "execute_result"
    }
   ],
   "source": [
    "data.isnull().sum().loc[lambda x: x > 0]"
   ]
  },
  {
   "cell_type": "code",
   "execution_count": 6,
   "id": "c661dc9e",
   "metadata": {},
   "outputs": [],
   "source": [
    "data['f_bathroom']=data['f_bathroom'].fillna(1)\n",
    "data['f_minimum_nights']=data['f_minimum_nights'].fillna(1)\n",
    "data['f_number_of_reviews']=data['f_number_of_reviews'].fillna(1)\n",
    "data['ln_beds']=data['ln_beds'].fillna(0)"
   ]
  },
  {
   "cell_type": "code",
   "execution_count": 7,
   "id": "d86d5d77",
   "metadata": {},
   "outputs": [
    {
     "data": {
      "text/plain": [
       "flag_days_since\n",
       "0    17733\n",
       "1     3814\n",
       "Name: count, dtype: int64"
      ]
     },
     "execution_count": 7,
     "metadata": {},
     "output_type": "execute_result"
    }
   ],
   "source": [
    "data.flag_days_since.value_counts()"
   ]
  },
  {
   "cell_type": "code",
   "execution_count": 8,
   "id": "96b47281",
   "metadata": {},
   "outputs": [
    {
     "data": {
      "text/plain": [
       "Series([], dtype: int64)"
      ]
     },
     "execution_count": 8,
     "metadata": {},
     "output_type": "execute_result"
    }
   ],
   "source": [
    "data.isnull().sum().loc[lambda x: x > 0]"
   ]
  },
  {
   "cell_type": "markdown",
   "id": "358a1a78",
   "metadata": {},
   "source": [
    "## Create new variables measuring the time since: squared, cubic, logs"
   ]
  },
  {
   "cell_type": "code",
   "execution_count": 9,
   "id": "b7a1d303",
   "metadata": {},
   "outputs": [],
   "source": [
    "data = data.assign(\n",
    "    ln_days_since=lambda x: np.log(x[\"n_days_since\"] + 1),\n",
    "    ln_days_since2=lambda x: np.log(x[\"n_days_since\"] + 1) ** 2,\n",
    "    ln_days_since3=lambda x: np.log(x[\"n_days_since\"] + 1) ** 3,\n",
    "    n_days_since2=lambda x: x[\"n_days_since\"] ** 2,\n",
    "    n_days_since3=lambda x: x[\"n_days_since\"] ** 3,\n",
    "    ln_review_scores_rating=lambda x: np.log(x[\"n_review_scores_rating\"]),\n",
    ").assign(\n",
    "    ln_days_since=lambda x: np.where(\n",
    "        x[\"ln_days_since\"].isnull(), 0, x[\"ln_days_since\"]\n",
    "    ),\n",
    "    ln_days_since2=lambda x: np.where(\n",
    "        x[\"ln_days_since2\"].isnull(), 0, x[\"ln_days_since2\"]\n",
    "    ),\n",
    "    ln_days_since3=lambda x: np.where(\n",
    "        x[\"ln_days_since3\"].isnull(), 0, x[\"ln_days_since3\"]\n",
    "    ),\n",
    ")"
   ]
  },
  {
   "cell_type": "code",
   "execution_count": 10,
   "id": "3ee23d5b",
   "metadata": {},
   "outputs": [
    {
     "data": {
      "text/plain": [
       "Series([], dtype: int64)"
      ]
     },
     "execution_count": 10,
     "metadata": {},
     "output_type": "execute_result"
    }
   ],
   "source": [
    "data.isnull().sum().loc[lambda x: x > 0]"
   ]
  },
  {
   "cell_type": "code",
   "execution_count": 11,
   "id": "323d8d60",
   "metadata": {},
   "outputs": [
    {
     "data": {
      "text/plain": [
       "count    21547.000000\n",
       "mean         3.211677\n",
       "std          1.941256\n",
       "min          1.000000\n",
       "25%          2.000000\n",
       "50%          3.000000\n",
       "75%          4.000000\n",
       "max         16.000000\n",
       "Name: n_accommodates, dtype: float64"
      ]
     },
     "execution_count": 11,
     "metadata": {},
     "output_type": "execute_result"
    }
   ],
   "source": [
    "data['n_accommodates'].describe()"
   ]
  },
  {
   "cell_type": "code",
   "execution_count": 12,
   "id": "bcd65a00",
   "metadata": {},
   "outputs": [],
   "source": [
    "data = data.loc[data.n_accommodates < 8]"
   ]
  },
  {
   "cell_type": "code",
   "execution_count": 13,
   "id": "20ebbd8a",
   "metadata": {},
   "outputs": [
    {
     "data": {
      "text/html": [
       "<div>\n",
       "<style scoped>\n",
       "    .dataframe tbody tr th:only-of-type {\n",
       "        vertical-align: middle;\n",
       "    }\n",
       "\n",
       "    .dataframe tbody tr th {\n",
       "        vertical-align: top;\n",
       "    }\n",
       "\n",
       "    .dataframe thead th {\n",
       "        text-align: right;\n",
       "    }\n",
       "</style>\n",
       "<table border=\"1\" class=\"dataframe\">\n",
       "  <thead>\n",
       "    <tr style=\"text-align: right;\">\n",
       "      <th></th>\n",
       "      <th>mean_price</th>\n",
       "    </tr>\n",
       "    <tr>\n",
       "      <th>room_type</th>\n",
       "      <th></th>\n",
       "    </tr>\n",
       "  </thead>\n",
       "  <tbody>\n",
       "    <tr>\n",
       "      <th>Entire home/apt</th>\n",
       "      <td>142.732964</td>\n",
       "    </tr>\n",
       "    <tr>\n",
       "      <th>Hotel room</th>\n",
       "      <td>283.189655</td>\n",
       "    </tr>\n",
       "    <tr>\n",
       "      <th>Private room</th>\n",
       "      <td>65.915396</td>\n",
       "    </tr>\n",
       "    <tr>\n",
       "      <th>Shared room</th>\n",
       "      <td>95.597902</td>\n",
       "    </tr>\n",
       "  </tbody>\n",
       "</table>\n",
       "</div>"
      ],
      "text/plain": [
       "                 mean_price\n",
       "room_type                  \n",
       "Entire home/apt  142.732964\n",
       "Hotel room       283.189655\n",
       "Private room      65.915396\n",
       "Shared room       95.597902"
      ]
     },
     "execution_count": 13,
     "metadata": {},
     "output_type": "execute_result"
    }
   ],
   "source": [
    "data.groupby([\"room_type\"]).agg(mean_price=(\"price\", np.mean))\n"
   ]
  },
  {
   "cell_type": "code",
   "execution_count": 14,
   "id": "524cee05",
   "metadata": {},
   "outputs": [
    {
     "data": {
      "text/plain": [
       "count    20791.000000\n",
       "mean       118.981482\n",
       "std         99.697129\n",
       "min          8.000000\n",
       "25%         59.000000\n",
       "50%         99.000000\n",
       "75%        146.000000\n",
       "max       1050.000000\n",
       "Name: price, dtype: float64"
      ]
     },
     "execution_count": 14,
     "metadata": {},
     "output_type": "execute_result"
    }
   ],
   "source": [
    "data.price.describe()"
   ]
  },
  {
   "cell_type": "code",
   "execution_count": 15,
   "id": "fff17bbf",
   "metadata": {},
   "outputs": [
    {
     "data": {
      "image/png": "[encoded data removed]"
     },
     "metadata": {
      "image/png": {
       "height": 480,
       "width": 640
      }
     },
     "output_type": "display_data"
    },
    {
     "name": "stdout",
     "output_type": "stream",
     "text": [
      "\n"
     ]
    }
   ],
   "source": [
    "# Define the colors (replace with actual color values)\n",
    "color = [\"#E41A1C\", \"#377EB8\", \"#4DAF4A\"]\n",
    "\n",
    "# Define the plot\n",
    "plot = (\n",
    "    ggplot(data, aes(x=\"room_type\", y=\"price\"))\n",
    "    + stat_boxplot(\n",
    "        aes(group=\"room_type\"),\n",
    "        geom=\"errorbar\",\n",
    "        width=0.3,\n",
    "        color=color[1],  # Adjusted to a valid color format\n",
    "        size=0.5,\n",
    "        na_rm=True,\n",
    "    )\n",
    "    + geom_boxplot(\n",
    "        aes(group=\"room_type\"),\n",
    "        color=color[1],  # Boxplot border color\n",
    "        fill=color[1],  # Boxplot fill color\n",
    "        size=0.5,\n",
    "        width=0.6,\n",
    "        alpha=0.3,\n",
    "        na_rm=True,\n",
    "        outlier_color=color[0],  # Specify a valid color instead of an empty string\n",
    "    )\n",
    "    + scale_y_continuous(expand=(0.01, 0.01), limits=(0, 300), breaks=np.arange(0, 301, 100))\n",
    "    + labs(x=\"Room type\", y=\"Price (US dollars)\")\n",
    "    + theme_bw()\n",
    ")\n",
    "\n",
    "# Display the plot\n",
    "print(plot)\n"
   ]
  },
  {
   "cell_type": "code",
   "execution_count": 16,
   "id": "40a50641",
   "metadata": {},
   "outputs": [
    {
     "data": {
      "image/png": "[encoded data removed]",
      "text/plain": [
       "<Figure size 1000x600 with 1 Axes>"
      ]
     },
     "metadata": {},
     "output_type": "display_data"
    }
   ],
   "source": [
    "# relative frequencies with matplotlib\n",
    "\n",
    "from matplotlib.ticker import PercentFormatter\n",
    "fig = plt.figure(figsize = (10,6))\n",
    "ax = fig.add_subplot(111)\n",
    "ax.hist(data.price, bins = 16, density = True, rwidth = 0.9, color = 'steelblue')\n",
    "ax.set_xlabel('price in USD')\n",
    "# ax.grid()\n",
    "ax.yaxis.set_major_formatter(PercentFormatter(xmax=0.1, decimals = 0))\n",
    "ax.set_title('Relative frequency of apartment prices')\n",
    "plt.show()"
   ]
  },
  {
   "cell_type": "code",
   "execution_count": 17,
   "id": "043e1049",
   "metadata": {},
   "outputs": [
    {
     "data": {
      "image/png": "[encoded data removed]",
      "text/plain": [
       "<Figure size 1000x600 with 1 Axes>"
      ]
     },
     "metadata": {},
     "output_type": "display_data"
    }
   ],
   "source": [
    "# relative frequencies with matplotlib\n",
    "from matplotlib.ticker import PercentFormatter\n",
    "fig = plt.figure(figsize = (10,6))\n",
    "ax = fig.add_subplot(111)\n",
    "ax.hist(data.ln_price, bins = 16, density = True, rwidth = 0.9, color = 'steelblue')\n",
    "# ax.set_xticks(range(0, df.price.max(), 2000))\n",
    "ax.set_xlabel('ln price in USD')\n",
    "ax.yaxis.set_major_formatter(PercentFormatter(xmax=10, decimals = 0))\n",
    "ax.set_title('Relative frequency of logged apartment prices')\n",
    "plt.show()"
   ]
  },
  {
   "cell_type": "code",
   "execution_count": 18,
   "id": "b957cb8c",
   "metadata": {},
   "outputs": [],
   "source": [
    "data[\"room_type\"] = pd.Categorical(\n",
    "    data[\"room_type\"], categories=sorted(set(data[\"room_type\"]), reverse=False)\n",
    ")"
   ]
  },
  {
   "cell_type": "code",
   "execution_count": 19,
   "id": "878bf10e",
   "metadata": {},
   "outputs": [
    {
     "data": {
      "image/png": "[encoded data removed]",
      "text/plain": [
       "<Figure size 640x480 with 1 Axes>"
      ]
     },
     "metadata": {},
     "output_type": "display_data"
    }
   ],
   "source": [
    "sns.boxplot(data = data, x = 'room_type', y = 'price', orient = 'v', order = ['Entire home/apt', 'Hotel room', 'Private room', 'Shared room'])\n",
    "plt.show()"
   ]
  },
  {
   "cell_type": "code",
   "execution_count": 20,
   "id": "cee7b0f3",
   "metadata": {},
   "outputs": [
    {
     "data": {
      "text/plain": [
       "room_type\n",
       "Entire home/apt    14088\n",
       "Private room        6359\n",
       "Shared room          286\n",
       "Hotel room            58\n",
       "Name: count, dtype: int64"
      ]
     },
     "execution_count": 20,
     "metadata": {},
     "output_type": "execute_result"
    }
   ],
   "source": [
    "data.room_type.value_counts()"
   ]
  },
  {
   "cell_type": "code",
   "execution_count": 21,
   "id": "4f87f39e",
   "metadata": {},
   "outputs": [
    {
     "data": {
      "image/png": "[encoded data removed]",
      "text/plain": [
       "<Figure size 640x480 with 1 Axes>"
      ]
     },
     "metadata": {},
     "output_type": "display_data"
    }
   ],
   "source": [
    "sns.boxplot(data = data, x = 'n_accommodates', y = 'price', orient = 'v')\n",
    "plt.show()"
   ]
  },
  {
   "cell_type": "code",
   "execution_count": 22,
   "id": "74c0a6ea",
   "metadata": {},
   "outputs": [
    {
     "data": {
      "text/plain": [
       "n_accommodates\n",
       "1.0    3193\n",
       "2.0    7236\n",
       "3.0    2196\n",
       "4.0    5171\n",
       "5.0     998\n",
       "6.0    1743\n",
       "7.0     254\n",
       "Name: count, dtype: int64"
      ]
     },
     "execution_count": 22,
     "metadata": {},
     "output_type": "execute_result"
    }
   ],
   "source": [
    "data.n_accommodates.value_counts().sort_index()"
   ]
  },
  {
   "cell_type": "markdown",
   "id": "a8fd3517",
   "metadata": {},
   "source": [
    "# Part 2. Setting up models"
   ]
  },
  {
   "cell_type": "code",
   "execution_count": 23,
   "id": "2c2ab19c",
   "metadata": {},
   "outputs": [],
   "source": [
    "basic_lev = ( \"n_accommodates\",\n",
    "    \"n_beds\",\n",
    "    \"room_type\",\n",
    "    \"n_days_since\",\n",
    "    \"flag_days_since\",\n",
    "    \"f_bathroom\",\n",
    "     \"distance\")\n",
    "\n",
    "host = (\"host_acceptance_rate\",\n",
    "    \"host_is_superhost\",\n",
    "    \"host_has_profile_pic\",\n",
    "    \"host_identity_verified\")\n",
    "\n",
    "amenities = (\n",
    "    \"Laundry\",\n",
    "    \"Essentials\",\n",
    "    \"Heating_Cooling\",\n",
    "    \"Kitchen\",\n",
    "    \"Outdoor\",\n",
    "    \"Workspace\",\n",
    "    \"Entertainment\",\n",
    "    \"Luxury\",\n",
    "    \"Internet\",\n",
    "    \"Parking\",\n",
    "    \"Family\"\n",
    ")\n",
    "\n",
    "nights = ( \"n_minimum_nights\", \"maximum_nights\") \n",
    "reviews = (\"f_number_of_reviews\", \"n_review_scores_rating\", \"flag_review_scores_rating\")\n",
    "poly_lev = (\"n_accommodates2\", \"n_days_since2\", \"n_days_since3\")\n"
   ]
  },
  {
   "cell_type": "code",
   "execution_count": 24,
   "id": "dce66af7",
   "metadata": {},
   "outputs": [],
   "source": [
    "def haversine(lat1, lon1, lat2, lon2):\n",
    "    R = 6371  # Radius of Earth in kilometers\n",
    "    lat1, lon1, lat2, lon2 = map(np.radians, [lat1, lon1, lat2, lon2])  # Convert degrees to radians\n",
    "    dlat = lat2 - lat1\n",
    "    dlon = lon2 - lon1\n",
    "    a = np.sin(dlat / 2)**2 + np.cos(lat1) * np.cos(lat2) * np.sin(dlon / 2)**2\n",
    "    c = 2 * np.arctan2(np.sqrt(a), np.sqrt(1 - a))\n",
    "    distance = R * c  # Distance in kilometers\n",
    "    return distance\n",
    "\n",
    "city_center_lat = 40.4167 # Barcelona coordinates\n",
    "city_center_lon = 3.7033"
   ]
  },
  {
   "cell_type": "code",
   "execution_count": 25,
   "id": "2c32983d",
   "metadata": {},
   "outputs": [],
   "source": [
    "data['distance'] = data.apply(\n",
    "    lambda row: haversine(row['latitude'], row['longitude'], city_center_lat, city_center_lon),\n",
    "    axis=1\n",
    ")"
   ]
  },
  {
   "cell_type": "code",
   "execution_count": 26,
   "id": "90600a73",
   "metadata": {},
   "outputs": [],
   "source": [
    "data['in_center'] = (data['distance'] <= 2).astype(int)"
   ]
  },
  {
   "cell_type": "markdown",
   "id": "296b669d",
   "metadata": {},
   "source": [
    "## Interactions"
   ]
  },
  {
   "cell_type": "code",
   "execution_count": 27,
   "id": "127b7fa8",
   "metadata": {},
   "outputs": [],
   "source": [
    "def price_diff_by_variables(df, factor_var, dummy_var, factor_lab, dummy_lab):\n",
    "    # Calculate statistics same way as before\n",
    "    stats = df.groupby([factor_var, dummy_var]).agg(\n",
    "        Mean=(\"price\", np.mean), \n",
    "        sd=(\"price\", np.std), \n",
    "        size=(\"price\", \"size\")\n",
    "    )\n",
    "    stats[\"se\"] = stats[\"sd\"] / stats[\"size\"] ** (1/2)\n",
    "    stats[\"Mean_l\"] = stats[\"Mean\"] - (1.96 * stats[\"se\"])\n",
    "    stats[\"Mean_u\"] = stats[\"Mean\"] + (1.96 * stats[\"se\"])\n",
    "    stats = stats.drop([\"sd\", \"size\"], axis=1).reset_index()\n",
    "\n",
    "    # Create the plot using seaborn\n",
    "    # plt.figure(figsize=(10, 6))\n",
    "    plt.figure()\n",
    "    \n",
    "    # Create bar plot\n",
    "    ax = sns.barplot(\n",
    "        data=stats,\n",
    "        x=stats.columns[0],\n",
    "        y='Mean',\n",
    "        hue=stats.columns[1],\n",
    "        palette=['indianred', 'steelblue'],\n",
    "        ci=None\n",
    "    )\n",
    "\n",
    "    # Add error bars\n",
    "    for i, group in enumerate(stats[stats.columns[1]].unique()):\n",
    "        group_data = stats[stats[stats.columns[1]] == group]\n",
    "        x = np.arange(len(group_data))\n",
    "        \n",
    "        # Adjust x positions for dodge effect\n",
    "        if i == 1:\n",
    "            x = x + 0.2\n",
    "        else:\n",
    "            x = x - 0.2\n",
    "            \n",
    "        plt.errorbar(\n",
    "            x=x, \n",
    "            y=group_data['Mean'],\n",
    "            yerr=[(group_data['Mean'] - group_data['Mean_l']), \n",
    "                  (group_data['Mean_u'] - group_data['Mean'])],\n",
    "            fmt='none',\n",
    "            color='black',\n",
    "            capsize=3\n",
    "        )\n",
    "\n",
    "    # Customize the plot\n",
    "    plt.xlabel(factor_lab)\n",
    "    plt.ylabel('Mean Price')\n",
    "    \n",
    "    # Customize legend\n",
    "    plt.legend(\n",
    "        title=dummy_lab,\n",
    "        bbox_to_anchor=(0.5, 1.15),\n",
    "        loc='center',\n",
    "        ncol=2,\n",
    "        fontsize=10,\n",
    "        title_fontsize=10\n",
    "    )\n",
    "    \n",
    "    # Remove grid\n",
    "    ax.grid(False)\n",
    "    plt.show()\n",
    "    \n",
    "    return plt"
   ]
  },
  {
   "cell_type": "code",
   "execution_count": 28,
   "id": "08e6ca8a",
   "metadata": {},
   "outputs": [
    {
     "data": {
      "image/png": "[encoded data removed]",
      "text/plain": [
       "<Figure size 640x480 with 1 Axes>"
      ]
     },
     "metadata": {},
     "output_type": "display_data"
    },
    {
     "data": {
      "text/plain": [
       "<module 'matplotlib.pyplot' from 'C:\\\\Users\\\\Acer\\\\anaconda3\\\\lib\\\\site-packages\\\\matplotlib\\\\pyplot.py'>"
      ]
     },
     "execution_count": 28,
     "metadata": {},
     "output_type": "execute_result"
    }
   ],
   "source": [
    "price_diff_by_variables(data, \"room_type\", 'instant_bookable', \"Room type\", 'instant_bookable')"
   ]
  },
  {
   "cell_type": "code",
   "execution_count": 29,
   "id": "c042e3aa",
   "metadata": {},
   "outputs": [
    {
     "data": {
      "image/png": "[encoded data removed]",
      "text/plain": [
       "<Figure size 640x480 with 1 Axes>"
      ]
     },
     "metadata": {},
     "output_type": "display_data"
    },
    {
     "data": {
      "text/plain": [
       "<module 'matplotlib.pyplot' from 'C:\\\\Users\\\\Acer\\\\anaconda3\\\\lib\\\\site-packages\\\\matplotlib\\\\pyplot.py'>"
      ]
     },
     "execution_count": 29,
     "metadata": {},
     "output_type": "execute_result"
    }
   ],
   "source": [
    "price_diff_by_variables(data, \"room_type\", 'in_center', \"Room type\", 'In center')"
   ]
  },
  {
   "cell_type": "code",
   "execution_count": 30,
   "id": "3ffdb92d",
   "metadata": {},
   "outputs": [
    {
     "data": {
      "image/png": "[encoded data removed]",
      "text/plain": [
       "<Figure size 640x480 with 1 Axes>"
      ]
     },
     "metadata": {},
     "output_type": "display_data"
    }
   ],
   "source": [
    "price_diff_by_variables(data, \"in_center\", \"Kitchen\", \"In Center\", \"kitchen\");"
   ]
  },
  {
   "cell_type": "code",
   "execution_count": 31,
   "id": "96f5b66f",
   "metadata": {},
   "outputs": [
    {
     "data": {
      "image/png": "[encoded data removed]",
      "text/plain": [
       "<Figure size 640x480 with 1 Axes>"
      ]
     },
     "metadata": {},
     "output_type": "display_data"
    },
    {
     "data": {
      "text/plain": [
       "<module 'matplotlib.pyplot' from 'C:\\\\Users\\\\Acer\\\\anaconda3\\\\lib\\\\site-packages\\\\matplotlib\\\\pyplot.py'>"
      ]
     },
     "execution_count": 31,
     "metadata": {},
     "output_type": "execute_result"
    }
   ],
   "source": [
    "price_diff_by_variables(data,\"room_type\",\"Family\",\"Room type\", \"Family kid friendly\")"
   ]
  },
  {
   "cell_type": "code",
   "execution_count": 32,
   "id": "8eae59fb",
   "metadata": {},
   "outputs": [
    {
     "data": {
      "image/png": "[encoded data removed]",
      "text/plain": [
       "<Figure size 640x480 with 1 Axes>"
      ]
     },
     "metadata": {},
     "output_type": "display_data"
    }
   ],
   "source": [
    "price_diff_by_variables(data, \"room_type\", \"Heating_Cooling\", \"room type\", \"air conditioning/ heating\");"
   ]
  },
  {
   "cell_type": "code",
   "execution_count": 33,
   "id": "b0faa4ea",
   "metadata": {},
   "outputs": [],
   "source": [
    "X1 = (\"room_type*instant_bookable\", \"room_type*Family\")\n",
    "X2 = (\"room_type*in_center\", \"in_center*Kitchen\", \"room_type*Heating_Cooling\")\n"
   ]
  },
  {
   "cell_type": "markdown",
   "id": "a9d6b684",
   "metadata": {},
   "source": [
    "basic_lev,\n",
    "basic_add, \n",
    "reviews ,\n",
    "host ,\n",
    "nights ,\n",
    "amenities ,\n",
    "poly_lev "
   ]
  },
  {
   "cell_type": "code",
   "execution_count": 34,
   "id": "7b20d53f",
   "metadata": {},
   "outputs": [],
   "source": [
    "modellev1=\"~ n_accommodates\"\n",
    "modellev2=\"~\"+\"+\".join(basic_lev)\n",
    "modellev3=\"~\"+\"+\".join(basic_lev)+\"+\"+\"+\".join(reviews)\n",
    "modellev4=\"~\"+\"+\".join(basic_lev)+\"+\"+\"+\".join(reviews)+\"+\"+\"+\".join(host)\n",
    "modellev5=\"~\"+\"+\".join(basic_lev)+\"+\"+\"+\".join(reviews)+\"+\"+\"+\".join(host)+\"+\"+\"+\".join(nights)\n",
    "modellev6=\"~\"+\"+\".join(basic_lev)+\"+\"+\"+\".join(reviews)+\"+\"+\"+\".join(host)+\"+\"+\"+\".join(nights)+\"+\"+\"+\".join(amenities)\n",
    "modellev7=\"~\"+\"+\".join(basic_lev)+\"+\"+\"+\".join(reviews)+\"+\"+\"+\".join(host)+\"+\"+\"+\".join(nights)+\"+\"+\"+\".join(amenities)+\"+\"+\"+\".join(poly_lev)\n",
    "modellev8=\"~\"+\"+\".join(basic_lev)+\"+\"+\"+\".join(reviews)+\"+\"+\"+\".join(host)+\"+\"+\"+\".join(nights)+\"+\"+\"+\".join(amenities)+\"+\"+\"+\".join(X1)+\"+\"+\"+\".join(X2)\n",
    "\n"
   ]
  },
  {
   "cell_type": "code",
   "execution_count": 35,
   "id": "a2e0e643",
   "metadata": {},
   "outputs": [
    {
     "data": {
      "text/plain": [
       "'~n_accommodates+n_beds+room_type+n_days_since+flag_days_since+f_bathroom+distance+f_number_of_reviews+n_review_scores_rating+flag_review_scores_rating+host_acceptance_rate+host_is_superhost+host_has_profile_pic+host_identity_verified+n_minimum_nights+maximum_nights+Laundry+Essentials+Heating_Cooling+Kitchen+Outdoor+Workspace+Entertainment+Luxury+Internet+Parking+Family+room_type*instant_bookable+room_type*Family+room_type*in_center+in_center*Kitchen+room_type*Heating_Cooling'"
      ]
     },
     "execution_count": 35,
     "metadata": {},
     "output_type": "execute_result"
    }
   ],
   "source": [
    "modellev8"
   ]
  },
  {
   "cell_type": "markdown",
   "id": "042ac253",
   "metadata": {},
   "source": [
    "# Regression with CV"
   ]
  },
  {
   "cell_type": "code",
   "execution_count": 36,
   "id": "c9adbc59",
   "metadata": {},
   "outputs": [],
   "source": [
    "smp_size = round(0.2 * data.shape[0])-1"
   ]
  },
  {
   "cell_type": "code",
   "execution_count": 37,
   "id": "38eaad7a",
   "metadata": {},
   "outputs": [
    {
     "data": {
      "text/plain": [
       "4157"
      ]
     },
     "execution_count": 37,
     "metadata": {},
     "output_type": "execute_result"
    }
   ],
   "source": [
    "smp_size"
   ]
  },
  {
   "cell_type": "code",
   "execution_count": 38,
   "id": "7c0f7e33",
   "metadata": {},
   "outputs": [],
   "source": [
    "# Set the seed to make results reproducable\n",
    "np.random.seed(20020302)"
   ]
  },
  {
   "cell_type": "code",
   "execution_count": 39,
   "id": "23e4e4bb",
   "metadata": {},
   "outputs": [],
   "source": [
    "from sklearn.model_selection import train_test_split"
   ]
  },
  {
   "cell_type": "code",
   "execution_count": 40,
   "id": "aafb74f2",
   "metadata": {},
   "outputs": [
    {
     "data": {
      "text/plain": [
       "(16634, 67)"
      ]
     },
     "execution_count": 40,
     "metadata": {},
     "output_type": "execute_result"
    }
   ],
   "source": [
    "data_work, data_holdout = train_test_split(data, test_size = smp_size)\n",
    "data_work.shape"
   ]
  },
  {
   "cell_type": "code",
   "execution_count": 41,
   "id": "f9c66729",
   "metadata": {},
   "outputs": [
    {
     "data": {
      "text/plain": [
       "(4157, 67)"
      ]
     },
     "execution_count": 41,
     "metadata": {},
     "output_type": "execute_result"
    }
   ],
   "source": [
    "data_holdout.shape"
   ]
  },
  {
   "cell_type": "code",
   "execution_count": 42,
   "id": "56c95b3b",
   "metadata": {},
   "outputs": [],
   "source": [
    "n_folds = 5"
   ]
  },
  {
   "cell_type": "code",
   "execution_count": 43,
   "id": "3f3b6d4f",
   "metadata": {},
   "outputs": [],
   "source": [
    "from sklearn.model_selection import KFold\n",
    "from statsmodels.tools.eval_measures import mse,rmse\n",
    "\n",
    "k = KFold(n_splits=n_folds, shuffle=False, random_state=None)"
   ]
  },
  {
   "cell_type": "code",
   "execution_count": 44,
   "id": "11939c1a",
   "metadata": {},
   "outputs": [],
   "source": [
    "def cv_reg(formula, df, kfold, testdf, robustse=None):\n",
    "    regression_list = []\n",
    "    predicts_on_test = []\n",
    "    rsquared = []\n",
    "    rmse_list = []\n",
    "    rmse_list_test = []\n",
    "\n",
    "    # Calculating OLS for each fold\n",
    "\n",
    "    for train_index, test_index in k.split(df):\n",
    "        df_train, df_test = df.iloc[train_index, :], df.iloc[test_index, :]\n",
    "        if robustse is None:\n",
    "            model = smf.ols(formula, data = df_train).fit()\n",
    "        else:\n",
    "            model = smf.ols(formula, data = df_train).fit(cov_type=robustse)\n",
    "        regression_list += [model]\n",
    "        predicts_on_test += [model.predict(df_test)]\n",
    "        rsquared += [model.rsquared]\n",
    "\n",
    "        rmse_tr = pd.concat(\n",
    "            [df_train[\"price\"], model.predict(df_train)],\n",
    "            axis=1,\n",
    "            keys=[\"price\", \"predicted\"],\n",
    "        )\n",
    "        rmse_tr = rmse_tr[~rmse_tr.isna().any(axis=1)]\n",
    "\n",
    "        rmse_te = pd.concat(\n",
    "            [df_test[\"price\"], model.predict(df_test)],\n",
    "            axis=1,\n",
    "            keys=[\"price\", \"predicted\"],\n",
    "        )\n",
    "        rmse_te = rmse_te[~rmse_te.isna().any(axis=1)]\n",
    "\n",
    "        rmse_list += [rmse(rmse_tr[\"price\"], rmse_tr[\"predicted\"], axis=0)]\n",
    "        rmse_list_test += [rmse(rmse_te[\"price\"], rmse_te[\"predicted\"], axis=0)]\n",
    "    nvars = model.df_model\n",
    "\n",
    "    return {\n",
    "        \"regressions\": regression_list,\n",
    "        \"test_predict\": predicts_on_test,\n",
    "        \"r2\": rsquared,\n",
    "        \"rmse\": rmse_list,\n",
    "        \"rmse_test\": rmse_list_test,\n",
    "        \"nvars\": nvars,\n",
    "    }\n",
    "\n",
    "\n",
    "def summarize_cv(cvlist, stat=\"rmse\"):\n",
    "    result = pd.DataFrame(\n",
    "        {\"Model\" + str(x + 1): cvlist[x][stat] for x in range(len(cvlist))}\n",
    "    )\n",
    "    result[\"Resample\"] = [\"Fold\" + str(x + 1) for x in range(len(cvlist[0][\"rmse\"]))]\n",
    "    result = result.set_index(\"Resample\")\n",
    "    result = pd.concat([result, pd.DataFrame(result.mean(), columns=[\"Average\"]).T])\n",
    "    return result"
   ]
  },
  {
   "cell_type": "code",
   "execution_count": 45,
   "id": "138c2897",
   "metadata": {},
   "outputs": [
    {
     "name": "stdout",
     "output_type": "stream",
     "text": [
      "['maximum_nights', 'n_minimum_nights', 'f_minimum_nights']\n"
     ]
    }
   ],
   "source": [
    "f_columns = data.filter(like=\"nights\", axis=1).columns.tolist()\n",
    "print(f_columns)\n"
   ]
  },
  {
   "cell_type": "code",
   "execution_count": 46,
   "id": "1ed87114",
   "metadata": {},
   "outputs": [],
   "source": [
    "cv_list = []\n",
    "for i in [\n",
    "    modellev1,\n",
    "    modellev2,\n",
    "    modellev3,\n",
    "    modellev4,\n",
    "    modellev5,\n",
    "    modellev6,\n",
    "    modellev7,\n",
    "    modellev8,\n",
    "]:\n",
    "    cv_list += [cv_reg(\"price\" + i, data, k, \"HC0\")]"
   ]
  },
  {
   "cell_type": "code",
   "execution_count": 47,
   "id": "1c4b6d68",
   "metadata": {},
   "outputs": [
    {
     "data": {
      "text/html": [
       "<div>\n",
       "<style scoped>\n",
       "    .dataframe tbody tr th:only-of-type {\n",
       "        vertical-align: middle;\n",
       "    }\n",
       "\n",
       "    .dataframe tbody tr th {\n",
       "        vertical-align: top;\n",
       "    }\n",
       "\n",
       "    .dataframe thead th {\n",
       "        text-align: right;\n",
       "    }\n",
       "</style>\n",
       "<table border=\"1\" class=\"dataframe\">\n",
       "  <thead>\n",
       "    <tr style=\"text-align: right;\">\n",
       "      <th></th>\n",
       "      <th>Model1</th>\n",
       "      <th>Model2</th>\n",
       "      <th>Model3</th>\n",
       "      <th>Model4</th>\n",
       "      <th>Model5</th>\n",
       "      <th>Model6</th>\n",
       "      <th>Model7</th>\n",
       "      <th>Model8</th>\n",
       "    </tr>\n",
       "  </thead>\n",
       "  <tbody>\n",
       "    <tr>\n",
       "      <th>Fold1</th>\n",
       "      <td>84.891</td>\n",
       "      <td>82.432</td>\n",
       "      <td>82.021</td>\n",
       "      <td>81.683</td>\n",
       "      <td>81.226</td>\n",
       "      <td>80.228</td>\n",
       "      <td>80.002</td>\n",
       "      <td>79.971</td>\n",
       "    </tr>\n",
       "    <tr>\n",
       "      <th>Fold2</th>\n",
       "      <td>91.747</td>\n",
       "      <td>89.388</td>\n",
       "      <td>88.939</td>\n",
       "      <td>88.461</td>\n",
       "      <td>88.141</td>\n",
       "      <td>87.113</td>\n",
       "      <td>86.889</td>\n",
       "      <td>86.891</td>\n",
       "    </tr>\n",
       "    <tr>\n",
       "      <th>Fold3</th>\n",
       "      <td>92.727</td>\n",
       "      <td>90.125</td>\n",
       "      <td>89.708</td>\n",
       "      <td>89.216</td>\n",
       "      <td>88.877</td>\n",
       "      <td>87.668</td>\n",
       "      <td>87.456</td>\n",
       "      <td>87.386</td>\n",
       "    </tr>\n",
       "    <tr>\n",
       "      <th>Fold4</th>\n",
       "      <td>89.071</td>\n",
       "      <td>86.584</td>\n",
       "      <td>86.290</td>\n",
       "      <td>85.760</td>\n",
       "      <td>85.511</td>\n",
       "      <td>84.447</td>\n",
       "      <td>84.295</td>\n",
       "      <td>84.153</td>\n",
       "    </tr>\n",
       "    <tr>\n",
       "      <th>Fold5</th>\n",
       "      <td>85.730</td>\n",
       "      <td>83.402</td>\n",
       "      <td>83.131</td>\n",
       "      <td>82.757</td>\n",
       "      <td>82.540</td>\n",
       "      <td>81.578</td>\n",
       "      <td>81.461</td>\n",
       "      <td>81.386</td>\n",
       "    </tr>\n",
       "    <tr>\n",
       "      <th>Average</th>\n",
       "      <td>88.833</td>\n",
       "      <td>86.386</td>\n",
       "      <td>86.018</td>\n",
       "      <td>85.575</td>\n",
       "      <td>85.259</td>\n",
       "      <td>84.207</td>\n",
       "      <td>84.021</td>\n",
       "      <td>83.957</td>\n",
       "    </tr>\n",
       "  </tbody>\n",
       "</table>\n",
       "</div>"
      ],
      "text/plain": [
       "         Model1  Model2  Model3  Model4  Model5  Model6  Model7  Model8\n",
       "Fold1    84.891  82.432  82.021  81.683  81.226  80.228  80.002  79.971\n",
       "Fold2    91.747  89.388  88.939  88.461  88.141  87.113  86.889  86.891\n",
       "Fold3    92.727  90.125  89.708  89.216  88.877  87.668  87.456  87.386\n",
       "Fold4    89.071  86.584  86.290  85.760  85.511  84.447  84.295  84.153\n",
       "Fold5    85.730  83.402  83.131  82.757  82.540  81.578  81.461  81.386\n",
       "Average  88.833  86.386  86.018  85.575  85.259  84.207  84.021  83.957"
      ]
     },
     "execution_count": 47,
     "metadata": {},
     "output_type": "execute_result"
    }
   ],
   "source": [
    "summarize_cv(cv_list).map('{:,.3f}'.format)"
   ]
  },
  {
   "cell_type": "code",
   "execution_count": 48,
   "id": "44a8e158",
   "metadata": {},
   "outputs": [],
   "source": [
    "# RMSE training vs test graph\n",
    "\n",
    "rmse_levels = {\"nvars\": [], \"var\": [], \"value\": []}\n",
    "for i in range(0, 8):\n",
    "    rmse_levels[\"nvars\"].append(int(cv_list[i][\"nvars\"]))\n",
    "    rmse_levels[\"var\"].append(\"RMSE Training\")\n",
    "    rmse_levels[\"value\"].append(pd.Series(cv_list[i][\"rmse\"]).mean())\n",
    "for i in range(0, 8):\n",
    "    rmse_levels[\"nvars\"].append(int(cv_list[i][\"nvars\"]))\n",
    "    rmse_levels[\"var\"].append(\"RMSE Test\")\n",
    "    rmse_levels[\"value\"].append(pd.Series(cv_list[i][\"rmse_test\"]).mean())\n",
    "data_rmse_levels = pd.DataFrame.from_dict(rmse_levels)\n",
    "data_rmse_levels[\"nvars2\"] = data_rmse_levels[\"nvars\"] + 1"
   ]
  },
  {
   "cell_type": "code",
   "execution_count": 49,
   "id": "39f1f26f",
   "metadata": {},
   "outputs": [
    {
     "data": {
      "text/html": [
       "<div>\n",
       "<style scoped>\n",
       "    .dataframe tbody tr th:only-of-type {\n",
       "        vertical-align: middle;\n",
       "    }\n",
       "\n",
       "    .dataframe tbody tr th {\n",
       "        vertical-align: top;\n",
       "    }\n",
       "\n",
       "    .dataframe thead th {\n",
       "        text-align: right;\n",
       "    }\n",
       "</style>\n",
       "<table border=\"1\" class=\"dataframe\">\n",
       "  <thead>\n",
       "    <tr style=\"text-align: right;\">\n",
       "      <th></th>\n",
       "      <th>nvars</th>\n",
       "      <th>var</th>\n",
       "      <th>value</th>\n",
       "      <th>nvars2</th>\n",
       "    </tr>\n",
       "  </thead>\n",
       "  <tbody>\n",
       "    <tr>\n",
       "      <th>0</th>\n",
       "      <td>1</td>\n",
       "      <td>RMSE Training</td>\n",
       "      <td>88.833276</td>\n",
       "      <td>2</td>\n",
       "    </tr>\n",
       "    <tr>\n",
       "      <th>1</th>\n",
       "      <td>9</td>\n",
       "      <td>RMSE Training</td>\n",
       "      <td>86.386144</td>\n",
       "      <td>10</td>\n",
       "    </tr>\n",
       "    <tr>\n",
       "      <th>2</th>\n",
       "      <td>11</td>\n",
       "      <td>RMSE Training</td>\n",
       "      <td>86.017735</td>\n",
       "      <td>12</td>\n",
       "    </tr>\n",
       "    <tr>\n",
       "      <th>3</th>\n",
       "      <td>16</td>\n",
       "      <td>RMSE Training</td>\n",
       "      <td>85.575417</td>\n",
       "      <td>17</td>\n",
       "    </tr>\n",
       "    <tr>\n",
       "      <th>4</th>\n",
       "      <td>18</td>\n",
       "      <td>RMSE Training</td>\n",
       "      <td>85.259058</td>\n",
       "      <td>19</td>\n",
       "    </tr>\n",
       "    <tr>\n",
       "      <th>5</th>\n",
       "      <td>29</td>\n",
       "      <td>RMSE Training</td>\n",
       "      <td>84.206788</td>\n",
       "      <td>30</td>\n",
       "    </tr>\n",
       "    <tr>\n",
       "      <th>6</th>\n",
       "      <td>32</td>\n",
       "      <td>RMSE Training</td>\n",
       "      <td>84.020769</td>\n",
       "      <td>33</td>\n",
       "    </tr>\n",
       "    <tr>\n",
       "      <th>7</th>\n",
       "      <td>38</td>\n",
       "      <td>RMSE Training</td>\n",
       "      <td>83.957436</td>\n",
       "      <td>39</td>\n",
       "    </tr>\n",
       "    <tr>\n",
       "      <th>8</th>\n",
       "      <td>1</td>\n",
       "      <td>RMSE Test</td>\n",
       "      <td>88.547122</td>\n",
       "      <td>2</td>\n",
       "    </tr>\n",
       "    <tr>\n",
       "      <th>9</th>\n",
       "      <td>9</td>\n",
       "      <td>RMSE Test</td>\n",
       "      <td>86.323981</td>\n",
       "      <td>10</td>\n",
       "    </tr>\n",
       "    <tr>\n",
       "      <th>10</th>\n",
       "      <td>11</td>\n",
       "      <td>RMSE Test</td>\n",
       "      <td>86.064832</td>\n",
       "      <td>12</td>\n",
       "    </tr>\n",
       "    <tr>\n",
       "      <th>11</th>\n",
       "      <td>16</td>\n",
       "      <td>RMSE Test</td>\n",
       "      <td>85.764250</td>\n",
       "      <td>17</td>\n",
       "    </tr>\n",
       "    <tr>\n",
       "      <th>12</th>\n",
       "      <td>18</td>\n",
       "      <td>RMSE Test</td>\n",
       "      <td>85.538255</td>\n",
       "      <td>19</td>\n",
       "    </tr>\n",
       "    <tr>\n",
       "      <th>13</th>\n",
       "      <td>29</td>\n",
       "      <td>RMSE Test</td>\n",
       "      <td>84.642935</td>\n",
       "      <td>30</td>\n",
       "    </tr>\n",
       "    <tr>\n",
       "      <th>14</th>\n",
       "      <td>32</td>\n",
       "      <td>RMSE Test</td>\n",
       "      <td>84.511267</td>\n",
       "      <td>33</td>\n",
       "    </tr>\n",
       "    <tr>\n",
       "      <th>15</th>\n",
       "      <td>38</td>\n",
       "      <td>RMSE Test</td>\n",
       "      <td>84.540175</td>\n",
       "      <td>39</td>\n",
       "    </tr>\n",
       "  </tbody>\n",
       "</table>\n",
       "</div>"
      ],
      "text/plain": [
       "    nvars            var      value  nvars2\n",
       "0       1  RMSE Training  88.833276       2\n",
       "1       9  RMSE Training  86.386144      10\n",
       "2      11  RMSE Training  86.017735      12\n",
       "3      16  RMSE Training  85.575417      17\n",
       "4      18  RMSE Training  85.259058      19\n",
       "5      29  RMSE Training  84.206788      30\n",
       "6      32  RMSE Training  84.020769      33\n",
       "7      38  RMSE Training  83.957436      39\n",
       "8       1      RMSE Test  88.547122       2\n",
       "9       9      RMSE Test  86.323981      10\n",
       "10     11      RMSE Test  86.064832      12\n",
       "11     16      RMSE Test  85.764250      17\n",
       "12     18      RMSE Test  85.538255      19\n",
       "13     29      RMSE Test  84.642935      30\n",
       "14     32      RMSE Test  84.511267      33\n",
       "15     38      RMSE Test  84.540175      39"
      ]
     },
     "execution_count": 49,
     "metadata": {},
     "output_type": "execute_result"
    }
   ],
   "source": [
    "data_rmse_levels"
   ]
  },
  {
   "cell_type": "code",
   "execution_count": 50,
   "id": "9390dded",
   "metadata": {},
   "outputs": [
    {
     "data": {
      "image/png": "[encoded data removed]",
      "text/plain": [
       "<Figure size 700x500 with 1 Axes>"
      ]
     },
     "metadata": {},
     "output_type": "display_data"
    }
   ],
   "source": [
    "plt.figure(figsize=(7,5))\n",
    "ax = sns.lineplot(\n",
    "    x = [str(x) for x in data_rmse_levels['nvars2']], \n",
    "    y = data_rmse_levels['value'], \n",
    "    hue = data_rmse_levels['var'], marker = 'o',\n",
    "    palette = ['k', 'steelblue']\n",
    ")\n",
    "ax.set_title('Train & Test RMSE')\n",
    "ax.set_ylabel('RMSE')\n",
    "ax.set_xlabel('# of coefficients')\n",
    "ax.legend(fontsize = 8, title = None)\n",
    "ax.grid(linestyle = ':')\n",
    "plt.show();"
   ]
  },
  {
   "cell_type": "code",
   "execution_count": 51,
   "id": "b384f3d4",
   "metadata": {},
   "outputs": [
    {
     "data": {
      "text/plain": [
       "count    20791.000000\n",
       "mean       118.981482\n",
       "std         99.697129\n",
       "min          8.000000\n",
       "25%         59.000000\n",
       "50%         99.000000\n",
       "75%        146.000000\n",
       "max       1050.000000\n",
       "Name: price, dtype: float64"
      ]
     },
     "execution_count": 51,
     "metadata": {},
     "output_type": "execute_result"
    }
   ],
   "source": [
    "data.price.describe()"
   ]
  },
  {
   "cell_type": "markdown",
   "id": "646be406",
   "metadata": {},
   "source": [
    "## Lasso"
   ]
  },
  {
   "cell_type": "code",
   "execution_count": 52,
   "id": "c025a511",
   "metadata": {},
   "outputs": [],
   "source": [
    "predictors = basic_lev + reviews + host + nights + amenities + poly_lev\n",
    "predictors_2 = basic_lev + reviews + host + nights + amenities + poly_lev + X1 + X2"
   ]
  },
  {
   "cell_type": "code",
   "execution_count": 53,
   "id": "cdcb1813",
   "metadata": {},
   "outputs": [],
   "source": [
    "from sklearn.linear_model import ElasticNet\n",
    "from sklearn.model_selection import GridSearchCV\n",
    "from patsy import dmatrices\n",
    "from sklearn.preprocessing import StandardScaler"
   ]
  },
  {
   "cell_type": "code",
   "execution_count": 54,
   "id": "5f162a4e",
   "metadata": {},
   "outputs": [],
   "source": [
    "lasso_model =  ElasticNet(l1_ratio = 1, fit_intercept = True)"
   ]
  },
  {
   "cell_type": "code",
   "execution_count": 55,
   "id": "67f54450",
   "metadata": {},
   "outputs": [],
   "source": [
    "lasso_model_cv = GridSearchCV(\n",
    "    lasso_model,\n",
    "    # {\"alpha\":[i/100 for i in range(1, 26, 1)]}, #> this option takes forever to run\n",
    "    {\"alpha\":[i/100 for i in range(5, 26, 5)]},\n",
    "    cv=5,\n",
    "    scoring=\"neg_root_mean_squared_error\",\n",
    "    verbose=3,\n",
    ")\n"
   ]
  },
  {
   "cell_type": "code",
   "execution_count": 56,
   "id": "7b9eca5d",
   "metadata": {},
   "outputs": [],
   "source": [
    "y, X = dmatrices(\"price ~ \" + \" + \".join(predictors_2), data_work)"
   ]
  },
  {
   "cell_type": "code",
   "execution_count": 57,
   "id": "d440483d",
   "metadata": {},
   "outputs": [],
   "source": [
    "scaler = StandardScaler()\n",
    "X_scaled = scaler.fit_transform(X)"
   ]
  },
  {
   "cell_type": "code",
   "execution_count": 58,
   "id": "9f817297",
   "metadata": {},
   "outputs": [
    {
     "name": "stdout",
     "output_type": "stream",
     "text": [
      "Fitting 5 folds for each of 5 candidates, totalling 25 fits\n",
      "[CV 1/5] END ......................alpha=0.05;, score=-77.795 total time=   0.1s\n",
      "[CV 2/5] END ......................alpha=0.05;, score=-86.873 total time=   0.1s\n",
      "[CV 3/5] END ......................alpha=0.05;, score=-83.504 total time=   0.3s\n",
      "[CV 4/5] END ......................alpha=0.05;, score=-94.462 total time=   0.0s\n",
      "[CV 5/5] END ......................alpha=0.05;, score=-80.379 total time=   0.2s\n",
      "[CV 1/5] END .......................alpha=0.1;, score=-77.783 total time=   0.0s\n",
      "[CV 2/5] END .......................alpha=0.1;, score=-86.876 total time=   0.0s\n",
      "[CV 3/5] END .......................alpha=0.1;, score=-83.505 total time=   0.0s\n",
      "[CV 4/5] END .......................alpha=0.1;, score=-94.473 total time=   0.0s\n",
      "[CV 5/5] END .......................alpha=0.1;, score=-80.393 total time=   0.0s\n",
      "[CV 1/5] END ......................alpha=0.15;, score=-77.779 total time=   0.1s\n",
      "[CV 2/5] END ......................alpha=0.15;, score=-86.876 total time=   0.1s\n",
      "[CV 3/5] END ......................alpha=0.15;, score=-83.514 total time=   0.0s\n",
      "[CV 4/5] END ......................alpha=0.15;, score=-94.499 total time=   0.1s\n",
      "[CV 5/5] END ......................alpha=0.15;, score=-80.410 total time=   0.0s\n",
      "[CV 1/5] END .......................alpha=0.2;, score=-77.789 total time=   0.1s\n",
      "[CV 2/5] END .......................alpha=0.2;, score=-86.890 total time=   0.0s\n",
      "[CV 3/5] END .......................alpha=0.2;, score=-83.527 total time=   0.1s\n",
      "[CV 4/5] END .......................alpha=0.2;, score=-94.518 total time=   0.0s\n",
      "[CV 5/5] END .......................alpha=0.2;, score=-80.435 total time=   0.0s\n",
      "[CV 1/5] END ......................alpha=0.25;, score=-77.771 total time=   0.0s\n",
      "[CV 2/5] END ......................alpha=0.25;, score=-86.894 total time=   0.0s\n",
      "[CV 3/5] END ......................alpha=0.25;, score=-83.540 total time=   0.0s\n",
      "[CV 4/5] END ......................alpha=0.25;, score=-94.514 total time=   0.0s\n",
      "[CV 5/5] END ......................alpha=0.25;, score=-80.447 total time=   0.0s\n",
      "CPU times: total: 15.5 s\n",
      "Wall time: 3.89 s\n"
     ]
    },
    {
     "data": {
      "text/html": [
       "<style>#sk-container-id-1 {color: black;background-color: white;}#sk-container-id-1 pre{padding: 0;}#sk-container-id-1 div.sk-toggleable {background-color: white;}#sk-container-id-1 label.sk-toggleable__label {cursor: pointer;display: block;width: 100%;margin-bottom: 0;padding: 0.3em;box-sizing: border-box;text-align: center;}#sk-container-id-1 label.sk-toggleable__label-arrow:before {content: \"▸\";float: left;margin-right: 0.25em;color: #696969;}#sk-container-id-1 label.sk-toggleable__label-arrow:hover:before {color: black;}#sk-container-id-1 div.sk-estimator:hover label.sk-toggleable__label-arrow:before {color: black;}#sk-container-id-1 div.sk-toggleable__content {max-height: 0;max-width: 0;overflow: hidden;text-align: left;background-color: #f0f8ff;}#sk-container-id-1 div.sk-toggleable__content pre {margin: 0.2em;color: black;border-radius: 0.25em;background-color: #f0f8ff;}#sk-container-id-1 input.sk-toggleable__control:checked~div.sk-toggleable__content {max-height: 200px;max-width: 100%;overflow: auto;}#sk-container-id-1 input.sk-toggleable__control:checked~label.sk-toggleable__label-arrow:before {content: \"▾\";}#sk-container-id-1 div.sk-estimator input.sk-toggleable__control:checked~label.sk-toggleable__label {background-color: #d4ebff;}#sk-container-id-1 div.sk-label input.sk-toggleable__control:checked~label.sk-toggleable__label {background-color: #d4ebff;}#sk-container-id-1 input.sk-hidden--visually {border: 0;clip: rect(1px 1px 1px 1px);clip: rect(1px, 1px, 1px, 1px);height: 1px;margin: -1px;overflow: hidden;padding: 0;position: absolute;width: 1px;}#sk-container-id-1 div.sk-estimator {font-family: monospace;background-color: #f0f8ff;border: 1px dotted black;border-radius: 0.25em;box-sizing: border-box;margin-bottom: 0.5em;}#sk-container-id-1 div.sk-estimator:hover {background-color: #d4ebff;}#sk-container-id-1 div.sk-parallel-item::after {content: \"\";width: 100%;border-bottom: 1px solid gray;flex-grow: 1;}#sk-container-id-1 div.sk-label:hover label.sk-toggleable__label {background-color: #d4ebff;}#sk-container-id-1 div.sk-serial::before {content: \"\";position: absolute;border-left: 1px solid gray;box-sizing: border-box;top: 0;bottom: 0;left: 50%;z-index: 0;}#sk-container-id-1 div.sk-serial {display: flex;flex-direction: column;align-items: center;background-color: white;padding-right: 0.2em;padding-left: 0.2em;position: relative;}#sk-container-id-1 div.sk-item {position: relative;z-index: 1;}#sk-container-id-1 div.sk-parallel {display: flex;align-items: stretch;justify-content: center;background-color: white;position: relative;}#sk-container-id-1 div.sk-item::before, #sk-container-id-1 div.sk-parallel-item::before {content: \"\";position: absolute;border-left: 1px solid gray;box-sizing: border-box;top: 0;bottom: 0;left: 50%;z-index: -1;}#sk-container-id-1 div.sk-parallel-item {display: flex;flex-direction: column;z-index: 1;position: relative;background-color: white;}#sk-container-id-1 div.sk-parallel-item:first-child::after {align-self: flex-end;width: 50%;}#sk-container-id-1 div.sk-parallel-item:last-child::after {align-self: flex-start;width: 50%;}#sk-container-id-1 div.sk-parallel-item:only-child::after {width: 0;}#sk-container-id-1 div.sk-dashed-wrapped {border: 1px dashed gray;margin: 0 0.4em 0.5em 0.4em;box-sizing: border-box;padding-bottom: 0.4em;background-color: white;}#sk-container-id-1 div.sk-label label {font-family: monospace;font-weight: bold;display: inline-block;line-height: 1.2em;}#sk-container-id-1 div.sk-label-container {text-align: center;}#sk-container-id-1 div.sk-container {/* jupyter's `normalize.less` sets `[hidden] { display: none; }` but bootstrap.min.css set `[hidden] { display: none !important; }` so we also need the `!important` here to be able to override the default hidden behavior on the sphinx rendered scikit-learn.org. See: https://github.com/scikit-learn/scikit-learn/issues/21755 */display: inline-block !important;position: relative;}#sk-container-id-1 div.sk-text-repr-fallback {display: none;}</style><div id=\"sk-container-id-1\" class=\"sk-top-container\"><div class=\"sk-text-repr-fallback\"><pre>GridSearchCV(cv=5, estimator=ElasticNet(l1_ratio=1),\n",
       "             param_grid={&#x27;alpha&#x27;: [0.05, 0.1, 0.15, 0.2, 0.25]},\n",
       "             scoring=&#x27;neg_root_mean_squared_error&#x27;, verbose=3)</pre><b>In a Jupyter environment, please rerun this cell to show the HTML representation or trust the notebook. <br />On GitHub, the HTML representation is unable to render, please try loading this page with nbviewer.org.</b></div><div class=\"sk-container\" hidden><div class=\"sk-item sk-dashed-wrapped\"><div class=\"sk-label-container\"><div class=\"sk-label sk-toggleable\"><input class=\"sk-toggleable__control sk-hidden--visually\" id=\"sk-estimator-id-1\" type=\"checkbox\" ><label for=\"sk-estimator-id-1\" class=\"sk-toggleable__label sk-toggleable__label-arrow\">GridSearchCV</label><div class=\"sk-toggleable__content\"><pre>GridSearchCV(cv=5, estimator=ElasticNet(l1_ratio=1),\n",
       "             param_grid={&#x27;alpha&#x27;: [0.05, 0.1, 0.15, 0.2, 0.25]},\n",
       "             scoring=&#x27;neg_root_mean_squared_error&#x27;, verbose=3)</pre></div></div></div><div class=\"sk-parallel\"><div class=\"sk-parallel-item\"><div class=\"sk-item\"><div class=\"sk-label-container\"><div class=\"sk-label sk-toggleable\"><input class=\"sk-toggleable__control sk-hidden--visually\" id=\"sk-estimator-id-2\" type=\"checkbox\" ><label for=\"sk-estimator-id-2\" class=\"sk-toggleable__label sk-toggleable__label-arrow\">estimator: ElasticNet</label><div class=\"sk-toggleable__content\"><pre>ElasticNet(l1_ratio=1)</pre></div></div></div><div class=\"sk-serial\"><div class=\"sk-item\"><div class=\"sk-estimator sk-toggleable\"><input class=\"sk-toggleable__control sk-hidden--visually\" id=\"sk-estimator-id-3\" type=\"checkbox\" ><label for=\"sk-estimator-id-3\" class=\"sk-toggleable__label sk-toggleable__label-arrow\">ElasticNet</label><div class=\"sk-toggleable__content\"><pre>ElasticNet(l1_ratio=1)</pre></div></div></div></div></div></div></div></div></div></div>"
      ],
      "text/plain": [
       "GridSearchCV(cv=5, estimator=ElasticNet(l1_ratio=1),\n",
       "             param_grid={'alpha': [0.05, 0.1, 0.15, 0.2, 0.25]},\n",
       "             scoring='neg_root_mean_squared_error', verbose=3)"
      ]
     },
     "execution_count": 58,
     "metadata": {},
     "output_type": "execute_result"
    }
   ],
   "source": [
    "%%time\n",
    "lasso_model_cv.fit(X_scaled, y.ravel())"
   ]
  },
  {
   "cell_type": "code",
   "execution_count": 59,
   "id": "f1335959",
   "metadata": {},
   "outputs": [
    {
     "data": {
      "text/html": [
       "<style>#sk-container-id-2 {color: black;background-color: white;}#sk-container-id-2 pre{padding: 0;}#sk-container-id-2 div.sk-toggleable {background-color: white;}#sk-container-id-2 label.sk-toggleable__label {cursor: pointer;display: block;width: 100%;margin-bottom: 0;padding: 0.3em;box-sizing: border-box;text-align: center;}#sk-container-id-2 label.sk-toggleable__label-arrow:before {content: \"▸\";float: left;margin-right: 0.25em;color: #696969;}#sk-container-id-2 label.sk-toggleable__label-arrow:hover:before {color: black;}#sk-container-id-2 div.sk-estimator:hover label.sk-toggleable__label-arrow:before {color: black;}#sk-container-id-2 div.sk-toggleable__content {max-height: 0;max-width: 0;overflow: hidden;text-align: left;background-color: #f0f8ff;}#sk-container-id-2 div.sk-toggleable__content pre {margin: 0.2em;color: black;border-radius: 0.25em;background-color: #f0f8ff;}#sk-container-id-2 input.sk-toggleable__control:checked~div.sk-toggleable__content {max-height: 200px;max-width: 100%;overflow: auto;}#sk-container-id-2 input.sk-toggleable__control:checked~label.sk-toggleable__label-arrow:before {content: \"▾\";}#sk-container-id-2 div.sk-estimator input.sk-toggleable__control:checked~label.sk-toggleable__label {background-color: #d4ebff;}#sk-container-id-2 div.sk-label input.sk-toggleable__control:checked~label.sk-toggleable__label {background-color: #d4ebff;}#sk-container-id-2 input.sk-hidden--visually {border: 0;clip: rect(1px 1px 1px 1px);clip: rect(1px, 1px, 1px, 1px);height: 1px;margin: -1px;overflow: hidden;padding: 0;position: absolute;width: 1px;}#sk-container-id-2 div.sk-estimator {font-family: monospace;background-color: #f0f8ff;border: 1px dotted black;border-radius: 0.25em;box-sizing: border-box;margin-bottom: 0.5em;}#sk-container-id-2 div.sk-estimator:hover {background-color: #d4ebff;}#sk-container-id-2 div.sk-parallel-item::after {content: \"\";width: 100%;border-bottom: 1px solid gray;flex-grow: 1;}#sk-container-id-2 div.sk-label:hover label.sk-toggleable__label {background-color: #d4ebff;}#sk-container-id-2 div.sk-serial::before {content: \"\";position: absolute;border-left: 1px solid gray;box-sizing: border-box;top: 0;bottom: 0;left: 50%;z-index: 0;}#sk-container-id-2 div.sk-serial {display: flex;flex-direction: column;align-items: center;background-color: white;padding-right: 0.2em;padding-left: 0.2em;position: relative;}#sk-container-id-2 div.sk-item {position: relative;z-index: 1;}#sk-container-id-2 div.sk-parallel {display: flex;align-items: stretch;justify-content: center;background-color: white;position: relative;}#sk-container-id-2 div.sk-item::before, #sk-container-id-2 div.sk-parallel-item::before {content: \"\";position: absolute;border-left: 1px solid gray;box-sizing: border-box;top: 0;bottom: 0;left: 50%;z-index: -1;}#sk-container-id-2 div.sk-parallel-item {display: flex;flex-direction: column;z-index: 1;position: relative;background-color: white;}#sk-container-id-2 div.sk-parallel-item:first-child::after {align-self: flex-end;width: 50%;}#sk-container-id-2 div.sk-parallel-item:last-child::after {align-self: flex-start;width: 50%;}#sk-container-id-2 div.sk-parallel-item:only-child::after {width: 0;}#sk-container-id-2 div.sk-dashed-wrapped {border: 1px dashed gray;margin: 0 0.4em 0.5em 0.4em;box-sizing: border-box;padding-bottom: 0.4em;background-color: white;}#sk-container-id-2 div.sk-label label {font-family: monospace;font-weight: bold;display: inline-block;line-height: 1.2em;}#sk-container-id-2 div.sk-label-container {text-align: center;}#sk-container-id-2 div.sk-container {/* jupyter's `normalize.less` sets `[hidden] { display: none; }` but bootstrap.min.css set `[hidden] { display: none !important; }` so we also need the `!important` here to be able to override the default hidden behavior on the sphinx rendered scikit-learn.org. See: https://github.com/scikit-learn/scikit-learn/issues/21755 */display: inline-block !important;position: relative;}#sk-container-id-2 div.sk-text-repr-fallback {display: none;}</style><div id=\"sk-container-id-2\" class=\"sk-top-container\"><div class=\"sk-text-repr-fallback\"><pre>ElasticNet(alpha=0.05, l1_ratio=1)</pre><b>In a Jupyter environment, please rerun this cell to show the HTML representation or trust the notebook. <br />On GitHub, the HTML representation is unable to render, please try loading this page with nbviewer.org.</b></div><div class=\"sk-container\" hidden><div class=\"sk-item\"><div class=\"sk-estimator sk-toggleable\"><input class=\"sk-toggleable__control sk-hidden--visually\" id=\"sk-estimator-id-4\" type=\"checkbox\" checked><label for=\"sk-estimator-id-4\" class=\"sk-toggleable__label sk-toggleable__label-arrow\">ElasticNet</label><div class=\"sk-toggleable__content\"><pre>ElasticNet(alpha=0.05, l1_ratio=1)</pre></div></div></div></div></div>"
      ],
      "text/plain": [
       "ElasticNet(alpha=0.05, l1_ratio=1)"
      ]
     },
     "execution_count": 59,
     "metadata": {},
     "output_type": "execute_result"
    }
   ],
   "source": [
    "lasso_model_cv.best_estimator_"
   ]
  },
  {
   "cell_type": "code",
   "execution_count": 60,
   "id": "9c66aa75",
   "metadata": {},
   "outputs": [
    {
     "data": {
      "text/plain": [
       "84.60234643931639"
      ]
     },
     "execution_count": 60,
     "metadata": {},
     "output_type": "execute_result"
    }
   ],
   "source": [
    "lasso_rmse = pd.DataFrame(lasso_model_cv.cv_results_).loc[\n",
    "    lambda x: x.param_alpha == lasso_model_cv.best_estimator_.alpha\n",
    "].mean_test_score.values[0] * -1\n",
    "lasso_rmse"
   ]
  },
  {
   "cell_type": "markdown",
   "id": "d5999523",
   "metadata": {},
   "source": [
    "## Random forest\n"
   ]
  },
  {
   "cell_type": "code",
   "execution_count": 61,
   "id": "12868bc7",
   "metadata": {},
   "outputs": [],
   "source": [
    "from sklearn.ensemble import RandomForestRegressor\n",
    "from sklearn.model_selection import GridSearchCV\n",
    "from sklearn.model_selection import RandomizedSearchCV\n",
    "from sklearn.impute import SimpleImputer\n",
    "from sklearn.inspection import permutation_importance\n",
    "from sklearn.inspection import PartialDependenceDisplay\n",
    "from sklearn.inspection import partial_dependence\n",
    "from sklearn.compose import ColumnTransformer\n",
    "from sklearn.pipeline import Pipeline\n",
    "from sklearn.preprocessing import OneHotEncoder, StandardScaler\n",
    "from sklearn.metrics import mean_squared_error\n",
    "import math\n"
   ]
  },
  {
   "cell_type": "code",
   "execution_count": 62,
   "id": "1a8446d5",
   "metadata": {},
   "outputs": [],
   "source": [
    "y, X = dmatrices(\"price ~ \" + \" + \".join(predictors), data = data_work)"
   ]
  },
  {
   "cell_type": "code",
   "execution_count": 63,
   "id": "d9b7630c",
   "metadata": {},
   "outputs": [
    {
     "data": {
      "text/plain": [
       "['Intercept',\n",
       " 'room_type[T.Hotel room]',\n",
       " 'room_type[T.Private room]',\n",
       " 'room_type[T.Shared room]',\n",
       " 'host_is_superhost[T.f]',\n",
       " 'host_is_superhost[T.t]',\n",
       " 'host_has_profile_pic[T.t]',\n",
       " 'host_identity_verified[T.t]',\n",
       " 'n_accommodates',\n",
       " 'n_beds',\n",
       " 'n_days_since',\n",
       " 'flag_days_since',\n",
       " 'f_bathroom',\n",
       " 'distance',\n",
       " 'f_number_of_reviews',\n",
       " 'n_review_scores_rating',\n",
       " 'flag_review_scores_rating',\n",
       " 'host_acceptance_rate',\n",
       " 'n_minimum_nights',\n",
       " 'maximum_nights',\n",
       " 'Laundry',\n",
       " 'Essentials',\n",
       " 'Heating_Cooling',\n",
       " 'Kitchen',\n",
       " 'Outdoor',\n",
       " 'Workspace',\n",
       " 'Entertainment',\n",
       " 'Luxury',\n",
       " 'Internet',\n",
       " 'Parking',\n",
       " 'Family',\n",
       " 'n_accommodates2',\n",
       " 'n_days_since2',\n",
       " 'n_days_since3']"
      ]
     },
     "execution_count": 63,
     "metadata": {},
     "output_type": "execute_result"
    }
   ],
   "source": [
    "X.design_info.column_names"
   ]
  },
  {
   "cell_type": "code",
   "execution_count": 64,
   "id": "ff701cfd",
   "metadata": {},
   "outputs": [
    {
     "name": "stdout",
     "output_type": "stream",
     "text": [
      "The theoretical recommended number of variables: 5.83.\n"
     ]
    }
   ],
   "source": [
    "print('The theoretical recommended number of variables: {:.2f}.'.format(math.sqrt(len(X.design_info.column_names))))"
   ]
  },
  {
   "cell_type": "code",
   "execution_count": 65,
   "id": "5cf834b9",
   "metadata": {},
   "outputs": [],
   "source": [
    "rfr = RandomForestRegressor(random_state = 20020203)"
   ]
  },
  {
   "cell_type": "code",
   "execution_count": 66,
   "id": "2400d8d7",
   "metadata": {},
   "outputs": [],
   "source": [
    "tune_grid = {\"max_features\": [2, 4, 6, 8], \"min_samples_leaf\": [5, 10, 15]}"
   ]
  },
  {
   "cell_type": "code",
   "execution_count": 67,
   "id": "43eef1c6",
   "metadata": {},
   "outputs": [],
   "source": [
    "rf_random = GridSearchCV(\n",
    "    estimator = rfr,\n",
    "    param_grid = tune_grid,\n",
    "    cv = 5,\n",
    "    scoring = \"neg_root_mean_squared_error\",\n",
    "    verbose = 3,\n",
    ")"
   ]
  },
  {
   "cell_type": "code",
   "execution_count": 68,
   "id": "a806d2ae",
   "metadata": {},
   "outputs": [
    {
     "name": "stdout",
     "output_type": "stream",
     "text": [
      "Fitting 5 folds for each of 12 candidates, totalling 60 fits\n",
      "[CV 1/5] END max_features=2, min_samples_leaf=5;, score=-68.901 total time=   0.9s\n",
      "[CV 2/5] END max_features=2, min_samples_leaf=5;, score=-81.414 total time=   0.9s\n",
      "[CV 3/5] END max_features=2, min_samples_leaf=5;, score=-77.222 total time=   0.8s\n",
      "[CV 4/5] END max_features=2, min_samples_leaf=5;, score=-88.698 total time=   0.8s\n",
      "[CV 5/5] END max_features=2, min_samples_leaf=5;, score=-74.343 total time=   0.8s\n",
      "[CV 1/5] END max_features=2, min_samples_leaf=10;, score=-71.696 total time=   0.7s\n",
      "[CV 2/5] END max_features=2, min_samples_leaf=10;, score=-83.882 total time=   0.7s\n",
      "[CV 3/5] END max_features=2, min_samples_leaf=10;, score=-80.110 total time=   0.7s\n",
      "[CV 4/5] END max_features=2, min_samples_leaf=10;, score=-90.497 total time=   0.7s\n",
      "[CV 5/5] END max_features=2, min_samples_leaf=10;, score=-76.480 total time=   0.7s\n",
      "[CV 1/5] END max_features=2, min_samples_leaf=15;, score=-72.873 total time=   0.7s\n",
      "[CV 2/5] END max_features=2, min_samples_leaf=15;, score=-84.857 total time=   0.7s\n",
      "[CV 3/5] END max_features=2, min_samples_leaf=15;, score=-80.996 total time=   0.6s\n",
      "[CV 4/5] END max_features=2, min_samples_leaf=15;, score=-91.430 total time=   0.6s\n",
      "[CV 5/5] END max_features=2, min_samples_leaf=15;, score=-78.031 total time=   0.6s\n",
      "[CV 1/5] END max_features=4, min_samples_leaf=5;, score=-66.218 total time=   1.5s\n",
      "[CV 2/5] END max_features=4, min_samples_leaf=5;, score=-78.024 total time=   1.4s\n",
      "[CV 3/5] END max_features=4, min_samples_leaf=5;, score=-74.075 total time=   1.4s\n",
      "[CV 4/5] END max_features=4, min_samples_leaf=5;, score=-85.892 total time=   1.4s\n",
      "[CV 5/5] END max_features=4, min_samples_leaf=5;, score=-71.180 total time=   1.6s\n",
      "[CV 1/5] END max_features=4, min_samples_leaf=10;, score=-68.983 total time=   1.2s\n",
      "[CV 2/5] END max_features=4, min_samples_leaf=10;, score=-80.440 total time=   1.6s\n",
      "[CV 3/5] END max_features=4, min_samples_leaf=10;, score=-76.940 total time=   1.5s\n",
      "[CV 4/5] END max_features=4, min_samples_leaf=10;, score=-87.909 total time=   1.5s\n",
      "[CV 5/5] END max_features=4, min_samples_leaf=10;, score=-73.788 total time=   1.6s\n",
      "[CV 1/5] END max_features=4, min_samples_leaf=15;, score=-70.355 total time=   1.2s\n",
      "[CV 2/5] END max_features=4, min_samples_leaf=15;, score=-81.450 total time=   1.6s\n",
      "[CV 3/5] END max_features=4, min_samples_leaf=15;, score=-78.137 total time=   1.6s\n",
      "[CV 4/5] END max_features=4, min_samples_leaf=15;, score=-88.951 total time=   1.1s\n",
      "[CV 5/5] END max_features=4, min_samples_leaf=15;, score=-74.927 total time=   1.2s\n",
      "[CV 1/5] END max_features=6, min_samples_leaf=5;, score=-65.769 total time=   2.0s\n",
      "[CV 2/5] END max_features=6, min_samples_leaf=5;, score=-76.770 total time=   2.0s\n",
      "[CV 3/5] END max_features=6, min_samples_leaf=5;, score=-73.253 total time=   2.2s\n",
      "[CV 4/5] END max_features=6, min_samples_leaf=5;, score=-84.750 total time=   2.1s\n",
      "[CV 5/5] END max_features=6, min_samples_leaf=5;, score=-70.282 total time=   2.1s\n",
      "[CV 1/5] END max_features=6, min_samples_leaf=10;, score=-68.237 total time=   1.7s\n",
      "[CV 2/5] END max_features=6, min_samples_leaf=10;, score=-79.676 total time=   1.7s\n",
      "[CV 3/5] END max_features=6, min_samples_leaf=10;, score=-75.931 total time=   1.7s\n",
      "[CV 4/5] END max_features=6, min_samples_leaf=10;, score=-86.914 total time=   1.7s\n",
      "[CV 5/5] END max_features=6, min_samples_leaf=10;, score=-72.522 total time=   1.7s\n",
      "[CV 1/5] END max_features=6, min_samples_leaf=15;, score=-69.705 total time=   1.7s\n",
      "[CV 2/5] END max_features=6, min_samples_leaf=15;, score=-80.779 total time=   1.6s\n",
      "[CV 3/5] END max_features=6, min_samples_leaf=15;, score=-77.332 total time=   1.6s\n",
      "[CV 4/5] END max_features=6, min_samples_leaf=15;, score=-88.186 total time=   2.1s\n",
      "[CV 5/5] END max_features=6, min_samples_leaf=15;, score=-74.150 total time=   2.7s\n",
      "[CV 1/5] END max_features=8, min_samples_leaf=5;, score=-64.871 total time=   3.6s\n",
      "[CV 2/5] END max_features=8, min_samples_leaf=5;, score=-76.129 total time=   2.6s\n",
      "[CV 3/5] END max_features=8, min_samples_leaf=5;, score=-72.445 total time=   2.6s\n",
      "[CV 4/5] END max_features=8, min_samples_leaf=5;, score=-84.252 total time=   2.5s\n",
      "[CV 5/5] END max_features=8, min_samples_leaf=5;, score=-69.560 total time=   2.7s\n",
      "[CV 1/5] END max_features=8, min_samples_leaf=10;, score=-67.516 total time=   2.5s\n",
      "[CV 2/5] END max_features=8, min_samples_leaf=10;, score=-78.593 total time=   2.2s\n",
      "[CV 3/5] END max_features=8, min_samples_leaf=10;, score=-75.354 total time=   2.2s\n",
      "[CV 4/5] END max_features=8, min_samples_leaf=10;, score=-86.395 total time=   2.2s\n",
      "[CV 5/5] END max_features=8, min_samples_leaf=10;, score=-71.982 total time=   2.2s\n",
      "[CV 1/5] END max_features=8, min_samples_leaf=15;, score=-68.664 total time=   2.0s\n",
      "[CV 2/5] END max_features=8, min_samples_leaf=15;, score=-79.849 total time=   1.9s\n",
      "[CV 3/5] END max_features=8, min_samples_leaf=15;, score=-76.778 total time=   2.1s\n",
      "[CV 4/5] END max_features=8, min_samples_leaf=15;, score=-87.516 total time=   2.1s\n",
      "[CV 5/5] END max_features=8, min_samples_leaf=15;, score=-73.834 total time=   2.0s\n",
      "CPU times: total: 1min 45s\n",
      "Wall time: 1min 45s\n"
     ]
    }
   ],
   "source": [
    "%%time\n",
    "rf_model = rf_random.fit(X, y.ravel())"
   ]
  },
  {
   "cell_type": "code",
   "execution_count": 69,
   "id": "f1b210dc",
   "metadata": {},
   "outputs": [
    {
     "data": {
      "text/plain": [
       "{'mean_fit_time': array([0.91671057, 0.74708362, 0.70450974, 1.51335726, 1.53833365,\n",
       "        1.37685127, 2.12460537, 1.77150407, 1.96210318, 2.84882088,\n",
       "        2.29520206, 2.06925936]),\n",
       " 'std_fit_time': array([0.04776849, 0.02388289, 0.05440822, 0.06832467, 0.13169661,\n",
       "        0.19615688, 0.0788015 , 0.01667371, 0.41355244, 0.40601448,\n",
       "        0.10979346, 0.06377408]),\n",
       " 'mean_score_time': array([0.04725327, 0.04060354, 0.03654194, 0.04919267, 0.05080662,\n",
       "        0.04726672, 0.0533947 , 0.04841795, 0.05669875, 0.05349565,\n",
       "        0.04679513, 0.04277315]),\n",
       " 'std_score_time': array([0.00302267, 0.00234108, 0.0016031 , 0.00320499, 0.00545702,\n",
       "        0.00911631, 0.00186546, 0.00168729, 0.01673731, 0.00115941,\n",
       "        0.00114758, 0.00155359]),\n",
       " 'param_max_features': masked_array(data=[2, 2, 2, 4, 4, 4, 6, 6, 6, 8, 8, 8],\n",
       "              mask=[False, False, False, False, False, False, False, False,\n",
       "                    False, False, False, False],\n",
       "        fill_value='?',\n",
       "             dtype=object),\n",
       " 'param_min_samples_leaf': masked_array(data=[5, 10, 15, 5, 10, 15, 5, 10, 15, 5, 10, 15],\n",
       "              mask=[False, False, False, False, False, False, False, False,\n",
       "                    False, False, False, False],\n",
       "        fill_value='?',\n",
       "             dtype=object),\n",
       " 'params': [{'max_features': 2, 'min_samples_leaf': 5},\n",
       "  {'max_features': 2, 'min_samples_leaf': 10},\n",
       "  {'max_features': 2, 'min_samples_leaf': 15},\n",
       "  {'max_features': 4, 'min_samples_leaf': 5},\n",
       "  {'max_features': 4, 'min_samples_leaf': 10},\n",
       "  {'max_features': 4, 'min_samples_leaf': 15},\n",
       "  {'max_features': 6, 'min_samples_leaf': 5},\n",
       "  {'max_features': 6, 'min_samples_leaf': 10},\n",
       "  {'max_features': 6, 'min_samples_leaf': 15},\n",
       "  {'max_features': 8, 'min_samples_leaf': 5},\n",
       "  {'max_features': 8, 'min_samples_leaf': 10},\n",
       "  {'max_features': 8, 'min_samples_leaf': 15}],\n",
       " 'split0_test_score': array([-68.90107728, -71.69585621, -72.87255114, -66.2177726 ,\n",
       "        -68.983149  , -70.35500096, -65.76869547, -68.23689106,\n",
       "        -69.70524851, -64.87058201, -67.51566719, -68.66436482]),\n",
       " 'split1_test_score': array([-81.41440193, -83.88247956, -84.85698896, -78.02445399,\n",
       "        -80.4400829 , -81.44980542, -76.77040285, -79.67617514,\n",
       "        -80.77941842, -76.12899157, -78.5931116 , -79.84853466]),\n",
       " 'split2_test_score': array([-77.22164296, -80.11045079, -80.99634336, -74.07456885,\n",
       "        -76.94021343, -78.13650277, -73.25273574, -75.93061756,\n",
       "        -77.33167048, -72.44531642, -75.35428664, -76.77800983]),\n",
       " 'split3_test_score': array([-88.69778087, -90.49671501, -91.43049315, -85.89228409,\n",
       "        -87.90906375, -88.95134734, -84.74986134, -86.91365179,\n",
       "        -88.1862988 , -84.25217745, -86.39510496, -87.5159437 ]),\n",
       " 'split4_test_score': array([-74.34318391, -76.4802039 , -78.03057567, -71.18030343,\n",
       "        -73.78842483, -74.92700546, -70.2821973 , -72.52195131,\n",
       "        -74.1500472 , -69.55966982, -71.98247444, -73.83397608]),\n",
       " 'mean_test_score': array([-78.11561739, -80.53314109, -81.63739046, -75.07787659,\n",
       "        -77.61218678, -78.76393239, -74.16477854, -76.65585737,\n",
       "        -78.03053668, -73.45134746, -75.96812896, -77.32816582]),\n",
       " 'std_test_score': array([6.67536302, 6.40614462, 6.26918077, 6.63826594, 6.3805277 ,\n",
       "        6.27412371, 6.40677338, 6.36928272, 6.25384507, 6.53627563,\n",
       "        6.37681294, 6.28834729]),\n",
       " 'rank_test_score': array([ 9, 11, 12,  3,  7, 10,  2,  5,  8,  1,  4,  6])}"
      ]
     },
     "execution_count": 69,
     "metadata": {},
     "output_type": "execute_result"
    }
   ],
   "source": [
    "rf_model.cv_results_"
   ]
  },
  {
   "cell_type": "code",
   "execution_count": 70,
   "id": "ba0587c9",
   "metadata": {},
   "outputs": [],
   "source": [
    "df_rf_model_cv_results = pd.DataFrame(rf_model.cv_results_)[[\n",
    "    'param_max_features', 'param_min_samples_leaf', 'mean_test_score']]"
   ]
  },
  {
   "cell_type": "code",
   "execution_count": 71,
   "id": "15833c5d",
   "metadata": {},
   "outputs": [
    {
     "data": {
      "text/html": [
       "<div>\n",
       "<style scoped>\n",
       "    .dataframe tbody tr th:only-of-type {\n",
       "        vertical-align: middle;\n",
       "    }\n",
       "\n",
       "    .dataframe tbody tr th {\n",
       "        vertical-align: top;\n",
       "    }\n",
       "\n",
       "    .dataframe thead th {\n",
       "        text-align: right;\n",
       "    }\n",
       "</style>\n",
       "<table border=\"1\" class=\"dataframe\">\n",
       "  <thead>\n",
       "    <tr style=\"text-align: right;\">\n",
       "      <th></th>\n",
       "      <th>max features</th>\n",
       "      <th>min node size</th>\n",
       "      <th>RMSE</th>\n",
       "    </tr>\n",
       "  </thead>\n",
       "  <tbody>\n",
       "    <tr>\n",
       "      <th>0</th>\n",
       "      <td>2</td>\n",
       "      <td>5</td>\n",
       "      <td>-78.115617</td>\n",
       "    </tr>\n",
       "    <tr>\n",
       "      <th>1</th>\n",
       "      <td>2</td>\n",
       "      <td>10</td>\n",
       "      <td>-80.533141</td>\n",
       "    </tr>\n",
       "    <tr>\n",
       "      <th>2</th>\n",
       "      <td>2</td>\n",
       "      <td>15</td>\n",
       "      <td>-81.637390</td>\n",
       "    </tr>\n",
       "    <tr>\n",
       "      <th>3</th>\n",
       "      <td>4</td>\n",
       "      <td>5</td>\n",
       "      <td>-75.077877</td>\n",
       "    </tr>\n",
       "    <tr>\n",
       "      <th>4</th>\n",
       "      <td>4</td>\n",
       "      <td>10</td>\n",
       "      <td>-77.612187</td>\n",
       "    </tr>\n",
       "    <tr>\n",
       "      <th>5</th>\n",
       "      <td>4</td>\n",
       "      <td>15</td>\n",
       "      <td>-78.763932</td>\n",
       "    </tr>\n",
       "    <tr>\n",
       "      <th>6</th>\n",
       "      <td>6</td>\n",
       "      <td>5</td>\n",
       "      <td>-74.164779</td>\n",
       "    </tr>\n",
       "    <tr>\n",
       "      <th>7</th>\n",
       "      <td>6</td>\n",
       "      <td>10</td>\n",
       "      <td>-76.655857</td>\n",
       "    </tr>\n",
       "    <tr>\n",
       "      <th>8</th>\n",
       "      <td>6</td>\n",
       "      <td>15</td>\n",
       "      <td>-78.030537</td>\n",
       "    </tr>\n",
       "    <tr>\n",
       "      <th>9</th>\n",
       "      <td>8</td>\n",
       "      <td>5</td>\n",
       "      <td>-73.451347</td>\n",
       "    </tr>\n",
       "    <tr>\n",
       "      <th>10</th>\n",
       "      <td>8</td>\n",
       "      <td>10</td>\n",
       "      <td>-75.968129</td>\n",
       "    </tr>\n",
       "    <tr>\n",
       "      <th>11</th>\n",
       "      <td>8</td>\n",
       "      <td>15</td>\n",
       "      <td>-77.328166</td>\n",
       "    </tr>\n",
       "  </tbody>\n",
       "</table>\n",
       "</div>"
      ],
      "text/plain": [
       "   max features min node size       RMSE\n",
       "0             2             5 -78.115617\n",
       "1             2            10 -80.533141\n",
       "2             2            15 -81.637390\n",
       "3             4             5 -75.077877\n",
       "4             4            10 -77.612187\n",
       "5             4            15 -78.763932\n",
       "6             6             5 -74.164779\n",
       "7             6            10 -76.655857\n",
       "8             6            15 -78.030537\n",
       "9             8             5 -73.451347\n",
       "10            8            10 -75.968129\n",
       "11            8            15 -77.328166"
      ]
     },
     "execution_count": 71,
     "metadata": {},
     "output_type": "execute_result"
    }
   ],
   "source": [
    "df_rf_model_cv_results.columns = ['max features', 'min node size', 'RMSE']\n",
    "df_rf_model_cv_results"
   ]
  },
  {
   "cell_type": "code",
   "execution_count": 72,
   "id": "fb7bf625",
   "metadata": {},
   "outputs": [
    {
     "data": {
      "text/html": [
       "<div>\n",
       "<style scoped>\n",
       "    .dataframe tbody tr th:only-of-type {\n",
       "        vertical-align: middle;\n",
       "    }\n",
       "\n",
       "    .dataframe tbody tr th {\n",
       "        vertical-align: top;\n",
       "    }\n",
       "\n",
       "    .dataframe thead th {\n",
       "        text-align: right;\n",
       "    }\n",
       "</style>\n",
       "<table border=\"1\" class=\"dataframe\">\n",
       "  <thead>\n",
       "    <tr style=\"text-align: right;\">\n",
       "      <th>min node size</th>\n",
       "      <th>5</th>\n",
       "      <th>10</th>\n",
       "      <th>15</th>\n",
       "    </tr>\n",
       "    <tr>\n",
       "      <th>max features</th>\n",
       "      <th></th>\n",
       "      <th></th>\n",
       "      <th></th>\n",
       "    </tr>\n",
       "  </thead>\n",
       "  <tbody>\n",
       "    <tr>\n",
       "      <th>2</th>\n",
       "      <td>78.12</td>\n",
       "      <td>80.53</td>\n",
       "      <td>81.64</td>\n",
       "    </tr>\n",
       "    <tr>\n",
       "      <th>4</th>\n",
       "      <td>75.08</td>\n",
       "      <td>77.61</td>\n",
       "      <td>78.76</td>\n",
       "    </tr>\n",
       "    <tr>\n",
       "      <th>6</th>\n",
       "      <td>74.16</td>\n",
       "      <td>76.66</td>\n",
       "      <td>78.03</td>\n",
       "    </tr>\n",
       "    <tr>\n",
       "      <th>8</th>\n",
       "      <td>73.45</td>\n",
       "      <td>75.97</td>\n",
       "      <td>77.33</td>\n",
       "    </tr>\n",
       "  </tbody>\n",
       "</table>\n",
       "</div>"
      ],
      "text/plain": [
       "min node size     5      10     15\n",
       "max features                      \n",
       "2              78.12  80.53  81.64\n",
       "4              75.08  77.61  78.76\n",
       "6              74.16  76.66  78.03\n",
       "8              73.45  75.97  77.33"
      ]
     },
     "execution_count": 72,
     "metadata": {},
     "output_type": "execute_result"
    }
   ],
   "source": [
    "df_rf_model_cv_results.pivot(\n",
    "    index = 'max features', \n",
    "    columns = 'min node size', \n",
    "    values = 'RMSE').round(2)*-1\n"
   ]
  },
  {
   "cell_type": "code",
   "execution_count": 73,
   "id": "806b8456",
   "metadata": {},
   "outputs": [
    {
     "data": {
      "text/plain": [
       "-73.45134745560705"
      ]
     },
     "execution_count": 73,
     "metadata": {},
     "output_type": "execute_result"
    }
   ],
   "source": [
    "rf_model.best_score_"
   ]
  },
  {
   "cell_type": "code",
   "execution_count": 74,
   "id": "5654b6fd",
   "metadata": {},
   "outputs": [
    {
     "data": {
      "text/html": [
       "<style>#sk-container-id-3 {color: black;background-color: white;}#sk-container-id-3 pre{padding: 0;}#sk-container-id-3 div.sk-toggleable {background-color: white;}#sk-container-id-3 label.sk-toggleable__label {cursor: pointer;display: block;width: 100%;margin-bottom: 0;padding: 0.3em;box-sizing: border-box;text-align: center;}#sk-container-id-3 label.sk-toggleable__label-arrow:before {content: \"▸\";float: left;margin-right: 0.25em;color: #696969;}#sk-container-id-3 label.sk-toggleable__label-arrow:hover:before {color: black;}#sk-container-id-3 div.sk-estimator:hover label.sk-toggleable__label-arrow:before {color: black;}#sk-container-id-3 div.sk-toggleable__content {max-height: 0;max-width: 0;overflow: hidden;text-align: left;background-color: #f0f8ff;}#sk-container-id-3 div.sk-toggleable__content pre {margin: 0.2em;color: black;border-radius: 0.25em;background-color: #f0f8ff;}#sk-container-id-3 input.sk-toggleable__control:checked~div.sk-toggleable__content {max-height: 200px;max-width: 100%;overflow: auto;}#sk-container-id-3 input.sk-toggleable__control:checked~label.sk-toggleable__label-arrow:before {content: \"▾\";}#sk-container-id-3 div.sk-estimator input.sk-toggleable__control:checked~label.sk-toggleable__label {background-color: #d4ebff;}#sk-container-id-3 div.sk-label input.sk-toggleable__control:checked~label.sk-toggleable__label {background-color: #d4ebff;}#sk-container-id-3 input.sk-hidden--visually {border: 0;clip: rect(1px 1px 1px 1px);clip: rect(1px, 1px, 1px, 1px);height: 1px;margin: -1px;overflow: hidden;padding: 0;position: absolute;width: 1px;}#sk-container-id-3 div.sk-estimator {font-family: monospace;background-color: #f0f8ff;border: 1px dotted black;border-radius: 0.25em;box-sizing: border-box;margin-bottom: 0.5em;}#sk-container-id-3 div.sk-estimator:hover {background-color: #d4ebff;}#sk-container-id-3 div.sk-parallel-item::after {content: \"\";width: 100%;border-bottom: 1px solid gray;flex-grow: 1;}#sk-container-id-3 div.sk-label:hover label.sk-toggleable__label {background-color: #d4ebff;}#sk-container-id-3 div.sk-serial::before {content: \"\";position: absolute;border-left: 1px solid gray;box-sizing: border-box;top: 0;bottom: 0;left: 50%;z-index: 0;}#sk-container-id-3 div.sk-serial {display: flex;flex-direction: column;align-items: center;background-color: white;padding-right: 0.2em;padding-left: 0.2em;position: relative;}#sk-container-id-3 div.sk-item {position: relative;z-index: 1;}#sk-container-id-3 div.sk-parallel {display: flex;align-items: stretch;justify-content: center;background-color: white;position: relative;}#sk-container-id-3 div.sk-item::before, #sk-container-id-3 div.sk-parallel-item::before {content: \"\";position: absolute;border-left: 1px solid gray;box-sizing: border-box;top: 0;bottom: 0;left: 50%;z-index: -1;}#sk-container-id-3 div.sk-parallel-item {display: flex;flex-direction: column;z-index: 1;position: relative;background-color: white;}#sk-container-id-3 div.sk-parallel-item:first-child::after {align-self: flex-end;width: 50%;}#sk-container-id-3 div.sk-parallel-item:last-child::after {align-self: flex-start;width: 50%;}#sk-container-id-3 div.sk-parallel-item:only-child::after {width: 0;}#sk-container-id-3 div.sk-dashed-wrapped {border: 1px dashed gray;margin: 0 0.4em 0.5em 0.4em;box-sizing: border-box;padding-bottom: 0.4em;background-color: white;}#sk-container-id-3 div.sk-label label {font-family: monospace;font-weight: bold;display: inline-block;line-height: 1.2em;}#sk-container-id-3 div.sk-label-container {text-align: center;}#sk-container-id-3 div.sk-container {/* jupyter's `normalize.less` sets `[hidden] { display: none; }` but bootstrap.min.css set `[hidden] { display: none !important; }` so we also need the `!important` here to be able to override the default hidden behavior on the sphinx rendered scikit-learn.org. See: https://github.com/scikit-learn/scikit-learn/issues/21755 */display: inline-block !important;position: relative;}#sk-container-id-3 div.sk-text-repr-fallback {display: none;}</style><div id=\"sk-container-id-3\" class=\"sk-top-container\"><div class=\"sk-text-repr-fallback\"><pre>RandomForestRegressor(max_features=8, min_samples_leaf=5, random_state=20020203)</pre><b>In a Jupyter environment, please rerun this cell to show the HTML representation or trust the notebook. <br />On GitHub, the HTML representation is unable to render, please try loading this page with nbviewer.org.</b></div><div class=\"sk-container\" hidden><div class=\"sk-item\"><div class=\"sk-estimator sk-toggleable\"><input class=\"sk-toggleable__control sk-hidden--visually\" id=\"sk-estimator-id-5\" type=\"checkbox\" checked><label for=\"sk-estimator-id-5\" class=\"sk-toggleable__label sk-toggleable__label-arrow\">RandomForestRegressor</label><div class=\"sk-toggleable__content\"><pre>RandomForestRegressor(max_features=8, min_samples_leaf=5, random_state=20020203)</pre></div></div></div></div></div>"
      ],
      "text/plain": [
       "RandomForestRegressor(max_features=8, min_samples_leaf=5, random_state=20020203)"
      ]
     },
     "execution_count": 74,
     "metadata": {},
     "output_type": "execute_result"
    }
   ],
   "source": [
    "rf_model.best_estimator_"
   ]
  },
  {
   "cell_type": "code",
   "execution_count": 75,
   "id": "10a5d3cd",
   "metadata": {},
   "outputs": [],
   "source": [
    "y_h, X_h = dmatrices(\"price ~ \" + \" + \".join(predictors), data_holdout)\n",
    "pred = rf_model.predict(X_h)"
   ]
  },
  {
   "cell_type": "code",
   "execution_count": 76,
   "id": "e56208d6",
   "metadata": {},
   "outputs": [
    {
     "data": {
      "text/plain": [
       "70.14278716319107"
      ]
     },
     "execution_count": 76,
     "metadata": {},
     "output_type": "execute_result"
    }
   ],
   "source": [
    "rf_rmse = mean_squared_error(y_h, pred, squared= False)\n",
    "rf_rmse"
   ]
  },
  {
   "cell_type": "code",
   "execution_count": 77,
   "id": "359d0b6c",
   "metadata": {},
   "outputs": [],
   "source": [
    "df_var_imp = pd.DataFrame(\n",
    "    rf_model.best_estimator_.feature_importances_, \n",
    "    X.design_info.column_names)\\\n",
    "    .reset_index()\\\n",
    "    .rename({\"index\": \"variable\", 0: \"imp\"}, axis=1)\\\n",
    "    .sort_values(by=[\"imp\"], ascending=False)\\\n",
    "    .reset_index(drop = True)\n",
    "\n",
    "df_var_imp['cumulative_imp'] = df_var_imp['imp'].cumsum()"
   ]
  },
  {
   "cell_type": "code",
   "execution_count": 78,
   "id": "39c328f7",
   "metadata": {},
   "outputs": [
    {
     "data": {
      "text/html": [
       "<style type=\"text/css\">\n",
       "</style>\n",
       "<table id=\"T_9e5a2\">\n",
       "  <thead>\n",
       "    <tr>\n",
       "      <th class=\"blank level0\" >&nbsp;</th>\n",
       "      <th id=\"T_9e5a2_level0_col0\" class=\"col_heading level0 col0\" >variable</th>\n",
       "      <th id=\"T_9e5a2_level0_col1\" class=\"col_heading level0 col1\" >imp</th>\n",
       "      <th id=\"T_9e5a2_level0_col2\" class=\"col_heading level0 col2\" >cumulative_imp</th>\n",
       "    </tr>\n",
       "  </thead>\n",
       "  <tbody>\n",
       "    <tr>\n",
       "      <th id=\"T_9e5a2_level0_row0\" class=\"row_heading level0 row0\" >0</th>\n",
       "      <td id=\"T_9e5a2_row0_col0\" class=\"data row0 col0\" >n_accommodates</td>\n",
       "      <td id=\"T_9e5a2_row0_col1\" class=\"data row0 col1\" >12.1%</td>\n",
       "      <td id=\"T_9e5a2_row0_col2\" class=\"data row0 col2\" >12.1%</td>\n",
       "    </tr>\n",
       "    <tr>\n",
       "      <th id=\"T_9e5a2_level0_row1\" class=\"row_heading level0 row1\" >1</th>\n",
       "      <td id=\"T_9e5a2_row1_col0\" class=\"data row1 col0\" >n_accommodates2</td>\n",
       "      <td id=\"T_9e5a2_row1_col1\" class=\"data row1 col1\" >10.7%</td>\n",
       "      <td id=\"T_9e5a2_row1_col2\" class=\"data row1 col2\" >22.7%</td>\n",
       "    </tr>\n",
       "    <tr>\n",
       "      <th id=\"T_9e5a2_level0_row2\" class=\"row_heading level0 row2\" >2</th>\n",
       "      <td id=\"T_9e5a2_row2_col0\" class=\"data row2 col0\" >distance</td>\n",
       "      <td id=\"T_9e5a2_row2_col1\" class=\"data row2 col1\" >8.6%</td>\n",
       "      <td id=\"T_9e5a2_row2_col2\" class=\"data row2 col2\" >31.3%</td>\n",
       "    </tr>\n",
       "    <tr>\n",
       "      <th id=\"T_9e5a2_level0_row3\" class=\"row_heading level0 row3\" >3</th>\n",
       "      <td id=\"T_9e5a2_row3_col0\" class=\"data row3 col0\" >room_type[T.Private room]</td>\n",
       "      <td id=\"T_9e5a2_row3_col1\" class=\"data row3 col1\" >7.0%</td>\n",
       "      <td id=\"T_9e5a2_row3_col2\" class=\"data row3 col2\" >38.3%</td>\n",
       "    </tr>\n",
       "    <tr>\n",
       "      <th id=\"T_9e5a2_level0_row4\" class=\"row_heading level0 row4\" >4</th>\n",
       "      <td id=\"T_9e5a2_row4_col0\" class=\"data row4 col0\" >host_acceptance_rate</td>\n",
       "      <td id=\"T_9e5a2_row4_col1\" class=\"data row4 col1\" >6.7%</td>\n",
       "      <td id=\"T_9e5a2_row4_col2\" class=\"data row4 col2\" >45.0%</td>\n",
       "    </tr>\n",
       "    <tr>\n",
       "      <th id=\"T_9e5a2_level0_row5\" class=\"row_heading level0 row5\" >5</th>\n",
       "      <td id=\"T_9e5a2_row5_col0\" class=\"data row5 col0\" >n_beds</td>\n",
       "      <td id=\"T_9e5a2_row5_col1\" class=\"data row5 col1\" >6.6%</td>\n",
       "      <td id=\"T_9e5a2_row5_col2\" class=\"data row5 col2\" >51.7%</td>\n",
       "    </tr>\n",
       "    <tr>\n",
       "      <th id=\"T_9e5a2_level0_row6\" class=\"row_heading level0 row6\" >6</th>\n",
       "      <td id=\"T_9e5a2_row6_col0\" class=\"data row6 col0\" >f_bathroom</td>\n",
       "      <td id=\"T_9e5a2_row6_col1\" class=\"data row6 col1\" >6.2%</td>\n",
       "      <td id=\"T_9e5a2_row6_col2\" class=\"data row6 col2\" >57.8%</td>\n",
       "    </tr>\n",
       "    <tr>\n",
       "      <th id=\"T_9e5a2_level0_row7\" class=\"row_heading level0 row7\" >7</th>\n",
       "      <td id=\"T_9e5a2_row7_col0\" class=\"data row7 col0\" >maximum_nights</td>\n",
       "      <td id=\"T_9e5a2_row7_col1\" class=\"data row7 col1\" >5.1%</td>\n",
       "      <td id=\"T_9e5a2_row7_col2\" class=\"data row7 col2\" >62.9%</td>\n",
       "    </tr>\n",
       "    <tr>\n",
       "      <th id=\"T_9e5a2_level0_row8\" class=\"row_heading level0 row8\" >8</th>\n",
       "      <td id=\"T_9e5a2_row8_col0\" class=\"data row8 col0\" >n_review_scores_rating</td>\n",
       "      <td id=\"T_9e5a2_row8_col1\" class=\"data row8 col1\" >4.8%</td>\n",
       "      <td id=\"T_9e5a2_row8_col2\" class=\"data row8 col2\" >67.7%</td>\n",
       "    </tr>\n",
       "    <tr>\n",
       "      <th id=\"T_9e5a2_level0_row9\" class=\"row_heading level0 row9\" >9</th>\n",
       "      <td id=\"T_9e5a2_row9_col0\" class=\"data row9 col0\" >n_minimum_nights</td>\n",
       "      <td id=\"T_9e5a2_row9_col1\" class=\"data row9 col1\" >4.4%</td>\n",
       "      <td id=\"T_9e5a2_row9_col2\" class=\"data row9 col2\" >72.1%</td>\n",
       "    </tr>\n",
       "    <tr>\n",
       "      <th id=\"T_9e5a2_level0_row10\" class=\"row_heading level0 row10\" >10</th>\n",
       "      <td id=\"T_9e5a2_row10_col0\" class=\"data row10 col0\" >n_days_since2</td>\n",
       "      <td id=\"T_9e5a2_row10_col1\" class=\"data row10 col1\" >3.5%</td>\n",
       "      <td id=\"T_9e5a2_row10_col2\" class=\"data row10 col2\" >75.5%</td>\n",
       "    </tr>\n",
       "    <tr>\n",
       "      <th id=\"T_9e5a2_level0_row11\" class=\"row_heading level0 row11\" >11</th>\n",
       "      <td id=\"T_9e5a2_row11_col0\" class=\"data row11 col0\" >n_days_since3</td>\n",
       "      <td id=\"T_9e5a2_row11_col1\" class=\"data row11 col1\" >3.4%</td>\n",
       "      <td id=\"T_9e5a2_row11_col2\" class=\"data row11 col2\" >78.9%</td>\n",
       "    </tr>\n",
       "    <tr>\n",
       "      <th id=\"T_9e5a2_level0_row12\" class=\"row_heading level0 row12\" >12</th>\n",
       "      <td id=\"T_9e5a2_row12_col0\" class=\"data row12 col0\" >n_days_since</td>\n",
       "      <td id=\"T_9e5a2_row12_col1\" class=\"data row12 col1\" >3.2%</td>\n",
       "      <td id=\"T_9e5a2_row12_col2\" class=\"data row12 col2\" >82.2%</td>\n",
       "    </tr>\n",
       "    <tr>\n",
       "      <th id=\"T_9e5a2_level0_row13\" class=\"row_heading level0 row13\" >13</th>\n",
       "      <td id=\"T_9e5a2_row13_col0\" class=\"data row13 col0\" >f_number_of_reviews</td>\n",
       "      <td id=\"T_9e5a2_row13_col1\" class=\"data row13 col1\" >1.8%</td>\n",
       "      <td id=\"T_9e5a2_row13_col2\" class=\"data row13 col2\" >83.9%</td>\n",
       "    </tr>\n",
       "    <tr>\n",
       "      <th id=\"T_9e5a2_level0_row14\" class=\"row_heading level0 row14\" >14</th>\n",
       "      <td id=\"T_9e5a2_row14_col0\" class=\"data row14 col0\" >Kitchen</td>\n",
       "      <td id=\"T_9e5a2_row14_col1\" class=\"data row14 col1\" >1.6%</td>\n",
       "      <td id=\"T_9e5a2_row14_col2\" class=\"data row14 col2\" >85.5%</td>\n",
       "    </tr>\n",
       "    <tr>\n",
       "      <th id=\"T_9e5a2_level0_row15\" class=\"row_heading level0 row15\" >15</th>\n",
       "      <td id=\"T_9e5a2_row15_col0\" class=\"data row15 col0\" >Family</td>\n",
       "      <td id=\"T_9e5a2_row15_col1\" class=\"data row15 col1\" >1.5%</td>\n",
       "      <td id=\"T_9e5a2_row15_col2\" class=\"data row15 col2\" >87.0%</td>\n",
       "    </tr>\n",
       "    <tr>\n",
       "      <th id=\"T_9e5a2_level0_row16\" class=\"row_heading level0 row16\" >16</th>\n",
       "      <td id=\"T_9e5a2_row16_col0\" class=\"data row16 col0\" >Entertainment</td>\n",
       "      <td id=\"T_9e5a2_row16_col1\" class=\"data row16 col1\" >1.5%</td>\n",
       "      <td id=\"T_9e5a2_row16_col2\" class=\"data row16 col2\" >88.5%</td>\n",
       "    </tr>\n",
       "    <tr>\n",
       "      <th id=\"T_9e5a2_level0_row17\" class=\"row_heading level0 row17\" >17</th>\n",
       "      <td id=\"T_9e5a2_row17_col0\" class=\"data row17 col0\" >Workspace</td>\n",
       "      <td id=\"T_9e5a2_row17_col1\" class=\"data row17 col1\" >1.3%</td>\n",
       "      <td id=\"T_9e5a2_row17_col2\" class=\"data row17 col2\" >89.8%</td>\n",
       "    </tr>\n",
       "    <tr>\n",
       "      <th id=\"T_9e5a2_level0_row18\" class=\"row_heading level0 row18\" >18</th>\n",
       "      <td id=\"T_9e5a2_row18_col0\" class=\"data row18 col0\" >host_is_superhost[T.t]</td>\n",
       "      <td id=\"T_9e5a2_row18_col1\" class=\"data row18 col1\" >1.3%</td>\n",
       "      <td id=\"T_9e5a2_row18_col2\" class=\"data row18 col2\" >91.2%</td>\n",
       "    </tr>\n",
       "    <tr>\n",
       "      <th id=\"T_9e5a2_level0_row19\" class=\"row_heading level0 row19\" >19</th>\n",
       "      <td id=\"T_9e5a2_row19_col0\" class=\"data row19 col0\" >Parking</td>\n",
       "      <td id=\"T_9e5a2_row19_col1\" class=\"data row19 col1\" >1.2%</td>\n",
       "      <td id=\"T_9e5a2_row19_col2\" class=\"data row19 col2\" >92.4%</td>\n",
       "    </tr>\n",
       "    <tr>\n",
       "      <th id=\"T_9e5a2_level0_row20\" class=\"row_heading level0 row20\" >20</th>\n",
       "      <td id=\"T_9e5a2_row20_col0\" class=\"data row20 col0\" >flag_days_since</td>\n",
       "      <td id=\"T_9e5a2_row20_col1\" class=\"data row20 col1\" >1.1%</td>\n",
       "      <td id=\"T_9e5a2_row20_col2\" class=\"data row20 col2\" >93.4%</td>\n",
       "    </tr>\n",
       "    <tr>\n",
       "      <th id=\"T_9e5a2_level0_row21\" class=\"row_heading level0 row21\" >21</th>\n",
       "      <td id=\"T_9e5a2_row21_col0\" class=\"data row21 col0\" >host_is_superhost[T.f]</td>\n",
       "      <td id=\"T_9e5a2_row21_col1\" class=\"data row21 col1\" >1.0%</td>\n",
       "      <td id=\"T_9e5a2_row21_col2\" class=\"data row21 col2\" >94.4%</td>\n",
       "    </tr>\n",
       "    <tr>\n",
       "      <th id=\"T_9e5a2_level0_row22\" class=\"row_heading level0 row22\" >22</th>\n",
       "      <td id=\"T_9e5a2_row22_col0\" class=\"data row22 col0\" >flag_review_scores_rating</td>\n",
       "      <td id=\"T_9e5a2_row22_col1\" class=\"data row22 col1\" >1.0%</td>\n",
       "      <td id=\"T_9e5a2_row22_col2\" class=\"data row22 col2\" >95.4%</td>\n",
       "    </tr>\n",
       "    <tr>\n",
       "      <th id=\"T_9e5a2_level0_row23\" class=\"row_heading level0 row23\" >23</th>\n",
       "      <td id=\"T_9e5a2_row23_col0\" class=\"data row23 col0\" >room_type[T.Hotel room]</td>\n",
       "      <td id=\"T_9e5a2_row23_col1\" class=\"data row23 col1\" >0.9%</td>\n",
       "      <td id=\"T_9e5a2_row23_col2\" class=\"data row23 col2\" >96.2%</td>\n",
       "    </tr>\n",
       "    <tr>\n",
       "      <th id=\"T_9e5a2_level0_row24\" class=\"row_heading level0 row24\" >24</th>\n",
       "      <td id=\"T_9e5a2_row24_col0\" class=\"data row24 col0\" >Essentials</td>\n",
       "      <td id=\"T_9e5a2_row24_col1\" class=\"data row24 col1\" >0.8%</td>\n",
       "      <td id=\"T_9e5a2_row24_col2\" class=\"data row24 col2\" >97.0%</td>\n",
       "    </tr>\n",
       "    <tr>\n",
       "      <th id=\"T_9e5a2_level0_row25\" class=\"row_heading level0 row25\" >25</th>\n",
       "      <td id=\"T_9e5a2_row25_col0\" class=\"data row25 col0\" >Outdoor</td>\n",
       "      <td id=\"T_9e5a2_row25_col1\" class=\"data row25 col1\" >0.7%</td>\n",
       "      <td id=\"T_9e5a2_row25_col2\" class=\"data row25 col2\" >97.8%</td>\n",
       "    </tr>\n",
       "    <tr>\n",
       "      <th id=\"T_9e5a2_level0_row26\" class=\"row_heading level0 row26\" >26</th>\n",
       "      <td id=\"T_9e5a2_row26_col0\" class=\"data row26 col0\" >Luxury</td>\n",
       "      <td id=\"T_9e5a2_row26_col1\" class=\"data row26 col1\" >0.6%</td>\n",
       "      <td id=\"T_9e5a2_row26_col2\" class=\"data row26 col2\" >98.4%</td>\n",
       "    </tr>\n",
       "    <tr>\n",
       "      <th id=\"T_9e5a2_level0_row27\" class=\"row_heading level0 row27\" >27</th>\n",
       "      <td id=\"T_9e5a2_row27_col0\" class=\"data row27 col0\" >room_type[T.Shared room]</td>\n",
       "      <td id=\"T_9e5a2_row27_col1\" class=\"data row27 col1\" >0.5%</td>\n",
       "      <td id=\"T_9e5a2_row27_col2\" class=\"data row27 col2\" >98.8%</td>\n",
       "    </tr>\n",
       "    <tr>\n",
       "      <th id=\"T_9e5a2_level0_row28\" class=\"row_heading level0 row28\" >28</th>\n",
       "      <td id=\"T_9e5a2_row28_col0\" class=\"data row28 col0\" >Heating_Cooling</td>\n",
       "      <td id=\"T_9e5a2_row28_col1\" class=\"data row28 col1\" >0.4%</td>\n",
       "      <td id=\"T_9e5a2_row28_col2\" class=\"data row28 col2\" >99.3%</td>\n",
       "    </tr>\n",
       "    <tr>\n",
       "      <th id=\"T_9e5a2_level0_row29\" class=\"row_heading level0 row29\" >29</th>\n",
       "      <td id=\"T_9e5a2_row29_col0\" class=\"data row29 col0\" >Laundry</td>\n",
       "      <td id=\"T_9e5a2_row29_col1\" class=\"data row29 col1\" >0.3%</td>\n",
       "      <td id=\"T_9e5a2_row29_col2\" class=\"data row29 col2\" >99.6%</td>\n",
       "    </tr>\n",
       "    <tr>\n",
       "      <th id=\"T_9e5a2_level0_row30\" class=\"row_heading level0 row30\" >30</th>\n",
       "      <td id=\"T_9e5a2_row30_col0\" class=\"data row30 col0\" >host_identity_verified[T.t]</td>\n",
       "      <td id=\"T_9e5a2_row30_col1\" class=\"data row30 col1\" >0.2%</td>\n",
       "      <td id=\"T_9e5a2_row30_col2\" class=\"data row30 col2\" >99.8%</td>\n",
       "    </tr>\n",
       "    <tr>\n",
       "      <th id=\"T_9e5a2_level0_row31\" class=\"row_heading level0 row31\" >31</th>\n",
       "      <td id=\"T_9e5a2_row31_col0\" class=\"data row31 col0\" >Internet</td>\n",
       "      <td id=\"T_9e5a2_row31_col1\" class=\"data row31 col1\" >0.1%</td>\n",
       "      <td id=\"T_9e5a2_row31_col2\" class=\"data row31 col2\" >99.9%</td>\n",
       "    </tr>\n",
       "    <tr>\n",
       "      <th id=\"T_9e5a2_level0_row32\" class=\"row_heading level0 row32\" >32</th>\n",
       "      <td id=\"T_9e5a2_row32_col0\" class=\"data row32 col0\" >host_has_profile_pic[T.t]</td>\n",
       "      <td id=\"T_9e5a2_row32_col1\" class=\"data row32 col1\" >0.1%</td>\n",
       "      <td id=\"T_9e5a2_row32_col2\" class=\"data row32 col2\" >100.0%</td>\n",
       "    </tr>\n",
       "    <tr>\n",
       "      <th id=\"T_9e5a2_level0_row33\" class=\"row_heading level0 row33\" >33</th>\n",
       "      <td id=\"T_9e5a2_row33_col0\" class=\"data row33 col0\" >Intercept</td>\n",
       "      <td id=\"T_9e5a2_row33_col1\" class=\"data row33 col1\" >0.0%</td>\n",
       "      <td id=\"T_9e5a2_row33_col2\" class=\"data row33 col2\" >100.0%</td>\n",
       "    </tr>\n",
       "  </tbody>\n",
       "</table>\n"
      ],
      "text/plain": [
       "<pandas.io.formats.style.Styler at 0x24b0be254b0>"
      ]
     },
     "execution_count": 78,
     "metadata": {},
     "output_type": "execute_result"
    }
   ],
   "source": [
    "df_var_imp.style.format({\n",
    "    'imp': lambda x: f'{x:,.1%}',\n",
    "    'cumulative_imp': lambda x: f'{x:,.1%}'})"
   ]
  },
  {
   "cell_type": "code",
   "execution_count": 79,
   "id": "0b3a3487",
   "metadata": {},
   "outputs": [],
   "source": [
    "%matplotlib inline"
   ]
  },
  {
   "cell_type": "code",
   "execution_count": 80,
   "id": "67906ca6",
   "metadata": {},
   "outputs": [
    {
     "data": {
      "image/png": "[encoded data removed]",
      "text/plain": [
       "<Figure size 1000x600 with 1 Axes>"
      ]
     },
     "metadata": {},
     "output_type": "display_data"
    }
   ],
   "source": [
    "ax = df_var_imp[df_var_imp.imp > 0.01]\\\n",
    "    .sort_values(by = 'imp')\\\n",
    "    .plot(kind = 'barh',\n",
    "          x = 'variable', \n",
    "          y = 'imp',\n",
    "          figsize = (10,6), \n",
    "          grid = True,\n",
    "          title = 'Random forest model highest feature importances',\n",
    "          xlabel = 'variables', \n",
    "          legend = False)\n",
    "\n",
    "ax.xaxis.set_major_formatter(mtick.PercentFormatter(xmax=1))"
   ]
  },
  {
   "cell_type": "markdown",
   "id": "e6c501fd",
   "metadata": {},
   "source": [
    "# Boosting with GBM"
   ]
  },
  {
   "cell_type": "code",
   "execution_count": 81,
   "id": "6b05c981",
   "metadata": {},
   "outputs": [],
   "source": [
    "numerical_columns = ['n_accommodates', 'n_accommodates2', 'distance',\n",
    "                    'n_minimum_nights', 'host_acceptance_rate', 'n_review_scores_rating',\n",
    "                    'n_beds', 'n_days_since3', 'n_days_since2', 'n_days_since', 'maximum_nights']\n",
    "categorical_columns = [col for col in predictors if col not in numerical_columns]"
   ]
  },
  {
   "cell_type": "code",
   "execution_count": 82,
   "id": "538e9306",
   "metadata": {},
   "outputs": [
    {
     "data": {
      "text/plain": [
       "['room_type',\n",
       " 'flag_days_since',\n",
       " 'f_bathroom',\n",
       " 'f_number_of_reviews',\n",
       " 'flag_review_scores_rating',\n",
       " 'host_is_superhost',\n",
       " 'host_has_profile_pic',\n",
       " 'host_identity_verified',\n",
       " 'Laundry',\n",
       " 'Essentials',\n",
       " 'Heating_Cooling',\n",
       " 'Kitchen',\n",
       " 'Outdoor',\n",
       " 'Workspace',\n",
       " 'Entertainment',\n",
       " 'Luxury',\n",
       " 'Internet',\n",
       " 'Parking',\n",
       " 'Family']"
      ]
     },
     "execution_count": 82,
     "metadata": {},
     "output_type": "execute_result"
    }
   ],
   "source": [
    "categorical_columns"
   ]
  },
  {
   "cell_type": "code",
   "execution_count": 83,
   "id": "32be66e9",
   "metadata": {},
   "outputs": [],
   "source": [
    "gbm = GradientBoostingRegressor(learning_rate=0.1, min_samples_split=20, max_features = 10)\n",
    "\n",
    "tune_grid = {\"n_estimators\": [30, 45], \"max_depth\": [5, 10]}\n",
    "\n",
    "gbm_model_cv = GridSearchCV(\n",
    "    gbm,\n",
    "    tune_grid,\n",
    "    cv=5,\n",
    "    scoring=\"neg_root_mean_squared_error\",\n",
    "    verbose=10,\n",
    "    n_jobs=-1\n",
    ")"
   ]
  },
  {
   "cell_type": "code",
   "execution_count": 84,
   "id": "397c03bb",
   "metadata": {},
   "outputs": [],
   "source": [
    "categorical_encoder = OneHotEncoder(handle_unknown=\"ignore\")"
   ]
  },
  {
   "cell_type": "code",
   "execution_count": 85,
   "id": "2ac5807f",
   "metadata": {},
   "outputs": [],
   "source": [
    "preprocessing = ColumnTransformer(\n",
    "    [\n",
    "        (\"cat\", categorical_encoder, categorical_columns),\n",
    "        (\"num\", \"passthrough\", numerical_columns),\n",
    "    ]\n",
    ")\n",
    "\n",
    "gbm_pipe = Pipeline(\n",
    "    [(\"preprocess\", preprocessing), (\"regressor\", gbm_model_cv)], verbose=True\n",
    ")"
   ]
  },
  {
   "cell_type": "code",
   "execution_count": 86,
   "id": "ddb47c1d",
   "metadata": {},
   "outputs": [],
   "source": [
    "predictors = list(predictors)\n"
   ]
  },
  {
   "cell_type": "code",
   "execution_count": 87,
   "id": "ddedcdce",
   "metadata": {},
   "outputs": [
    {
     "name": "stdout",
     "output_type": "stream",
     "text": [
      "CPU times: total: 0 ns\n",
      "Wall time: 0 ns\n",
      "[Pipeline] ........ (step 1 of 2) Processing preprocess, total=   0.1s\n",
      "Fitting 5 folds for each of 4 candidates, totalling 20 fits\n",
      "[Pipeline] ......... (step 2 of 2) Processing regressor, total=  16.7s\n"
     ]
    },
    {
     "data": {
      "text/html": [
       "<style>#sk-container-id-4 {color: black;background-color: white;}#sk-container-id-4 pre{padding: 0;}#sk-container-id-4 div.sk-toggleable {background-color: white;}#sk-container-id-4 label.sk-toggleable__label {cursor: pointer;display: block;width: 100%;margin-bottom: 0;padding: 0.3em;box-sizing: border-box;text-align: center;}#sk-container-id-4 label.sk-toggleable__label-arrow:before {content: \"▸\";float: left;margin-right: 0.25em;color: #696969;}#sk-container-id-4 label.sk-toggleable__label-arrow:hover:before {color: black;}#sk-container-id-4 div.sk-estimator:hover label.sk-toggleable__label-arrow:before {color: black;}#sk-container-id-4 div.sk-toggleable__content {max-height: 0;max-width: 0;overflow: hidden;text-align: left;background-color: #f0f8ff;}#sk-container-id-4 div.sk-toggleable__content pre {margin: 0.2em;color: black;border-radius: 0.25em;background-color: #f0f8ff;}#sk-container-id-4 input.sk-toggleable__control:checked~div.sk-toggleable__content {max-height: 200px;max-width: 100%;overflow: auto;}#sk-container-id-4 input.sk-toggleable__control:checked~label.sk-toggleable__label-arrow:before {content: \"▾\";}#sk-container-id-4 div.sk-estimator input.sk-toggleable__control:checked~label.sk-toggleable__label {background-color: #d4ebff;}#sk-container-id-4 div.sk-label input.sk-toggleable__control:checked~label.sk-toggleable__label {background-color: #d4ebff;}#sk-container-id-4 input.sk-hidden--visually {border: 0;clip: rect(1px 1px 1px 1px);clip: rect(1px, 1px, 1px, 1px);height: 1px;margin: -1px;overflow: hidden;padding: 0;position: absolute;width: 1px;}#sk-container-id-4 div.sk-estimator {font-family: monospace;background-color: #f0f8ff;border: 1px dotted black;border-radius: 0.25em;box-sizing: border-box;margin-bottom: 0.5em;}#sk-container-id-4 div.sk-estimator:hover {background-color: #d4ebff;}#sk-container-id-4 div.sk-parallel-item::after {content: \"\";width: 100%;border-bottom: 1px solid gray;flex-grow: 1;}#sk-container-id-4 div.sk-label:hover label.sk-toggleable__label {background-color: #d4ebff;}#sk-container-id-4 div.sk-serial::before {content: \"\";position: absolute;border-left: 1px solid gray;box-sizing: border-box;top: 0;bottom: 0;left: 50%;z-index: 0;}#sk-container-id-4 div.sk-serial {display: flex;flex-direction: column;align-items: center;background-color: white;padding-right: 0.2em;padding-left: 0.2em;position: relative;}#sk-container-id-4 div.sk-item {position: relative;z-index: 1;}#sk-container-id-4 div.sk-parallel {display: flex;align-items: stretch;justify-content: center;background-color: white;position: relative;}#sk-container-id-4 div.sk-item::before, #sk-container-id-4 div.sk-parallel-item::before {content: \"\";position: absolute;border-left: 1px solid gray;box-sizing: border-box;top: 0;bottom: 0;left: 50%;z-index: -1;}#sk-container-id-4 div.sk-parallel-item {display: flex;flex-direction: column;z-index: 1;position: relative;background-color: white;}#sk-container-id-4 div.sk-parallel-item:first-child::after {align-self: flex-end;width: 50%;}#sk-container-id-4 div.sk-parallel-item:last-child::after {align-self: flex-start;width: 50%;}#sk-container-id-4 div.sk-parallel-item:only-child::after {width: 0;}#sk-container-id-4 div.sk-dashed-wrapped {border: 1px dashed gray;margin: 0 0.4em 0.5em 0.4em;box-sizing: border-box;padding-bottom: 0.4em;background-color: white;}#sk-container-id-4 div.sk-label label {font-family: monospace;font-weight: bold;display: inline-block;line-height: 1.2em;}#sk-container-id-4 div.sk-label-container {text-align: center;}#sk-container-id-4 div.sk-container {/* jupyter's `normalize.less` sets `[hidden] { display: none; }` but bootstrap.min.css set `[hidden] { display: none !important; }` so we also need the `!important` here to be able to override the default hidden behavior on the sphinx rendered scikit-learn.org. See: https://github.com/scikit-learn/scikit-learn/issues/21755 */display: inline-block !important;position: relative;}#sk-container-id-4 div.sk-text-repr-fallback {display: none;}</style><div id=\"sk-container-id-4\" class=\"sk-top-container\"><div class=\"sk-text-repr-fallback\"><pre>Pipeline(steps=[(&#x27;preprocess&#x27;,\n",
       "                 ColumnTransformer(transformers=[(&#x27;cat&#x27;,\n",
       "                                                  OneHotEncoder(handle_unknown=&#x27;ignore&#x27;),\n",
       "                                                  [&#x27;room_type&#x27;,\n",
       "                                                   &#x27;flag_days_since&#x27;,\n",
       "                                                   &#x27;f_bathroom&#x27;,\n",
       "                                                   &#x27;f_number_of_reviews&#x27;,\n",
       "                                                   &#x27;flag_review_scores_rating&#x27;,\n",
       "                                                   &#x27;host_is_superhost&#x27;,\n",
       "                                                   &#x27;host_has_profile_pic&#x27;,\n",
       "                                                   &#x27;host_identity_verified&#x27;,\n",
       "                                                   &#x27;Laundry&#x27;, &#x27;Essentials&#x27;,\n",
       "                                                   &#x27;Heating_Cooling&#x27;, &#x27;Kitchen&#x27;,\n",
       "                                                   &#x27;Outdoor&#x27;, &#x27;Workspace&#x27;,\n",
       "                                                   &#x27;Entert...\n",
       "                                                   &#x27;host_acceptance_rate&#x27;,\n",
       "                                                   &#x27;n_review_scores_rating&#x27;,\n",
       "                                                   &#x27;n_beds&#x27;, &#x27;n_days_since3&#x27;,\n",
       "                                                   &#x27;n_days_since2&#x27;,\n",
       "                                                   &#x27;n_days_since&#x27;,\n",
       "                                                   &#x27;maximum_nights&#x27;])])),\n",
       "                (&#x27;regressor&#x27;,\n",
       "                 GridSearchCV(cv=5,\n",
       "                              estimator=GradientBoostingRegressor(max_features=10,\n",
       "                                                                  min_samples_split=20),\n",
       "                              n_jobs=-1,\n",
       "                              param_grid={&#x27;max_depth&#x27;: [5, 10],\n",
       "                                          &#x27;n_estimators&#x27;: [30, 45]},\n",
       "                              scoring=&#x27;neg_root_mean_squared_error&#x27;,\n",
       "                              verbose=10))],\n",
       "         verbose=True)</pre><b>In a Jupyter environment, please rerun this cell to show the HTML representation or trust the notebook. <br />On GitHub, the HTML representation is unable to render, please try loading this page with nbviewer.org.</b></div><div class=\"sk-container\" hidden><div class=\"sk-item sk-dashed-wrapped\"><div class=\"sk-label-container\"><div class=\"sk-label sk-toggleable\"><input class=\"sk-toggleable__control sk-hidden--visually\" id=\"sk-estimator-id-6\" type=\"checkbox\" ><label for=\"sk-estimator-id-6\" class=\"sk-toggleable__label sk-toggleable__label-arrow\">Pipeline</label><div class=\"sk-toggleable__content\"><pre>Pipeline(steps=[(&#x27;preprocess&#x27;,\n",
       "                 ColumnTransformer(transformers=[(&#x27;cat&#x27;,\n",
       "                                                  OneHotEncoder(handle_unknown=&#x27;ignore&#x27;),\n",
       "                                                  [&#x27;room_type&#x27;,\n",
       "                                                   &#x27;flag_days_since&#x27;,\n",
       "                                                   &#x27;f_bathroom&#x27;,\n",
       "                                                   &#x27;f_number_of_reviews&#x27;,\n",
       "                                                   &#x27;flag_review_scores_rating&#x27;,\n",
       "                                                   &#x27;host_is_superhost&#x27;,\n",
       "                                                   &#x27;host_has_profile_pic&#x27;,\n",
       "                                                   &#x27;host_identity_verified&#x27;,\n",
       "                                                   &#x27;Laundry&#x27;, &#x27;Essentials&#x27;,\n",
       "                                                   &#x27;Heating_Cooling&#x27;, &#x27;Kitchen&#x27;,\n",
       "                                                   &#x27;Outdoor&#x27;, &#x27;Workspace&#x27;,\n",
       "                                                   &#x27;Entert...\n",
       "                                                   &#x27;host_acceptance_rate&#x27;,\n",
       "                                                   &#x27;n_review_scores_rating&#x27;,\n",
       "                                                   &#x27;n_beds&#x27;, &#x27;n_days_since3&#x27;,\n",
       "                                                   &#x27;n_days_since2&#x27;,\n",
       "                                                   &#x27;n_days_since&#x27;,\n",
       "                                                   &#x27;maximum_nights&#x27;])])),\n",
       "                (&#x27;regressor&#x27;,\n",
       "                 GridSearchCV(cv=5,\n",
       "                              estimator=GradientBoostingRegressor(max_features=10,\n",
       "                                                                  min_samples_split=20),\n",
       "                              n_jobs=-1,\n",
       "                              param_grid={&#x27;max_depth&#x27;: [5, 10],\n",
       "                                          &#x27;n_estimators&#x27;: [30, 45]},\n",
       "                              scoring=&#x27;neg_root_mean_squared_error&#x27;,\n",
       "                              verbose=10))],\n",
       "         verbose=True)</pre></div></div></div><div class=\"sk-serial\"><div class=\"sk-item sk-dashed-wrapped\"><div class=\"sk-label-container\"><div class=\"sk-label sk-toggleable\"><input class=\"sk-toggleable__control sk-hidden--visually\" id=\"sk-estimator-id-7\" type=\"checkbox\" ><label for=\"sk-estimator-id-7\" class=\"sk-toggleable__label sk-toggleable__label-arrow\">preprocess: ColumnTransformer</label><div class=\"sk-toggleable__content\"><pre>ColumnTransformer(transformers=[(&#x27;cat&#x27;, OneHotEncoder(handle_unknown=&#x27;ignore&#x27;),\n",
       "                                 [&#x27;room_type&#x27;, &#x27;flag_days_since&#x27;, &#x27;f_bathroom&#x27;,\n",
       "                                  &#x27;f_number_of_reviews&#x27;,\n",
       "                                  &#x27;flag_review_scores_rating&#x27;,\n",
       "                                  &#x27;host_is_superhost&#x27;, &#x27;host_has_profile_pic&#x27;,\n",
       "                                  &#x27;host_identity_verified&#x27;, &#x27;Laundry&#x27;,\n",
       "                                  &#x27;Essentials&#x27;, &#x27;Heating_Cooling&#x27;, &#x27;Kitchen&#x27;,\n",
       "                                  &#x27;Outdoor&#x27;, &#x27;Workspace&#x27;, &#x27;Entertainment&#x27;,\n",
       "                                  &#x27;Luxury&#x27;, &#x27;Internet&#x27;, &#x27;Parking&#x27;, &#x27;Family&#x27;]),\n",
       "                                (&#x27;num&#x27;, &#x27;passthrough&#x27;,\n",
       "                                 [&#x27;n_accommodates&#x27;, &#x27;n_accommodates2&#x27;,\n",
       "                                  &#x27;distance&#x27;, &#x27;n_minimum_nights&#x27;,\n",
       "                                  &#x27;host_acceptance_rate&#x27;,\n",
       "                                  &#x27;n_review_scores_rating&#x27;, &#x27;n_beds&#x27;,\n",
       "                                  &#x27;n_days_since3&#x27;, &#x27;n_days_since2&#x27;,\n",
       "                                  &#x27;n_days_since&#x27;, &#x27;maximum_nights&#x27;])])</pre></div></div></div><div class=\"sk-parallel\"><div class=\"sk-parallel-item\"><div class=\"sk-item\"><div class=\"sk-label-container\"><div class=\"sk-label sk-toggleable\"><input class=\"sk-toggleable__control sk-hidden--visually\" id=\"sk-estimator-id-8\" type=\"checkbox\" ><label for=\"sk-estimator-id-8\" class=\"sk-toggleable__label sk-toggleable__label-arrow\">cat</label><div class=\"sk-toggleable__content\"><pre>[&#x27;room_type&#x27;, &#x27;flag_days_since&#x27;, &#x27;f_bathroom&#x27;, &#x27;f_number_of_reviews&#x27;, &#x27;flag_review_scores_rating&#x27;, &#x27;host_is_superhost&#x27;, &#x27;host_has_profile_pic&#x27;, &#x27;host_identity_verified&#x27;, &#x27;Laundry&#x27;, &#x27;Essentials&#x27;, &#x27;Heating_Cooling&#x27;, &#x27;Kitchen&#x27;, &#x27;Outdoor&#x27;, &#x27;Workspace&#x27;, &#x27;Entertainment&#x27;, &#x27;Luxury&#x27;, &#x27;Internet&#x27;, &#x27;Parking&#x27;, &#x27;Family&#x27;]</pre></div></div></div><div class=\"sk-serial\"><div class=\"sk-item\"><div class=\"sk-estimator sk-toggleable\"><input class=\"sk-toggleable__control sk-hidden--visually\" id=\"sk-estimator-id-9\" type=\"checkbox\" ><label for=\"sk-estimator-id-9\" class=\"sk-toggleable__label sk-toggleable__label-arrow\">OneHotEncoder</label><div class=\"sk-toggleable__content\"><pre>OneHotEncoder(handle_unknown=&#x27;ignore&#x27;)</pre></div></div></div></div></div></div><div class=\"sk-parallel-item\"><div class=\"sk-item\"><div class=\"sk-label-container\"><div class=\"sk-label sk-toggleable\"><input class=\"sk-toggleable__control sk-hidden--visually\" id=\"sk-estimator-id-10\" type=\"checkbox\" ><label for=\"sk-estimator-id-10\" class=\"sk-toggleable__label sk-toggleable__label-arrow\">num</label><div class=\"sk-toggleable__content\"><pre>[&#x27;n_accommodates&#x27;, &#x27;n_accommodates2&#x27;, &#x27;distance&#x27;, &#x27;n_minimum_nights&#x27;, &#x27;host_acceptance_rate&#x27;, &#x27;n_review_scores_rating&#x27;, &#x27;n_beds&#x27;, &#x27;n_days_since3&#x27;, &#x27;n_days_since2&#x27;, &#x27;n_days_since&#x27;, &#x27;maximum_nights&#x27;]</pre></div></div></div><div class=\"sk-serial\"><div class=\"sk-item\"><div class=\"sk-estimator sk-toggleable\"><input class=\"sk-toggleable__control sk-hidden--visually\" id=\"sk-estimator-id-11\" type=\"checkbox\" ><label for=\"sk-estimator-id-11\" class=\"sk-toggleable__label sk-toggleable__label-arrow\">passthrough</label><div class=\"sk-toggleable__content\"><pre>passthrough</pre></div></div></div></div></div></div></div></div><div class=\"sk-item sk-dashed-wrapped\"><div class=\"sk-label-container\"><div class=\"sk-label sk-toggleable\"><input class=\"sk-toggleable__control sk-hidden--visually\" id=\"sk-estimator-id-12\" type=\"checkbox\" ><label for=\"sk-estimator-id-12\" class=\"sk-toggleable__label sk-toggleable__label-arrow\">regressor: GridSearchCV</label><div class=\"sk-toggleable__content\"><pre>GridSearchCV(cv=5,\n",
       "             estimator=GradientBoostingRegressor(max_features=10,\n",
       "                                                 min_samples_split=20),\n",
       "             n_jobs=-1,\n",
       "             param_grid={&#x27;max_depth&#x27;: [5, 10], &#x27;n_estimators&#x27;: [30, 45]},\n",
       "             scoring=&#x27;neg_root_mean_squared_error&#x27;, verbose=10)</pre></div></div></div><div class=\"sk-parallel\"><div class=\"sk-parallel-item\"><div class=\"sk-item\"><div class=\"sk-label-container\"><div class=\"sk-label sk-toggleable\"><input class=\"sk-toggleable__control sk-hidden--visually\" id=\"sk-estimator-id-13\" type=\"checkbox\" ><label for=\"sk-estimator-id-13\" class=\"sk-toggleable__label sk-toggleable__label-arrow\">estimator: GradientBoostingRegressor</label><div class=\"sk-toggleable__content\"><pre>GradientBoostingRegressor(max_features=10, min_samples_split=20)</pre></div></div></div><div class=\"sk-serial\"><div class=\"sk-item\"><div class=\"sk-estimator sk-toggleable\"><input class=\"sk-toggleable__control sk-hidden--visually\" id=\"sk-estimator-id-14\" type=\"checkbox\" ><label for=\"sk-estimator-id-14\" class=\"sk-toggleable__label sk-toggleable__label-arrow\">GradientBoostingRegressor</label><div class=\"sk-toggleable__content\"><pre>GradientBoostingRegressor(max_features=10, min_samples_split=20)</pre></div></div></div></div></div></div></div></div></div></div></div></div>"
      ],
      "text/plain": [
       "Pipeline(steps=[('preprocess',\n",
       "                 ColumnTransformer(transformers=[('cat',\n",
       "                                                  OneHotEncoder(handle_unknown='ignore'),\n",
       "                                                  ['room_type',\n",
       "                                                   'flag_days_since',\n",
       "                                                   'f_bathroom',\n",
       "                                                   'f_number_of_reviews',\n",
       "                                                   'flag_review_scores_rating',\n",
       "                                                   'host_is_superhost',\n",
       "                                                   'host_has_profile_pic',\n",
       "                                                   'host_identity_verified',\n",
       "                                                   'Laundry', 'Essentials',\n",
       "                                                   'Heating_Cooling', 'Kitchen',\n",
       "                                                   'Outdoor', 'Workspace',\n",
       "                                                   'Entert...\n",
       "                                                   'host_acceptance_rate',\n",
       "                                                   'n_review_scores_rating',\n",
       "                                                   'n_beds', 'n_days_since3',\n",
       "                                                   'n_days_since2',\n",
       "                                                   'n_days_since',\n",
       "                                                   'maximum_nights'])])),\n",
       "                ('regressor',\n",
       "                 GridSearchCV(cv=5,\n",
       "                              estimator=GradientBoostingRegressor(max_features=10,\n",
       "                                                                  min_samples_split=20),\n",
       "                              n_jobs=-1,\n",
       "                              param_grid={'max_depth': [5, 10],\n",
       "                                          'n_estimators': [30, 45]},\n",
       "                              scoring='neg_root_mean_squared_error',\n",
       "                              verbose=10))],\n",
       "         verbose=True)"
      ]
     },
     "execution_count": 87,
     "metadata": {},
     "output_type": "execute_result"
    }
   ],
   "source": [
    "%time\n",
    "gbm_pipe.fit(data_work[predictors],data_work.price)"
   ]
  },
  {
   "cell_type": "code",
   "execution_count": 88,
   "id": "a4b11afe",
   "metadata": {},
   "outputs": [
    {
     "data": {
      "text/plain": [
       "{'mean_fit_time': array([1.62261415, 2.38540912, 2.64413948, 3.01110983]),\n",
       " 'std_fit_time': array([0.173971  , 0.22462551, 0.11612793, 0.22866725]),\n",
       " 'mean_score_time': array([0.01516004, 0.01456089, 0.02196112, 0.02108235]),\n",
       " 'std_score_time': array([0.0021295 , 0.00101668, 0.0044962 , 0.00264445]),\n",
       " 'param_max_depth': masked_array(data=[5, 5, 10, 10],\n",
       "              mask=[False, False, False, False],\n",
       "        fill_value='?',\n",
       "             dtype=object),\n",
       " 'param_n_estimators': masked_array(data=[30, 45, 30, 45],\n",
       "              mask=[False, False, False, False],\n",
       "        fill_value='?',\n",
       "             dtype=object),\n",
       " 'params': [{'max_depth': 5, 'n_estimators': 30},\n",
       "  {'max_depth': 5, 'n_estimators': 45},\n",
       "  {'max_depth': 10, 'n_estimators': 30},\n",
       "  {'max_depth': 10, 'n_estimators': 45}],\n",
       " 'split0_test_score': array([-71.96021912, -70.38613933, -63.68292454, -62.77482328]),\n",
       " 'split1_test_score': array([-80.17481667, -78.92062245, -73.64116815, -72.18069248]),\n",
       " 'split2_test_score': array([-77.08907871, -76.18293112, -70.34874537, -68.83694065]),\n",
       " 'split3_test_score': array([-87.87760757, -85.88425084, -82.57861856, -81.20466009]),\n",
       " 'split4_test_score': array([-74.4179456 , -72.19397438, -67.64676725, -67.29845535]),\n",
       " 'mean_test_score': array([-78.30393353, -76.71358362, -71.57964477, -70.45911437]),\n",
       " 'std_test_score': array([5.51316471, 5.47205937, 6.39637604, 6.16603806]),\n",
       " 'rank_test_score': array([4, 3, 2, 1])}"
      ]
     },
     "execution_count": 88,
     "metadata": {},
     "output_type": "execute_result"
    }
   ],
   "source": [
    "gbm_model_cv.cv_results_"
   ]
  },
  {
   "cell_type": "code",
   "execution_count": 89,
   "id": "45fb9346",
   "metadata": {},
   "outputs": [
    {
     "data": {
      "text/html": [
       "<style>#sk-container-id-5 {color: black;background-color: white;}#sk-container-id-5 pre{padding: 0;}#sk-container-id-5 div.sk-toggleable {background-color: white;}#sk-container-id-5 label.sk-toggleable__label {cursor: pointer;display: block;width: 100%;margin-bottom: 0;padding: 0.3em;box-sizing: border-box;text-align: center;}#sk-container-id-5 label.sk-toggleable__label-arrow:before {content: \"▸\";float: left;margin-right: 0.25em;color: #696969;}#sk-container-id-5 label.sk-toggleable__label-arrow:hover:before {color: black;}#sk-container-id-5 div.sk-estimator:hover label.sk-toggleable__label-arrow:before {color: black;}#sk-container-id-5 div.sk-toggleable__content {max-height: 0;max-width: 0;overflow: hidden;text-align: left;background-color: #f0f8ff;}#sk-container-id-5 div.sk-toggleable__content pre {margin: 0.2em;color: black;border-radius: 0.25em;background-color: #f0f8ff;}#sk-container-id-5 input.sk-toggleable__control:checked~div.sk-toggleable__content {max-height: 200px;max-width: 100%;overflow: auto;}#sk-container-id-5 input.sk-toggleable__control:checked~label.sk-toggleable__label-arrow:before {content: \"▾\";}#sk-container-id-5 div.sk-estimator input.sk-toggleable__control:checked~label.sk-toggleable__label {background-color: #d4ebff;}#sk-container-id-5 div.sk-label input.sk-toggleable__control:checked~label.sk-toggleable__label {background-color: #d4ebff;}#sk-container-id-5 input.sk-hidden--visually {border: 0;clip: rect(1px 1px 1px 1px);clip: rect(1px, 1px, 1px, 1px);height: 1px;margin: -1px;overflow: hidden;padding: 0;position: absolute;width: 1px;}#sk-container-id-5 div.sk-estimator {font-family: monospace;background-color: #f0f8ff;border: 1px dotted black;border-radius: 0.25em;box-sizing: border-box;margin-bottom: 0.5em;}#sk-container-id-5 div.sk-estimator:hover {background-color: #d4ebff;}#sk-container-id-5 div.sk-parallel-item::after {content: \"\";width: 100%;border-bottom: 1px solid gray;flex-grow: 1;}#sk-container-id-5 div.sk-label:hover label.sk-toggleable__label {background-color: #d4ebff;}#sk-container-id-5 div.sk-serial::before {content: \"\";position: absolute;border-left: 1px solid gray;box-sizing: border-box;top: 0;bottom: 0;left: 50%;z-index: 0;}#sk-container-id-5 div.sk-serial {display: flex;flex-direction: column;align-items: center;background-color: white;padding-right: 0.2em;padding-left: 0.2em;position: relative;}#sk-container-id-5 div.sk-item {position: relative;z-index: 1;}#sk-container-id-5 div.sk-parallel {display: flex;align-items: stretch;justify-content: center;background-color: white;position: relative;}#sk-container-id-5 div.sk-item::before, #sk-container-id-5 div.sk-parallel-item::before {content: \"\";position: absolute;border-left: 1px solid gray;box-sizing: border-box;top: 0;bottom: 0;left: 50%;z-index: -1;}#sk-container-id-5 div.sk-parallel-item {display: flex;flex-direction: column;z-index: 1;position: relative;background-color: white;}#sk-container-id-5 div.sk-parallel-item:first-child::after {align-self: flex-end;width: 50%;}#sk-container-id-5 div.sk-parallel-item:last-child::after {align-self: flex-start;width: 50%;}#sk-container-id-5 div.sk-parallel-item:only-child::after {width: 0;}#sk-container-id-5 div.sk-dashed-wrapped {border: 1px dashed gray;margin: 0 0.4em 0.5em 0.4em;box-sizing: border-box;padding-bottom: 0.4em;background-color: white;}#sk-container-id-5 div.sk-label label {font-family: monospace;font-weight: bold;display: inline-block;line-height: 1.2em;}#sk-container-id-5 div.sk-label-container {text-align: center;}#sk-container-id-5 div.sk-container {/* jupyter's `normalize.less` sets `[hidden] { display: none; }` but bootstrap.min.css set `[hidden] { display: none !important; }` so we also need the `!important` here to be able to override the default hidden behavior on the sphinx rendered scikit-learn.org. See: https://github.com/scikit-learn/scikit-learn/issues/21755 */display: inline-block !important;position: relative;}#sk-container-id-5 div.sk-text-repr-fallback {display: none;}</style><div id=\"sk-container-id-5\" class=\"sk-top-container\"><div class=\"sk-text-repr-fallback\"><pre>GradientBoostingRegressor(max_depth=10, max_features=10, min_samples_split=20,\n",
       "                          n_estimators=45)</pre><b>In a Jupyter environment, please rerun this cell to show the HTML representation or trust the notebook. <br />On GitHub, the HTML representation is unable to render, please try loading this page with nbviewer.org.</b></div><div class=\"sk-container\" hidden><div class=\"sk-item\"><div class=\"sk-estimator sk-toggleable\"><input class=\"sk-toggleable__control sk-hidden--visually\" id=\"sk-estimator-id-15\" type=\"checkbox\" checked><label for=\"sk-estimator-id-15\" class=\"sk-toggleable__label sk-toggleable__label-arrow\">GradientBoostingRegressor</label><div class=\"sk-toggleable__content\"><pre>GradientBoostingRegressor(max_depth=10, max_features=10, min_samples_split=20,\n",
       "                          n_estimators=45)</pre></div></div></div></div></div>"
      ],
      "text/plain": [
       "GradientBoostingRegressor(max_depth=10, max_features=10, min_samples_split=20,\n",
       "                          n_estimators=45)"
      ]
     },
     "execution_count": 89,
     "metadata": {},
     "output_type": "execute_result"
    }
   ],
   "source": [
    "gbm_model_cv.best_estimator_"
   ]
  },
  {
   "cell_type": "code",
   "execution_count": 90,
   "id": "be08f0cd",
   "metadata": {},
   "outputs": [
    {
     "data": {
      "text/plain": [
       "70.45911436752388"
      ]
     },
     "execution_count": 90,
     "metadata": {},
     "output_type": "execute_result"
    }
   ],
   "source": [
    "gbm_rmse = gbm_model_cv.best_score_*-1\n",
    "gbm_rmse"
   ]
  },
  {
   "cell_type": "code",
   "execution_count": 91,
   "id": "aa6759f4",
   "metadata": {},
   "outputs": [
    {
     "name": "stdout",
     "output_type": "stream",
     "text": [
      "                      Feature  Importance\n",
      "45                   distance    0.092783\n",
      "43             n_accommodates    0.087306\n",
      "47       host_acceptance_rate    0.064744\n",
      "49                     n_beds    0.061882\n",
      "53             maximum_nights    0.060161\n",
      "2      room_type_Private room    0.057467\n",
      "46           n_minimum_nights    0.051791\n",
      "44            n_accommodates2    0.048565\n",
      "0   room_type_Entire home/apt    0.047751\n",
      "48     n_review_scores_rating    0.038085\n"
     ]
    },
    {
     "data": {
      "image/png": "[encoded data removed]",
      "text/plain": [
       "<Figure size 1000x600 with 1 Axes>"
      ]
     },
     "metadata": {},
     "output_type": "display_data"
    }
   ],
   "source": [
    "best_gbm_model = gbm_model_cv.best_estimator_\n",
    "\n",
    "feature_importance = best_gbm_model.feature_importances_\n",
    "\n",
    "# Step 3: Get the names of the transformed features\n",
    "# Extract feature names after preprocessing\n",
    "transformed_feature_names = (\n",
    "    preprocessing.named_transformers_['cat'].get_feature_names_out(categorical_columns).tolist()  # One-hot encoded categorical features\n",
    "    + numerical_columns  # Numerical features\n",
    ")\n",
    "\n",
    "# Step 4: Create a DataFrame for feature importance\n",
    "feature_importance_df = pd.DataFrame({\n",
    "    'Feature': transformed_feature_names,\n",
    "    'Importance': feature_importance\n",
    "})\n",
    "\n",
    "# Step 5: Sort the DataFrame by importance\n",
    "feature_importance_df = feature_importance_df.sort_values(by='Importance', ascending=False)\n",
    "\n",
    "# Step 6: Display the top N most important features\n",
    "print(feature_importance_df.head(10))  # Adjust the number as needed\n",
    "\n",
    "# Step 7: Plot feature importance\n",
    "plt.figure(figsize=(10, 6))\n",
    "plt.barh(feature_importance_df['Feature'][:10], feature_importance_df['Importance'][:10])  # Plot top 10 features\n",
    "plt.xlabel('Feature Importance')\n",
    "plt.ylabel('Feature')\n",
    "plt.title('Top 10 Feature Importance in GBM Model')\n",
    "plt.gca().invert_yaxis()  # Invert y-axis to show the most important feature at the top\n",
    "plt.grid(True)\n",
    "plt.show()"
   ]
  },
  {
   "cell_type": "markdown",
   "id": "87be185f",
   "metadata": {},
   "source": [
    "### OLS RMSE"
   ]
  },
  {
   "cell_type": "code",
   "execution_count": 92,
   "id": "4262f283",
   "metadata": {},
   "outputs": [
    {
     "data": {
      "text/plain": [
       "84.52724929021592"
      ]
     },
     "execution_count": 92,
     "metadata": {},
     "output_type": "execute_result"
    }
   ],
   "source": [
    "y, X = dmatrices(\"price ~ \" + \" + \".join(predictors), data = data_work)\n",
    "\n",
    "ols_model = LinearRegression().fit(X,y)\n",
    "\n",
    "y_hat = ols_model.predict(X)\n",
    "\n",
    "ols_rmse = mean_squared_error(y,y_hat,squared=False)\n",
    "ols_rmse"
   ]
  },
  {
   "cell_type": "markdown",
   "id": "ea3a0e07",
   "metadata": {},
   "source": [
    "# Cart "
   ]
  },
  {
   "cell_type": "code",
   "execution_count": 93,
   "id": "c03bd866",
   "metadata": {},
   "outputs": [],
   "source": [
    "from sklearn.tree import DecisionTreeRegressor"
   ]
  },
  {
   "cell_type": "code",
   "execution_count": 94,
   "id": "21ecd28c",
   "metadata": {},
   "outputs": [],
   "source": [
    "y, X = dmatrices(\"price ~ \" + \" + \".join(predictors_2), data_work)"
   ]
  },
  {
   "cell_type": "code",
   "execution_count": 95,
   "id": "a19912e2",
   "metadata": {},
   "outputs": [],
   "source": [
    "cart_model = DecisionTreeRegressor(random_state=2039402)"
   ]
  },
  {
   "cell_type": "code",
   "execution_count": 96,
   "id": "2d6fc553",
   "metadata": {},
   "outputs": [],
   "source": [
    "path = cart_model.cost_complexity_pruning_path(X, y.ravel())\n",
    "ccp_alphas, impurities = path.ccp_alphas, path.impurities"
   ]
  },
  {
   "cell_type": "code",
   "execution_count": 97,
   "id": "d51aff1f",
   "metadata": {},
   "outputs": [
    {
     "data": {
      "text/plain": [
       "array([0.00000000e+00, 1.00196385e-05, 2.00392770e-05, ...,\n",
       "       3.70274222e+02, 4.34015146e+02, 1.44644818e+03])"
      ]
     },
     "execution_count": 97,
     "metadata": {},
     "output_type": "execute_result"
    }
   ],
   "source": [
    "ccp_alphas"
   ]
  },
  {
   "cell_type": "code",
   "execution_count": 98,
   "id": "450abaaf",
   "metadata": {},
   "outputs": [
    {
     "name": "stdout",
     "output_type": "stream",
     "text": [
      "Fitting 5 folds for each of 10 candidates, totalling 50 fits\n",
      "[CV 1/5] END ccp_alpha=3.0058915474329688e-05;, score=-97.566 total time=   0.1s\n",
      "[CV 2/5] END ccp_alpha=3.0058915474329688e-05;, score=-105.241 total time=   0.1s\n",
      "[CV 3/5] END ccp_alpha=3.0058915474329688e-05;, score=-98.287 total time=   0.1s\n",
      "[CV 4/5] END ccp_alpha=3.0058915474329688e-05;, score=-110.904 total time=   0.1s\n",
      "[CV 5/5] END ccp_alpha=3.0058915474329688e-05;, score=-107.587 total time=   0.1s\n",
      "[CV 1/5] END .ccp_alpha=0.0025650274538093756;, score=-97.527 total time=   0.5s\n",
      "[CV 2/5] END ccp_alpha=0.0025650274538093756;, score=-105.261 total time=   0.5s\n",
      "[CV 3/5] END .ccp_alpha=0.0025650274538093756;, score=-98.279 total time=   0.4s\n",
      "[CV 4/5] END ccp_alpha=0.0025650274538093756;, score=-110.897 total time=   0.4s\n",
      "[CV 5/5] END ccp_alpha=0.0025650274538093756;, score=-107.545 total time=   0.5s\n",
      "[CV 1/5] END ....ccp_alpha=0.1673924705131058;, score=-96.433 total time=   0.7s\n",
      "[CV 2/5] END ...ccp_alpha=0.1673924705131058;, score=-103.950 total time=   0.7s\n",
      "[CV 3/5] END ....ccp_alpha=0.1673924705131058;, score=-97.294 total time=   0.8s\n",
      "[CV 4/5] END ...ccp_alpha=0.1673924705131058;, score=-110.091 total time=   0.8s\n",
      "[CV 5/5] END ...ccp_alpha=0.1673924705131058;, score=-106.933 total time=   1.0s\n",
      "[CV 1/5] END .ccp_alpha=0.0018035349284593436;, score=-97.557 total time=   0.5s\n",
      "[CV 2/5] END ccp_alpha=0.0018035349284593436;, score=-105.264 total time=   0.5s\n",
      "[CV 3/5] END .ccp_alpha=0.0018035349284593436;, score=-98.284 total time=   0.5s\n",
      "[CV 4/5] END ccp_alpha=0.0018035349284593436;, score=-110.905 total time=   0.7s\n",
      "[CV 5/5] END ccp_alpha=0.0018035349284593436;, score=-107.557 total time=   0.5s\n",
      "[CV 1/5] END .ccp_alpha=0.0002504909622859349;, score=-97.569 total time=   0.2s\n",
      "[CV 2/5] END ccp_alpha=0.0002504909622859349;, score=-105.244 total time=   0.2s\n",
      "[CV 3/5] END .ccp_alpha=0.0002504909622859349;, score=-98.287 total time=   0.2s\n",
      "[CV 4/5] END ccp_alpha=0.0002504909622859349;, score=-110.905 total time=   0.3s\n",
      "[CV 5/5] END ccp_alpha=0.0002504909622859349;, score=-107.579 total time=   0.3s\n",
      "[CV 1/5] END ....ccp_alpha=1.5099645304797396;, score=-91.630 total time=   0.9s\n",
      "[CV 2/5] END ...ccp_alpha=1.5099645304797396;, score=-100.312 total time=   1.2s\n",
      "[CV 3/5] END ....ccp_alpha=1.5099645304797396;, score=-93.896 total time=   1.2s\n",
      "[CV 4/5] END ...ccp_alpha=1.5099645304797396;, score=-107.413 total time=   1.3s\n",
      "[CV 5/5] END ...ccp_alpha=1.5099645304797396;, score=-102.938 total time=   1.3s\n",
      "[CV 1/5] END ..ccp_alpha=0.026813733489067043;, score=-97.394 total time=   0.7s\n",
      "[CV 2/5] END .ccp_alpha=0.026813733489067043;, score=-105.061 total time=   0.9s\n",
      "[CV 3/5] END ..ccp_alpha=0.026813733489067043;, score=-98.186 total time=   0.8s\n",
      "[CV 4/5] END .ccp_alpha=0.026813733489067043;, score=-110.722 total time=   0.8s\n",
      "[CV 5/5] END .ccp_alpha=0.026813733489067043;, score=-107.483 total time=   0.8s\n",
      "[CV 1/5] END ..ccp_alpha=0.000480942647589275;, score=-97.563 total time=   0.4s\n",
      "[CV 2/5] END .ccp_alpha=0.000480942647589275;, score=-105.239 total time=   0.4s\n",
      "[CV 3/5] END ..ccp_alpha=0.000480942647589275;, score=-98.289 total time=   0.5s\n",
      "[CV 4/5] END .ccp_alpha=0.000480942647589275;, score=-110.915 total time=   0.4s\n",
      "[CV 5/5] END .ccp_alpha=0.000480942647589275;, score=-107.576 total time=   0.4s\n",
      "[CV 1/5] END .ccp_alpha=4.007855396600985e-05;, score=-97.569 total time=   0.2s\n",
      "[CV 2/5] END ccp_alpha=4.007855396600985e-05;, score=-105.242 total time=   0.2s\n",
      "[CV 3/5] END .ccp_alpha=4.007855396600985e-05;, score=-98.286 total time=   0.2s\n",
      "[CV 4/5] END ccp_alpha=4.007855396600985e-05;, score=-110.908 total time=   0.2s\n",
      "[CV 5/5] END ccp_alpha=4.007855396600985e-05;, score=-107.584 total time=   0.2s\n",
      "[CV 1/5] END ..ccp_alpha=0.010851268486233016;, score=-97.493 total time=   0.8s\n",
      "[CV 2/5] END .ccp_alpha=0.010851268486233016;, score=-105.174 total time=   0.8s\n",
      "[CV 3/5] END ..ccp_alpha=0.010851268486233016;, score=-98.171 total time=   0.7s\n",
      "[CV 4/5] END .ccp_alpha=0.010851268486233016;, score=-110.851 total time=   0.7s\n",
      "[CV 5/5] END .ccp_alpha=0.010851268486233016;, score=-107.528 total time=   0.8s\n",
      "CPU times: total: 33.7 s\n",
      "Wall time: 34.2 s\n"
     ]
    },
    {
     "data": {
      "text/html": [
       "<style>#sk-container-id-6 {color: black;background-color: white;}#sk-container-id-6 pre{padding: 0;}#sk-container-id-6 div.sk-toggleable {background-color: white;}#sk-container-id-6 label.sk-toggleable__label {cursor: pointer;display: block;width: 100%;margin-bottom: 0;padding: 0.3em;box-sizing: border-box;text-align: center;}#sk-container-id-6 label.sk-toggleable__label-arrow:before {content: \"▸\";float: left;margin-right: 0.25em;color: #696969;}#sk-container-id-6 label.sk-toggleable__label-arrow:hover:before {color: black;}#sk-container-id-6 div.sk-estimator:hover label.sk-toggleable__label-arrow:before {color: black;}#sk-container-id-6 div.sk-toggleable__content {max-height: 0;max-width: 0;overflow: hidden;text-align: left;background-color: #f0f8ff;}#sk-container-id-6 div.sk-toggleable__content pre {margin: 0.2em;color: black;border-radius: 0.25em;background-color: #f0f8ff;}#sk-container-id-6 input.sk-toggleable__control:checked~div.sk-toggleable__content {max-height: 200px;max-width: 100%;overflow: auto;}#sk-container-id-6 input.sk-toggleable__control:checked~label.sk-toggleable__label-arrow:before {content: \"▾\";}#sk-container-id-6 div.sk-estimator input.sk-toggleable__control:checked~label.sk-toggleable__label {background-color: #d4ebff;}#sk-container-id-6 div.sk-label input.sk-toggleable__control:checked~label.sk-toggleable__label {background-color: #d4ebff;}#sk-container-id-6 input.sk-hidden--visually {border: 0;clip: rect(1px 1px 1px 1px);clip: rect(1px, 1px, 1px, 1px);height: 1px;margin: -1px;overflow: hidden;padding: 0;position: absolute;width: 1px;}#sk-container-id-6 div.sk-estimator {font-family: monospace;background-color: #f0f8ff;border: 1px dotted black;border-radius: 0.25em;box-sizing: border-box;margin-bottom: 0.5em;}#sk-container-id-6 div.sk-estimator:hover {background-color: #d4ebff;}#sk-container-id-6 div.sk-parallel-item::after {content: \"\";width: 100%;border-bottom: 1px solid gray;flex-grow: 1;}#sk-container-id-6 div.sk-label:hover label.sk-toggleable__label {background-color: #d4ebff;}#sk-container-id-6 div.sk-serial::before {content: \"\";position: absolute;border-left: 1px solid gray;box-sizing: border-box;top: 0;bottom: 0;left: 50%;z-index: 0;}#sk-container-id-6 div.sk-serial {display: flex;flex-direction: column;align-items: center;background-color: white;padding-right: 0.2em;padding-left: 0.2em;position: relative;}#sk-container-id-6 div.sk-item {position: relative;z-index: 1;}#sk-container-id-6 div.sk-parallel {display: flex;align-items: stretch;justify-content: center;background-color: white;position: relative;}#sk-container-id-6 div.sk-item::before, #sk-container-id-6 div.sk-parallel-item::before {content: \"\";position: absolute;border-left: 1px solid gray;box-sizing: border-box;top: 0;bottom: 0;left: 50%;z-index: -1;}#sk-container-id-6 div.sk-parallel-item {display: flex;flex-direction: column;z-index: 1;position: relative;background-color: white;}#sk-container-id-6 div.sk-parallel-item:first-child::after {align-self: flex-end;width: 50%;}#sk-container-id-6 div.sk-parallel-item:last-child::after {align-self: flex-start;width: 50%;}#sk-container-id-6 div.sk-parallel-item:only-child::after {width: 0;}#sk-container-id-6 div.sk-dashed-wrapped {border: 1px dashed gray;margin: 0 0.4em 0.5em 0.4em;box-sizing: border-box;padding-bottom: 0.4em;background-color: white;}#sk-container-id-6 div.sk-label label {font-family: monospace;font-weight: bold;display: inline-block;line-height: 1.2em;}#sk-container-id-6 div.sk-label-container {text-align: center;}#sk-container-id-6 div.sk-container {/* jupyter's `normalize.less` sets `[hidden] { display: none; }` but bootstrap.min.css set `[hidden] { display: none !important; }` so we also need the `!important` here to be able to override the default hidden behavior on the sphinx rendered scikit-learn.org. See: https://github.com/scikit-learn/scikit-learn/issues/21755 */display: inline-block !important;position: relative;}#sk-container-id-6 div.sk-text-repr-fallback {display: none;}</style><div id=\"sk-container-id-6\" class=\"sk-top-container\"><div class=\"sk-text-repr-fallback\"><pre>RandomizedSearchCV(cv=5, estimator=DecisionTreeRegressor(random_state=2039402),\n",
       "                   param_distributions={&#x27;ccp_alpha&#x27;: array([0.00000000e+00, 1.00196385e-05, 2.00392770e-05, ...,\n",
       "       3.70274222e+02, 4.34015146e+02, 1.44644818e+03])},\n",
       "                   scoring=&#x27;neg_root_mean_squared_error&#x27;, verbose=3)</pre><b>In a Jupyter environment, please rerun this cell to show the HTML representation or trust the notebook. <br />On GitHub, the HTML representation is unable to render, please try loading this page with nbviewer.org.</b></div><div class=\"sk-container\" hidden><div class=\"sk-item sk-dashed-wrapped\"><div class=\"sk-label-container\"><div class=\"sk-label sk-toggleable\"><input class=\"sk-toggleable__control sk-hidden--visually\" id=\"sk-estimator-id-16\" type=\"checkbox\" ><label for=\"sk-estimator-id-16\" class=\"sk-toggleable__label sk-toggleable__label-arrow\">RandomizedSearchCV</label><div class=\"sk-toggleable__content\"><pre>RandomizedSearchCV(cv=5, estimator=DecisionTreeRegressor(random_state=2039402),\n",
       "                   param_distributions={&#x27;ccp_alpha&#x27;: array([0.00000000e+00, 1.00196385e-05, 2.00392770e-05, ...,\n",
       "       3.70274222e+02, 4.34015146e+02, 1.44644818e+03])},\n",
       "                   scoring=&#x27;neg_root_mean_squared_error&#x27;, verbose=3)</pre></div></div></div><div class=\"sk-parallel\"><div class=\"sk-parallel-item\"><div class=\"sk-item\"><div class=\"sk-label-container\"><div class=\"sk-label sk-toggleable\"><input class=\"sk-toggleable__control sk-hidden--visually\" id=\"sk-estimator-id-17\" type=\"checkbox\" ><label for=\"sk-estimator-id-17\" class=\"sk-toggleable__label sk-toggleable__label-arrow\">estimator: DecisionTreeRegressor</label><div class=\"sk-toggleable__content\"><pre>DecisionTreeRegressor(random_state=2039402)</pre></div></div></div><div class=\"sk-serial\"><div class=\"sk-item\"><div class=\"sk-estimator sk-toggleable\"><input class=\"sk-toggleable__control sk-hidden--visually\" id=\"sk-estimator-id-18\" type=\"checkbox\" ><label for=\"sk-estimator-id-18\" class=\"sk-toggleable__label sk-toggleable__label-arrow\">DecisionTreeRegressor</label><div class=\"sk-toggleable__content\"><pre>DecisionTreeRegressor(random_state=2039402)</pre></div></div></div></div></div></div></div></div></div></div>"
      ],
      "text/plain": [
       "RandomizedSearchCV(cv=5, estimator=DecisionTreeRegressor(random_state=2039402),\n",
       "                   param_distributions={'ccp_alpha': array([0.00000000e+00, 1.00196385e-05, 2.00392770e-05, ...,\n",
       "       3.70274222e+02, 4.34015146e+02, 1.44644818e+03])},\n",
       "                   scoring='neg_root_mean_squared_error', verbose=3)"
      ]
     },
     "execution_count": 98,
     "metadata": {},
     "output_type": "execute_result"
    }
   ],
   "source": [
    "%%time\n",
    "\n",
    "cart_model_cv = RandomizedSearchCV(\n",
    "    cart_model,\n",
    "    {\"ccp_alpha\":ccp_alphas},\n",
    "    cv = 5,\n",
    "    scoring=\"neg_root_mean_squared_error\",\n",
    "    verbose = 3,\n",
    ")\n",
    "cart_model_cv.fit(X,y.ravel())"
   ]
  },
  {
   "cell_type": "code",
   "execution_count": 99,
   "id": "447588f2",
   "metadata": {},
   "outputs": [
    {
     "data": {
      "text/html": [
       "<style>#sk-container-id-7 {color: black;background-color: white;}#sk-container-id-7 pre{padding: 0;}#sk-container-id-7 div.sk-toggleable {background-color: white;}#sk-container-id-7 label.sk-toggleable__label {cursor: pointer;display: block;width: 100%;margin-bottom: 0;padding: 0.3em;box-sizing: border-box;text-align: center;}#sk-container-id-7 label.sk-toggleable__label-arrow:before {content: \"▸\";float: left;margin-right: 0.25em;color: #696969;}#sk-container-id-7 label.sk-toggleable__label-arrow:hover:before {color: black;}#sk-container-id-7 div.sk-estimator:hover label.sk-toggleable__label-arrow:before {color: black;}#sk-container-id-7 div.sk-toggleable__content {max-height: 0;max-width: 0;overflow: hidden;text-align: left;background-color: #f0f8ff;}#sk-container-id-7 div.sk-toggleable__content pre {margin: 0.2em;color: black;border-radius: 0.25em;background-color: #f0f8ff;}#sk-container-id-7 input.sk-toggleable__control:checked~div.sk-toggleable__content {max-height: 200px;max-width: 100%;overflow: auto;}#sk-container-id-7 input.sk-toggleable__control:checked~label.sk-toggleable__label-arrow:before {content: \"▾\";}#sk-container-id-7 div.sk-estimator input.sk-toggleable__control:checked~label.sk-toggleable__label {background-color: #d4ebff;}#sk-container-id-7 div.sk-label input.sk-toggleable__control:checked~label.sk-toggleable__label {background-color: #d4ebff;}#sk-container-id-7 input.sk-hidden--visually {border: 0;clip: rect(1px 1px 1px 1px);clip: rect(1px, 1px, 1px, 1px);height: 1px;margin: -1px;overflow: hidden;padding: 0;position: absolute;width: 1px;}#sk-container-id-7 div.sk-estimator {font-family: monospace;background-color: #f0f8ff;border: 1px dotted black;border-radius: 0.25em;box-sizing: border-box;margin-bottom: 0.5em;}#sk-container-id-7 div.sk-estimator:hover {background-color: #d4ebff;}#sk-container-id-7 div.sk-parallel-item::after {content: \"\";width: 100%;border-bottom: 1px solid gray;flex-grow: 1;}#sk-container-id-7 div.sk-label:hover label.sk-toggleable__label {background-color: #d4ebff;}#sk-container-id-7 div.sk-serial::before {content: \"\";position: absolute;border-left: 1px solid gray;box-sizing: border-box;top: 0;bottom: 0;left: 50%;z-index: 0;}#sk-container-id-7 div.sk-serial {display: flex;flex-direction: column;align-items: center;background-color: white;padding-right: 0.2em;padding-left: 0.2em;position: relative;}#sk-container-id-7 div.sk-item {position: relative;z-index: 1;}#sk-container-id-7 div.sk-parallel {display: flex;align-items: stretch;justify-content: center;background-color: white;position: relative;}#sk-container-id-7 div.sk-item::before, #sk-container-id-7 div.sk-parallel-item::before {content: \"\";position: absolute;border-left: 1px solid gray;box-sizing: border-box;top: 0;bottom: 0;left: 50%;z-index: -1;}#sk-container-id-7 div.sk-parallel-item {display: flex;flex-direction: column;z-index: 1;position: relative;background-color: white;}#sk-container-id-7 div.sk-parallel-item:first-child::after {align-self: flex-end;width: 50%;}#sk-container-id-7 div.sk-parallel-item:last-child::after {align-self: flex-start;width: 50%;}#sk-container-id-7 div.sk-parallel-item:only-child::after {width: 0;}#sk-container-id-7 div.sk-dashed-wrapped {border: 1px dashed gray;margin: 0 0.4em 0.5em 0.4em;box-sizing: border-box;padding-bottom: 0.4em;background-color: white;}#sk-container-id-7 div.sk-label label {font-family: monospace;font-weight: bold;display: inline-block;line-height: 1.2em;}#sk-container-id-7 div.sk-label-container {text-align: center;}#sk-container-id-7 div.sk-container {/* jupyter's `normalize.less` sets `[hidden] { display: none; }` but bootstrap.min.css set `[hidden] { display: none !important; }` so we also need the `!important` here to be able to override the default hidden behavior on the sphinx rendered scikit-learn.org. See: https://github.com/scikit-learn/scikit-learn/issues/21755 */display: inline-block !important;position: relative;}#sk-container-id-7 div.sk-text-repr-fallback {display: none;}</style><div id=\"sk-container-id-7\" class=\"sk-top-container\"><div class=\"sk-text-repr-fallback\"><pre>DecisionTreeRegressor(ccp_alpha=1.5099645304797396, random_state=2039402)</pre><b>In a Jupyter environment, please rerun this cell to show the HTML representation or trust the notebook. <br />On GitHub, the HTML representation is unable to render, please try loading this page with nbviewer.org.</b></div><div class=\"sk-container\" hidden><div class=\"sk-item\"><div class=\"sk-estimator sk-toggleable\"><input class=\"sk-toggleable__control sk-hidden--visually\" id=\"sk-estimator-id-19\" type=\"checkbox\" checked><label for=\"sk-estimator-id-19\" class=\"sk-toggleable__label sk-toggleable__label-arrow\">DecisionTreeRegressor</label><div class=\"sk-toggleable__content\"><pre>DecisionTreeRegressor(ccp_alpha=1.5099645304797396, random_state=2039402)</pre></div></div></div></div></div>"
      ],
      "text/plain": [
       "DecisionTreeRegressor(ccp_alpha=1.5099645304797396, random_state=2039402)"
      ]
     },
     "execution_count": 99,
     "metadata": {},
     "output_type": "execute_result"
    }
   ],
   "source": [
    "cart_model_cv.best_estimator_"
   ]
  },
  {
   "cell_type": "code",
   "execution_count": 100,
   "id": "78470a8d",
   "metadata": {},
   "outputs": [
    {
     "data": {
      "text/plain": [
       "99.23774259840751"
      ]
     },
     "execution_count": 100,
     "metadata": {},
     "output_type": "execute_result"
    }
   ],
   "source": [
    "cart_rmse = pd.DataFrame(cart_model_cv.cv_results_).loc[\n",
    "    lambda x: x.param_ccp_alpha == cart_model_cv.best_estimator_.ccp_alpha\n",
    "].mean_test_score.values[0] * -1\n",
    "cart_rmse"
   ]
  },
  {
   "cell_type": "markdown",
   "id": "5432f844",
   "metadata": {},
   "source": [
    "# #3. Comparison table and discussion"
   ]
  },
  {
   "cell_type": "code",
   "execution_count": 101,
   "id": "d4692783",
   "metadata": {},
   "outputs": [
    {
     "data": {
      "text/html": [
       "<div>\n",
       "<style scoped>\n",
       "    .dataframe tbody tr th:only-of-type {\n",
       "        vertical-align: middle;\n",
       "    }\n",
       "\n",
       "    .dataframe tbody tr th {\n",
       "        vertical-align: top;\n",
       "    }\n",
       "\n",
       "    .dataframe thead th {\n",
       "        text-align: right;\n",
       "    }\n",
       "</style>\n",
       "<table border=\"1\" class=\"dataframe\">\n",
       "  <thead>\n",
       "    <tr style=\"text-align: right;\">\n",
       "      <th></th>\n",
       "      <th>model</th>\n",
       "      <th>CV RMSE</th>\n",
       "    </tr>\n",
       "  </thead>\n",
       "  <tbody>\n",
       "    <tr>\n",
       "      <th>0</th>\n",
       "      <td>OLS</td>\n",
       "      <td>84.527249</td>\n",
       "    </tr>\n",
       "    <tr>\n",
       "      <th>1</th>\n",
       "      <td>LASSO</td>\n",
       "      <td>84.602346</td>\n",
       "    </tr>\n",
       "    <tr>\n",
       "      <th>2</th>\n",
       "      <td>Random Forest</td>\n",
       "      <td>70.142787</td>\n",
       "    </tr>\n",
       "    <tr>\n",
       "      <th>3</th>\n",
       "      <td>GBM</td>\n",
       "      <td>70.459114</td>\n",
       "    </tr>\n",
       "    <tr>\n",
       "      <th>4</th>\n",
       "      <td>Cart</td>\n",
       "      <td>99.237743</td>\n",
       "    </tr>\n",
       "  </tbody>\n",
       "</table>\n",
       "</div>"
      ],
      "text/plain": [
       "           model    CV RMSE\n",
       "0            OLS  84.527249\n",
       "1          LASSO  84.602346\n",
       "2  Random Forest  70.142787\n",
       "3            GBM  70.459114\n",
       "4           Cart  99.237743"
      ]
     },
     "execution_count": 101,
     "metadata": {},
     "output_type": "execute_result"
    }
   ],
   "source": [
    "pd.DataFrame({'model': ['OLS', 'LASSO', 'Random Forest', 'GBM', 'Cart'],\n",
    "              'CV RMSE': [ols_rmse, lasso_rmse,rf_rmse, gbm_rmse, cart_rmse]})"
   ]
  },
  {
   "cell_type": "markdown",
   "id": "b1e61e29",
   "metadata": {},
   "source": [
    "The Random Forest has the best performance with long training time. GBM has the second best performanceand took reasonable time. Lasso: **relatively** moderate performance but very fast to train. OLS has a moderate performance; time likely similar to LASSO. CART: worst performance with moderate training time."
   ]
  },
  {
   "cell_type": "markdown",
   "id": "086ffe1c",
   "metadata": {},
   "source": [
    "# #4. Feature Importance for Random Forest and GBM"
   ]
  },
  {
   "cell_type": "code",
   "execution_count": 102,
   "id": "4571f72e",
   "metadata": {},
   "outputs": [
    {
     "data": {
      "image/png": "[encoded data removed]",
      "text/plain": [
       "<Figure size 2000x600 with 2 Axes>"
      ]
     },
     "metadata": {},
     "output_type": "display_data"
    }
   ],
   "source": [
    "import matplotlib.pyplot as plt\n",
    "import matplotlib.ticker as mtick\n",
    "\n",
    "# Create a figure with two subplots\n",
    "fig, (ax1, ax2) = plt.subplots(1, 2, figsize=(20, 6))\n",
    "\n",
    "# Plot GBM Feature Importance\n",
    "ax1.barh(feature_importance_df['Feature'][:10], feature_importance_df['Importance'][:10])\n",
    "ax1.set_xlabel('Feature Importance')\n",
    "ax1.set_ylabel('Feature')\n",
    "ax1.set_title('Top 10 Feature Importance in GBM Model')\n",
    "ax1.invert_yaxis()  # Invert y-axis to show the most important feature at the top\n",
    "ax1.grid(True)\n",
    "ax1.xaxis.set_major_formatter(mtick.PercentFormatter(xmax=1))  # Format x-axis as percentages\n",
    "\n",
    "# Filter and sort Random Forest features for top 10\n",
    "df_var_imp_top10 = df_var_imp[df_var_imp.imp > 0.01]\\\n",
    "    .sort_values(by='imp', ascending=False)\\\n",
    "    .head(10)  # Select top 10 features\n",
    "\n",
    "# Plot Random Forest Feature Importance (Top 10)\n",
    "df_var_imp_top10.plot(kind='barh',\n",
    "                      x='variable',\n",
    "                      y='imp',\n",
    "                      ax=ax2,  # Use the second subplot\n",
    "                      grid=True,\n",
    "                      title='Top 10 Feature Importance in Random Forest Model',\n",
    "                      xlabel='Features',\n",
    "                      legend=False)\n",
    "ax2.xaxis.set_major_formatter(mtick.PercentFormatter(xmax=1))  # Format x-axis as percentages\n",
    "ax2.invert_yaxis()  # Invert y-axis to show the most important feature at the top\n",
    "\n",
    "# Adjust layout for better spacing\n",
    "plt.tight_layout()\n",
    "\n",
    "# Show the combined plot\n",
    "plt.show()"
   ]
  },
  {
   "cell_type": "markdown",
   "id": "08e26f81",
   "metadata": {},
   "source": [
    "For Madrid Q4:\n",
    "The graphs reveal that **distance** and **n_accommodates** are among the most important features in both the GBM and Random Forest models, indicating their strong influence on the target variable. The GBM model highlights **n_minimum_rights** and **host_acceptance_rate** as significant, while the Random Forest model emphasizes **room_type[\"Private_room\"]** and **n_beds**. Both models agree on the importance of **distance**, suggesting it is a key predictor. However, the GBM model assigns higher importance to some features (e.g., **n_minimum_rights**) compared to the Random Forest, reflecting differences in how each model captures feature interactions and nonlinearities."
   ]
  },
  {
   "cell_type": "code",
   "execution_count": null,
   "id": "bb5d78d3",
   "metadata": {},
   "outputs": [],
   "source": []
  }
 ],
 "metadata": {
  "kernelspec": {
   "display_name": "Python 3 (ipykernel)",
   "language": "python",
   "name": "python3"
  },
  "language_info": {
   "codemirror_mode": {
    "name": "ipython",
    "version": 3
   },
   "file_extension": ".py",
   "mimetype": "text/x-python",
   "name": "python",
   "nbconvert_exporter": "python",
   "pygments_lexer": "ipython3",
   "version": "3.10.9"
  }
 },
 "nbformat": 4,
 "nbformat_minor": 5
}
